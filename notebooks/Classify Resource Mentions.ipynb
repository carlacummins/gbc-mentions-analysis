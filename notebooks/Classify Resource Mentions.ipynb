{
 "cells": [
  {
   "cell_type": "markdown",
   "metadata": {
    "id": "WVW8w8mmKnVy"
   },
   "source": [
    "# 🧠 GBC SciBERT Resource Mention Classifier Testing\n",
    "This notebook uses GBC's fine-tuned version of the SciBERT model to identify mentions of biodata resources and classify them as true/false mentions. Input a pubmed ID or a PMC ID to extract potential biodata resource mentions and classify them.\n",
    "\n",
    "### Usage instructions\n",
    "- On fresh instance, press the 'Run all' button in the menu. This will perform all setup steps and then run classification.\n",
    "- On an already-running instance, update your publication id below and run the cell. Then, from the 'Table of contents' menu, click the 3 dots next to '🧠 Run Predictions' section and select `Run cells in section`. This avoids rerunning setup each time."
   ]
  },
  {
   "cell_type": "code",
   "execution_count": 1,
   "metadata": {
    "cellView": "form",
    "executionInfo": {
     "elapsed": 47,
     "status": "ok",
     "timestamp": 1751532081769,
     "user": {
      "displayName": "Carla Cummins",
      "userId": "04681454191639308511"
     },
     "user_tz": -60
    },
    "id": "tkKZM_sqNig4"
   },
   "outputs": [],
   "source": [
    "# @title 📄 Set publication ID\n",
    "pmid = \"\" # @param {\"type\":\"string\",\"placeholder\":\"None\"}\n",
    "pmcid = \"PMC10666545\" # @param {\"type\":\"string\", \"placeholder\":\"None\"}\n",
    "\n",
    "# good test pubs: PMC10928905, PMC11514960, PMC10703934, PMC11271732\n",
    "# perfect prediction: PMC3377363\n",
    "# test pub: no matches: PMC11933476, PMC10796695, PMC12152223\n",
    "# very large list of mentions: PMC12125710\n",
    "# great test: DToL wasp genome: PMC9672531\n",
    "# LOT of false positives: PMC12180258"
   ]
  },
  {
   "cell_type": "markdown",
   "metadata": {
    "id": "oJYAfi05OGtu"
   },
   "source": [
    "# ⚙️ Setup"
   ]
  },
  {
   "cell_type": "code",
   "execution_count": 16,
   "metadata": {
    "colab": {
     "base_uri": "https://localhost:8080/"
    },
    "collapsed": true,
    "executionInfo": {
     "elapsed": 101705,
     "status": "ok",
     "timestamp": 1751532188739,
     "user": {
      "displayName": "Carla Cummins",
      "userId": "04681454191639308511"
     },
     "user_tz": -60
    },
    "id": "HAGbzln-OFYX",
    "outputId": "ed839c8f-36c4-4d16-ee46-3c278969b361"
   },
   "outputs": [
    {
     "name": "stdout",
     "output_type": "stream",
     "text": [
      "Requirement already satisfied: pandas in /Users/carla/miniconda3/lib/python3.13/site-packages (2.3.0)\n",
      "Requirement already satisfied: requests in /Users/carla/miniconda3/lib/python3.13/site-packages (2.32.3)\n",
      "Requirement already satisfied: beautifulsoup4 in /Users/carla/miniconda3/lib/python3.13/site-packages (4.13.4)\n",
      "Requirement already satisfied: numpy>=1.26.0 in /Users/carla/miniconda3/lib/python3.13/site-packages (from pandas) (2.3.0)\n",
      "Requirement already satisfied: python-dateutil>=2.8.2 in /Users/carla/miniconda3/lib/python3.13/site-packages (from pandas) (2.9.0.post0)\n",
      "Requirement already satisfied: pytz>=2020.1 in /Users/carla/miniconda3/lib/python3.13/site-packages (from pandas) (2025.2)\n",
      "Requirement already satisfied: tzdata>=2022.7 in /Users/carla/miniconda3/lib/python3.13/site-packages (from pandas) (2025.2)\n",
      "Requirement already satisfied: charset-normalizer<4,>=2 in /Users/carla/miniconda3/lib/python3.13/site-packages (from requests) (3.3.2)\n",
      "Requirement already satisfied: idna<4,>=2.5 in /Users/carla/miniconda3/lib/python3.13/site-packages (from requests) (3.7)\n",
      "Requirement already satisfied: urllib3<3,>=1.21.1 in /Users/carla/miniconda3/lib/python3.13/site-packages (from requests) (2.3.0)\n",
      "Requirement already satisfied: certifi>=2017.4.17 in /Users/carla/miniconda3/lib/python3.13/site-packages (from requests) (2025.6.15)\n",
      "Requirement already satisfied: soupsieve>1.2 in /Users/carla/miniconda3/lib/python3.13/site-packages (from beautifulsoup4) (2.7)\n",
      "Requirement already satisfied: typing-extensions>=4.0.0 in /Users/carla/miniconda3/lib/python3.13/site-packages (from beautifulsoup4) (4.12.2)\n",
      "Requirement already satisfied: six>=1.5 in /Users/carla/miniconda3/lib/python3.13/site-packages (from python-dateutil>=2.8.2->pandas) (1.17.0)\n",
      "Note: you may need to restart the kernel to use updated packages.\n",
      "Requirement already satisfied: nltk in /Users/carla/miniconda3/lib/python3.13/site-packages (3.9.1)\n",
      "Requirement already satisfied: transformers in /Users/carla/miniconda3/lib/python3.13/site-packages (4.52.4)\n",
      "Requirement already satisfied: torch in /Users/carla/miniconda3/lib/python3.13/site-packages (2.7.1)\n",
      "Requirement already satisfied: click in /Users/carla/miniconda3/lib/python3.13/site-packages (from nltk) (8.2.1)\n",
      "Requirement already satisfied: joblib in /Users/carla/miniconda3/lib/python3.13/site-packages (from nltk) (1.5.1)\n",
      "Requirement already satisfied: regex>=2021.8.3 in /Users/carla/miniconda3/lib/python3.13/site-packages (from nltk) (2024.11.6)\n",
      "Requirement already satisfied: tqdm in /Users/carla/miniconda3/lib/python3.13/site-packages (from nltk) (4.67.1)\n",
      "Requirement already satisfied: filelock in /Users/carla/miniconda3/lib/python3.13/site-packages (from transformers) (3.18.0)\n",
      "Requirement already satisfied: huggingface-hub<1.0,>=0.30.0 in /Users/carla/miniconda3/lib/python3.13/site-packages (from transformers) (0.33.0)\n",
      "Requirement already satisfied: numpy>=1.17 in /Users/carla/miniconda3/lib/python3.13/site-packages (from transformers) (2.3.0)\n",
      "Requirement already satisfied: packaging>=20.0 in /Users/carla/miniconda3/lib/python3.13/site-packages (from transformers) (24.2)\n",
      "Requirement already satisfied: pyyaml>=5.1 in /Users/carla/miniconda3/lib/python3.13/site-packages (from transformers) (6.0.2)\n",
      "Requirement already satisfied: requests in /Users/carla/miniconda3/lib/python3.13/site-packages (from transformers) (2.32.3)\n",
      "Requirement already satisfied: tokenizers<0.22,>=0.21 in /Users/carla/miniconda3/lib/python3.13/site-packages (from transformers) (0.21.1)\n",
      "Requirement already satisfied: safetensors>=0.4.3 in /Users/carla/miniconda3/lib/python3.13/site-packages (from transformers) (0.5.3)\n",
      "Requirement already satisfied: typing-extensions>=4.10.0 in /Users/carla/miniconda3/lib/python3.13/site-packages (from torch) (4.12.2)\n",
      "Requirement already satisfied: setuptools in /Users/carla/miniconda3/lib/python3.13/site-packages (from torch) (78.1.1)\n",
      "Requirement already satisfied: sympy>=1.13.3 in /Users/carla/miniconda3/lib/python3.13/site-packages (from torch) (1.14.0)\n",
      "Requirement already satisfied: networkx in /Users/carla/miniconda3/lib/python3.13/site-packages (from torch) (3.5)\n",
      "Requirement already satisfied: jinja2 in /Users/carla/miniconda3/lib/python3.13/site-packages (from torch) (3.1.6)\n",
      "Requirement already satisfied: fsspec in /Users/carla/miniconda3/lib/python3.13/site-packages (from torch) (2025.3.0)\n",
      "Requirement already satisfied: hf-xet<2.0.0,>=1.1.2 in /Users/carla/miniconda3/lib/python3.13/site-packages (from huggingface-hub<1.0,>=0.30.0->transformers) (1.1.3)\n",
      "Requirement already satisfied: mpmath<1.4,>=1.1.0 in /Users/carla/miniconda3/lib/python3.13/site-packages (from sympy>=1.13.3->torch) (1.3.0)\n",
      "Requirement already satisfied: MarkupSafe>=2.0 in /Users/carla/miniconda3/lib/python3.13/site-packages (from jinja2->torch) (3.0.2)\n",
      "Requirement already satisfied: charset-normalizer<4,>=2 in /Users/carla/miniconda3/lib/python3.13/site-packages (from requests->transformers) (3.3.2)\n",
      "Requirement already satisfied: idna<4,>=2.5 in /Users/carla/miniconda3/lib/python3.13/site-packages (from requests->transformers) (3.7)\n",
      "Requirement already satisfied: urllib3<3,>=1.21.1 in /Users/carla/miniconda3/lib/python3.13/site-packages (from requests->transformers) (2.3.0)\n",
      "Requirement already satisfied: certifi>=2017.4.17 in /Users/carla/miniconda3/lib/python3.13/site-packages (from requests->transformers) (2025.6.15)\n",
      "Note: you may need to restart the kernel to use updated packages.\n",
      "Requirement already satisfied: sqlalchemy in /Users/carla/miniconda3/lib/python3.13/site-packages (2.0.41)\n",
      "Requirement already satisfied: pymysql in /Users/carla/miniconda3/lib/python3.13/site-packages (1.1.1)\n",
      "Requirement already satisfied: tqdm in /Users/carla/miniconda3/lib/python3.13/site-packages (4.67.1)\n",
      "Requirement already satisfied: typing-extensions>=4.6.0 in /Users/carla/miniconda3/lib/python3.13/site-packages (from sqlalchemy) (4.12.2)\n",
      "Note: you may need to restart the kernel to use updated packages.\n",
      "Requirement already satisfied: itables in /Users/carla/miniconda3/lib/python3.13/site-packages (2.4.3)\n",
      "Collecting ipywidgets\n",
      "  Downloading ipywidgets-8.1.7-py3-none-any.whl.metadata (2.4 kB)\n",
      "Requirement already satisfied: ipython in /Users/carla/miniconda3/lib/python3.13/site-packages (from itables) (9.3.0)\n",
      "Requirement already satisfied: numpy in /Users/carla/miniconda3/lib/python3.13/site-packages (from itables) (2.3.0)\n",
      "Requirement already satisfied: pandas in /Users/carla/miniconda3/lib/python3.13/site-packages (from itables) (2.3.0)\n",
      "Requirement already satisfied: comm>=0.1.3 in /Users/carla/miniconda3/lib/python3.13/site-packages (from ipywidgets) (0.2.2)\n",
      "Requirement already satisfied: traitlets>=4.3.1 in /Users/carla/miniconda3/lib/python3.13/site-packages (from ipywidgets) (5.14.3)\n",
      "Collecting widgetsnbextension~=4.0.14 (from ipywidgets)\n",
      "  Downloading widgetsnbextension-4.0.14-py3-none-any.whl.metadata (1.6 kB)\n",
      "Collecting jupyterlab_widgets~=3.0.15 (from ipywidgets)\n",
      "  Downloading jupyterlab_widgets-3.0.15-py3-none-any.whl.metadata (20 kB)\n",
      "Requirement already satisfied: decorator in /Users/carla/miniconda3/lib/python3.13/site-packages (from ipython->itables) (5.2.1)\n",
      "Requirement already satisfied: ipython-pygments-lexers in /Users/carla/miniconda3/lib/python3.13/site-packages (from ipython->itables) (1.1.1)\n",
      "Requirement already satisfied: jedi>=0.16 in /Users/carla/miniconda3/lib/python3.13/site-packages (from ipython->itables) (0.19.2)\n",
      "Requirement already satisfied: matplotlib-inline in /Users/carla/miniconda3/lib/python3.13/site-packages (from ipython->itables) (0.1.7)\n",
      "Requirement already satisfied: pexpect>4.3 in /Users/carla/miniconda3/lib/python3.13/site-packages (from ipython->itables) (4.9.0)\n",
      "Requirement already satisfied: prompt_toolkit<3.1.0,>=3.0.41 in /Users/carla/miniconda3/lib/python3.13/site-packages (from ipython->itables) (3.0.51)\n",
      "Requirement already satisfied: pygments>=2.4.0 in /Users/carla/miniconda3/lib/python3.13/site-packages (from ipython->itables) (2.19.1)\n",
      "Requirement already satisfied: stack_data in /Users/carla/miniconda3/lib/python3.13/site-packages (from ipython->itables) (0.6.3)\n",
      "Requirement already satisfied: python-dateutil>=2.8.2 in /Users/carla/miniconda3/lib/python3.13/site-packages (from pandas->itables) (2.9.0.post0)\n",
      "Requirement already satisfied: pytz>=2020.1 in /Users/carla/miniconda3/lib/python3.13/site-packages (from pandas->itables) (2025.2)\n",
      "Requirement already satisfied: tzdata>=2022.7 in /Users/carla/miniconda3/lib/python3.13/site-packages (from pandas->itables) (2025.2)\n",
      "Requirement already satisfied: parso<0.9.0,>=0.8.4 in /Users/carla/miniconda3/lib/python3.13/site-packages (from jedi>=0.16->ipython->itables) (0.8.4)\n",
      "Requirement already satisfied: ptyprocess>=0.5 in /Users/carla/miniconda3/lib/python3.13/site-packages (from pexpect>4.3->ipython->itables) (0.7.0)\n",
      "Requirement already satisfied: wcwidth in /Users/carla/miniconda3/lib/python3.13/site-packages (from prompt_toolkit<3.1.0,>=3.0.41->ipython->itables) (0.2.13)\n",
      "Requirement already satisfied: six>=1.5 in /Users/carla/miniconda3/lib/python3.13/site-packages (from python-dateutil>=2.8.2->pandas->itables) (1.17.0)\n",
      "Requirement already satisfied: executing>=1.2.0 in /Users/carla/miniconda3/lib/python3.13/site-packages (from stack_data->ipython->itables) (2.2.0)\n",
      "Requirement already satisfied: asttokens>=2.1.0 in /Users/carla/miniconda3/lib/python3.13/site-packages (from stack_data->ipython->itables) (3.0.0)\n",
      "Requirement already satisfied: pure-eval in /Users/carla/miniconda3/lib/python3.13/site-packages (from stack_data->ipython->itables) (0.2.3)\n",
      "Downloading ipywidgets-8.1.7-py3-none-any.whl (139 kB)\n",
      "Downloading jupyterlab_widgets-3.0.15-py3-none-any.whl (216 kB)\n",
      "Downloading widgetsnbextension-4.0.14-py3-none-any.whl (2.2 MB)\n",
      "\u001b[2K   \u001b[90m━━━━━━━━━━━━━━━━━━━━━━━━━━━━━━━━━━━━━━━━\u001b[0m \u001b[32m2.2/2.2 MB\u001b[0m \u001b[31m7.1 MB/s\u001b[0m eta \u001b[36m0:00:00\u001b[0ma \u001b[36m0:00:01\u001b[0m\n",
      "\u001b[?25hInstalling collected packages: widgetsnbextension, jupyterlab_widgets, ipywidgets\n",
      "Successfully installed ipywidgets-8.1.7 jupyterlab_widgets-3.0.15 widgetsnbextension-4.0.14\n",
      "Note: you may need to restart the kernel to use updated packages.\n"
     ]
    }
   ],
   "source": [
    "# @title 📦 Install dependencies\n",
    "%pip install pandas requests beautifulsoup4\n",
    "%pip install nltk transformers torch\n",
    "%pip install sqlalchemy pymysql tqdm\n",
    "%pip install itables ipywidgets"
   ]
  },
  {
   "cell_type": "code",
   "execution_count": 3,
   "metadata": {
    "colab": {
     "base_uri": "https://localhost:8080/"
    },
    "executionInfo": {
     "elapsed": 4823,
     "status": "ok",
     "timestamp": 1751532193559,
     "user": {
      "displayName": "Carla Cummins",
      "userId": "04681454191639308511"
     },
     "user_tz": -60
    },
    "id": "PI7UG2TFe32G",
    "outputId": "141a5383-318c-4fdf-a9d8-df6db990a975"
   },
   "outputs": [
    {
     "name": "stderr",
     "output_type": "stream",
     "text": [
      "[nltk_data] Downloading package punkt to /Users/carla/nltk_data...\n",
      "[nltk_data]   Package punkt is already up-to-date!\n",
      "[nltk_data] Downloading package punkt_tab to /Users/carla/nltk_data...\n",
      "[nltk_data]   Package punkt_tab is already up-to-date!\n"
     ]
    },
    {
     "data": {
      "text/plain": [
       "True"
      ]
     },
     "execution_count": 3,
     "metadata": {},
     "output_type": "execute_result"
    }
   ],
   "source": [
    "# @title ⬇️ Download tokenizers\n",
    "import nltk\n",
    "nltk.download('punkt')\n",
    "nltk.download('punkt_tab')"
   ]
  },
  {
   "cell_type": "code",
   "execution_count": null,
   "metadata": {
    "executionInfo": {
     "elapsed": 23916,
     "status": "ok",
     "timestamp": 1751532217478,
     "user": {
      "displayName": "Carla Cummins",
      "userId": "04681454191639308511"
     },
     "user_tz": -60
    },
    "id": "NZSUu2hJOyMg"
   },
   "outputs": [],
   "source": [
    "# @title 🧩 Import modules\n",
    "import sys\n",
    "import re\n",
    "\n",
    "import pandas as pd\n",
    "import json\n",
    "\n",
    "import requests\n",
    "from requests.adapters import HTTPAdapter\n",
    "from urllib3.util.retry import Retry\n",
    "from bs4 import BeautifulSoup\n",
    "\n",
    "import sqlalchemy as db\n",
    "# import pymysql\n",
    "\n",
    "from nltk.tokenize import sent_tokenize\n",
    "from transformers import AutoTokenizer, AutoModelForSequenceClassification\n",
    "import torch\n",
    "\n",
    "from tqdm.notebook import tqdm\n",
    "from collections import Counter\n",
    "\n",
    "from IPython.display import Markdown, HTML\n",
    "from itables import show\n",
    "import itables.options as opt"
   ]
  },
  {
   "cell_type": "code",
   "execution_count": 5,
   "metadata": {},
   "outputs": [],
   "source": [
    "# Set display options\n",
    "opt.classes = \"display nowrap\"\n",
    "opt.lengthMenu = [25, 50, 100]\n",
    "opt.column_filters = \"header\"\n",
    "opt.maxBytes = 0  # Show full strings\n",
    "opt.scrollX = False"
   ]
  },
  {
   "cell_type": "markdown",
   "metadata": {
    "id": "X-hPBFHRWnEw"
   },
   "source": [
    "# 📥 Pull resource list from DB"
   ]
  },
  {
   "cell_type": "code",
   "execution_count": 18,
   "metadata": {
    "cellView": "form",
    "executionInfo": {
     "elapsed": 140,
     "status": "aborted",
     "timestamp": 1751532339080,
     "user": {
      "displayName": "Carla Cummins",
      "userId": "04681454191639308511"
     },
     "user_tz": -60
    },
    "id": "t2gk2WxaPg9B"
   },
   "outputs": [
    {
     "name": "stdout",
     "output_type": "stream",
     "text": [
      "Successfully connected to GBC MySQL instance\n"
     ]
    }
   ],
   "source": [
    "# @title 🔎 DB connection setup (via public IP)\n",
    "db_engine = db.create_engine('mysql+pymysql://gbcreader@34.89.127.34/gbc-publication-analysis', pool_recycle=3600, pool_size=50, max_overflow=50)\n",
    "db_conn = db_engine.connect()\n",
    "\n",
    "print(\"Successfully connected to GBC MySQL instance\")"
   ]
  },
  {
   "cell_type": "code",
   "execution_count": 19,
   "metadata": {
    "cellView": "form",
    "executionInfo": {
     "elapsed": 225,
     "status": "aborted",
     "timestamp": 1751532339169,
     "user": {
      "displayName": "Carla Cummins",
      "userId": "04681454191639308511"
     },
     "user_tz": -60
    },
    "id": "ooMyb-uPT0Yo"
   },
   "outputs": [
    {
     "data": {
      "text/html": [
       "<div style='max-width: 800px; overflow-x: auto;'>"
      ],
      "text/plain": [
       "<IPython.core.display.HTML object>"
      ]
     },
     "metadata": {},
     "output_type": "display_data"
    },
    {
     "name": "stderr",
     "output_type": "stream",
     "text": [
      "/Users/carla/miniconda3/lib/python3.13/site-packages/itables/typing.py:201: SyntaxWarning: These arguments are not documented in ITableOptions: {'include_index'}. You can silence this warning by setting `itables.options.warn_on_undocumented_option=False`. If you believe ITableOptions should be updated, please make a PR or open an issue at https://github.com/mwouts/itables\n",
      "  warnings.warn(\n",
      "/Users/carla/miniconda3/lib/python3.13/site-packages/itables/typing.py:201: SyntaxWarning: These arguments are not documented in DTForITablesOptions: {'include_index'}. You can silence this warning by setting `itables.options.warn_on_undocumented_option=False`. If you believe ITableOptions should be updated, please make a PR or open an issue at https://github.com/mwouts/itables\n",
      "  warnings.warn(\n"
     ]
    },
    {
     "data": {
      "text/html": [
       "<!--| quarto-html-table-processing: none -->\n",
       "<table id=\"itables_00709259_5611_4d27_accd_fb8e9e6e0bd8\"><tbody><tr>\n",
       "    <td style=\"vertical-align:middle; text-align:left\">\n",
       "    <a href=https://mwouts.github.io/itables/><svg class=\"main-svg\" xmlns=\"http://www.w3.org/2000/svg\" xmlns:xlink=\"http://www.w3.org/1999/xlink\"\n",
       "width=\"64\" viewBox=\"0 0 500 400\" style=\"font-family: 'Droid Sans', sans-serif;\">\n",
       "    <g style=\"fill:#d9d7fc\">\n",
       "        <path d=\"M100,400H500V357H100Z\" />\n",
       "        <path d=\"M100,300H400V257H100Z\" />\n",
       "        <path d=\"M0,200H400V157H0Z\" />\n",
       "        <path d=\"M100,100H500V57H100Z\" />\n",
       "        <path d=\"M100,350H500V307H100Z\" />\n",
       "        <path d=\"M100,250H400V207H100Z\" />\n",
       "        <path d=\"M0,150H400V107H0Z\" />\n",
       "        <path d=\"M100,50H500V7H100Z\" />\n",
       "    </g>\n",
       "    <g style=\"fill:#1a1366;stroke:#1a1366;\">\n",
       "   <rect x=\"100\" y=\"7\" width=\"400\" height=\"43\">\n",
       "    <animate\n",
       "      attributeName=\"width\"\n",
       "      values=\"0;400;0\"\n",
       "      dur=\"5s\"\n",
       "      repeatCount=\"indefinite\" />\n",
       "      <animate\n",
       "      attributeName=\"x\"\n",
       "      values=\"100;100;500\"\n",
       "      dur=\"5s\"\n",
       "      repeatCount=\"indefinite\" />\n",
       "  </rect>\n",
       "        <rect x=\"0\" y=\"107\" width=\"400\" height=\"43\">\n",
       "    <animate\n",
       "      attributeName=\"width\"\n",
       "      values=\"0;400;0\"\n",
       "      dur=\"3.5s\"\n",
       "      repeatCount=\"indefinite\" />\n",
       "    <animate\n",
       "      attributeName=\"x\"\n",
       "      values=\"0;0;400\"\n",
       "      dur=\"3.5s\"\n",
       "      repeatCount=\"indefinite\" />\n",
       "  </rect>\n",
       "        <rect x=\"100\" y=\"207\" width=\"300\" height=\"43\">\n",
       "    <animate\n",
       "      attributeName=\"width\"\n",
       "      values=\"0;300;0\"\n",
       "      dur=\"3s\"\n",
       "      repeatCount=\"indefinite\" />\n",
       "    <animate\n",
       "      attributeName=\"x\"\n",
       "      values=\"100;100;400\"\n",
       "      dur=\"3s\"\n",
       "      repeatCount=\"indefinite\" />\n",
       "  </rect>\n",
       "        <rect x=\"100\" y=\"307\" width=\"400\" height=\"43\">\n",
       "    <animate\n",
       "      attributeName=\"width\"\n",
       "      values=\"0;400;0\"\n",
       "      dur=\"4s\"\n",
       "      repeatCount=\"indefinite\" />\n",
       "      <animate\n",
       "      attributeName=\"x\"\n",
       "      values=\"100;100;500\"\n",
       "      dur=\"4s\"\n",
       "      repeatCount=\"indefinite\" />\n",
       "  </rect>\n",
       "        <g style=\"fill:transparent;stroke-width:8; stroke-linejoin:round\" rx=\"5\">\n",
       "            <g transform=\"translate(45 50) rotate(-45)\">\n",
       "                <circle r=\"33\" cx=\"0\" cy=\"0\" />\n",
       "                <rect x=\"-8\" y=\"32\" width=\"16\" height=\"30\" />\n",
       "            </g>\n",
       "\n",
       "            <g transform=\"translate(450 152)\">\n",
       "                <polyline points=\"-15,-20 -35,-20 -35,40 25,40 25,20\" />\n",
       "                <rect x=\"-15\" y=\"-40\" width=\"60\" height=\"60\" />\n",
       "            </g>\n",
       "\n",
       "            <g transform=\"translate(50 352)\">\n",
       "                <polygon points=\"-35,-5 0,-40 35,-5\" />\n",
       "                <polygon points=\"-35,10 0,45 35,10\" />\n",
       "            </g>\n",
       "\n",
       "            <g transform=\"translate(75 250)\">\n",
       "                <polyline points=\"-30,30 -60,0 -30,-30\" />\n",
       "                <polyline points=\"0,30 -30,0 0,-30\" />\n",
       "            </g>\n",
       "\n",
       "            <g transform=\"translate(425 250) rotate(180)\">\n",
       "                <polyline points=\"-30,30 -60,0 -30,-30\" />\n",
       "                <polyline points=\"0,30 -30,0 0,-30\" />\n",
       "            </g>\n",
       "        </g>\n",
       "    </g>\n",
       "</svg>\n",
       "</a>\n",
       "    Loading ITables v2.4.3 from the internet...\n",
       "    (need <a href=https://mwouts.github.io/itables/troubleshooting.html>help</a>?)</td>\n",
       "    </tr></tbody></table>\n",
       "<link href=\"https://www.unpkg.com/dt_for_itables@2.3.3/dt_bundle.css\" rel=\"stylesheet\">\n",
       "<script type=\"module\">\n",
       "    import { ITable, jQuery as $ } from 'https://www.unpkg.com/dt_for_itables@2.3.3/dt_bundle.js';\n",
       "\n",
       "    document.querySelectorAll(\"#itables_00709259_5611_4d27_accd_fb8e9e6e0bd8:not(.dataTable)\").forEach(table => {\n",
       "        if (!(table instanceof HTMLTableElement))\n",
       "            return;\n",
       "\n",
       "        let dt_args = {\"include_index\": false, \"classes\": [\"display\", \"compact\"], \"style\": {\"width\": \"800px\"}, \"layout\": {\"topStart\": \"pageLength\", \"topEnd\": \"search\", \"bottomStart\": \"info\", \"bottomEnd\": \"paging\"}, \"column_filters\": \"header\", \"order\": [], \"text_in_header_can_be_selected\": true, \"scrollX\": false, \"lengthMenu\": [25, 50, 100], \"table_html\": \"<table><thead><th>resource_name</th><th>aliases</th></thead></table>\", \"data_json\": \"[[\\\"TISCH\\\", \\\"['TISCH', 'Tumor Immune Single Cell Hub']\\\"], [\\\"PASS2.4\\\", \\\"['PASS2.4']\\\"], [\\\"ACSR\\\", \\\"['ACSR', 'AIDS and Cancer Specimen Resource']\\\"], [\\\"Rice TOGO Browser\\\", \\\"['Rice TOGO Browser']\\\"], [\\\"TAMI\\\", \\\"['TAMI', 'The Antimicrobial Index']\\\"], [\\\"16SpathDB\\\", \\\"['16SpathDB']\\\"], [\\\"Allie\\\", \\\"['Allie']\\\"], [\\\"RASOnD\\\", \\\"['RASOnD', 'RAS Oncogene Database']\\\"], [\\\"DbMDR\\\", \\\"['DbMDR']\\\"], [\\\"UPB\\\", \\\"['UPB', 'Urinary Protein Biomarker']\\\"], [\\\"HCVpro\\\", \\\"['HCVpro', 'hepatitis C virus protein interaction database']\\\"], [\\\"RiDs db\\\", \\\"['RiDs db', 'Repeats in diseases database']\\\"], [\\\"ALFRED\\\", \\\"['ALFRED']\\\"], [\\\"AURA\\\", \\\"['AURA', 'Atlas of UTR Regulatory Activity']\\\"], [\\\"ApoptoProteomics\\\", \\\"['ApoptoProteomics']\\\"], [\\\"ADHDgene\\\", \\\"['ADHDgene']\\\"], [\\\"UCSC Archaeal Genome Browser\\\", \\\"['UCSC Archaeal Genome Browser', 'arCOG']\\\"], [\\\"AH-DB\\\", \\\"['AH-DB', 'Apo-Holo DataBase']\\\"], [\\\"DAMPD\\\", \\\"['DAMPD', 'Dragon Antimicrobial Peptide Database']\\\"], [\\\"hUbiquitome\\\", \\\"['hUbiquitome']\\\"], [\\\"BacMap\\\", \\\"['BacMap']\\\"], [\\\"AutismKB\\\", \\\"['AutismKB']\\\"], [\\\"G6PD\\\", \\\"['G6PD']\\\"], [\\\"AtPAN\\\", \\\"['AtPAN', 'Arabidopsis thaliana Promoter Analysis Net']\\\"], [\\\"Aptamer Base\\\", \\\"['Aptamer Base']\\\"], [\\\"AlliumMap\\\", \\\"['AlliumMap']\\\"], [\\\"AlzPathway\\\", \\\"['AlzPathway']\\\"], [\\\"Alkamid\\\", \\\"['Alkamid']\\\"], [\\\"QuartetS-DB\\\", \\\"['QuartetS-DB']\\\"], [\\\"Genes2FANs\\\", \\\"['Genes2FANs']\\\"], [\\\"ALSoD\\\", \\\"['ALSoD', 'ALS Online Database']\\\"], [\\\"AutoBind\\\", \\\"['AutoBind']\\\"], [\\\"Hawaiian Freshwater Algal Database\\\", \\\"['Hawaiian Freshwater Algal Database', 'HfwADB']\\\"], [\\\"2P2I\\\", \\\"['2P2I']\\\"], [\\\"Biotinidase Gene Variants Registry\\\", \\\"['Biotinidase Gene Variants Registry']\\\"], [\\\"ASRDb\\\", \\\"['ASRDb', 'Archaeal Stress Response Database']\\\"], [\\\"targetHub\\\", \\\"['targetHub']\\\"], [\\\"3did\\\", \\\"['3did', 'interacting domains']\\\"], [\\\"AgeFactDB\\\", \\\"['AgeFactDB', 'JenAge Ageing Factor Database']\\\"], [\\\"Bival-Bind\\\", \\\"['Bival-Bind']\\\"], [\\\"BacMet\\\", \\\"['BacMet']\\\"], [\\\"bex-db\\\", \\\"['bex-db', 'Barley Gene Expression Database']\\\"], [\\\"TGRD\\\", \\\"['TGRD', 'Tomato Genomic Resources Database']\\\"], [\\\"ASDCD\\\", \\\"['ASDCD', 'Antifungal Synergistic Drug Combination Database']\\\"], [\\\"3DGD\\\", \\\"['3DGD', '3D Genome Database']\\\"], [\\\"AlgaePath\\\", \\\"['AlgaePath']\\\"], [\\\"AAIR\\\", \\\"['AAIR', 'Allergic Airway Inflammation Repository']\\\"], [\\\"dbCerEx\\\", \\\"['dbCerEx']\\\"], [\\\"FmTFDb\\\", \\\"['FmTFDb', 'foxtail millet transcription factors database']\\\"], [\\\"DAA\\\", \\\"['DAA', 'Ageing Atlas']\\\"], [\\\"CarrotDB\\\", \\\"['CarrotDB']\\\"], [\\\"EpilepsyGene\\\", \\\"['EpilepsyGene']\\\"], [\\\"BioPhytMol\\\", \\\"['BioPhytMol']\\\"], [\\\"BactPepDB\\\", \\\"['BactPepDB']\\\"], [\\\"AlzBase\\\", \\\"['AlzBase']\\\"], [\\\"AromaDeg\\\", \\\"['AromaDeg']\\\"], [\\\"CBMAR\\\", \\\"['CBMAR']\\\"], [\\\"BARD\\\", \\\"['BARD', 'BioAssay Research Database']\\\"], [\\\"ARALIP\\\", \\\"['ARALIP']\\\"], [\\\"amamutdb.no\\\", \\\"['amamutdb.no']\\\"], [\\\"CmMDb\\\", \\\"['CmMDb', 'Cucumis melo L']\\\"], [\\\"AtmiRNET\\\", \\\"['AtmiRNET']\\\"], [\\\"ImmuSort\\\", \\\"['ImmuSort']\\\"], [\\\"SPECTRA\\\", \\\"['SPECTRA']\\\"], [\\\"BacWGSTdb\\\", \\\"['BacWGSTdb']\\\"], [\\\"Aging Chart\\\", \\\"['Aging Chart']\\\"], [\\\"APD3\\\", \\\"['APD3', 'The antimicrobial peptide database']\\\"], [\\\"ALCOdb\\\", \\\"['ALCOdb', 'Algae Gene Coexpression database']\\\"], [\\\"CrAgDb\\\", \\\"['CrAgDb', 'haperone repertoire in Archaeal']\\\"], [\\\"SNP2Structure\\\", \\\"['SNP2Structure']\\\"], [\\\"3CDB\\\", \\\"['3CDB']\\\"], [\\\"SpinachDB\\\", \\\"['SpinachDB']\\\"], [\\\"MiasDB\\\", \\\"['MiasDB']\\\"], [\\\"ASL-LEX\\\", \\\"['ASL-LEX']\\\"], [\\\"DNetDB\\\", \\\"['DNetDB']\\\"], [\\\"Abasy\\\", \\\"['Abasy', 'acteria systems']\\\"], [\\\"ArthropodaCyc\\\", \\\"['ArthropodaCyc']\\\"], [\\\"Ferretome\\\", \\\"['Ferretome']\\\"], [\\\"GlycoGAIT\\\", \\\"['GlycoGAIT', 'Glycosylation and Gut Associated Immune']\\\"], [\\\"ADPriboDB\\\", \\\"['ADPriboDB']\\\"], [\\\"SkeletonGenetics\\\", \\\"['SkeletonGenetics']\\\"], [\\\"ANGIOGENES\\\", \\\"['ANGIOGENES']\\\"], [\\\"UNcleProt\\\", \\\"['UNcleProt', 'Universal Nuclear Protein database of barley']\\\"], [\\\"antiSMASH\\\", \\\"['antiSMASH']\\\"], [\\\"ThaleMine\\\", \\\"['ThaleMine']\\\"], [\\\"Alga-PrAS\\\", \\\"['Alga-PrAS', 'Algal Protein Annotation Suite database']\\\"], [\\\"PineElm_SSRdb\\\", \\\"['PineElm_SSRdb']\\\"], [\\\"SheddomeDB\\\", \\\"['SheddomeDB']\\\"], [\\\"ABCMdb\\\", \\\"['ABCMdb']\\\"], [\\\"Bologna Annotation Resource\\\", \\\"['Bologna Annotation Resource']\\\"], [\\\"NANPDB\\\", \\\"['NANPDB', 'Northern African Natural Products Database']\\\"], [\\\"PpTFDB\\\", \\\"['PpTFDB', 'Pigeonpea Transcription Factors Database']\\\"], [\\\"CPCat\\\", \\\"['CPCat', 'Chemical/Product Categories Database']\\\"], [\\\"RiceMetaSys\\\", \\\"['RiceMetaSys']\\\"], [\\\"AmyPro\\\", \\\"['AmyPro']\\\"], [\\\"AraGWAS\\\", \\\"['AraGWAS']\\\"], [\\\"ArachnoServer\\\", \\\"['ArachnoServer']\\\"], [\\\"AutDB\\\", \\\"['AutDB']\\\"], [\\\"circlncRNAnet\\\", \\\"['circlncRNAnet']\\\"], [\\\"AureoWiki\\\", \\\"['AureoWiki']\\\"], [\\\"Datasets2Tools\\\", \\\"['Datasets2Tools']\\\"], [\\\"ILDgenDB\\\", \\\"['ILDgenDB']\\\"], [\\\"AT_CHLORO\\\", \\\"['AT_CHLORO']\\\"], [\\\"CeleryDB\\\", \\\"['CeleryDB']\\\"], [\\\"ATD\\\", \\\"['ATD', 'Autophagy To Disease']\\\"], [\\\"AmtDB\\\", \\\"['AmtDB']\\\"], [\\\"BACTOME\\\", \\\"['BACTOME']\\\"], [\\\"10KIP\\\", \\\"['10KIP', '10,000 Immunomes Project']\\\"], [\\\"ALEdb\\\", \\\"['ALEdb']\\\"], [\\\"AlloMAPS\\\", \\\"['AlloMAPS']\\\"], [\\\"Ancestral Genomes\\\", \\\"['Ancestral Genomes']\\\"], [\\\"LncRNA2Target\\\", \\\"['LncRNA2Target']\\\"], [\\\"atSNP\\\", \\\"['atSNP']\\\"], [\\\"APID\\\", \\\"['APID']\\\"], [\\\"MtBrowse\\\", \\\"['MtBrowse']\\\"], [\\\"ASNR\\\", \\\"['ASNR', 'Animal Social Network Repository']\\\"], [\\\"AICD\\\", \\\"['AICD', 'nti-Inflammatory Compounds Database']\\\"], [\\\"ANDB\\\", \\\"['ANDB', 'Areca nut database']\\\"], [\\\"GCGVD\\\", \\\"['GCGVD', 'The Grass Carp Genomic Visualization Database']\\\"], [\\\"Distances of Amino Acids\\\", \\\"['Distances of Amino Acids']\\\"], [\\\"AraPheno\\\", \\\"['AraPheno']\\\"], [\\\"AOE\\\", \\\"['AOE']\\\"], [\\\"TOAST\\\", \\\"['TOAST', 'Test Of Arabidopsis Space Transcriptome']\\\"], [\\\"ASFVdb\\\", \\\"['ASFVdb', 'African swine fever virus database']\\\"], [\\\"DE-pattern\\\", \\\"['DE-pattern']\\\"], [\\\"CCFv3\\\", \\\"['CCFv3', 'Mouse Brain Common Coordinate Framework']\\\"], [\\\"ASAP\\\", \\\"['ASAP', 'Automated Single-cell Analysis Portal']\\\"], [\\\"BGVD\\\", \\\"['BGVD', 'Bovine Genome Variation Database']\\\"], [\\\"Antimicrobial chemotherapeutics database\\\", \\\"['Antimicrobial chemotherapeutics database', 'ACD']\\\"], [\\\"AciDB\\\", \\\"['AciDB']\\\"], [\\\"saponin mass spectrometry database\\\", \\\"['saponin mass spectrometry database', 'SMSD']\\\"], [\\\"EANPDB\\\", \\\"['EANPDB', 'Eastern Africa Natural Products Database']\\\"], [\\\"A.P.E.S\\\", \\\"['A.P.E.S']\\\"], [\\\"AVIMM\\\", \\\"['AVIMM', 'Avian Immunome DB']\\\"], [\\\"WGVD\\\", \\\"['WGVD', 'Wheat Genome Variation Database']\\\"], [\\\"SoyTD\\\", \\\"['SoyTD', 'Soybean transporter database']\\\"], [\\\"3DIV\\\", \\\"['3DIV', '3D-genome Interaction Viewer and database']\\\"], [\\\"BarleyVarDB\\\", \\\"['BarleyVarDB']\\\"], [\\\"MethHC\\\", \\\"['MethHC']\\\"], [\\\"PDmethDB\\\", \\\"['PDmethDB', \\\\\\\"Parkinson's Disease Methylation Database\\\\\\\"]\\\"], [\\\"AnnoLnc\\\", \\\"['AnnoLnc']\\\"], [\\\"FAWMine\\\", \\\"['FAWMine', 'Fall Armyworm Genome Database']\\\"], [\\\"UbiNet\\\", \\\"['UbiNet']\\\"], [\\\"GGVD\\\", \\\"['GGVD', 'goat genome variation database']\\\"], [\\\"antifungal drug interactions database\\\", \\\"['antifungal drug interactions database']\\\"], [\\\"AddictGene\\\", \\\"['AddictGene']\\\"], [\\\"MycoTRAP-DB\\\", \\\"['MycoTRAP-DB', 'Mycobacterium tuberculosis Resistance Associated']\\\"], [\\\"2DProts\\\", \\\"['2DProts']\\\"], [\\\"ALTB\\\", \\\"['ALTB']\\\"], [\\\"HumGut\\\", \\\"['HumGut']\\\"], [\\\"AprGPD\\\", \\\"['AprGPD', 'The apricot genomic and phenotypic database']\\\"], [\\\"Antibiotic Resistant Target Seeker\\\", \\\"['Antibiotic Resistant Target Seeker', 'ARTS']\\\"], [\\\"BacDive\\\", \\\"['BacDive', 'Bacterial Diversity Metadatabase']\\\"], [\\\"AlphaFold DB\\\", \\\"['AlphaFold DB', 'AlphaFold Protein Structure Database']\\\"], [\\\"bacteria.guru\\\", \\\"['bacteria.guru']\\\"], [\\\"ASER\\\", \\\"['ASER', 'Animal Sex Reversal Database']\\\"], [\\\"Water dropwortDB\\\", \\\"['Water dropwortDB']\\\"], [\\\"CottonGVD\\\", \\\"['CottonGVD', 'cotton genomic variation database']\\\"], [\\\"ADVP\\\", \\\"['ADVP', \\\\\\\"Alzheimer's Disease Variant Portal\\\\\\\"]\\\"], [\\\"ADDAGMA\\\", \\\"['ADDAGMA', 'domestic animal gut microbiome atlas']\\\"], [\\\"Animal Audiogram Database\\\", \\\"['Animal Audiogram Database']\\\"], [\\\"AOP-DB\\\", \\\"['AOP-DB']\\\"], [\\\"ATTED-II\\\", \\\"['ATTED-II']\\\"], [\\\"miRAGDB\\\", \\\"['miRAGDB']\\\"], [\\\"SmGDB\\\", \\\"['SmGDB', 'miltiorrhiza genome database']\\\"], [\\\"Aegypti-Atlas\\\", \\\"['Aegypti-Atlas']\\\"], [\\\"BuffGR\\\", \\\"['BuffGR', 'resource of buffalo']\\\"], [\\\"ThermoBase\\\", \\\"['ThermoBase', 'Astrobiology Habitable Environments Database']\\\"], [\\\"Galbase\\\", \\\"['Galbase']\\\"], [\\\"MESOCOSM\\\", \\\"['MESOCOSM']\\\"], [\\\"AnthraxKP\\\", \\\"['AnthraxKP']\\\"], [\\\"AcetoBase\\\", \\\"['AcetoBase']\\\"], [\\\"PHARP\\\", \\\"['PHARP', 'pig Haplotype Reference Panel']\\\"], [\\\"ABC portal\\\", \\\"['ABC portal']\\\"], [\\\"TAIR\\\", \\\"['TAIR', 'Arabidopsis Information Resource']\\\"], [\\\"Aquila\\\", \\\"['Aquila']\\\"], [\\\"ChromLoops\\\", \\\"['ChromLoops']\\\"], [\\\"SPEED\\\", \\\"['SPEED']\\\"], [\\\"TeaPVs\\\", \\\"['TeaPVs']\\\"], [\\\"B-AMP\\\", \\\"['B-AMP']\\\"], [\\\"The Antibody Registry\\\", \\\"['The Antibody Registry']\\\"], [\\\"PlagueKD\\\", \\\"['PlagueKD']\\\"], [\\\"OSCAR\\\", \\\"['OSCAR']\\\"], [\\\"AOCD\\\", \\\"['AOCD', 'Anti-obesity compound database']\\\"], [\\\"AODB\\\", \\\"['AODB', 'antioxidant database']\\\"], [\\\"CysDB\\\", \\\"['CysDB']\\\"], [\\\"Human AGEs\\\", \\\"['Human AGEs']\\\"], [\\\"BLAB2CancerKD\\\", \\\"['BLAB2CancerKD', 'actic acid bacteria to Cancer Knowledge graph Database']\\\"], [\\\"DSP\\\", \\\"['DSP']\\\"], [\\\"APDB\\\", \\\"['APDB']\\\"], [\\\"AutophagyNet\\\", \\\"['AutophagyNet', 'Regulatory Network']\\\"], [\\\"CAD\\\", \\\"['CAD', 'Cation-Aromatic Database']\\\"], [\\\"A2ID\\\", \\\"['A2ID', 'Aromatic-Aromatic Interactions Database']\\\"], [\\\"MFPPDB\\\", \\\"['MFPPDB', 'multi-functional plant peptide database']\\\"], [\\\"APPRISE\\\", \\\"['APPRISE', 'Australian Partnership for Preparedness Research on InfectiouS disease Emergencies']\\\"], [\\\"aSynPEP-DB\\\", \\\"['aSynPEP-DB']\\\"], [\\\"BioKinVis\\\", \\\"['BioKinVis']\\\"], [\\\"AlliumDB\\\", \\\"['AlliumDB']\\\"], [\\\"DANMEL\\\", \\\"['DANMEL']\\\"], [\\\"PRO-MINE\\\", \\\"['PRO-MINE', 'PROtein Mutations In NEurodegeneration']\\\"], [\\\"TMPad\\\", \\\"['TMPad', 'TransMembrane Protein Helix-Packing Database']\\\"], [\\\"ZFNGenome\\\", \\\"['ZFNGenome', 'inc Finger']\\\"], [\\\"sc-PDB\\\", \\\"['sc-PDB']\\\"], [\\\"GlycoFish\\\", \\\"['GlycoFish']\\\"], [\\\"DFRMLI\\\", \\\"['DFRMLI', 'Dana-Farber Repository for']\\\"], [\\\"InterEvol\\\", \\\"['InterEvol']\\\"], [\\\"DIGIT\\\", \\\"['DIGIT', 'Database of ImmunoGlobulins with Integrated Tools']\\\"], [\\\"MIPModDB\\\", \\\"['MIPModDB']\\\"], [\\\"SA-Motifbase\\\", \\\"['SA-Motifbase']\\\"], [\\\"DiseaseMeth\\\", \\\"['DiseaseMeth', 'human disease methylation database']\\\"], [\\\"HOMER\\\", \\\"['HOMER', 'Human Organ-specific Molecular']\\\"], [\\\"BESC\\\", \\\"['BESC']\\\"], [\\\"BFGR\\\", \\\"['BFGR', 'Biofuel Feedstock Genomics Resource']\\\"], [\\\"NeMedPlant\\\", \\\"['NeMedPlant']\\\"], [\\\"MASiVEdb\\\", \\\"['MASiVEdb', 'Mapping and Analysis of SireVirus Elements Database']\\\"], [\\\"CNVD\\\", \\\"['CNVD', 'Copy Number Variation in Disease database']\\\"], [\\\"RedoxDB\\\", \\\"['RedoxDB']\\\"], [\\\"PAGED\\\", \\\"['PAGED', 'Pathway And Gene Enrichment Database']\\\"], [\\\"IPAD\\\", \\\"['IPAD', 'Integrated Pathway Analysis Database for Systematic Enrichment Analysis']\\\"], [\\\"PESNPdb\\\", \\\"['PESNPdb']\\\"], [\\\"MicrobPad MD\\\", \\\"['MicrobPad MD', 'microbial pathogen diagnostic methods database']\\\"], [\\\"CyanoPhyChe\\\", \\\"['CyanoPhyChe']\\\"], [\\\"PrePPI\\\", \\\"['PrePPI']\\\"], [\\\"SM2miR\\\", \\\"['SM2miR']\\\"], [\\\"RadishBase\\\", \\\"['RadishBase']\\\"], [\\\"curatedOvarianData\\\", \\\"['curatedOvarianData']\\\"], [\\\"TiPs\\\", \\\"['TiPs']\\\"], [\\\"BDgene\\\", \\\"['BDgene']\\\"], [\\\"BBGRE\\\", \\\"['BBGRE', 'Brain and Body Genetic Resource Exchange']\\\"], [\\\"OnTheFly\\\", \\\"['OnTheFly']\\\"], [\\\"PaGenBase\\\", \\\"['PaGenBase']\\\"], [\\\"tasiRNAdb\\\", \\\"['tasiRNAdb']\\\"], [\\\"BCL2DB\\\", \\\"['BCL2DB']\\\"], [\\\"oncomiRDB\\\", \\\"['oncomiRDB']\\\"], [\\\"EpimiR\\\", \\\"['EpimiR']\\\"], [\\\"MetaImprint\\\", \\\"['MetaImprint']\\\"], [\\\"LincSNP\\\", \\\"['LincSNP']\\\"], [\\\"TSmiR\\\", \\\"['TSmiR']\\\"], [\\\"sc-PDB-Frag\\\", \\\"['sc-PDB-Frag']\\\"], [\\\"tropiTree\\\", \\\"['tropiTree']\\\"], [\\\"SNP@lincTFBS\\\", \\\"['SNP@lincTFBS']\\\"], [\\\"ProADD\\\", \\\"['ProADD']\\\"], [\\\"LncEnvironmentDB\\\", \\\"['LncEnvironmentDB']\\\"], [\\\"MitProNet\\\", \\\"['MitProNet']\\\"], [\\\"ADReCS\\\", \\\"['ADReCS', 'Adverse Drug Reaction Classification System']\\\"], [\\\"A-WINGS\\\", \\\"['A-WINGS']\\\"], [\\\"WATRefNet\\\", \\\"['WATRefNet', 'White Adipose Tissue Health Reference Network']\\\"], [\\\"DBBP\\\", \\\"['DBBP', 'DataBase of Binding Pairs in protein-nucleic acid interactions']\\\"], [\\\"PODC\\\", \\\"['PODC', 'Plant Omics Data Center']\\\"], [\\\"PD_NGSAtlas\\\", \\\"['PD_NGSAtlas']\\\"], [\\\"LMPID\\\", \\\"['LMPID', 'Linear Motif mediated Protein Interaction Database']\\\"], [\\\"miRNASNP\\\", \\\"['miRNASNP']\\\"], [\\\"ClosIndb\\\", \\\"['ClosIndb']\\\"], [\\\"TMREC\\\", \\\"['TMREC']\\\"], [\\\"GPA\\\", \\\"['GPA', 'Gene Perturbation Atlas']\\\"], [\\\"TaxKB\\\", \\\"['TaxKB', 'Taxane knowledge base']\\\"], [\\\"MVsCarta\\\", \\\"['MVsCarta']\\\"], [\\\"BioImg\\\", \\\"['BioImg']\\\"], [\\\"dbSUPER\\\", \\\"['dbSUPER']\\\"], [\\\"CRCDA\\\", \\\"['CRCDA', 'resources for cancer NGS data analysis']\\\"], [\\\"BiGG\\\", \\\"['BiGG']\\\"], [\\\"SigMol\\\", \\\"['SigMol']\\\"], [\\\"BioGPS\\\", \\\"['BioGPS']\\\"], [\\\"KIR\\\", \\\"['KIR', 'Kiwifruit Information Resource']\\\"], [\\\"dEMBF\\\", \\\"['dEMBF', 'Database of Enzymes of Microalgal Biofuel Feedstock']\\\"], [\\\"Pleurochrysome\\\", \\\"['Pleurochrysome']\\\"], [\\\"PlanTE-MIR DB\\\", \\\"['PlanTE-MIR DB']\\\"], [\\\"DsTRD\\\", \\\"['DsTRD', 'Danshen Transcriptional Resource Database']\\\"], [\\\"LNCat\\\", \\\"['LNCat']\\\"], [\\\"dbWGFP\\\", \\\"['dbWGFP']\\\"], [\\\"Grape-CRISPR\\\", \\\"['Grape-CRISPR']\\\"], [\\\"dbDSM\\\", \\\"['dbDSM', 'database of Deleterious Synonymous Mutation']\\\"], [\\\"dbCPG\\\", \\\"['dbCPG', 'Cancer Predisposition Gene Database']\\\"], [\\\"BioHub\\\", \\\"['BioHub']\\\"], [\\\"IGDD\\\", \\\"['IGDD', 'Intronless Genes Database in Dicots']\\\"], [\\\"PPI4DOCK\\\", \\\"['PPI4DOCK']\\\"], [\\\"LncVar\\\", \\\"['LncVar']\\\"], [\\\"LNCediting\\\", \\\"['LNCediting']\\\"], [\\\"GETPrime\\\", \\\"['GETPrime']\\\"], [\\\"TOMATOMICS\\\", \\\"['TOMATOMICS']\\\"], [\\\"PCPPI\\\", \\\"['PCPPI', 'Penicillium -Crop Protein-Protein Interactions']\\\"], [\\\"GSA\\\", \\\"['GSA', 'Genome Sequence Archive']\\\"], [\\\"MYCbase\\\", \\\"['MYCbase']\\\"], [\\\"HCSGD\\\", \\\"['HCSGD', 'Human Cellular Senescence Gene Database']\\\"], [\\\"HEROD\\\", \\\"['HEROD']\\\"], [\\\"Dynamic-BM\\\", \\\"['Dynamic-BM']\\\"], [\\\"biochem4j\\\", \\\"['biochem4j']\\\"], [\\\"POGD\\\", \\\"['POGD', 'Poaceae orphan genes database']\\\"], [\\\"PancanQTL\\\", \\\"['PancanQTL']\\\"], [\\\"DiseaseEnhancer\\\", \\\"['DiseaseEnhancer']\\\"], [\\\"SEECancer\\\", \\\"['SEECancer']\\\"], [\\\"GVM\\\", \\\"['GVM', 'Genome Variation Map']\\\"], [\\\"TADB2.0\\\", \\\"['TADB2.0']\\\"], [\\\"FVD\\\", \\\"['FVD', 'The fish-associated virus database']\\\"], [\\\"aBiofilm\\\", \\\"['aBiofilm']\\\"], [\\\"KiPho\\\", \\\"['KiPho', 'Malaria Parasite Kinome-Phosphatome']\\\"], [\\\"SEGreg\\\", \\\"['SEGreg', 'SEG regulation database']\\\"], [\\\"saRNAdb\\\", \\\"['saRNAdb']\\\"], [\\\"dbSWEET\\\", \\\"['dbSWEET']\\\"], [\\\"LnChrom\\\", \\\"['LnChrom']\\\"], [\\\"dbCRSR\\\", \\\"['dbCRSR', 'cancer radiosensitivity regulation factors database']\\\"], [\\\"CARDIO-LNCRNAS\\\", \\\"['CARDIO-LNCRNAS']\\\"], [\\\"dbCID\\\", \\\"['dbCID', 'database of Cancer driver InDels']\\\"], [\\\"AromaDb\\\", \\\"['AromaDb']\\\"], [\\\"Pancan-meQTL\\\", \\\"['Pancan-meQTL']\\\"], [\\\"CancerSEA\\\", \\\"['CancerSEA']\\\"], [\\\"EVmiRNA\\\", \\\"['EVmiRNA']\\\"], [\\\"NucMap\\\", \\\"['NucMap', 'nucleosome positioning map']\\\"], [\\\"CMAUP\\\", \\\"['CMAUP', 'Collective Molecular Activities of Useful Plants']\\\"], [\\\"EDK\\\", \\\"['EDK', 'Editome-Disease Knowledgebase']\\\"], [\\\"EWAS Atlas\\\", \\\"['EWAS Atlas']\\\"], [\\\"iDog\\\", \\\"['iDog']\\\"], [\\\"dbCPM\\\", \\\"['dbCPM', 'of Cancer Passenger Mutations']\\\"], [\\\"MethMotif\\\", \\\"['MethMotif']\\\"], [\\\"SAGD\\\", \\\"['SAGD']\\\"], [\\\"MedPServer\\\", \\\"['MedPServer']\\\"], [\\\"VCGDB\\\", \\\"['VCGDB', 'Virtual Chinese Genome Database']\\\"], [\\\"EnDisease\\\", \\\"['EnDisease']\\\"], [\\\"MusatransSSRDB\\\", \\\"['MusatransSSRDB']\\\"], [\\\"PAmiRDB\\\", \\\"['PAmiRDB']\\\"], [\\\"GEDS\\\", \\\"['GEDS', 'Expression Display Server']\\\"], [\\\"bio.tools\\\", \\\"['bio.tools']\\\"], [\\\"PSMD\\\", \\\"['PSMD', 'Pan-Species Microsatellite Database']\\\"], [\\\"LSD\\\", \\\"['LSD', 'leaf senescence database']\\\"], [\\\"prokaryotic antiviral defense system\\\", \\\"['prokaryotic antiviral defense system', 'PADS']\\\"], [\\\"BBCancer\\\", \\\"['BBCancer']\\\"], [\\\"RNAactDrug\\\", \\\"['RNAactDrug']\\\"], [\\\"GliomaDB\\\", \\\"['GliomaDB']\\\"], [\\\"TRlnc\\\", \\\"['TRlnc', 'for human regulatory information of lncRNAs']\\\"], [\\\"HSPMdb\\\", \\\"['HSPMdb']\\\"], [\\\"NipahVR\\\", \\\"['NipahVR']\\\"], [\\\"MMHub\\\", \\\"['MMHub']\\\"], [\\\"LncSpA\\\", \\\"['LncSpA']\\\"], [\\\"PSCRIdb\\\", \\\"['PSCRIdb']\\\"], [\\\"MACSNVdb\\\", \\\"['MACSNVdb']\\\"], [\\\"PDB-2-PBv3.0\\\", \\\"['PDB-2-PBv3.0']\\\"], [\\\"BETA\\\", \\\"['BETA', 'BEnchmark database Towards BCI Application']\\\"], [\\\"hTFtarget\\\", \\\"['hTFtarget']\\\"], [\\\"dbCAN-PUL\\\", \\\"['dbCAN-PUL']\\\"], [\\\"miRNASNP-v3\\\", \\\"['miRNASNP-v3']\\\"], [\\\"TCRdb\\\", \\\"['TCRdb']\\\"], [\\\"BiG-FAM\\\", \\\"['BiG-FAM', 'biosynthetic gene cluster families']\\\"], [\\\"Bgee\\\", \\\"['Bgee']\\\"], [\\\"LncSEA\\\", \\\"['LncSEA']\\\"], [\\\"LncExpDB\\\", \\\"['LncExpDB']\\\"], [\\\"AcrDB\\\", \\\"['AcrDB']\\\"], [\\\"HPREP\\\", \\\"['HPREP']\\\"], [\\\"2019nCoVR\\\", \\\"['2019nCoVR', '2019 Novel Coronavirus Resource']\\\"], [\\\"CitrusKB\\\", \\\"['CitrusKB']\\\"], [\\\"Propedia\\\", \\\"['Propedia']\\\"], [\\\"bc-GenExMiner\\\", \\\"['bc-GenExMiner', 'Breast cancer gene-expression miner']\\\"], [\\\"DbStRiPs\\\", \\\"['DbStRiPs', 'Database of Structural Repeats']\\\"], [\\\"BEE\\\", \\\"['BEE', 'Biomedical Entity Explorer']\\\"], [\\\"PID\\\", \\\"['PID', 'Plant Intron Database']\\\"], [\\\"dbMCS\\\", \\\"['dbMCS', 'for anti-Cancer drug Sensitivity']\\\"], [\\\"EVAtlas\\\", \\\"['EVAtlas']\\\"], [\\\"gutMGene\\\", \\\"['gutMGene']\\\"], [\\\"CancerMIRNome\\\", \\\"['CancerMIRNome']\\\"], [\\\"SmProt\\\", \\\"['SmProt', 'small proteins database']\\\"], [\\\"TransLnc\\\", \\\"['TransLnc']\\\"], [\\\"SCovid\\\", \\\"['SCovid']\\\"], [\\\"ImmReg\\\", \\\"['ImmReg']\\\"], [\\\"qPrimerDB\\\", \\\"['qPrimerDB']\\\"], [\\\"DREAM\\\", \\\"['DREAM', 'Drug Response Gene Expression Associated Map']\\\"], [\\\"HODD\\\", \\\"['HODD', 'Human Ophthalmic Diseases Database']\\\"], [\\\"FPIA\\\", \\\"['FPIA', 'fusion profiling and interactive analyses']\\\"], [\\\"TF-Marker\\\", \\\"['TF-Marker', 'Marker database']\\\"], [\\\"PlantGF\\\", \\\"['PlantGF', 'Plant Gene Family Platform']\\\"], [\\\"TRmir\\\", \\\"['TRmir', 'human transcriptional regulation of miRNAs']\\\"], [\\\"Human-Virus Protein-Protein Interaction database\\\", \\\"['Human-Virus Protein-Protein Interaction database', 'HVPPI']\\\"], [\\\"OSgc\\\", \\\"['OSgc', 'Online consensus Survival analysis of gastric cancer']\\\"], [\\\"REIA\\\", \\\"['REIA']\\\"], [\\\"A3D\\\", \\\"['A3D']\\\"], [\\\"RNA2Immune\\\", \\\"['RNA2Immune']\\\"], [\\\"ICBatlas\\\", \\\"['ICBatlas']\\\"], [\\\"IEAtlas\\\", \\\"['IEAtlas']\\\"], [\\\"BGFD\\\", \\\"['BGFD', 'Barley Gene Family Database']\\\"], [\\\"AntiVIRmiR\\\", \\\"['AntiVIRmiR']\\\"], [\\\"snoDB\\\", \\\"['snoDB']\\\"], [\\\"microbioTA\\\", \\\"['microbioTA']\\\"], [\\\"gutMDisorder\\\", \\\"['gutMDisorder']\\\"], [\\\"AgingBank\\\", \\\"['AgingBank']\\\"], [\\\"CellTracer\\\", \\\"['CellTracer']\\\"], [\\\"BIC\\\", \\\"['BIC']\\\"], [\\\"ImmCluster\\\", \\\"['ImmCluster']\\\"], [\\\"dbCAN2\\\", \\\"['dbCAN2']\\\"], [\\\"ApInAPDB\\\", \\\"['ApInAPDB', 'Apoptosis-Inducing Anticancer Peptides Database']\\\"], [\\\"NPASS\\\", \\\"['NPASS']\\\"], [\\\"dbAQP-SNP\\\", \\\"['dbAQP-SNP']\\\"], [\\\"EPIPOX\\\", \\\"['EPIPOX']\\\"], [\\\"ATOdb\\\", \\\"['ATOdb']\\\"], [\\\"A3DyDB\\\", \\\"['A3DyDB']\\\"], [\\\"CrMP-Sol\\\", \\\"['CrMP-Sol']\\\"], [\\\"AgingReG\\\", \\\"['AgingReG']\\\"], [\\\"SpaceLID\\\", \\\"['SpaceLID', 'Space Life Investigation Database']\\\"], [\\\"AMPDB\\\", \\\"['AMPDB', 'Anti-Microbial Peptide Database version 1']\\\"], [\\\"ICBcomb\\\", \\\"['ICBcomb']\\\"], [\\\"SCInter\\\", \\\"['SCInter', 'comprehensive Single-Cell transcriptome integration database for human and mouse']\\\"], [\\\"MPID-T2\\\", \\\"['MPID-T2', 'MHC-Peptide Interaction Database-T']\\\"], [\\\"LegProt\\\", \\\"['LegProt']\\\"], [\\\"RMRIMS\\\", \\\"['RMRIMS']\\\"], [\\\"PHENOPSIS\\\", \\\"['PHENOPSIS']\\\"], [\\\"Bioinformatics Links\\\", \\\"['Bioinformatics Links']\\\"], [\\\"MtbSD\\\", \\\"['MtbSD', 'Mycobacterium tuberculosis Structural Database']\\\"], [\\\"Antagomir\\\", \\\"['Antagomir']\\\"], [\\\"DDTRP\\\", \\\"['DDTRP', 'Database of Drug Targets for Resistant Pathogens']\\\"], [\\\"PlantNATsDB\\\", \\\"['PlantNATsDB', 'NAT database']\\\"], [\\\"BYKdb\\\", \\\"['BYKdb', 'Bacterial protein tYrosine Kinase database']\\\"], [\\\"MTDB\\\", \\\"['MTDB', 'truncatula transporter database']\\\"], [\\\"GENI-DB\\\", \\\"['GENI-DB']\\\"], [\\\"EnzyBase\\\", \\\"['EnzyBase']\\\"], [\\\"NGS catalog\\\", \\\"['NGS catalog', 'Next Generation Sequencing Catalog']\\\"], [\\\"PKKB\\\", \\\"['PKKB', 'PharmacoKinetics Knowledge Base']\\\"], [\\\"PRDB\\\", \\\"['PRDB', 'Protein Tandem Repeat DataBase']\\\"], [\\\"PeanutDB\\\", \\\"['PeanutDB']\\\"], [\\\"AraPath\\\", \\\"['AraPath']\\\"], [\\\"ModelDB\\\", \\\"['ModelDB']\\\"], [\\\"TSGene\\\", \\\"['TSGene', 'Tumor Suppressor Gene database']\\\"], [\\\"RKN\\\", \\\"['RKN']\\\"], [\\\"eProS\\\", \\\"['eProS', 'profile suite']\\\"], [\\\"LepChorionDB\\\", \\\"['LepChorionDB']\\\"], [\\\"NeuroDNet\\\", \\\"['NeuroDNet']\\\"], [\\\"BuffSatDB\\\", \\\"['BuffSatDB', 'Buffalo MicroSatellite Database']\\\"], [\\\"PIPEMicroDB\\\", \\\"['PIPEMicroDB', 'PIgeonPEa Microsatellite DataBase']\\\"], [\\\"T-HOD\\\", \\\"['T-HOD', 'Text-mined Hypertension']\\\"], [\\\"SoyProDB\\\", \\\"['SoyProDB', 'soybean protein database']\\\"], [\\\"DEER\\\", \\\"['DEER']\\\"], [\\\"KGVDB\\\", \\\"['KGVDB']\\\"], [\\\"pico-PLAZA\\\", \\\"['pico-PLAZA']\\\"], [\\\"DBATE\\\", \\\"['DBATE', 'DataBase of Alternative Transcripts Expression']\\\"], [\\\"DoSA\\\", \\\"['DoSA', 'Database of Structural Alignments']\\\"], [\\\"mpMoRFsDB\\\", \\\"['mpMoRFsDB']\\\"], [\\\"Diseasecard\\\", \\\"['Diseasecard']\\\"], [\\\"EvoSNP-DB\\\", \\\"['EvoSNP-DB']\\\"], [\\\"XDB\\\", \\\"['XDB', 'Xeno-glycomics database']\\\"], [\\\"SurvExpress\\\", \\\"['SurvExpress']\\\"], [\\\"HRaP\\\", \\\"['HRaP']\\\"], [\\\"bNAber\\\", \\\"['bNAber']\\\"], [\\\"BioNames\\\", \\\"['BioNames']\\\"], [\\\"BBGD454\\\", \\\"['BBGD454', 'blueberry genomic database']\\\"], [\\\"BrassiBase\\\", \\\"['BrassiBase']\\\"], [\\\"NGSmethDB\\\", \\\"['NGSmethDB']\\\"], [\\\"SuperPain\\\", \\\"['SuperPain']\\\"], [\\\"mVOC\\\", \\\"['mVOC']\\\"], [\\\"EcoliOverExpressionDB\\\", \\\"['EcoliOverExpressionDB']\\\"], [\\\"Transformer\\\", \\\"['Transformer']\\\"], [\\\"SFGD\\\", \\\"['SFGD', 'Soybean Functional Genomics Database']\\\"], [\\\"GALT Protein Database\\\", \\\"['GALT Protein Database']\\\"], [\\\"BorreliaBase\\\", \\\"['BorreliaBase']\\\"], [\\\"AgAbDb\\\", \\\"['AgAbDb', 'Antigen-Antibody Interaction Database']\\\"], [\\\"GMEnzy\\\", \\\"['GMEnzy']\\\"], [\\\"SCNProDB\\\", \\\"['SCNProDB']\\\"], [\\\"LeishMicrosatDB\\\", \\\"['LeishMicrosatDB', 'Leishmania Microsatellite Database']\\\"], [\\\"ExpTreeDB\\\", \\\"['ExpTreeDB']\\\"], [\\\"Super Natural II\\\", \\\"['Super Natural II']\\\"], [\\\"BCCTBbp\\\", \\\"['BCCTBbp', 'Breast Cancer Campaign Tissue Bank']\\\"], [\\\"VaDE\\\", \\\"['VaDE']\\\"], [\\\"Islander\\\", \\\"['Islander']\\\"], [\\\"tmRNA Website\\\", \\\"['tmRNA Website']\\\"], [\\\"EHFPI\\\", \\\"['EHFPI', 'Essential Host Factors for Pathogenic Infection']\\\"], [\\\"HIGDB\\\", \\\"['HIGDB', 'Haemophilus influenzae Genome Database']\\\"], [\\\"SynBioLGDB\\\", \\\"['SynBioLGDB']\\\"], [\\\"RPdb\\\", \\\"['RPdb', 'reprogramming database']\\\"], [\\\"CARMO\\\", \\\"['CARMO', 'comprehensive annotation of rice multi-omics data']\\\"], [\\\"PlantOrDB\\\", \\\"['PlantOrDB']\\\"], [\\\"TANRIC\\\", \\\"['TANRIC', 'he Atlas of Noncoding RNAs in Cancer']\\\"], [\\\"PLNlncRbase\\\", \\\"['PLNlncRbase']\\\"], [\\\"PhIN\\\", \\\"['PhIN', 'protein pharmacology interaction network database']\\\"], [\\\"miRegulome\\\", \\\"['miRegulome']\\\"], [\\\"LncReg\\\", \\\"['LncReg']\\\"], [\\\"PDID\\\", \\\"['PDID', 'Protein-Drug Interaction Database']\\\"], [\\\"ccmGDB\\\", \\\"['ccmGDB', 'Cancer Cell Metabolism Gene DataBase']\\\"], [\\\"DBGC\\\", \\\"['DBGC', 'Database of Human Gastric Cancer']\\\"], [\\\"BreCAN-DB\\\", \\\"['BreCAN-DB']\\\"], [\\\"CancerNet\\\", \\\"['CancerNet']\\\"], [\\\"Biosurveillance Analytics Resource Directory\\\", \\\"['Biosurveillance Analytics Resource Directory', 'ARD']\\\"], [\\\"NALDB\\\", \\\"['NALDB', 'Nucleic acid ligand database']\\\"], [\\\"CSCdb\\\", \\\"['CSCdb', 'CSCs database']\\\"], [\\\"TBC2health\\\", \\\"['TBC2health']\\\"], [\\\"PoplarGene\\\", \\\"['PoplarGene']\\\"], [\\\"MPD3\\\", \\\"['MPD3', 'Medicinal Plants Database for']\\\"], [\\\"SZGR\\\", \\\"['SZGR']\\\"], [\\\"G4IPDB\\\", \\\"['G4IPDB', 'G-quadruplex structure Interacting Proteins DataBase']\\\"], [\\\"PceRBase\\\", \\\"['PceRBase', 'ceRNA database']\\\"], [\\\"DaTo\\\", \\\"['DaTo']\\\"], [\\\"Pln24NT\\\", \\\"['Pln24NT']\\\"], [\\\"DisBind\\\", \\\"['DisBind']\\\"], [\\\"Expresso\\\", \\\"['Expresso']\\\"], [\\\"DrugSig\\\", \\\"['DrugSig']\\\"], [\\\"Breast Oncogenic Specific siRNAs\\\", \\\"['Breast Oncogenic Specific siRNAs', 'BOSS']\\\"], [\\\"AAgMarker\\\", \\\"['AAgMarker']\\\"], [\\\"ScaPD\\\", \\\"['ScaPD']\\\"], [\\\"EVLncRNAs\\\", \\\"['EVLncRNAs']\\\"], [\\\"TriForC\\\", \\\"['TriForC']\\\"], [\\\"ARED-Plus\\\", \\\"['ARED-Plus', 'AU-Rich Element Database']\\\"], [\\\"Breast Cancer Now Tissue Bank bioinformatics\\\", \\\"['Breast Cancer Now Tissue Bank bioinformatics', 'BCNTB']\\\"], [\\\"FilTer BaSe\\\", \\\"['FilTer BaSe']\\\"], [\\\"TBC2target\\\", \\\"['TBC2target']\\\"], [\\\"BioPepDB\\\", \\\"['BioPepDB']\\\"], [\\\"CbLncRNAdb\\\", \\\"['CbLncRNAdb']\\\"], [\\\"MCENet\\\", \\\"['MCENet']\\\"], [\\\"HACER\\\", \\\"['HACER']\\\"], [\\\"liqDB\\\", \\\"['liqDB']\\\"], [\\\"BitterDB\\\", \\\"['BitterDB']\\\"], [\\\"CamurWeb\\\", \\\"['CamurWeb']\\\"], [\\\"YaTCM\\\", \\\"['YaTCM']\\\"], [\\\"mtProtEvol\\\", \\\"['mtProtEvol']\\\"], [\\\"croFGD\\\", \\\"['croFGD', 'Catharanthus roseus Functional Genomics Database']\\\"], [\\\"UVGD\\\", \\\"['UVGD']\\\"], [\\\"CASBench\\\", \\\"['CASBench']\\\"], [\\\"FAT-PTM\\\", \\\"['FAT-PTM', 'Functional Analysis Tools for Post-Translational Modifications']\\\"], [\\\"OsteoporosAtlas\\\", \\\"['OsteoporosAtlas']\\\"], [\\\"AmyCo\\\", \\\"['AmyCo', 'amyloidoses collection']\\\"], [\\\"CiliaCarta\\\", \\\"['CiliaCarta']\\\"], [\\\"CancerMine\\\", \\\"['CancerMine']\\\"], [\\\"EmExplorer\\\", \\\"['EmExplorer']\\\"], [\\\"ImtRDB\\\", \\\"['ImtRDB']\\\"], [\\\"ETM-DB\\\", \\\"['ETM-DB']\\\"], [\\\"VISDB\\\", \\\"['VISDB']\\\"], [\\\"PlantAFP\\\", \\\"['PlantAFP']\\\"], [\\\"PerMemDB\\\", \\\"['PerMemDB']\\\"], [\\\"cAb-Rep\\\", \\\"['cAb-Rep']\\\"], [\\\"dendPoint\\\", \\\"['dendPoint']\\\"], [\\\"TSEA-DB\\\", \\\"['TSEA-DB', 'Tissue-Specific Enrichment Analysis DataBase']\\\"], [\\\"AppleMDO\\\", \\\"['AppleMDO']\\\"], [\\\"FlavoDb\\\", \\\"['FlavoDb']\\\"], [\\\"CancerTracer\\\", \\\"['CancerTracer']\\\"], [\\\"PlantCircNet\\\", \\\"['PlantCircNet']\\\"], [\\\"HisgAtlas\\\", \\\"['HisgAtlas']\\\"], [\\\"GRONS\\\", \\\"['GRONS', 'Genetic Resources Of Nicotine and Smoking']\\\"], [\\\"CRAFT\\\", \\\"['CRAFT', 'Colorado Richly Annotated Full-Text Corpus']\\\"], [\\\"RSRS\\\", \\\"['RSRS', 'Rice Stress-Resistant SNP database']\\\"], [\\\"CNAdbCC\\\", \\\"['CNAdbCC']\\\"], [\\\"BoMiProt\\\", \\\"['BoMiProt']\\\"], [\\\"BSM-Arc\\\", \\\"['BSM-Arc', 'Biological Structure Model Archive']\\\"], [\\\"tautomeric\\\", \\\"['tautomeric']\\\"], [\\\"RadAtlas\\\", \\\"['RadAtlas']\\\"], [\\\"CoFly\\\", \\\"['CoFly']\\\"], [\\\"OncotRF\\\", \\\"['OncotRF']\\\"], [\\\"LymphoAtlas\\\", \\\"['LymphoAtlas']\\\"], [\\\"CovalentInDB\\\", \\\"['CovalentInDB', 'Covalent Inhibitor Database']\\\"], [\\\"ThermoMutDB\\\", \\\"['ThermoMutDB']\\\"], [\\\"DescribePROT\\\", \\\"['DescribePROT']\\\"], [\\\"KinaseMD\\\", \\\"['KinaseMD']\\\"], [\\\"Promiscuous\\\", \\\"['Promiscuous']\\\"], [\\\"CSEA-DB\\\", \\\"['CSEA-DB', 'Cell type-Specific Enrichment Analysis DataBase']\\\"], [\\\"KVarPredDB\\\", \\\"['KVarPredDB', 'VarPredDB']\\\"], [\\\"MutSpliceDB\\\", \\\"['MutSpliceDB']\\\"], [\\\"Rhododendron Plant Genome Database\\\", \\\"['Rhododendron Plant Genome Database', 'RPGD']\\\"], [\\\"Immu-Mela\\\", \\\"['Immu-Mela']\\\"], [\\\"mPPI\\\", \\\"['mPPI']\\\"], [\\\"alfaNET\\\", \\\"['alfaNET']\\\"], [\\\"OlfactionBase\\\", \\\"['OlfactionBase']\\\"], [\\\"ViMIC\\\", \\\"['ViMIC', 'human disease-related Virus Mutations']\\\"], [\\\"GreeningDB\\\", \\\"['GreeningDB']\\\"], [\\\"HBFP\\\", \\\"['HBFP', 'human body fluid proteome']\\\"], [\\\"MetazExp\\\", \\\"['MetazExp']\\\"], [\\\"PLAZA\\\", \\\"['PLAZA', 'Comparative Genomic Database']\\\"], [\\\"legumeSSRdb\\\", \\\"['legumeSSRdb']\\\"], [\\\"CircR2Disease\\\", \\\"['CircR2Disease']\\\"], [\\\"Cancer-Immu\\\", \\\"['Cancer-Immu']\\\"], [\\\"CerealESTdb\\\", \\\"['CerealESTdb']\\\"], [\\\"Epilepsy-Connect\\\", \\\"['Epilepsy-Connect']\\\"], [\\\"HPVMD-C\\\", \\\"['HPVMD-C', 'Chinese HPV mutation database']\\\"], [\\\"PltRNAdb\\\", \\\"['PltRNAdb', 'Plant transfer RNA database']\\\"], [\\\"Cancer Antigens Database\\\", \\\"['Cancer Antigens Database', 'CAD']\\\"], [\\\"WeCoNET\\\", \\\"['WeCoNET']\\\"], [\\\"WheatCENet\\\", \\\"['WheatCENet']\\\"], [\\\"TritiKBdb\\\", \\\"['TritiKBdb']\\\"], [\\\"FishExp\\\", \\\"['FishExp']\\\"], [\\\"ipaQTL-atlas\\\", \\\"['ipaQTL-atlas']\\\"], [\\\"EmAtlas\\\", \\\"['EmAtlas']\\\"], [\\\"PAT\\\", \\\"['PAT', 'prokaryotic antimicrobial toxin database']\\\"], [\\\"LivestockExp\\\", \\\"['LivestockExp']\\\"], [\\\"PlantExp\\\", \\\"['PlantExp']\\\"], [\\\"PROTAC-DB\\\", \\\"['PROTAC-DB']\\\"], [\\\"VGSC-DB\\\", \\\"['VGSC-DB', 'Voltage-gated Sodium Channels Database']\\\"], [\\\"PlantCADB\\\", \\\"['PlantCADB', 'chromatin accessibility database']\\\"], [\\\"TRustDB\\\", \\\"['TRustDB']\\\"], [\\\"BMRB\\\", \\\"['BMRB', 'Biological Magnetic Resonance Data Bank']\\\"], [\\\"FungiExp\\\", \\\"['FungiExp']\\\"], [\\\"CAFrgDB\\\", \\\"['CAFrgDB', 'CAF related Gene DataBase']\\\"], [\\\"PlantLTRdb\\\", \\\"['PlantLTRdb']\\\"], [\\\"ESCCdb\\\", \\\"['ESCCdb']\\\"], [\\\"MbPA\\\", \\\"['MbPA', 'The Metal-binding Protein Atlas']\\\"], [\\\"C4S\\\", \\\"['C4S', 'Comprehensive Collection and Comparison for ChIP-Seq Database']\\\"], [\\\"ToCoDDB\\\", \\\"['ToCoDDB']\\\"], [\\\"The Bovine Pangenome Consortium\\\", \\\"['The Bovine Pangenome Consortium', 'BPC']\\\"], [\\\"SoyTIPdb\\\", \\\"['SoyTIPdb', 'Soybean Transposon Insertion Polymorphisms Database']\\\"], [\\\"RNALID\\\", \\\"['RNALID']\\\"], [\\\"DCABM-TCM\\\", \\\"['DCABM-TCM', 'of Constituents Absorbed into the Blood and Metabolites of TCM']\\\"], [\\\"COVIDanno\\\", \\\"['COVIDanno']\\\"], [\\\"ranchSATdb\\\", \\\"['ranchSATdb']\\\"], [\\\"TEMM\\\", \\\"['TEMM']\\\"], [\\\"DegronMD\\\", \\\"['DegronMD']\\\"], [\\\"SingleScan\\\", \\\"['SingleScan']\\\"], [\\\"BioTreasury\\\", \\\"['BioTreasury']\\\"], [\\\"BTECH\\\", \\\"['BTECH']\\\"], [\\\"ThalInd\\\", \\\"['ThalInd']\\\"], [\\\"CANGS\\\", \\\"['CANGS', 'Analyzing Next Generation Sequences DataBase']\\\"], [\\\"miREnvironment\\\", \\\"['miREnvironment']\\\"], [\\\"CELLPEDIA\\\", \\\"['CELLPEDIA']\\\"], [\\\"HaploReg\\\", \\\"['HaploReg']\\\"], [\\\"PINA\\\", \\\"['PINA', 'Protein Interaction Network Analysis']\\\"], [\\\"PolymiRTS\\\", \\\"['PolymiRTS', 'polymorphism in microRNA target site']\\\"], [\\\"SpliceDisease\\\", \\\"['SpliceDisease']\\\"], [\\\"MTCID\\\", \\\"['MTCID', 'uberculosis clinical isolate genetic polymorphism database']\\\"], [\\\"Channelpedia\\\", \\\"['Channelpedia']\\\"], [\\\"COINS\\\", \\\"['COINS']\\\"], [\\\"TGD\\\", \\\"['TGD', 'Tetrahymena Genome Database']\\\"], [\\\"e-Drug3D\\\", \\\"['e-Drug3D']\\\"], [\\\"CACG\\\", \\\"['CACG']\\\"], [\\\"CancerProView\\\", \\\"['CancerProView']\\\"], [\\\"CLEARPOND\\\", \\\"['CLEARPOND', 'Cross-Linguistic Easy-Access Resource for Phonological and Orthographic Neighborhood Densities']\\\"], [\\\"MirSNP\\\", \\\"['MirSNP']\\\"], [\\\"SomamiR\\\", \\\"['SomamiR']\\\"], [\\\"PGDD\\\", \\\"['PGDD', 'Plant Genome Duplication Database']\\\"], [\\\"Myosinome\\\", \\\"['Myosinome']\\\"], [\\\"UCNEbase\\\", \\\"['UCNEbase']\\\"], [\\\"CFGP\\\", \\\"['CFGP', 'Comparative Fungal Genomics Platform']\\\"], [\\\"CBS\\\", \\\"['CBS', 'Conserved regulatory Binding Sites']\\\"], [\\\"IntPath\\\", \\\"['IntPath', 'Integrated Pathway gene relationship database']\\\"], [\\\"STIFDB2\\\", \\\"['STIFDB2']\\\"], [\\\"CGOB\\\", \\\"['CGOB', 'Candida Gene Order Browser']\\\"], [\\\"CistromeFinder\\\", \\\"['CistromeFinder']\\\"], [\\\"CDP\\\", \\\"['CDP', 'Cell death proteomics database']\\\"], [\\\"cBioPortal\\\", \\\"['cBioPortal']\\\"], [\\\"CMS\\\", \\\"['CMS', 'Cancer methylome system']\\\"], [\\\"CARLSBAD\\\", \\\"['CARLSBAD']\\\"], [\\\"CDSA\\\", \\\"['CDSA', 'Cancer Digital Slide Archive']\\\"], [\\\"LenVarDB\\\", \\\"['LenVarDB', 'Protein Alignments organized as Structural Superfamilies']\\\"], [\\\"COMMODE\\\", \\\"['COMMODE']\\\"], [\\\"NeuroGeM\\\", \\\"['NeuroGeM']\\\"], [\\\"CR Cistrome\\\", \\\"['CR Cistrome']\\\"], [\\\"CentrosomeDB\\\", \\\"['CentrosomeDB']\\\"], [\\\"CoryneBase\\\", \\\"['CoryneBase']\\\"], [\\\"ChEpiMod\\\", \\\"['ChEpiMod']\\\"], [\\\"Citrus sinensis annotation project\\\", \\\"['Citrus sinensis annotation project']\\\"], [\\\"SMAL\\\", \\\"['SMAL', 'Spontaneous Mutation Accumulation Lines']\\\"], [\\\"MitoSatPlant\\\", \\\"['MitoSatPlant']\\\"], [\\\"YTRP\\\", \\\"['YTRP', 'Yeast Transcriptional Regulatory Pathway']\\\"], [\\\"ClearedLeavesDB\\\", \\\"['ClearedLeavesDB', 'Cleared Leaf Image Database']\\\"], [\\\"IFIM\\\", \\\"['IFIM']\\\"], [\\\"CicArMiSatDB\\\", \\\"['CicArMiSatDB', 'Chickpea Microsatellite Database']\\\"], [\\\"CORTECON\\\", \\\"['CORTECON']\\\"], [\\\"DOR\\\", \\\"['DOR', 'Database of Olfactory Receptors']\\\"], [\\\"CCGD\\\", \\\"['CCGD', 'Candidate Cancer Gene Database']\\\"], [\\\"CODEX\\\", \\\"['CODEX']\\\"], [\\\"TopFIND\\\", \\\"['TopFIND']\\\"], [\\\"ComPPI\\\", \\\"['ComPPI']\\\"], [\\\"COSMIC\\\", \\\"['COSMIC', 'the Catalogue Of Somatic Mutations In Cancer']\\\"], [\\\"CMPD\\\", \\\"['CMPD', 'cancer mutant proteome database']\\\"], [\\\"YNA\\\", \\\"['YNA', 'Yeast Nucleosome Atlas']\\\"], [\\\"CELLX\\\", \\\"['CELLX', 'Cell Index Database']\\\"], [\\\"CLIPdb\\\", \\\"['CLIPdb']\\\"], [\\\"DX\\\", \\\"['DX', 'COINS Data Exchange']\\\"], [\\\"ComiRNet\\\", \\\"['ComiRNet', 'Co-clustered miRNA Regulatory Networks']\\\"], [\\\"AmyLoad\\\", \\\"['AmyLoad']\\\"], [\\\"CGMD\\\", \\\"['CGMD', 'Cancer Gene Marker Database']\\\"], [\\\"CicArVarDB\\\", \\\"['CicArVarDB']\\\"], [\\\"5SRNAdb\\\", \\\"['5SRNAdb']\\\"], [\\\"sRNATarBase\\\", \\\"['sRNATarBase']\\\"], [\\\"CEGA\\\", \\\"['CEGA', 'Conserved Elements from Genomic Alignments']\\\"], [\\\"COLOMBOS\\\", \\\"['COLOMBOS']\\\"], [\\\"PPIM\\\", \\\"['PPIM', 'Protein-Protein Interaction Database for Maize']\\\"], [\\\"CANTATAdb\\\", \\\"['CANTATAdb']\\\"], [\\\"ChromothripsisDB\\\", \\\"['ChromothripsisDB']\\\"], [\\\"CoopTFD\\\", \\\"['CoopTFD', 'Cooperative Transcription Factors Database']\\\"], [\\\"YCRD\\\", \\\"['YCRD', 'Yeast Combinatorial Regulation Database']\\\"], [\\\"PIMADb\\\", \\\"['PIMADb', 'protein interactions in huge macromolecular assemblies']\\\"], [\\\"MMpI\\\", \\\"['MMpI']\\\"], [\\\"mockrobiota\\\", \\\"['mockrobiota']\\\"], [\\\"InverPep\\\", \\\"['InverPep']\\\"], [\\\"SNP2TFBS\\\", \\\"['SNP2TFBS']\\\"], [\\\"ChiTaRS\\\", \\\"['ChiTaRS']\\\"], [\\\"FARNA\\\", \\\"['FARNA']\\\"], [\\\"RPAN\\\", \\\"['RPAN', 'Rice Pan-genome Browser']\\\"], [\\\"CCG\\\", \\\"['CCG', 'Catalogue of Cancer Genes']\\\"], [\\\"ISCIEMEDS\\\", \\\"['ISCIEMEDS', 'Endocrine and Metabolic Extended Data Set']\\\"], [\\\"Carotenoid\\\", \\\"['Carotenoid', 'Carotenoids Database']\\\"], [\\\"CHEAR\\\", \\\"['CHEAR', \\\\\\\"Children's Health Exposure Analysis Resource\\\\\\\"]\\\"], [\\\"SSER\\\", \\\"['SSER', 'Species specific essential reactions database']\\\"], [\\\"CFTR-France\\\", \\\"['CFTR-France', 'ystic fibrosis transmembrane']\\\"], [\\\"CHD\\\", \\\"['CHD', 'Canis mtDNA HV1']\\\"], [\\\"CSmiRTar\\\", \\\"['CSmiRTar', 'Condition-Specific miRNA Targets']\\\"], [\\\"IMOTA\\\", \\\"['IMOTA']\\\"], [\\\"cBiT\\\", \\\"['cBiT', 'Compendium for Biomaterial Transcriptomics']\\\"], [\\\"CR2Cancer\\\", \\\"['CR2Cancer']\\\"], [\\\"CirGRDB\\\", \\\"['CirGRDB']\\\"], [\\\"MGA\\\", \\\"['MGA', 'Mass Genome Annotation repository']\\\"], [\\\"Cistrome Cancer\\\", \\\"['Cistrome Cancer']\\\"], [\\\"ASpedia\\\", \\\"['ASpedia']\\\"], [\\\"Met-DB\\\", \\\"['Met-DB']\\\"], [\\\"mitoepigenomeKB\\\", \\\"['mitoepigenomeKB']\\\"], [\\\"SuperDRUG2\\\", \\\"['SuperDRUG2']\\\"], [\\\"tRex\\\", \\\"['tRex']\\\"], [\\\"MethCNA\\\", \\\"['MethCNA']\\\"], [\\\"HpBase\\\", \\\"['HpBase']\\\"], [\\\"MODII\\\", \\\"['MODII', 'MOlecular Database on Indian Insects']\\\"], [\\\"CITGeneDB\\\", \\\"['CITGeneDB']\\\"], [\\\"iMusta4SLC\\\", \\\"['iMusta4SLC']\\\"], [\\\"YARG\\\", \\\"['YARG', 'Yeast Arsenic-Related Genes']\\\"], [\\\"PADFrag\\\", \\\"['PADFrag', 'Pesticide And Drug Fragments']\\\"], [\\\"Traitpedia\\\", \\\"['Traitpedia']\\\"], [\\\"CNVdigest\\\", \\\"['CNVdigest']\\\"], [\\\"CDRgator\\\", \\\"['CDRgator', 'Cancer Drug Resistance navigator']\\\"], [\\\"PKAD\\\", \\\"['PKAD']\\\"], [\\\"Tetrahymena Comparative Genomics Database\\\", \\\"['Tetrahymena Comparative Genomics Database', 'TCGD']\\\"], [\\\"DEDuCT\\\", \\\"['DEDuCT', 'Database of Endocrine Disrupting Chemicals and their Toxicity profiles']\\\"], [\\\"DORMAN\\\", \\\"['DORMAN', 'Database of Reconstructed Metabolic Networks']\\\"], [\\\"ExonSkipDB\\\", \\\"['ExonSkipDB']\\\"], [\\\"CARD\\\", \\\"['CARD', 'Comprehensive Antibiotic Resistance Database']\\\"], [\\\"ChlamDB\\\", \\\"['ChlamDB']\\\"], [\\\"ConSurf\\\", \\\"['ConSurf']\\\"], [\\\"CitGVD\\\", \\\"['CitGVD', 'citrus genomic variation database']\\\"], [\\\"KRGDB\\\", \\\"['KRGDB', 'Korean Reference Genome Database']\\\"], [\\\"CuAS\\\", \\\"['CuAS', 'Cucumber Alternative Splicing']\\\"], [\\\"circad\\\", \\\"['circad']\\\"], [\\\"CircAtlas\\\", \\\"['CircAtlas']\\\"], [\\\"ProNetView-ccRCC\\\", \\\"['ProNetView-ccRCC']\\\"], [\\\"miRactDB\\\", \\\"['miRactDB']\\\"], [\\\"STAGdb\\\", \\\"['STAGdb']\\\"], [\\\"ConoMode\\\", \\\"['ConoMode']\\\"], [\\\"chewie-NS\\\", \\\"['chewie-NS', 'Chewie Nomenclature Server']\\\"], [\\\"CNCDatabase\\\", \\\"['CNCDatabase', 'Cornell Non-coding Cancer driver Database']\\\"], [\\\"IndiGenomes\\\", \\\"['IndiGenomes']\\\"], [\\\"CEG\\\", \\\"['CEG', 'Clusters of Essential Genes']\\\"], [\\\"CamRegBase\\\", \\\"['CamRegBase']\\\"], [\\\"CorkOakDB\\\", \\\"['CorkOakDB', 'The Cork Oak Genome Database Portal']\\\"], [\\\"ADeditome\\\", \\\"['ADeditome']\\\"], [\\\"COCONUT\\\", \\\"['COCONUT', 'COlleCtion of Open Natural prodUcTs']\\\"], [\\\"DSSTox\\\", \\\"['DSSTox', 'Distributed Structure-Searchable Toxicity Database']\\\"], [\\\"COnVIDa\\\", \\\"['COnVIDa']\\\"], [\\\"CANNUSE\\\", \\\"['CANNUSE']\\\"], [\\\"CoronaCentral\\\", \\\"['CoronaCentral']\\\"], [\\\"NUCOME\\\", \\\"['NUCOME']\\\"], [\\\"CNVIntegrate\\\", \\\"['CNVIntegrate']\\\"], [\\\"PACHIN\\\", \\\"['PACHIN', 'Pediatric In-Hospital Cardiac Arrest International Registry']\\\"], [\\\"fIMDb\\\", \\\"['fIMDb', 'ace Image Meta-Database']\\\"], [\\\"PEN\\\", \\\"['PEN', 'Protein-gene Expression Nexus']\\\"], [\\\"TExAs\\\", \\\"['TExAs', 'Human Tissue-specific Exposome Atlas']\\\"], [\\\"ESC\\\", \\\"['ESC']\\\"], [\\\"lncRNAfunc\\\", \\\"['lncRNAfunc']\\\"], [\\\"FCCP\\\", \\\"['FCCP', \\\\\\\"Fragrance Chemicals in Children's Products\\\\\\\"]\\\"], [\\\"ConsensusPathDB\\\", \\\"['ConsensusPathDB']\\\"], [\\\"BGvar\\\", \\\"['BGvar', 'Blood Group Associated Genomic Variant Resource']\\\"], [\\\"CellDepot\\\", \\\"['CellDepot']\\\"], [\\\"DSDBASE2.0\\\", \\\"['DSDBASE2.0', 'DiSulphide dataBASE']\\\"], [\\\"LTM-TCM\\\", \\\"['LTM-TCM']\\\"], [\\\"KDmarkers\\\", \\\"['KDmarkers']\\\"], [\\\"MeFSAT\\\", \\\"['MeFSAT', 'Medicinal Fungi Secondary metabolites And Therapeutics']\\\"], [\\\"HVD\\\", \\\"['HVD', 'Human Virus Database']\\\"], [\\\"TrBase\\\", \\\"['TrBase', 'Western Pacific Sea Urchin Genome Database']\\\"], [\\\"PCRMS\\\", \\\"['PCRMS', 'predicted cis-regulatory modules']\\\"], [\\\"CAS Common Chemistry\\\", \\\"['CAS Common Chemistry']\\\"], [\\\"TCMPG\\\", \\\"['TCMPG', 'Traditional Chinese Medicine Plant Genome database']\\\"], [\\\"CircadiOmics\\\", \\\"['CircadiOmics']\\\"], [\\\"RiceNCexp\\\", \\\"['RiceNCexp']\\\"], [\\\"DESSO-DB\\\", \\\"['DESSO-DB']\\\"], [\\\"CARs-DB\\\", \\\"['CARs-DB']\\\"], [\\\"AIDA\\\", \\\"['AIDA']\\\"], [\\\"CHDbase\\\", \\\"['CHDbase']\\\"], [\\\"CarrotOmics\\\", \\\"['CarrotOmics']\\\"], [\\\"ChemScape Atlas\\\", \\\"['ChemScape Atlas']\\\"], [\\\"CohesinDB\\\", \\\"['CohesinDB']\\\"], [\\\"ChemBioPort\\\", \\\"['ChemBioPort']\\\"], [\\\"ChemPert\\\", \\\"['ChemPert']\\\"], [\\\"SPASCER\\\", \\\"['SPASCER']\\\"], [\\\"CEDAR\\\", \\\"['CEDAR', 'Cancer Epitope Database and Analysis Resource']\\\"], [\\\"CAMPR4\\\", \\\"['CAMPR4']\\\"], [\\\"RNAME\\\", \\\"['RNAME']\\\"], [\\\"canSAR\\\", \\\"['canSAR']\\\"], [\\\"smProdrugs\\\", \\\"['smProdrugs']\\\"], [\\\"CellPalmSeq\\\", \\\"['CellPalmSeq']\\\"], [\\\"CIPDB\\\", \\\"['CIPDB', 'Interaction in Protein Data Bank']\\\"], [\\\"IMPPAT\\\", \\\"['IMPPAT']\\\"], [\\\"AlphaFold Transmembrane proteins\\\", \\\"['AlphaFold Transmembrane proteins', 'AFTM']\\\"], [\\\"EPEK\\\", \\\"['EPEK', 'Ectopic Pregnancy Expression Knowledgebase']\\\"], [\\\"yeast mitochondrial posttranslational modification\\\", \\\"['yeast mitochondrial posttranslational modification', 'y-mtPTM']\\\"], [\\\"ResFinderFG\\\", \\\"['ResFinderFG']\\\"], [\\\"CenhANCER\\\", \\\"['CenhANCER']\\\"], [\\\"ChagasDB\\\", \\\"['ChagasDB']\\\"], [\\\"CAMHRED\\\", \\\"['CAMHRED', 'Cameroon Health Research and Evidence Database']\\\"], [\\\"Canis MitoSNP\\\", \\\"['Canis MitoSNP']\\\"], [\\\"CBP60-DB\\\", \\\"['CBP60-DB']\\\"], [\\\"CCIDB\\\", \\\"['CCIDB', 'interaction database']\\\"], [\\\"VirhostlncR\\\", \\\"['VirhostlncR']\\\"], [\\\"devCCNP\\\", \\\"['devCCNP', 'developing Chinese Color Nest Project']\\\"], [\\\"CicerSpTEdb\\\", \\\"['CicerSpTEdb', 'Cicer Species Transposable']\\\"], [\\\"CCDB\\\", \\\"['CCDB', 'Chromosome Counts Database']\\\"], [\\\"DISPEL\\\", \\\"['DISPEL', 'Diseases Plants Eliminate']\\\"], [\\\"ColabFit\\\", \\\"['ColabFit']\\\"], [\\\"CHESS\\\", \\\"['CHESS']\\\"], [\\\"MetaboliteCOVID\\\", \\\"['MetaboliteCOVID']\\\"], [\\\"ViCEKb\\\", \\\"['ViCEKb', 'Vitiligo-linked Chemical Exposome Knowledgebase']\\\"], [\\\"DBCAT\\\", \\\"['DBCAT', 'database of CpG']\\\"], [\\\"DIADEM\\\", \\\"['DIADEM', 'DIgital reconstruction of Axonal and DEndritic Morphology']\\\"], [\\\"CPASS\\\", \\\"['CPASS', 'ite Structures']\\\"], [\\\"ICEberg\\\", \\\"['ICEberg']\\\"], [\\\"HIVsirDB\\\", \\\"['HIVsirDB']\\\"], [\\\"DistiLD\\\", \\\"['DistiLD']\\\"], [\\\"SCRIPDB\\\", \\\"['SCRIPDB']\\\"], [\\\"DBTSS\\\", \\\"['DBTSS', 'DataBase of Transcriptional Start Sites']\\\"], [\\\"DNAtraffic\\\", \\\"['DNAtraffic']\\\"], [\\\"CPGR\\\", \\\"['CPGR', 'Comprehensive Phytopathogen Genomics Resource']\\\"], [\\\"Stem Cell Discovery Engine\\\", \\\"['Stem Cell Discovery Engine', 'SCDE']\\\"], [\\\"RNA CoSSMos\\\", \\\"['RNA CoSSMos', 'RNA Characterization of Secondary Structure Motifs']\\\"], [\\\"DOMMINO\\\", \\\"['DOMMINO']\\\"], [\\\"vHoT\\\", \\\"['vHoT', 'viral microRNA host target']\\\"], [\\\"PupDB\\\", \\\"['PupDB']\\\"], [\\\"MSV3d\\\", \\\"['MSV3d', 'Database of human MisSense Variants']\\\"], [\\\"PolysacDB\\\", \\\"['PolysacDB']\\\"], [\\\"TumorHoPe\\\", \\\"['TumorHoPe']\\\"], [\\\"Florabank1\\\", \\\"['Florabank1']\\\"], [\\\"dbSNO\\\", \\\"['dbSNO']\\\"], [\\\"CyanoEXpress\\\", \\\"['CyanoEXpress']\\\"], [\\\"CYP-nsSNP\\\", \\\"['CYP-nsSNP']\\\"], [\\\"DARNED\\\", \\\"['DARNED', 'DAtabase of RNa']\\\"], [\\\"dictyBase\\\", \\\"['dictyBase']\\\"], [\\\"CyanoLyase\\\", \\\"['CyanoLyase']\\\"], [\\\"SecReT4\\\", \\\"['SecReT4']\\\"], [\\\"DGA\\\", \\\"['DGA', 'Disease and Gene Annotations database']\\\"], [\\\"NPACT\\\", \\\"['NPACT', 'Naturally Occurring Plant-based Anti-cancer Compound-Activity-Target database']\\\"], [\\\"D(2)P(2\\\", \\\"['D(2)P(2', 'Database of Disordered Protein Prediction']\\\"], [\\\"CellLineMiner\\\", \\\"['CellLineMiner']\\\"], [\\\"CancerDR\\\", \\\"['CancerDR', 'cancer drug resistance database']\\\"], [\\\"CreZoo\\\", \\\"['CreZoo']\\\"], [\\\"eFG\\\", \\\"['eFG', 'Electronic resource for Fusarium graminearum']\\\"], [\\\"KONAGAbase\\\", \\\"['KONAGAbase']\\\"], [\\\"LifeMap Discovery\\\", \\\"['LifeMap Discovery']\\\"], [\\\"BGDB\\\", \\\"['BGDB']\\\"], [\\\"DGIdb\\\", \\\"['DGIdb', 'Drug-Gene Interaction database']\\\"], [\\\"VASCAN\\\", \\\"['VASCAN', 'Database of Vascular Plants of Canada']\\\"], [\\\"DOOR\\\", \\\"['DOOR']\\\"], [\\\"DNASU\\\", \\\"['DNASU']\\\"], [\\\"AVPdb\\\", \\\"['AVPdb']\\\"], [\\\"PCMdb\\\", \\\"['PCMdb', 'Pancreatic Cancer Methylation Database']\\\"], [\\\"HerceptinR\\\", \\\"['HerceptinR', 'Herceptin']\\\"], [\\\"RegPhos\\\", \\\"['RegPhos']\\\"], [\\\"dbGSH\\\", \\\"['dbGSH']\\\"], [\\\"ParaPep\\\", \\\"['ParaPep']\\\"], [\\\"TIPdb\\\", \\\"['TIPdb']\\\"], [\\\"PlantCAZyme\\\", \\\"['PlantCAZyme']\\\"], [\\\"CS-DEGs\\\", \\\"['CS-DEGs']\\\"], [\\\"CancerPPD\\\", \\\"['CancerPPD']\\\"], [\\\"DBTMEE\\\", \\\"['DBTMEE']\\\"], [\\\"AHTPDB\\\", \\\"['AHTPDB']\\\"], [\\\"DoGSD\\\", \\\"['DoGSD']\\\"], [\\\"doRiNA\\\", \\\"['doRiNA']\\\"], [\\\"dbPPT\\\", \\\"['dbPPT', 'database of Phosphorylation site in']\\\"], [\\\"CYCLoPs\\\", \\\"['CYCLoPs', 'Collection of Yeast Cells Localization Patterns']\\\"], [\\\"PAGER\\\", \\\"['PAGER']\\\"], [\\\"dbEMT\\\", \\\"['dbEMT']\\\"], [\\\"FusionCancer\\\", \\\"['FusionCancer']\\\"], [\\\"dkNET\\\", \\\"['dkNET', 'NIDDK Information Network']\\\"], [\\\"DIDA\\\", \\\"['DIDA', 'DIgenic diseases DAtabase']\\\"], [\\\"SATPdb\\\", \\\"['SATPdb']\\\"], [\\\"Degradome\\\", \\\"['Degradome']\\\"], [\\\"cropPAL\\\", \\\"['cropPAL', 'crop Proteins with Annotated Locations']\\\"], [\\\"DBEndo\\\", \\\"['DBEndo']\\\"], [\\\"DBAASP\\\", \\\"['DBAASP', 'Database of Antimicrobial Activity and Structure of Peptides']\\\"], [\\\"PSORTdb\\\", \\\"['PSORTdb']\\\"], [\\\"Dfam\\\", \\\"['Dfam']\\\"], [\\\"siRNAmod\\\", \\\"['siRNAmod']\\\"], [\\\"CressInt\\\", \\\"['CressInt']\\\"], [\\\"ApoCanD\\\", \\\"['ApoCanD']\\\"], [\\\"Hemolytik\\\", \\\"['Hemolytik']\\\"], [\\\"ODCs\\\", \\\"['ODCs', 'Orphan Disease Connections']\\\"], [\\\"dbPAF\\\", \\\"['dbPAF']\\\"], [\\\"C-terminome\\\", \\\"['C-terminome']\\\"], [\\\"DeepBlue\\\", \\\"['DeepBlue']\\\"], [\\\"The Chinchilla Research Resource Database\\\", \\\"['The Chinchilla Research Resource Database', 'CRRD']\\\"], [\\\"Cyanobacteria culture collection\\\", \\\"['Cyanobacteria culture collection', 'Scratchpads']\\\"], [\\\"Cyclo-lib\\\", \\\"['Cyclo-lib']\\\"], [\\\"D-PLACE\\\", \\\"['D-PLACE']\\\"], [\\\"DDRprot\\\", \\\"['DDRprot']\\\"], [\\\"DBSecSys\\\", \\\"['DBSecSys', 'of Burkholderia malleiSecretion Systems']\\\"], [\\\"pVOGs\\\", \\\"['pVOGs', 'Prokaryotic Virus Orthologous Groups']\\\"], [\\\"PEPlife\\\", \\\"['PEPlife']\\\"], [\\\"denovo-db\\\", \\\"['denovo-db']\\\"], [\\\"CSDB_GT\\\", \\\"['CSDB_GT', 'Carbohydrate Structure Glycosyltransferase Database\\\\u00c3\\\\\\\\x83\\\\u00c2\\\\\\\\x83\\\\u00c3\\\\\\\\x82\\\\u00c2\\\\u00a2\\\\u00c3\\\\\\\\x83\\\\u00c2\\\\\\\\x82\\\\u00c3\\\\\\\\x82\\\\u00c2\\\\\\\\x88\\\\u00c3\\\\\\\\x83\\\\u00c2\\\\\\\\x82\\\\u00c3\\\\\\\\x82\\\\u00c2\\\\\\\\x9a\\\\u00c3\\\\\\\\x83\\\\u00c2\\\\\\\\x83\\\\u00c3\\\\\\\\x82\\\\u00c2\\\\\\\\x83\\\\u00c3\\\\\\\\x83\\\\u00c2\\\\\\\\x82\\\\u00c3\\\\\\\\x82\\\\u00c2\\\\\\\\x89\\\\u00c3\\\\\\\\x83\\\\u00c2\\\\\\\\x83\\\\u00c3\\\\\\\\x82\\\\u00c2\\\\\\\\x82\\\\u00c3\\\\\\\\x83\\\\u00c2\\\\\\\\x82\\\\u00c3\\\\\\\\x82\\\\u00c2\\\\u00ac\\\\u00c3\\\\\\\\x83\\\\u00c2\\\\\\\\x83\\\\u00c3\\\\\\\\x82\\\\u00c2\\\\\\\\x83\\\\u00c3\\\\\\\\x83\\\\u00c2\\\\\\\\x82\\\\u00c3\\\\\\\\x82\\\\u00c2\\\\\\\\x89\\\\u00c3\\\\\\\\x83\\\\u00c2\\\\\\\\x83\\\\u00c3\\\\\\\\x82\\\\u00c2\\\\u00a2\\\\u00c3\\\\\\\\x83\\\\u00c2\\\\\\\\x82\\\\u00c3\\\\\\\\x82\\\\u00c2\\\\\\\\x88\\\\u00c3\\\\\\\\x83\\\\u00c2\\\\\\\\x82\\\\u00c3\\\\\\\\x82\\\\u00c2\\\\\\\\x9a\\\\u00c3\\\\\\\\x83\\\\u00c2\\\\\\\\x83\\\\u00c3\\\\\\\\x82\\\\u00c2\\\\\\\\x83\\\\u00c3\\\\\\\\x83\\\\u00c2\\\\\\\\x82\\\\u00c3\\\\\\\\x82\\\\u00c2\\\\\\\\x87\\\\u00c3\\\\\\\\x83\\\\u00c2\\\\\\\\x83\\\\u00c3\\\\\\\\x82\\\\u00c2\\\\\\\\x82\\\\u00c3\\\\\\\\x83\\\\u00c2\\\\\\\\x82\\\\u00c3\\\\\\\\x82\\\\u00c2\\\\u00ac\\\\u00c3\\\\\\\\x83\\\\u00c2\\\\\\\\x83\\\\u00c3\\\\\\\\x82\\\\u00c2\\\\\\\\x83\\\\u00c3\\\\\\\\x83\\\\u00c2\\\\\\\\x82\\\\u00c3\\\\\\\\x82\\\\u00c2\\\\\\\\x89\\\\u00c3\\\\\\\\x83\\\\u00c2\\\\\\\\x83\\\\u00c3\\\\\\\\x82\\\\u00c2\\\\u00a2\\\\u00c3\\\\\\\\x83\\\\u00c2\\\\\\\\x82\\\\u00c3\\\\\\\\x82\\\\u00c2\\\\\\\\x88\\\\u00c3\\\\\\\\x83\\\\u00c2\\\\\\\\x82\\\\u00c3\\\\\\\\x82\\\\u00c2\\\\\\\\x9a\\\\u00c3\\\\\\\\x83\\\\u00c2\\\\\\\\x83\\\\u00c3\\\\\\\\x82\\\\u00c2\\\\\\\\x83\\\\u00c3\\\\\\\\x83\\\\u00c2\\\\\\\\x82\\\\u00c3\\\\\\\\x82\\\\u00c2\\\\\\\\x89\\\\u00c3\\\\\\\\x83\\\\u00c2\\\\\\\\x83\\\\u00c3\\\\\\\\x82\\\\u00c2\\\\\\\\x82\\\\u00c3\\\\\\\\x83\\\\u00c2\\\\\\\\x82\\\\u00c3\\\\\\\\x82\\\\u00c2\\\\u00ac\\\\u00c3\\\\\\\\x83\\\\u00c2\\\\\\\\x83']\\\"], [\\\"SkinSensDB\\\", \\\"['SkinSensDB']\\\"], [\\\"HAPPI\\\", \\\"['HAPPI', 'Human Annotated and Predicted Protein Interactions']\\\"], [\\\"APMicroDB\\\", \\\"['APMicroDB', 'microsatellite repeat database of the pea aphid']\\\"], [\\\"CancerPDF\\\", \\\"['CancerPDF', 'Cancer Peptidome Database of bioFluids']\\\"], [\\\"CottonFGD\\\", \\\"['CottonFGD', 'Cotton Functional Genomic Database']\\\"], [\\\"THPdb\\\", \\\"['THPdb']\\\"], [\\\"Stress2TF\\\", \\\"['Stress2TF']\\\"], [\\\"dbCoRC\\\", \\\"['dbCoRC']\\\"], [\\\"DISNOR\\\", \\\"['DISNOR']\\\"], [\\\"FlavorDB\\\", \\\"['FlavorDB']\\\"], [\\\"dbMDEGA\\\", \\\"['dbMDEGA']\\\"], [\\\"DIBS\\\", \\\"['DIBS', 'Database of Disordered Binding Sites']\\\"], [\\\"TopicalPdb\\\", \\\"['TopicalPdb']\\\"], [\\\"CarbonylDB\\\", \\\"['CarbonylDB']\\\"], [\\\"dbATM\\\", \\\"['dbATM', 'animal transcriptome map']\\\"], [\\\"dbCAN-seq\\\", \\\"['dbCAN-seq']\\\"], [\\\"CCGD-ESCC\\\", \\\"['CCGD-ESCC', 'Chinese Cancer Genomic Database-Esophageal Squamous Cell Carcinoma']\\\"], [\\\"CuGenDB\\\", \\\"['CuGenDB', 'Cucurbit Genomics Database']\\\"], [\\\"piRTarBase\\\", \\\"['piRTarBase']\\\"], [\\\"dbMPIKT\\\", \\\"['dbMPIKT']\\\"], [\\\"CRlncRNA\\\", \\\"['CRlncRNA']\\\"], [\\\"UVEOGENE\\\", \\\"['UVEOGENE']\\\"], [\\\"dbHDPLS\\\", \\\"['dbHDPLS', 'human disease-related protein-ligand structures']\\\"], [\\\"MDB\\\", \\\"['MDB']\\\"], [\\\"TADKB\\\", \\\"['TADKB']\\\"], [\\\"DEE2\\\", \\\"['DEE2', 'Expression Explorer']\\\"], [\\\"DNAmod\\\", \\\"['DNAmod']\\\"], [\\\"TB DEPOT\\\", \\\"['TB DEPOT']\\\"], [\\\"Pan Immune Repertoire Database\\\", \\\"['Pan Immune Repertoire Database', 'PIRD']\\\"], [\\\"CryptoDB\\\", \\\"['CryptoDB']\\\"], [\\\"TMB\\\", \\\"['TMB']\\\"], [\\\"PhaSepDB\\\", \\\"['PhaSepDB']\\\"], [\\\"DNAproDB\\\", \\\"['DNAproDB']\\\"], [\\\"CRISPRCasdb\\\", \\\"['CRISPRCasdb']\\\"], [\\\"ODIAC\\\", \\\"['ODIAC', 'Open-source Data Inventory for Anthropogenic CO2']\\\"], [\\\"dbMTS\\\", \\\"['dbMTS']\\\"], [\\\"TE141K1\\\", \\\"['TE141K1', 'Text Benchmark for']\\\"], [\\\"dbPSP\\\", \\\"['dbPSP', 'prokaryotes']\\\"], [\\\"DDIEM\\\", \\\"['DDIEM', 'Drug Database for Inborn Errors of Metabolism']\\\"], [\\\"CNSA\\\", \\\"['CNSA', 'CNGB']\\\"], [\\\"CoV3D\\\", \\\"['CoV3D']\\\"], [\\\"CrustyBase\\\", \\\"['CrustyBase']\\\"], [\\\"CNGBdb\\\", \\\"['CNGBdb', 'China National GeneBank DataBase']\\\"], [\\\"CSVS\\\", \\\"['CSVS', 'Collaborative Spanish Variability Server']\\\"], [\\\"CoVdb\\\", \\\"['CoVdb', 'coronavirus database']\\\"], [\\\"CRISP-view\\\", \\\"['CRISP-view']\\\"], [\\\"DockCoV2\\\", \\\"['DockCoV2']\\\"], [\\\"DKK\\\", \\\"['DKK', 'Dark Kinase Knowledgebase']\\\"], [\\\"Peryton\\\", \\\"['Peryton']\\\"], [\\\"MeDAS\\\", \\\"['MeDAS', 'Metazoan Developmental Alternative Splicing database']\\\"], [\\\"CellMiner-SCLC\\\", \\\"['CellMiner-SCLC']\\\"], [\\\"LncRBase\\\", \\\"['LncRBase']\\\"], [\\\"Datanator\\\", \\\"['Datanator']\\\"], [\\\"SAVI\\\", \\\"['SAVI', 'Synthetically Accessible Virtual Inventory']\\\"], [\\\"Color Data\\\", \\\"['Color Data']\\\"], [\\\"RecipeDB\\\", \\\"['RecipeDB']\\\"], [\\\"PAGER-CoV\\\", \\\"['PAGER-CoV']\\\"], [\\\"dbNSFP\\\", \\\"['dbNSFP']\\\"], [\\\"DBCOVP\\\", \\\"['DBCOVP']\\\"], [\\\"CRMarker\\\", \\\"['CRMarker']\\\"], [\\\"DevOmics\\\", \\\"['DevOmics']\\\"], [\\\"FAANG\\\", \\\"['FAANG', 'Functional Annotation of Animal Genomes']\\\"], [\\\"Yeast Phosphoinositide-Binding Proteins\\\", \\\"['Yeast Phosphoinositide-Binding Proteins', 'YPIBP']\\\"], [\\\"T1TAdb\\\", \\\"['T1TAdb']\\\"], [\\\"CTR-DB\\\", \\\"['CTR-DB', 'Cancer Treatment Response gene signature DataBase']\\\"], [\\\"VThunter\\\", \\\"['VThunter']\\\"], [\\\"dNTPpoolDB\\\", \\\"['dNTPpoolDB']\\\"], [\\\"CyFi-MAP\\\", \\\"['CyFi-MAP']\\\"], [\\\"database of cancer mutant protein domains\\\", \\\"['database of cancer mutant protein domains']\\\"], [\\\"DisProt\\\", \\\"['DisProt', 'Database of Intrinsically Disordered Proteins']\\\"], [\\\"CoxBase\\\", \\\"['CoxBase']\\\"], [\\\"piRNAQuest\\\", \\\"['piRNAQuest']\\\"], [\\\"LCMD\\\", \\\"['LCMD', 'Lung Cancer Metabolome Database']\\\"], [\\\"EurOPDX\\\", \\\"['EurOPDX']\\\"], [\\\"ThermoML\\\", \\\"['ThermoML']\\\"], [\\\"DISEASES\\\", \\\"['DISEASES']\\\"], [\\\"CSDB\\\", \\\"['CSDB', 'Carbohydrate Structure Database']\\\"], [\\\"P-FLUX\\\", \\\"['P-FLUX']\\\"], [\\\"DarkCideS\\\", \\\"['DarkCideS']\\\"], [\\\"4DN\\\", \\\"['4DN', '4D Nucleome Data Portal']\\\"], [\\\"SynBioStrainFinder\\\", \\\"['SynBioStrainFinder']\\\"], [\\\"DisPhaseDB\\\", \\\"['DisPhaseDB']\\\"], [\\\"VIBFREQ1295\\\", \\\"['VIBFREQ1295']\\\"], [\\\"dbBIP\\\", \\\"['dbBIP']\\\"], [\\\"DANIO-CODE\\\", \\\"['DANIO-CODE']\\\"], [\\\"CMDB\\\", \\\"['CMDB', 'Chinese Millionome Database']\\\"], [\\\"CRISPR-Surfaceome\\\", \\\"['CRISPR-Surfaceome']\\\"], [\\\"CPMCP\\\", \\\"['CPMCP']\\\"], [\\\"Taiwan Controlled Substances Database\\\", \\\"['Taiwan Controlled Substances Database', 'TCSD']\\\"], [\\\"COTTONOMICS\\\", \\\"['COTTONOMICS']\\\"], [\\\"DGPD\\\", \\\"['DGPD', 'Dense Granule Protein Database']\\\"], [\\\"CTD\\\", \\\"['CTD', 'Comparative Toxicogenomics Database']\\\"], [\\\"CREAMMIST\\\", \\\"['CREAMMIST']\\\"], [\\\"CTRR-ncRNA\\\", \\\"['CTRR-ncRNA']\\\"], [\\\"CuGenDBv2\\\", \\\"['CuGenDBv2', 'Cucurbit Genomics Database']\\\"], [\\\"CysModDB\\\", \\\"['CysModDB']\\\"], [\\\"Lineage Landscape\\\", \\\"['Lineage Landscape']\\\"], [\\\"CRdb\\\", \\\"['CRdb']\\\"], [\\\"COXPRESdb\\\", \\\"['COXPRESdb']\\\"], [\\\"COMBATdb\\\", \\\"['COMBATdb', 'Multi-omics Blood ATlas']\\\"], [\\\"Cucume\\\", \\\"['Cucume', 'Cucurbit RNA methylation']\\\"], [\\\"COVIC-DB\\\", \\\"['COVIC-DB', 'Coronavirus Immunotherapeutic Consortium Database']\\\"], [\\\"TopEnzyme\\\", \\\"['TopEnzyme']\\\"], [\\\"SPACNACS\\\", \\\"['SPACNACS', 'SPAnish Copy Number Alterations Collaborative Server']\\\"], [\\\"CycPeptMPDB\\\", \\\"['CycPeptMPDB']\\\"], [\\\"DeepData\\\", \\\"['DeepData']\\\"], [\\\"MBS\\\", \\\"['MBS']\\\"], [\\\"CRAC\\\", \\\"['CRAC', 'Clinical Relevance of Alterations in Cancer']\\\"], [\\\"Hmrbase2\\\", \\\"['Hmrbase2']\\\"], [\\\"CCIBP\\\", \\\"['CCIBP', 'ingredients bioinformatics platform']\\\"], [\\\"Medical Informatics Operating Room Vitals and Events Repository\\\", \\\"['Medical Informatics Operating Room Vitals and Events Repository', 'MOVER']\\\"], [\\\"ADEPT\\\", \\\"['ADEPT']\\\"], [\\\"PlantIntronDB\\\", \\\"['PlantIntronDB']\\\"], [\\\"BIND\\\", \\\"['BIND', 'Biomolecular Interaction Network Database']\\\"], [\\\"The European Radiobiological Archives\\\", \\\"['The European Radiobiological Archives']\\\"], [\\\"eGOB\\\", \\\"['eGOB', 'eukaryotic Gene Order Browser']\\\"], [\\\"dbHCCvar\\\", \\\"['dbHCCvar']\\\"], [\\\"FungiDB\\\", \\\"['FungiDB']\\\"], [\\\"Cube-DB\\\", \\\"['Cube-DB']\\\"], [\\\"Gene3D\\\", \\\"['Gene3D']\\\"], [\\\"MethylomeDB\\\", \\\"['MethylomeDB']\\\"], [\\\"EzTaxon-e\\\", \\\"['EzTaxon-e']\\\"], [\\\"PHENOMIM\\\", \\\"['PHENOMIM']\\\"], [\\\"Genome Composition Database\\\", \\\"['Genome Composition Database', 'GCD']\\\"], [\\\"EcoCyc\\\", \\\"['EcoCyc']\\\"], [\\\"EuPathDB\\\", \\\"['EuPathDB', 'Eukaryotic Pathogen Genomics Database Resource']\\\"], [\\\"KIDFamMap\\\", \\\"['KIDFamMap']\\\"], [\\\"LUCApedia\\\", \\\"['LUCApedia']\\\"], [\\\"EcoGene\\\", \\\"['EcoGene']\\\"], [\\\"FlyAtlas\\\", \\\"['FlyAtlas']\\\"], [\\\"EENdb\\\", \\\"['EENdb', 'engineered endonuclease database']\\\"], [\\\"factorbook\\\", \\\"['factorbook']\\\"], [\\\"Helminth Secretome Database\\\", \\\"['Helminth Secretome Database', 'HSD']\\\"], [\\\"EDR\\\", \\\"['EDR', 'Endometrium Database Resource']\\\"], [\\\"FRIDa\\\", \\\"['FRIDa', 'FoodCast Research Image Database']\\\"], [\\\"GeneSetDB\\\", \\\"['GeneSetDB']\\\"], [\\\"ExtremeDB\\\", \\\"['ExtremeDB']\\\"], [\\\"Autism Brain Imaging Data Exchange\\\", \\\"['Autism Brain Imaging Data Exchange', 'ABIDE']\\\"], [\\\"lncRNome\\\", \\\"['lncRNome']\\\"], [\\\"GAG\\\", \\\"['GAG']\\\"], [\\\"MelanomaDB\\\", \\\"['MelanomaDB']\\\"], [\\\"BmTEdb\\\", \\\"['BmTEdb']\\\"], [\\\"EVpedia\\\", \\\"['EVpedia']\\\"], [\\\"FunGene\\\", \\\"['FunGene']\\\"], [\\\"EMBRYS\\\", \\\"['EMBRYS']\\\"], [\\\"GEISHA\\\", \\\"['GEISHA', 'Gallus Expression In Situ Hybridization Analysis']\\\"], [\\\"MASCP Gator\\\", \\\"['MASCP Gator']\\\"], [\\\"EPITRANS\\\", \\\"['EPITRANS']\\\"], [\\\"EKPD\\\", \\\"['EKPD']\\\"], [\\\"footprintDB\\\", \\\"['footprintDB']\\\"], [\\\"FlyBase\\\", \\\"['FlyBase']\\\"], [\\\"FireDB\\\", \\\"['FireDB']\\\"], [\\\"EDdb\\\", \\\"['EDdb', 'Eating Disorder database']\\\"], [\\\"Global catalogue of microorganisms\\\", \\\"['Global catalogue of microorganisms', 'GCM']\\\"], [\\\"tbvar\\\", \\\"['tbvar']\\\"], [\\\"Exchangeable Gene Trap Clones\\\", \\\"['Exchangeable Gene Trap Clones', 'EGTC']\\\"], [\\\"Zebrafish GenomeWiki\\\", \\\"['Zebrafish GenomeWiki']\\\"], [\\\"EPSLiM\\\", \\\"['EPSLiM']\\\"], [\\\"PhylOPDb\\\", \\\"['PhylOPDb']\\\"], [\\\"GenderMedDB\\\", \\\"['GenderMedDB']\\\"], [\\\"ChiloDB\\\", \\\"['ChiloDB']\\\"], [\\\"GBM-BioDP\\\", \\\"['GBM-BioDP', 'Glioblastoma Bio Discovery Portal']\\\"], [\\\"EctoGEM\\\", \\\"['EctoGEM', 'scale metabolic network of Ectocarpus']\\\"], [\\\"FusoBase\\\", \\\"['FusoBase']\\\"], [\\\"LabeledIn\\\", \\\"['LabeledIn']\\\"], [\\\"DruGeVar\\\", \\\"['DruGeVar']\\\"], [\\\"DaVIE\\\", \\\"['DaVIE']\\\"], [\\\"EzCatDB\\\", \\\"['EzCatDB', 'the enzyme reaction database']\\\"], [\\\"euL1db\\\", \\\"['euL1db']\\\"], [\\\"Europe PMC\\\", \\\"['Europe PMC']\\\"], [\\\"iPathCons\\\", \\\"['iPathCons']\\\"], [\\\"PyIgClassify\\\", \\\"['PyIgClassify']\\\"], [\\\"tRFdb\\\", \\\"['tRFdb']\\\"], [\\\"GenoBase\\\", \\\"['GenoBase']\\\"], [\\\"DB-AT\\\", \\\"['DB-AT', 'of Apicomplexa']\\\"], [\\\"EDCs DataBank\\\", \\\"['EDCs DataBank']\\\"], [\\\"HGV&amp;TB\\\", \\\"['HGV&amp;TB']\\\"], [\\\"funRNA\\\", \\\"['funRNA']\\\"], [\\\"MetaMirClust\\\", \\\"['MetaMirClust']\\\"], [\\\"GBIS\\\", \\\"['GBIS']\\\"], [\\\"PTM-SNP\\\", \\\"['PTM-SNP']\\\"], [\\\"NEU-GD\\\", \\\"['NEU-GD', 'Near East University Genetic Mutation Database']\\\"], [\\\"FLAD\\\", \\\"['FLAD', 'Forensic Loci Allele Database']\\\"], [\\\"GEneSTATION\\\", \\\"['GEneSTATION']\\\"], [\\\"enviPath\\\", \\\"['enviPath', 'The Environmental Contaminant Biotransformation Pathway Resource']\\\"], [\\\"EffectiveDB\\\", \\\"['EffectiveDB']\\\"], [\\\"ECGene\\\", \\\"['ECGene', 'Endometrial Cancer Gene database']\\\"], [\\\"FiloBase\\\", \\\"['FiloBase']\\\"], [\\\"gametogenesis epigenetic modification database\\\", \\\"['gametogenesis epigenetic modification database', 'GED']\\\"], [\\\"DemaDb\\\", \\\"['DemaDb']\\\"], [\\\"GAMDB\\\", \\\"['GAMDB', 'Gerontology-Autophagic-MicroRNA Database']\\\"], [\\\"GAT\\\", \\\"['GAT', 'gene-set activity toolbox']\\\"], [\\\"GCGene\\\", \\\"['GCGene', 'Gastric Cancer Gene database']\\\"], [\\\"DPTEdb\\\", \\\"['DPTEdb', 'dioecious plant transposable element database']\\\"], [\\\"sHSPdb\\\", \\\"['sHSPdb', 'Heat Shock Proteins database']\\\"], [\\\"SSTAR\\\", \\\"['SSTAR', 'Functional Annotation of the Mammalian Genome project']\\\"], [\\\"TSCD\\\", \\\"['TSCD', 'Tissue-Specific CircRNA Database']\\\"], [\\\"BmncRNAdb\\\", \\\"['BmncRNAdb']\\\"], [\\\"Flora-On\\\", \\\"['Flora-On']\\\"], [\\\"FANTOM5\\\", \\\"['FANTOM5', 'Functional ANnoTation Of the Mammalian genome']\\\"], [\\\"IHEC\\\", \\\"['IHEC']\\\"], [\\\"FAIRDOMHub\\\", \\\"['FAIRDOMHub']\\\"], [\\\"FlyRNAi\\\", \\\"['FlyRNAi', 'Drosophila RNAi screening']\\\"], [\\\"iMITEdb\\\", \\\"['iMITEdb']\\\"], [\\\"database of Genomic Elements Associated with drug Resistance\\\", \\\"['database of Genomic Elements Associated with drug Resistance', 'GEAR']\\\"], [\\\"GDISC\\\", \\\"['GDISC']\\\"], [\\\"McPAS-TCR\\\", \\\"['McPAS-TCR']\\\"], [\\\"RED\\\", \\\"['RED', 'Rice Expression Database']\\\"], [\\\"CSCD\\\", \\\"['CSCD', 'pecific circRNA database']\\\"], [\\\"Infevers\\\", \\\"['Infevers']\\\"], [\\\"MIST\\\", \\\"['MIST', 'Molecular Interaction Search Tool']\\\"], [\\\"FunCoup\\\", \\\"['FunCoup']\\\"], [\\\"FROG-kb\\\", \\\"['FROG-kb', 'Forensic Resource/Reference on Genetics-knowledge base']\\\"], [\\\"DRDB\\\", \\\"['DRDB', 'Date Palm Genomic Resource Database']\\\"], [\\\"funRiceGenes\\\", \\\"['funRiceGenes']\\\"], [\\\"ModERN\\\", \\\"['ModERN', 'Model Organism ENCyclopedia']\\\"], [\\\"GENIPAC\\\", \\\"['GENIPAC']\\\"], [\\\"GeneLab\\\", \\\"['GeneLab']\\\"], [\\\"EnviroAtlas\\\", \\\"['EnviroAtlas']\\\"], [\\\"FusoPortal\\\", \\\"['FusoPortal']\\\"], [\\\"EMDB\\\", \\\"['EMDB', 'Electron Microscopy Data Bank']\\\"], [\\\"SequencEnG\\\", \\\"['SequencEnG', 'Sequencing Techniques Engine for Genomics']\\\"], [\\\"AgriSeqDB\\\", \\\"['AgriSeqDB']\\\"], [\\\"GAAD\\\", \\\"['GAAD', 'Gene and Autoimmiune Disease Association Database']\\\"], [\\\"GeneATLAS\\\", \\\"['GeneATLAS']\\\"], [\\\"EncoMPASS\\\", \\\"['EncoMPASS']\\\"], [\\\"gcMeta\\\", \\\"['gcMeta', 'Global Catalogue of Metagenomics']\\\"], [\\\"DSMNC\\\", \\\"['DSMNC']\\\"], [\\\"SiMPLOD\\\", \\\"['SiMPLOD', 'Structurally-integrated database for Mutations of PLOD genes']\\\"], [\\\"GenCoNet\\\", \\\"['GenCoNet']\\\"], [\\\"exRNA Atlas\\\", \\\"['exRNA Atlas']\\\"], [\\\"DrugComb\\\", \\\"['DrugComb']\\\"], [\\\"Chickspress\\\", \\\"['Chickspress']\\\"], [\\\"ESID\\\", \\\"['ESID']\\\"], [\\\"eyeIntegration\\\", \\\"['eyeIntegration']\\\"], [\\\"EuRBPDB\\\", \\\"['EuRBPDB']\\\"], [\\\"dbInDel\\\", \\\"['dbInDel']\\\"], [\\\"DrugCombDB\\\", \\\"['DrugCombDB']\\\"], [\\\"FoldamerDB\\\", \\\"['FoldamerDB']\\\"], [\\\"EPSD\\\", \\\"['EPSD', 'eukaryotic phosphorylation site database']\\\"], [\\\"PDIR\\\", \\\"['PDIR', 'Predicted Drosophila Interactome Resource']\\\"], [\\\"EpiRegio\\\", \\\"['EpiRegio']\\\"], [\\\"ExoBCD\\\", \\\"['ExoBCD']\\\"], [\\\"CoVex\\\", \\\"['CoVex']\\\"], [\\\"EnteroBase\\\", \\\"['EnteroBase']\\\"], [\\\"Analysis of Breast Cancer GWAS\\\", \\\"['Analysis of Breast Cancer GWAS', 'ABC-GWAS']\\\"], [\\\"ExED\\\", \\\"['ExED', 'Expansin Engineering Database']\\\"], [\\\"EXPath\\\", \\\"['EXPath']\\\"], [\\\"DIGGER\\\", \\\"['DIGGER']\\\"], [\\\"SC2disease\\\", \\\"['SC2disease']\\\"], [\\\"Open Targets Genetics\\\", \\\"['Open Targets Genetics']\\\"], [\\\"DrugSpaceX\\\", \\\"['DrugSpaceX']\\\"], [\\\"gcType\\\", \\\"['gcType', 'Global Catalogue of Type Strain']\\\"], [\\\"FishDB\\\", \\\"['FishDB']\\\"], [\\\"GOC\\\", \\\"['GOC', 'Gene Ontology consortium', 'GO', 'Gene Ontology']\\\"], [\\\"FMODB\\\", \\\"['FMODB', 'FMO Database']\\\"], [\\\"PMI-DB\\\", \\\"['PMI-DB']\\\"], [\\\"Gemma\\\", \\\"['Gemma']\\\"], [\\\"GPCards\\\", \\\"['GPCards']\\\"], [\\\"FGDB\\\", \\\"['FGDB', 'FSH Glycans DataBase']\\\"], [\\\"Gene4PD\\\", \\\"['Gene4PD']\\\"], [\\\"ExVe\\\", \\\"['ExVe']\\\"], [\\\"Echinobase\\\", \\\"['Echinobase']\\\"], [\\\"Ebolabase\\\", \\\"['Ebolabase']\\\"], [\\\"EyeDiseases\\\", \\\"['EyeDiseases']\\\"], [\\\"PSDX\\\", \\\"['PSDX', 'trichocarpa Stem Differentiating']\\\"], [\\\"GEMI\\\", \\\"['GEMI', 'Global Earth Mineral Inventory']\\\"], [\\\"DSLD\\\", \\\"['DSLD', 'Dietary Supplement Label Database']\\\"], [\\\"DRAMP\\\", \\\"['DRAMP', 'Data Repository of Antimicrobial Peptides']\\\"], [\\\"DoWLS-MAN\\\", \\\"['DoWLS-MAN', 'Database of Word-Level Statistics for Mandarin Chinese']\\\"], [\\\"Fuzzle\\\", \\\"['Fuzzle']\\\"], [\\\"CSCD2\\\", \\\"['CSCD2', 'cancer-specific circRNA database']\\\"], [\\\"FEDA\\\", \\\"['FEDA', 'Food Enzyme Database']\\\"], [\\\"Kincore\\\", \\\"['Kincore']\\\"], [\\\"ELM\\\", \\\"['ELM', 'eukaryotic linear motif']\\\"], [\\\"scEnhancer\\\", \\\"['scEnhancer']\\\"], [\\\"EGA\\\", \\\"['EGA', 'European Genome-phenome Archive']\\\"], [\\\"TP-DB\\\", \\\"['TP-DB', 'Therapeutic Peptide Design database']\\\"], [\\\"NucPosDB\\\", \\\"['NucPosDB']\\\"], [\\\"EARDB\\\", \\\"['EARDB', 'Estrogen and Androgen Receptor Database']\\\"], [\\\"DrugCVar\\\", \\\"['DrugCVar']\\\"], [\\\"DSDatlas\\\", \\\"['DSDatlas', 'disorders of']\\\"], [\\\"DrugVirus.info\\\", \\\"['DrugVirus.info']\\\"], [\\\"GeCoViz\\\", \\\"['GeCoViz']\\\"], [\\\"FUNAGE-Pro\\\", \\\"['FUNAGE-Pro']\\\"], [\\\"FEAMR\\\", \\\"['FEAMR']\\\"], [\\\"GAIA\\\", \\\"['GAIA']\\\"], [\\\"DupScan\\\", \\\"['DupScan']\\\"], [\\\"RLBase\\\", \\\"['RLBase']\\\"], [\\\"EfGD\\\", \\\"['EfGD', 'Erianthus fulvus']\\\"], [\\\"EURISCO\\\", \\\"['EURISCO', 'European Search Catalogue for Plant Genetic Resources\\\\u00c3\\\\\\\\x83\\\\u00c2\\\\\\\\x83\\\\u00c3\\\\\\\\x82\\\\u00c2\\\\u00a2\\\\u00c3\\\\\\\\x83\\\\u00c2\\\\\\\\x82\\\\u00c3\\\\\\\\x82\\\\u00c2\\\\\\\\x88\\\\u00c3\\\\\\\\x83\\\\u00c2\\\\\\\\x82\\\\u00c3\\\\\\\\x82\\\\u00c2\\\\\\\\x9a\\\\u00c3\\\\\\\\x83\\\\u00c2\\\\\\\\x83\\\\u00c3\\\\\\\\x82\\\\u00c2\\\\\\\\x83\\\\u00c3\\\\\\\\x83\\\\u00c2\\\\\\\\x82\\\\u00c3\\\\\\\\x82\\\\u00c2\\\\\\\\x89\\\\u00c3\\\\\\\\x83\\\\u00c2\\\\\\\\x83\\\\u00c3\\\\\\\\x82\\\\u00c2\\\\\\\\x82\\\\u00c3\\\\\\\\x83\\\\u00c2\\\\\\\\x82\\\\u00c3\\\\\\\\x82\\\\u00c2\\\\u00ac\\\\u00c3\\\\\\\\x83\\\\u00c2\\\\\\\\x83\\\\u00c3\\\\\\\\x82\\\\u00c2\\\\\\\\x83\\\\u00c3\\\\\\\\x83\\\\u00c2\\\\\\\\x82\\\\u00c3\\\\\\\\x82\\\\u00c2\\\\\\\\x89\\\\u00c3\\\\\\\\x83\\\\u00c2\\\\\\\\x83\\\\u00c3\\\\\\\\x82\\\\u00c2\\\\u00a2\\\\u00c3\\\\\\\\x83\\\\u00c2\\\\\\\\x82\\\\u00c3\\\\\\\\x82\\\\u00c2\\\\\\\\x88\\\\u00c3\\\\\\\\x83\\\\u00c2\\\\\\\\x82\\\\u00c3\\\\\\\\x82\\\\u00c2\\\\\\\\x9a\\\\u00c3\\\\\\\\x83\\\\u00c2\\\\\\\\x83\\\\u00c3\\\\\\\\x82\\\\u00c2\\\\\\\\x83\\\\u00c3\\\\\\\\x83\\\\u00c2\\\\\\\\x82\\\\u00c3\\\\\\\\x82\\\\u00c2\\\\\\\\x87\\\\u00c3\\\\\\\\x83\\\\u00c2\\\\\\\\x83\\\\u00c3\\\\\\\\x82\\\\u00c2\\\\\\\\x82\\\\u00c3\\\\\\\\x83\\\\u00c2\\\\\\\\x82\\\\u00c3\\\\\\\\x82\\\\u00c2\\\\u00ac\\\\u00c3\\\\\\\\x83\\\\u00c2\\\\\\\\x83\\\\u00c3\\\\\\\\x82\\\\u00c2\\\\\\\\x83\\\\u00c3\\\\\\\\x83\\\\u00c2\\\\\\\\x82\\\\u00c3\\\\\\\\x82\\\\u00c2\\\\\\\\x89\\\\u00c3\\\\\\\\x83\\\\u00c2\\\\\\\\x83\\\\u00c3\\\\\\\\x82\\\\u00c2\\\\u00a2\\\\u00c3\\\\\\\\x83\\\\u00c2\\\\\\\\x82\\\\u00c3\\\\\\\\x82\\\\u00c2\\\\\\\\x88\\\\u00c3\\\\\\\\x83\\\\u00c2\\\\\\\\x82\\\\u00c3\\\\\\\\x82\\\\u00c2\\\\\\\\x9a\\\\u00c3\\\\\\\\x83\\\\u00c2\\\\\\\\x83\\\\u00c3\\\\\\\\x82\\\\u00c2\\\\\\\\x83\\\\u00c3\\\\\\\\x83\\\\u00c2\\\\\\\\x82\\\\u00c3\\\\\\\\x82\\\\u00c2\\\\\\\\x89\\\\u00c3\\\\\\\\x83\\\\u00c2\\\\\\\\x83\\\\u00c3\\\\\\\\x82\\\\u00c2\\\\\\\\x82\\\\u00c3\\\\\\\\x83\\\\u00c2\\\\\\\\x82\\\\u00c3\\\\\\\\x82\\\\u00c2\\\\u00ac\\\\u00c3\\\\\\\\x83']\\\"], [\\\"HProteome-BSite\\\", \\\"['HProteome-BSite']\\\"], [\\\"NACDDB\\\", \\\"['NACDDB', 'Nucleic Acid Circular Dichroism Database']\\\"], [\\\"ProtCAD\\\", \\\"['ProtCAD', 'Common Assembly Database']\\\"], [\\\"EDomics\\\", \\\"['EDomics']\\\"], [\\\"BS-80K\\\", \\\"['BS-80K']\\\"], [\\\"EpiFactors\\\", \\\"['EpiFactors']\\\"], [\\\"FAVOR\\\", \\\"['FAVOR', 'Functional Annotation of Variants Online Resources']\\\"], [\\\"Exposome-Explorer\\\", \\\"['Exposome-Explorer']\\\"], [\\\"SODB\\\", \\\"['SODB', 'Spatial Omics DataBase']\\\"], [\\\"EstroGene\\\", \\\"['EstroGene']\\\"], [\\\"GERDH\\\", \\\"['GERDH']\\\"], [\\\"GeniePool\\\", \\\"['GeniePool']\\\"], [\\\"DruMAP\\\", \\\"['DruMAP']\\\"], [\\\"DoSurvive\\\", \\\"['DoSurvive']\\\"], [\\\"K-Pro\\\", \\\"['K-Pro']\\\"], [\\\"MicroTom\\\", \\\"['MicroTom']\\\"], [\\\"DrugCentral\\\", \\\"['DrugCentral']\\\"], [\\\"NDW\\\", \\\"['NDW']\\\"], [\\\"ESOMIR\\\", \\\"['ESOMIR', 'miRNA in esophageal cancer']\\\"], [\\\"PEO\\\", \\\"['PEO', 'Plant Expression Omnibus']\\\"], [\\\"EyeProdb\\\", \\\"['EyeProdb', 'ocular protein structure database']\\\"], [\\\"GPDE\\\", \\\"['GPDE', 'Griss Proteomics Database Engine']\\\"], [\\\"GRIPDB\\\", \\\"['GRIPDB', 'coupled Receptor Interaction Partners DataBase']\\\"], [\\\"HOCTARdb\\\", \\\"['HOCTARdb']\\\"], [\\\"GiSAO.db\\\", \\\"['GiSAO.db']\\\"], [\\\"GenTAC\\\", \\\"['GenTAC', 'National Registry of Genetically Triggered Thoracic Aortic Aneurysms and Cardiovascular Conditions']\\\"], [\\\"GyDB\\\", \\\"['GyDB', 'Gypsy Database concerning Mobile Genetic']\\\"], [\\\"HNOCDB\\\", \\\"['HNOCDB']\\\"], [\\\"hemorrhagic fever virus database\\\", \\\"['hemorrhagic fever virus database', 'HFV']\\\"], [\\\"PSCDB\\\", \\\"['PSCDB', 'Protein Structural Change DataBase']\\\"], [\\\"SalmonDB\\\", \\\"['SalmonDB']\\\"], [\\\"hiPathDB\\\", \\\"['hiPathDB']\\\"], [\\\"IGDB.NSCLC\\\", \\\"['IGDB.NSCLC']\\\"], [\\\"Arabidopsis Network Analysis Pipeline\\\", \\\"['Arabidopsis Network Analysis Pipeline', 'ANAP']\\\"], [\\\"LAHEDES\\\", \\\"['LAHEDES', 'LAGLIDADG']\\\"], [\\\"HAltORF\\\", \\\"['HAltORF', 'Human alternative open reading frames']\\\"], [\\\"HuPho\\\", \\\"['HuPho', 'human phosphatase portal']\\\"], [\\\"Comparative Cellular and Molecular Biology of Longevity Database\\\", \\\"['Comparative Cellular and Molecular Biology of Longevity Database']\\\"], [\\\"HINT\\\", \\\"['HINT']\\\"], [\\\"GlycoCD\\\", \\\"['GlycoCD']\\\"], [\\\"HeTOP\\\", \\\"['HeTOP', 'The Health Terminology/Ontology Portal']\\\"], [\\\"UCL LDLR\\\", \\\"['UCL LDLR', 'lipoprotein receptor gene familial hypercholesterolemia variant database']\\\"], [\\\"GenDR\\\", \\\"['GenDR']\\\"], [\\\"HomeoDB2\\\", \\\"['HomeoDB2', 'Homeobox gene database']\\\"], [\\\"YeastIP\\\", \\\"['YeastIP']\\\"], [\\\"HEXEvent\\\", \\\"['HEXEvent']\\\"], [\\\"HBVdb\\\", \\\"['HBVdb']\\\"], [\\\"CIBMAN\\\", \\\"['CIBMAN']\\\"], [\\\"HAGR\\\", \\\"['HAGR', 'Human Ageing Genomic Resources']\\\"], [\\\"H-InvDB\\\", \\\"['H-InvDB', 'H-Invitational Database']\\\"], [\\\"Genome-Wide Docking Database\\\", \\\"['Genome-Wide Docking Database', 'GWIDD']\\\"], [\\\"PCDq\\\", \\\"['PCDq']\\\"], [\\\"PASmiR\\\", \\\"['PASmiR']\\\"], [\\\"DEBDOM\\\", \\\"['DEBDOM', 'Database Exploring Banana Diversity of']\\\"], [\\\"HORDE\\\", \\\"['HORDE', 'Human Olfactory Receptor Data Explorer']\\\"], [\\\"GoSynthetic\\\", \\\"['GoSynthetic']\\\"], [\\\"Hemophilia A Database\\\", \\\"['Hemophilia A Database']\\\"], [\\\"LongevityMap\\\", \\\"['LongevityMap']\\\"], [\\\"HTS-DB\\\", \\\"['HTS-DB']\\\"], [\\\"RAvariome\\\", \\\"['RAvariome']\\\"], [\\\"1000 Genomes Selection Browser\\\", \\\"['1000 Genomes Selection Browser']\\\"], [\\\"GIGA\\\", \\\"['GIGA', 'The Global Invertebrate Genomics Alliance']\\\"], [\\\"Circ2Traits\\\", \\\"['Circ2Traits']\\\"], [\\\"DBM-DB\\\", \\\"['DBM-DB', 'diamondback moth Genome Database']\\\"], [\\\"HTD\\\", \\\"['HTD', 'Transporter Database']\\\"], [\\\"CDSbank\\\", \\\"['CDSbank']\\\"], [\\\"lnCeDB\\\", \\\"['lnCeDB']\\\"], [\\\"HelicoBase\\\", \\\"['HelicoBase']\\\"], [\\\"i5k\\\", \\\"['i5k', '5000 arthropod genomes']\\\"], [\\\"iBeetle-Base\\\", \\\"['iBeetle-Base']\\\"], [\\\"LocSigDB\\\", \\\"['LocSigDB']\\\"], [\\\"MIsoMine\\\", \\\"['MIsoMine']\\\"], [\\\"GermlncRNA\\\", \\\"['GermlncRNA']\\\"], [\\\"dbHiMo\\\", \\\"['dbHiMo', 'database for histone-modifying enzymes']\\\"], [\\\"zflncRNApedia\\\", \\\"['zflncRNApedia']\\\"], [\\\"GenomewidePDB\\\", \\\"['GenomewidePDB', 'Chromosome-centric']\\\"], [\\\"Geroprotectors\\\", \\\"['Geroprotectors']\\\"], [\\\"JRC GMO-Amplicons\\\", \\\"['JRC GMO-Amplicons']\\\"], [\\\"IC4R\\\", \\\"['IC4R', 'Information Commons for Rice']\\\"], [\\\"iGNM\\\", \\\"['iGNM']\\\"], [\\\"HOCOMOCO\\\", \\\"['HOCOMOCO', 'Homo sapiens comprehensive model collection']\\\"], [\\\"HDI\\\", \\\"['HDI', 'Human Disease Insight']\\\"], [\\\"GtRNAdb\\\", \\\"['GtRNAdb', 'Genomic tRNA Database']\\\"], [\\\"HitPredict\\\", \\\"['HitPredict']\\\"], [\\\"dbAARD\\\", \\\"['dbAARD', 'database of Aging and Age Related Disorders']\\\"], [\\\"Hipposeq\\\", \\\"['Hipposeq']\\\"], [\\\"gEVE\\\", \\\"['gEVE']\\\"], [\\\"GESDB\\\", \\\"['GESDB', 'Genetic Epidemiology Simulation Database']\\\"], [\\\"GNPS\\\", \\\"['GNPS', 'Global Natural Products Social Molecular Networking']\\\"], [\\\"HieranoiDB\\\", \\\"['HieranoiDB']\\\"], [\\\"GenomeCRISPR\\\", \\\"['GenomeCRISPR']\\\"], [\\\"CyanoBase\\\", \\\"['CyanoBase']\\\"], [\\\"Mammalian Metabolic Enzyme Database\\\", \\\"['Mammalian Metabolic Enzyme Database']\\\"], [\\\"GExplore\\\", \\\"['GExplore']\\\"], [\\\"miRmine\\\", \\\"['miRmine']\\\"], [\\\"DrugAge\\\", \\\"['DrugAge']\\\"], [\\\"HIVed\\\", \\\"['HIVed', 'HIV expression database']\\\"], [\\\"VerSeDa\\\", \\\"['VerSeDa', 'vertebrate secretome database']\\\"], [\\\"HopBase\\\", \\\"['HopBase']\\\"], [\\\"ICE\\\", \\\"['ICE', 'Integrated Chemical Environment']\\\"], [\\\"Plasmobase\\\", \\\"['Plasmobase']\\\"], [\\\"HDNetDB\\\", \\\"['HDNetDB']\\\"], [\\\"HUMA\\\", \\\"['HUMA', 'Human Mutation Analysis']\\\"], [\\\"AtCircDB\\\", \\\"['AtCircDB']\\\"], [\\\"HoTResDB\\\", \\\"['HoTResDB', 'Host Transcriptional Response DataBase']\\\"], [\\\"RRDB\\\", \\\"['RRDB', 'RNA-RNA docking benchmark']\\\"], [\\\"ICG\\\", \\\"['ICG']\\\"], [\\\"ICTV\\\", \\\"['ICTV', 'International Committee on Taxonomy of Viruses']\\\"], [\\\"iCAN\\\", \\\"['iCAN', 'Institute Collection and Analysis of Nanobodies']\\\"], [\\\"HCMDB\\\", \\\"['HCMDB', 'human cancer metastasis database']\\\"], [\\\"LAND-deFeND\\\", \\\"['LAND-deFeND', 'LANDslides and Floods National Database']\\\"], [\\\"PeachVar-DB\\\", \\\"['PeachVar-DB']\\\"], [\\\"TBEVhostDB\\\", \\\"['TBEVhostDB']\\\"], [\\\"Ginseng Genome Database\\\", \\\"['Ginseng Genome Database']\\\"], [\\\"LDSplitDB\\\", \\\"['LDSplitDB']\\\"], [\\\"MU3D\\\", \\\"['MU3D', 'Miami University Deception Detection Database']\\\"], [\\\"PepBDB\\\", \\\"['PepBDB', 'Peptide Binding DataBase']\\\"], [\\\"HDncRNA\\\", \\\"['HDncRNA', 'Heart Disease-related Non-coding RNAs Database']\\\"], [\\\"BioMuta\\\", \\\"['BioMuta']\\\"], [\\\"HAMdb\\\", \\\"['HAMdb', 'Human Autophagy Modulator Database']\\\"], [\\\"iEKPD\\\", \\\"['iEKPD']\\\"], [\\\"GTRD\\\", \\\"['GTRD', 'Gene Transcription Regulation Database']\\\"], [\\\"iFISH\\\", \\\"['iFISH']\\\"], [\\\"Codon and Codon-Pair Usage Tables\\\", \\\"['Codon and Codon-Pair Usage Tables', 'CoCoPUTs']\\\"], [\\\"HNCDB\\\", \\\"['HNCDB', 'Head and Neck Cancer Database']\\\"], [\\\"KHV\\\", \\\"['KHV']\\\"], [\\\"VIPdb\\\", \\\"['VIPdb', 'genetic Variant Impact Predictor Database']\\\"], [\\\"GENT2\\\", \\\"['GENT2', 'Gene Expression database of Normal and Tumor tissues 2']\\\"], [\\\"ncRNA-eQTL\\\", \\\"['ncRNA-eQTL']\\\"], [\\\"tRic\\\", \\\"['tRic']\\\"], [\\\"GutFeelingKB\\\", \\\"['GutFeelingKB']\\\"], [\\\"SNP2APA\\\", \\\"['SNP2APA']\\\"], [\\\"Animal-ImputeDB\\\", \\\"['Animal-ImputeDB']\\\"], [\\\"APAatlas\\\", \\\"['APAatlas']\\\"], [\\\"iCite\\\", \\\"['iCite', 'Open Citation Collection']\\\"], [\\\"GESUR\\\", \\\"['GESUR']\\\"], [\\\"HBDB\\\", \\\"['HBDB', 'Human Breathomics Database']\\\"], [\\\"TissueCoCoPUTs\\\", \\\"['TissueCoCoPUTs']\\\"], [\\\"GRALL\\\", \\\"['GRALL', 'The Glycine Receptor Allosteric Ligands Library']\\\"], [\\\"HDVdb\\\", \\\"['HDVdb']\\\"], [\\\"gutMEGA\\\", \\\"['gutMEGA', 'gut MEtaGenome Atlas']\\\"], [\\\"LabxDB\\\", \\\"['LabxDB']\\\"], [\\\"GreenCircRNA\\\", \\\"['GreenCircRNA']\\\"], [\\\"GPSno\\\", \\\"['GPSno']\\\"], [\\\"GlobalFungi\\\", \\\"['GlobalFungi']\\\"], [\\\"hPSCreg\\\", \\\"['hPSCreg', 'Human Pluripotent Stem Cell Registry']\\\"], [\\\"Animal-APAdb\\\", \\\"['Animal-APAdb']\\\"], [\\\"ViruSurf\\\", \\\"['ViruSurf']\\\"], [\\\"GIMICA\\\", \\\"['GIMICA', 'Host Genetic and Immune Factors Shaping Human Microbiota']\\\"], [\\\"SilencerDB\\\", \\\"['SilencerDB']\\\"], [\\\"HeRA\\\", \\\"['HeRA', 'Human enhancer RNA Atlas']\\\"], [\\\"HbVar\\\", \\\"['HbVar']\\\"], [\\\"Plant-ImputeDB\\\", \\\"['Plant-ImputeDB']\\\"], [\\\"GlycoPOST\\\", \\\"['GlycoPOST']\\\"], [\\\"HERB\\\", \\\"['HERB']\\\"], [\\\"iCysMod\\\", \\\"['iCysMod', 'for protein cysteine modifications in eukaryotes']\\\"], [\\\"HGFDB\\\", \\\"['HGFDB', 'Helmeted Guinea Fowl Database']\\\"], [\\\"HDG\\\", \\\"['HDG', 'Human Disease Genes website series']\\\"], [\\\"HIR\\\", \\\"['HIR']\\\"], [\\\"ICSCB\\\", \\\"['ICSCB', 'Integrated Collection of Stem Cell Bank data']\\\"], [\\\"hu.MAP\\\", \\\"['hu.MAP']\\\"], [\\\"TUPDB\\\", \\\"['TUPDB', 'Target-Unrelated Peptide Data Bank']\\\"], [\\\"Amadis\\\", \\\"['Amadis']\\\"], [\\\"HVdb\\\", \\\"['HVdb']\\\"], [\\\"GRAND\\\", \\\"['GRAND']\\\"], [\\\"GTDB\\\", \\\"['GTDB', 'The Genome Taxonomy Database']\\\"], [\\\"circMine\\\", \\\"['circMine']\\\"], [\\\"GPEdit\\\", \\\"['GPEdit']\\\"], [\\\"GenOrigin\\\", \\\"['GenOrigin']\\\"], [\\\"Animal-eRNAdb\\\", \\\"['Animal-eRNAdb']\\\"], [\\\"COVID19db\\\", \\\"['COVID19db']\\\"], [\\\"GproteinDb\\\", \\\"['GproteinDb']\\\"], [\\\"FPADMET\\\", \\\"['FPADMET']\\\"], [\\\"huARdb\\\", \\\"['huARdb', 'human Antigen Receptor database']\\\"], [\\\"GH19ED\\\", \\\"['GH19ED']\\\"], [\\\"GMrepo\\\", \\\"['GMrepo', 'data repository for Gut Microbiota']\\\"], [\\\"HFIP\\\", \\\"['HFIP', 'Heart Failure Integrated Platform']\\\"], [\\\"gnomAD\\\", \\\"['gnomAD', 'Genome Aggregation Database']\\\"], [\\\"GEPSdb\\\", \\\"['GEPSdb', 'Gene Expression Database of Poplar under Stress']\\\"], [\\\"iCAV\\\", \\\"['iCAV']\\\"], [\\\"HIT\\\", \\\"['HIT']\\\"], [\\\"GPIeR\\\", \\\"['GPIeR', 'Pharmacogenomic']\\\"], [\\\"hCoronavirusesDB\\\", \\\"['hCoronavirusesDB', 'Human Coronaviruses']\\\"], [\\\"Anti-CRISPRdb\\\", \\\"['Anti-CRISPRdb']\\\"], [\\\"PlantcircBase\\\", \\\"['PlantcircBase']\\\"], [\\\"ACovPepDB\\\", \\\"['ACovPepDB']\\\"], [\\\"GinkgoDB\\\", \\\"['GinkgoDB']\\\"], [\\\"OAOB\\\", \\\"['OAOB']\\\"], [\\\"HARIBOSS\\\", \\\"['HARIBOSS', 'Harnessing RIBOnucleic acid-Small molecule Structures']\\\"], [\\\"REGLIV\\\", \\\"['REGLIV', 'System Facilitating']\\\"], [\\\"AGODB\\\", \\\"['AGODB', 'database of Ago proteins']\\\"], [\\\"GlioMarker\\\", \\\"['GlioMarker']\\\"], [\\\"M6AREG\\\", \\\"['M6AREG']\\\"], [\\\"GroovDB\\\", \\\"['GroovDB']\\\"], [\\\"CovInter\\\", \\\"['CovInter']\\\"], [\\\"HSDatabase\\\", \\\"['HSDatabase']\\\"], [\\\"HiChIPdb\\\", \\\"['HiChIPdb']\\\"], [\\\"GROP\\\", \\\"['GROP', 'Genomic Information Repository for Oil Plants']\\\"], [\\\"IAnimal\\\", \\\"['IAnimal']\\\"], [\\\"Animal-SNPAtlas\\\", \\\"['Animal-SNPAtlas']\\\"], [\\\"GenomicKB\\\", \\\"['GenomicKB']\\\"], [\\\"HUSCH\\\", \\\"['HUSCH', 'Human Universal Single Cell Hub']\\\"], [\\\"tatDB\\\", \\\"['tatDB', 'targets of tRFs DataBase']\\\"], [\\\"GPCRdb\\\", \\\"['GPCRdb']\\\"], [\\\"HCDT\\\", \\\"['HCDT']\\\"], [\\\"PepQSAR\\\", \\\"['PepQSAR']\\\"], [\\\"GKDB\\\", \\\"['GKDB']\\\"], [\\\"DrosOmics\\\", \\\"['DrosOmics']\\\"], [\\\"LMTdb\\\", \\\"['LMTdb', 'Little Millet Transcriptome Database']\\\"], [\\\"SmartWoodID\\\", \\\"['SmartWoodID']\\\"], [\\\"DanMAC5\\\", \\\"['DanMAC5']\\\"], [\\\"Mslar\\\", \\\"['Mslar', 'Microbial Synthetic Lethal and Rescue Database']\\\"], [\\\"ICARUS\\\", \\\"['ICARUS', 'Integrated Chamber Atmospheric data Repository for']\\\"], [\\\"GPIP\\\", \\\"['GPIP']\\\"], [\\\"GMMAD\\\", \\\"['GMMAD', 'Gut Microbial Metabolite Association with Disease']\\\"], [\\\"GEO-TBI\\\", \\\"['GEO-TBI', 'Global Epidemiology and Outcomes following Traumatic Brain Injury']\\\"], [\\\"GlobalAMFungi\\\", \\\"['GlobalAMFungi']\\\"], [\\\"GIFTdb\\\", \\\"['GIFTdb', 'Gene Improvements for Fruit Trait Database']\\\"], [\\\"IDPpub\\\", \\\"['IDPpub', 'Illuminating the Dark Phosphoproteome']\\\"], [\\\"RVvictor\\\", \\\"['RVvictor']\\\"], [\\\"mESAdb\\\", \\\"['mESAdb', 'microRNA expression and sequence analysis database']\\\"], [\\\"IsoBase\\\", \\\"['IsoBase']\\\"], [\\\"hmChIP\\\", \\\"['hmChIP']\\\"], [\\\"MimoDB\\\", \\\"['MimoDB']\\\"], [\\\"modMine\\\", \\\"['modMine']\\\"], [\\\"dbDEPC\\\", \\\"['dbDEPC']\\\"], [\\\"IndelFR\\\", \\\"['IndelFR', 'Indel Flanking Region Database']\\\"], [\\\"GWASdb\\\", \\\"['GWASdb']\\\"], [\\\"IPAVS\\\", \\\"['IPAVS', 'Integrated Pathway Resources']\\\"], [\\\"LCGbase\\\", \\\"['LCGbase']\\\"], [\\\"PrionHome\\\", \\\"['PrionHome']\\\"], [\\\"Liverome\\\", \\\"['Liverome']\\\"], [\\\"DetoxiProt\\\", \\\"['DetoxiProt']\\\"], [\\\"IntDb\\\", \\\"['IntDb']\\\"], [\\\"IRView\\\", \\\"['IRView']\\\"], [\\\"FBIS\\\", \\\"['FBIS']\\\"], [\\\"SyStemCell\\\", \\\"['SyStemCell']\\\"], [\\\"chordate proteome history\\\", \\\"['chordate proteome history']\\\"], [\\\"TOPPR\\\", \\\"['TOPPR', 'The Online Protein Processing Resource']\\\"], [\\\"RNApathwaysDB\\\", \\\"['RNApathwaysDB']\\\"], [\\\"PTID\\\", \\\"['PTID', 'Pesticide-Target interaction database']\\\"], [\\\"CTCFBSDB\\\", \\\"['CTCFBSDB']\\\"], [\\\"BSRD\\\", \\\"['BSRD']\\\"], [\\\"KNApSAcK\\\", \\\"['KNApSAcK']\\\"], [\\\"ERISdb\\\", \\\"['ERISdb']\\\"], [\\\"LjGEA\\\", \\\"['LjGEA', 'Lotus japonicus Gene Expression Atlas']\\\"], [\\\"hLGDB\\\", \\\"['hLGDB', 'Human Lysosome Gene Database']\\\"], [\\\"INstruct\\\", \\\"['INstruct']\\\"], [\\\"LiverAtlas\\\", \\\"['LiverAtlas']\\\"], [\\\"MabsBase\\\", \\\"['MabsBase']\\\"], [\\\"FSRD\\\", \\\"['FSRD', 'Fungal Stress Response Database']\\\"], [\\\"IQdb\\\", \\\"['IQdb']\\\"], [\\\"dbPSHP\\\", \\\"['dbPSHP']\\\"], [\\\"RNA Bricks\\\", \\\"['RNA Bricks']\\\"], [\\\"InvFEST\\\", \\\"['InvFEST']\\\"], [\\\"SpliceProt\\\", \\\"['SpliceProt']\\\"], [\\\"iPfam\\\", \\\"['iPfam']\\\"], [\\\"lncRNAMap\\\", \\\"['lncRNAMap']\\\"], [\\\"SysPTM\\\", \\\"['SysPTM']\\\"], [\\\"lncRNAtor\\\", \\\"['lncRNAtor']\\\"], [\\\"BrassicaTED\\\", \\\"['BrassicaTED']\\\"], [\\\"IntergenicDB\\\", \\\"['IntergenicDB']\\\"], [\\\"KiMoSys\\\", \\\"['KiMoSys']\\\"], [\\\"isoMETLIN\\\", \\\"['isoMETLIN']\\\"], [\\\"ImmuCo\\\", \\\"['ImmuCo']\\\"], [\\\"lncRNAdb\\\", \\\"['lncRNAdb']\\\"], [\\\"KnotProt\\\", \\\"['KnotProt']\\\"], [\\\"Plastid-LCGbase\\\", \\\"['Plastid-LCGbase']\\\"], [\\\"Kin-driver\\\", \\\"['Kin-driver']\\\"], [\\\"MACE\\\", \\\"['MACE']\\\"], [\\\"CyanOmics\\\", \\\"['CyanOmics']\\\"], [\\\"LOTUS-DB\\\", \\\"['LOTUS-DB']\\\"], [\\\"NeuroPep\\\", \\\"['NeuroPep']\\\"], [\\\"HTT-DB\\\", \\\"['HTT-DB']\\\"], [\\\"CMRegNet\\\", \\\"['CMRegNet']\\\"], [\\\"CancerHSP\\\", \\\"['CancerHSP', 'anticancer herbs database of']\\\"], [\\\"IMG-ABC\\\", \\\"['IMG-ABC', 'Integrated Microbial Genomes Atlas of Biosynthetic gene Clusters']\\\"], [\\\"ITS2\\\", \\\"['ITS2']\\\"], [\\\"ImmuNet\\\", \\\"['ImmuNet']\\\"], [\\\"KGCAK\\\", \\\"['KGCAK']\\\"], [\\\"ListeriaBase\\\", \\\"['ListeriaBase']\\\"], [\\\"RAMS\\\", \\\"['RAMS', 'The Register of Antarctic Marine Species']\\\"], [\\\"dbMAE\\\", \\\"['dbMAE', 'database of autosomal monoallelic expression']\\\"], [\\\"JuncDB\\\", \\\"['JuncDB']\\\"], [\\\"LIS\\\", \\\"['LIS', 'Legume Information System']\\\"], [\\\"Lynx\\\", \\\"['Lynx']\\\"], [\\\"DLGP\\\", \\\"['DLGP']\\\"], [\\\"LnCaNet\\\", \\\"['LnCaNet']\\\"], [\\\"SISTR\\\", \\\"['SISTR', 'Salmonella In Silico Typing Resource']\\\"], [\\\"dbPHCC\\\", \\\"['dbPHCC']\\\"], [\\\"Fish Karyome\\\", \\\"['Fish Karyome']\\\"], [\\\"KinetochoreDB\\\", \\\"['KinetochoreDB']\\\"], [\\\"iJGVD\\\", \\\"['iJGVD', 'integrative Japanese Genome Variation Database']\\\"], [\\\"iLIR\\\", \\\"['iLIR']\\\"], [\\\"LigandBox\\\", \\\"['LigandBox']\\\"], [\\\"Proteome-pI\\\", \\\"['Proteome-pI']\\\"], [\\\"LinkProt\\\", \\\"['LinkProt']\\\"], [\\\"L1Base\\\", \\\"['L1Base']\\\"], [\\\"Lotus Base\\\", \\\"['Lotus Base']\\\"], [\\\"IRBAS\\\", \\\"['IRBAS', 'Intermittent River Biodiversity Analysis and Synthesis']\\\"], [\\\"Pro54DB\\\", \\\"['Pro54DB']\\\"], [\\\"JingleBells\\\", \\\"['JingleBells']\\\"], [\\\"CyanoType\\\", \\\"['CyanoType']\\\"], [\\\"ISVdb\\\", \\\"['ISVdb', 'Inbred Strain Variant Database']\\\"], [\\\"AOD\\\", \\\"['AOD', 'Antioxidant Database']\\\"], [\\\"iLIR@viral\\\", \\\"['iLIR@viral']\\\"], [\\\"LiverWiki\\\", \\\"['LiverWiki']\\\"], [\\\"m6AVar\\\", \\\"['m6AVar']\\\"], [\\\"ITSoneDB\\\", \\\"['ITSoneDB']\\\"], [\\\"jMorp\\\", \\\"['jMorp', 'Japanese Multi Omics Reference Panel']\\\"], [\\\"RNArchitecture\\\", \\\"['RNArchitecture']\\\"], [\\\"iUUCD\\\", \\\"['iUUCD']\\\"], [\\\"Horizontal Transposon Transfer DataBase\\\", \\\"['Horizontal Transposon Transfer DataBase', 'HTT-DB']\\\"], [\\\"IDPM\\\", \\\"['IDPM', 'ion distribution in protein molecules']\\\"], [\\\"iMETHYL\\\", \\\"['iMETHYL']\\\"], [\\\"LipidPedia\\\", \\\"['LipidPedia']\\\"], [\\\"LEGE\\\", \\\"['LEGE']\\\"], [\\\"LeptoDB\\\", \\\"['LeptoDB']\\\"], [\\\"LncCeRBase\\\", \\\"['LncCeRBase']\\\"], [\\\"CDG\\\", \\\"['CDG']\\\"], [\\\"SKEMPI\\\", \\\"['SKEMPI']\\\"], [\\\"mutTCPdb\\\", \\\"['mutTCPdb']\\\"], [\\\"POSTAR2\\\", \\\"['POSTAR2']\\\"], [\\\"HCCDB\\\", \\\"['HCCDB', 'Hepatocellular Carcinoma Expression Atlas']\\\"], [\\\"lncRNAnet\\\", \\\"['lncRNAnet']\\\"], [\\\"jPOST\\\", \\\"['jPOST', 'Japan ProteOme']\\\"], [\\\"RaftProt\\\", \\\"['RaftProt', 'mammalian lipid raft proteome database']\\\"], [\\\"LNCipedia\\\", \\\"['LNCipedia']\\\"], [\\\"OrthoInspector\\\", \\\"['OrthoInspector']\\\"], [\\\"InteracDome\\\", \\\"['InteracDome']\\\"], [\\\"FisOmics\\\", \\\"['FisOmics']\\\"], [\\\"DASHR\\\", \\\"['DASHR', 'Database of small human noncoding RNAs']\\\"], [\\\"PFDB\\\", \\\"['PFDB', 'protein folding kinetics database']\\\"], [\\\"AYbRAH\\\", \\\"['AYbRAH', 'Analyzing Yeasts by Reconstructing Ancestry of Homologs']\\\"], [\\\"Microbiome Learning Repo\\\", \\\"['Microbiome Learning Repo', 'ML Repo']\\\"], [\\\"COOLR\\\", \\\"['COOLR', 'Cooperative Open Online Landslide Repository']\\\"], [\\\"MAdb\\\", \\\"['MAdb', 'Mammalian Annotation Database tool']\\\"], [\\\"BiomeNet\\\", \\\"['BiomeNet']\\\"], [\\\"Murine Microbiome Database\\\", \\\"['Murine Microbiome Database', 'MMDB']\\\"], [\\\"Integrated Microbial Genomes Atlas of Biosynthetic gene Clusters\\\", \\\"['Integrated Microbial Genomes Atlas of Biosynthetic gene Clusters', 'IMG-ABC']\\\"], [\\\"MaGenDB\\\", \\\"['MaGenDB']\\\"], [\\\"DrLLPS\\\", \\\"['DrLLPS']\\\"], [\\\"LINCS\\\", \\\"['LINCS', 'of Integrated Network-Based Cellular Signatures']\\\"], [\\\"International Severe Asthma Registry\\\", \\\"['International Severe Asthma Registry', 'ISAR']\\\"], [\\\"ASRD\\\", \\\"['ASRD', 'Arabidopsis Small RNA Database']\\\"], [\\\"JCDB\\\", \\\"['JCDB', 'curcas database']\\\"], [\\\"ETph\\\", \\\"['ETph']\\\"], [\\\"ncRPheno\\\", \\\"['ncRPheno', 'Online Mendelian Inheritance in Man']\\\"], [\\\"TeaMiD\\\", \\\"['TeaMiD']\\\"], [\\\"AELP\\\", \\\"['AELP', 'Auditory English Lexicon Project']\\\"], [\\\"WER target gene database\\\", \\\"['WER target gene database', 'M6A2Target']\\\"], [\\\"UNaProd\\\", \\\"['UNaProd']\\\"], [\\\"LuluDB\\\", \\\"['LuluDB']\\\"], [\\\"Scop3P\\\", \\\"['Scop3P']\\\"], [\\\"EBRAINS\\\", \\\"['EBRAINS']\\\"], [\\\"lncR2metasta\\\", \\\"['lncR2metasta']\\\"], [\\\"SELAdb\\\", \\\"['SELAdb']\\\"], [\\\"LncAS2Cancer\\\", \\\"['LncAS2Cancer']\\\"], [\\\"Kiwifruit Genome Database\\\", \\\"['Kiwifruit Genome Database', 'KGD']\\\"], [\\\"ZenoFishDb\\\", \\\"['ZenoFishDb']\\\"], [\\\"KLIFS\\\", \\\"['KLIFS', 'Kinase\\\\u2013Ligand Interaction Fingerprints and Structures']\\\"], [\\\"KNIndex\\\", \\\"['KNIndex']\\\"], [\\\"FireProtDB\\\", \\\"['FireProtDB']\\\"], [\\\"GRINdb\\\", \\\"['GRINdb', 'RIN database']\\\"], [\\\"MetaADEDB\\\", \\\"['MetaADEDB']\\\"], [\\\"ILDGDB\\\", \\\"['ILDGDB']\\\"], [\\\"InterMetalDB\\\", \\\"['InterMetalDB']\\\"], [\\\"Prokaryotic Promoter Database\\\", \\\"['Prokaryotic Promoter Database', 'PPD']\\\"], [\\\"APRegNet\\\", \\\"['APRegNet']\\\"], [\\\"KAIKObase\\\", \\\"['KAIKObase', 'silkworm genome']\\\"], [\\\"TMSNP\\\", \\\"['TMSNP']\\\"], [\\\"MAPslnc\\\", \\\"['MAPslnc']\\\"], [\\\"LIMONADA\\\", \\\"['LIMONADA']\\\"], [\\\"TIE\\\", \\\"['TIE', 'Tumor IsomiR Encyclopedia']\\\"], [\\\"Drugmonizome\\\", \\\"['Drugmonizome']\\\"], [\\\"LIVE-NFLX-II\\\", \\\"['LIVE-NFLX-II']\\\"], [\\\"M6ADD\\\", \\\"['M6ADD', 'm6A-diseases database']\\\"], [\\\"TFcancer\\\", \\\"['TFcancer']\\\"], [\\\"CanVaS\\\", \\\"['CanVaS', 'Cancer Variation']\\\"], [\\\"IsoArcH\\\", \\\"['IsoArcH']\\\"], [\\\"LinguaPix\\\", \\\"['LinguaPix']\\\"], [\\\"LINPS\\\", \\\"['LINPS']\\\"], [\\\"lncExplore\\\", \\\"['lncExplore']\\\"], [\\\"FinBOL\\\", \\\"['FinBOL']\\\"], [\\\"COVIDium\\\", \\\"['COVIDium']\\\"], [\\\"Viral Putative G-quadruplex\\\", \\\"['Viral Putative G-quadruplex']\\\"], [\\\"Proteome-pI 2.0\\\", \\\"['Proteome-pI 2.0']\\\"], [\\\"JASPAR\\\", \\\"['JASPAR']\\\"], [\\\"FUSARIUM-ID\\\", \\\"['FUSARIUM-ID']\\\"], [\\\"pSATdb\\\", \\\"['pSATdb', 'polymorphic microSATellites database']\\\"], [\\\"MicroRNA childhood Cancer Catalog\\\", \\\"['MicroRNA childhood Cancer Catalog', 'M3Cs']\\\"], [\\\"ImmuMethy\\\", \\\"['ImmuMethy']\\\"], [\\\"ImitateDB\\\", \\\"['ImitateDB']\\\"], [\\\"EnhFFL\\\", \\\"['EnhFFL']\\\"], [\\\"PlantPhoneDB\\\", \\\"['PlantPhoneDB']\\\"], [\\\"KOMBAT\\\", \\\"['KOMBAT']\\\"], [\\\"Virtual Library\\\", \\\"['Virtual Library']\\\"], [\\\"KinMod\\\", \\\"['KinMod']\\\"], [\\\"isomiRTar\\\", \\\"['isomiRTar']\\\"], [\\\"MacadamiaGGD\\\", \\\"['MacadamiaGGD', 'Macadamia germplasm and genomic database']\\\"], [\\\"IMG/VR\\\", \\\"['IMG/VR']\\\"], [\\\"IMMUcan scDB\\\", \\\"['IMMUcan scDB']\\\"], [\\\"iHypoxia\\\", \\\"['iHypoxia']\\\"], [\\\"eccDNA Atlas\\\", \\\"['eccDNA Atlas']\\\"], [\\\"InParanoiDB\\\", \\\"['InParanoiDB']\\\"], [\\\"lncHUB2\\\", \\\"['lncHUB2']\\\"], [\\\"IUCLID\\\", \\\"['IUCLID']\\\"], [\\\"Neodb\\\", \\\"['Neodb']\\\"], [\\\"JustRNA\\\", \\\"['JustRNA']\\\"], [\\\"LIRcentral\\\", \\\"['LIRcentral']\\\"], [\\\"CiliaMiner\\\", \\\"['CiliaMiner']\\\"], [\\\"NCI-60\\\", \\\"['NCI-60']\\\"], [\\\"DBLiPro\\\", \\\"['DBLiPro']\\\"], [\\\"DEFID2\\\", \\\"['DEFID2', 'Database of European Forest Insect and Disease Disturbances']\\\"], [\\\"InpactorDB\\\", \\\"['InpactorDB']\\\"], [\\\"Kalium\\\", \\\"['Kalium']\\\"], [\\\"LAMPPrimerBank\\\", \\\"['LAMPPrimerBank']\\\"], [\\\"LeishMANIAdb\\\", \\\"['LeishMANIAdb']\\\"], [\\\"Dex-Benchmark\\\", \\\"['Dex-Benchmark', 'Dexamethasone Benchmark']\\\"], [\\\"TIN\\\", \\\"['TIN']\\\"], [\\\"CORE\\\", \\\"['CORE']\\\"], [\\\"miRWalk\\\", \\\"['miRWalk']\\\"], [\\\"GENT\\\", \\\"['GENT', 'Gene Expression database of Normal and Tumor tissues']\\\"], [\\\"Littorina sequence database\\\", \\\"['Littorina sequence database', 'LSD']\\\"], [\\\"QlicRice\\\", \\\"['QlicRice']\\\"], [\\\"MetaCrop\\\", \\\"['MetaCrop']\\\"], [\\\"MINT\\\", \\\"['MINT', 'Molecular INTeraction Database']\\\"], [\\\"MitoMiner\\\", \\\"['MitoMiner']\\\"], [\\\"miRNEST\\\", \\\"['miRNEST']\\\"], [\\\"MMMDB\\\", \\\"['MMMDB', 'Mouse Multiple Tissue Metabolome Database']\\\"], [\\\"MnM\\\", \\\"['MnM', 'Minimotif Miner']\\\"], [\\\"miRdSNP\\\", \\\"['miRdSNP']\\\"], [\\\"RNA-Seq Atlas\\\", \\\"['RNA-Seq Atlas']\\\"], [\\\"MycoRRdb\\\", \\\"['MycoRRdb']\\\"], [\\\"HEMD\\\", \\\"['HEMD', 'human epigenetic enzyme and modulator database']\\\"], [\\\"CIDeR\\\", \\\"['CIDeR']\\\"], [\\\"MRTDD\\\", \\\"['MRTDD']\\\"], [\\\"METscout\\\", \\\"['METscout']\\\"], [\\\"miR-EdiTar\\\", \\\"['miR-EdiTar']\\\"], [\\\"MK4MDD\\\", \\\"['MK4MDD', 'evel Knowledge base for MDD']\\\"], [\\\"MBGD\\\", \\\"['MBGD', 'microbial genome database for comparative analysis']\\\"], [\\\"YGD\\\", \\\"['YGD', 'Yak Genome Database']\\\"], [\\\"MonarchBase\\\", \\\"['MonarchBase']\\\"], [\\\"MetalPDB\\\", \\\"['MetalPDB']\\\"], [\\\"SpermatogenesisOnline\\\", \\\"['SpermatogenesisOnline']\\\"], [\\\"MENT\\\", \\\"['MENT', 'Methylation and Expression database of']\\\"], [\\\"miRCancer\\\", \\\"['miRCancer']\\\"], [\\\"MitoLSDB\\\", \\\"['MitoLSDB']\\\"], [\\\"MGDD\\\", \\\"['MGDD', 'Moroccan Genetic Disease Database']\\\"], [\\\"NanoMiner\\\", \\\"['NanoMiner']\\\"], [\\\"HSC-Explorer\\\", \\\"['HSC-Explorer']\\\"], [\\\"IIMDB\\\", \\\"['IIMDB', 'In Vivo/In Silico Metabolites Database']\\\"], [\\\"NAPS\\\", \\\"['NAPS', 'Nencki Affective Picture System']\\\"], [\\\"MarinegenomicsDB\\\", \\\"['MarinegenomicsDB']\\\"], [\\\"HoPaCI-DB\\\", \\\"['HoPaCI-DB', 'host-Pseudomonas and Coxiella interaction database']\\\"], [\\\"SIDD\\\", \\\"['SIDD']\\\"], [\\\"SIMAP\\\", \\\"['SIMAP', 'Similarity Matrix of Proteins']\\\"], [\\\"MitoBreak\\\", \\\"['MitoBreak', 'mitochondrial DNA breakpoints database']\\\"], [\\\"MetaRef\\\", \\\"['MetaRef']\\\"], [\\\"Negatome\\\", \\\"['Negatome']\\\"], [\\\"miRStress\\\", \\\"['miRStress']\\\"], [\\\"Marmal-aid\\\", \\\"['Marmal-aid']\\\"], [\\\"Model Organism Protein Expression Database\\\", \\\"['Model Organism Protein Expression Database', 'MOPED']\\\"], [\\\"MetaMetaDB\\\", \\\"['MetaMetaDB', 'Metagenomic DataBase']\\\"], [\\\"MANTRA\\\", \\\"['MANTRA']\\\"], [\\\"MycobacRV\\\", \\\"['MycobacRV']\\\"], [\\\"GMTV\\\", \\\"['GMTV', 'Genome-wide Mycobacterium tuberculosis Variation']\\\"], [\\\"REGNET\\\", \\\"['REGNET']\\\"], [\\\"MorusDB\\\", \\\"['MorusDB', 'Morus Genome Database']\\\"], [\\\"AllergenPro\\\", \\\"['AllergenPro']\\\"], [\\\"MediaDB\\\", \\\"['MediaDB']\\\"], [\\\"Mouse IDGenes\\\", \\\"['Mouse IDGenes']\\\"], [\\\"GOBLET\\\", \\\"['GOBLET']\\\"], [\\\"MetaProx\\\", \\\"['MetaProx']\\\"], [\\\"Organ System Heterogeneity\\\", \\\"['Organ System Heterogeneity']\\\"], [\\\"Kazusa Marker DataBase\\\", \\\"['Kazusa Marker DataBase']\\\"], [\\\"miRDB\\\", \\\"['miRDB']\\\"], [\\\"MyMpn\\\", \\\"['MyMpn']\\\"], [\\\"MatrixDB\\\", \\\"['MatrixDB', 'the extracellular matrix interaction database']\\\"], [\\\"APASdb\\\", \\\"['APASdb']\\\"], [\\\"MiCroKiTS\\\", \\\"['MiCroKiTS']\\\"], [\\\"MCG\\\", \\\"['MCG', 'Maize Cell Genomics']\\\"], [\\\"RiceQTLPro\\\", \\\"['RiceQTLPro']\\\"], [\\\"MSeqDR\\\", \\\"['MSeqDR', 'Mitochondrial Disease Sequence Data Resource']\\\"], [\\\"MUFOLD-DB\\\", \\\"['MUFOLD-DB']\\\"], [\\\"MeioBase\\\", \\\"['MeioBase']\\\"], [\\\"MnTEdb\\\", \\\"['MnTEdb']\\\"], [\\\"mycoCLAP\\\", \\\"['mycoCLAP']\\\"], [\\\"miRGate\\\", \\\"['miRGate']\\\"], [\\\"Salinity Tolerant Poplar Database\\\", \\\"['Salinity Tolerant Poplar Database', 'STPD']\\\"], [\\\"Metabolonote\\\", \\\"['Metabolonote']\\\"], [\\\"KM-parkin-DB\\\", \\\"['KM-parkin-DB']\\\"], [\\\"NIG_MoG\\\", \\\"['NIG_MoG', 'of Genetics Mouse Genome database']\\\"], [\\\"WFRGdb\\\", \\\"['WFRGdb', 'Wood-Formation Related Genes database']\\\"], [\\\"MFMD\\\", \\\"['MFMD', 'Mediterranean Founder Mutation Database']\\\"], [\\\"MicRhoDE\\\", \\\"['MicRhoDE']\\\"], [\\\"FMiR\\\", \\\"['FMiR', 'Mitogenome Resource']\\\"], [\\\"Metabolic In silico Network Expansions\\\", \\\"['Metabolic In silico Network Expansions', 'MINEs']\\\"], [\\\"MEPD\\\", \\\"['MEPD', 'Medaka Expression Pattern Database']\\\"], [\\\"MSGene\\\", \\\"['MSGene']\\\"], [\\\"MtiBase\\\", \\\"['MtiBase']\\\"], [\\\"NBDB\\\", \\\"['NBDB', 'Nucleotide binding database']\\\"], [\\\"MDP\\\", \\\"['MDP', 'and Drugs Portal']\\\"], [\\\"UET\\\", \\\"['UET']\\\"], [\\\"MG-RAST\\\", \\\"['MG-RAST']\\\"], [\\\"MTD\\\", \\\"['MTD', 'mammalian transcriptomic database']\\\"], [\\\"the maize gene families database\\\", \\\"['the maize gene families database', 'MGFD']\\\"], [\\\"NABIC\\\", \\\"['NABIC']\\\"], [\\\"IsomiR Bank\\\", \\\"['IsomiR Bank']\\\"], [\\\"MODEM\\\", \\\"['MODEM']\\\"], [\\\"miRPathDB\\\", \\\"['miRPathDB', 'miRNA Pathway Dictionary Database']\\\"], [\\\"MEGARes\\\", \\\"['MEGARes']\\\"], [\\\"MRPrimerV\\\", \\\"['MRPrimerV']\\\"], [\\\"Manteia\\\", \\\"['Manteia']\\\"], [\\\"HICL\\\", \\\"['HICL']\\\"], [\\\"NaDH\\\", \\\"['NaDH', 'Nicotiana attenuata Data Hub']\\\"], [\\\"Milk bioactive peptide database\\\", \\\"['Milk bioactive peptide database']\\\"], [\\\"TCM-Mesh\\\", \\\"['TCM-Mesh']\\\"], [\\\"MiSynPat\\\", \\\"['MiSynPat']\\\"], [\\\"BioFuelDB\\\", \\\"['BioFuelDB']\\\"], [\\\"miRandola\\\", \\\"['miRandola', 'extracellular circulating microRNAs']\\\"], [\\\"miRCarta\\\", \\\"['miRCarta']\\\"], [\\\"MFIB\\\", \\\"['MFIB', 'Mutual Folding Induced by']\\\"], [\\\"MetaCyc\\\", \\\"['MetaCyc']\\\"], [\\\"mirTrans\\\", \\\"['mirTrans']\\\"], [\\\"MoonProt\\\", \\\"['MoonProt']\\\"], [\\\"MeDReaders\\\", \\\"['MeDReaders']\\\"], [\\\"MVP\\\", \\\"['MVP', 'Microbe Versus']\\\"], [\\\"MOSAIC\\\", \\\"['MOSAIC']\\\"], [\\\"PhenoDis\\\", \\\"['PhenoDis']\\\"], [\\\"PhyMet2\\\", \\\"['PhyMet2']\\\"], [\\\"Melonomics\\\", \\\"['Melonomics']\\\"], [\\\"Metaxa2\\\", \\\"['Metaxa2']\\\"], [\\\"miRVIT\\\", \\\"['miRVIT']\\\"], [\\\"MiPanda\\\", \\\"['MiPanda']\\\"], [\\\"MoonDB\\\", \\\"['MoonDB']\\\"], [\\\"MemProtMD\\\", \\\"['MemProtMD']\\\"], [\\\"miRBase\\\", \\\"['miRBase']\\\"], [\\\"Smooth Muscle Transcriptome Browser\\\", \\\"['Smooth Muscle Transcriptome Browser', 'SMTB']\\\"], [\\\"Mammalian Stress Granules Proteome\\\", \\\"['Mammalian Stress Granules Proteome']\\\"], [\\\"mGAP\\\", \\\"['mGAP', 'macaque Genotype And Phenotype']\\\"], [\\\"MorCVD\\\", \\\"['MorCVD']\\\"], [\\\"MirtronDB\\\", \\\"['MirtronDB']\\\"], [\\\"miRandb\\\", \\\"['miRandb', 'miRNA algorithmic network database']\\\"], [\\\"ProteinExplorer\\\", \\\"['ProteinExplorer']\\\"], [\\\"starPepDB\\\", \\\"['starPepDB']\\\"], [\\\"MENDA\\\", \\\"['MENDA']\\\"], [\\\"MetOSite\\\", \\\"['MetOSite']\\\"], [\\\"MepmiRDB\\\", \\\"['MepmiRDB', 'medicinal plant microRNA database']\\\"], [\\\"MDR\\\", \\\"['MDR']\\\"], [\\\"MMRdb\\\", \\\"['MMRdb']\\\"], [\\\"miRDRN\\\", \\\"['miRDRN', 'miRNA disease regulatory network']\\\"], [\\\"MeLAD\\\", \\\"['MeLAD', 'Metalloenzyme-Ligand Association Database']\\\"], [\\\"Mouse Liver Portal\\\", \\\"['Mouse Liver Portal']\\\"], [\\\"NARD\\\", \\\"['NARD', 'Northeast Asian Reference Database']\\\"], [\\\"MANET\\\", \\\"['MANET', 'metabolic Molecular Ancestry Networks']\\\"], [\\\"ASD\\\", \\\"['ASD', 'The Allosteric Database']\\\"], [\\\"CAUSALdb\\\", \\\"['CAUSALdb']\\\"], [\\\"mesophotic.org\\\", \\\"['mesophotic.org']\\\"], [\\\"GenFam\\\", \\\"['GenFam']\\\"], [\\\"GREG\\\", \\\"['GREG', 'The Gene Regulation Graph Database']\\\"], [\\\"MtSSPdb\\\", \\\"['MtSSPdb', 'truncatula Small Secreted Peptide Database']\\\"], [\\\"CoCoCoNet\\\", \\\"['CoCoCoNet']\\\"], [\\\"Male Fertility Gene Atlas\\\", \\\"['Male Fertility Gene Atlas', 'MFGA']\\\"], [\\\"MSK-KP\\\", \\\"['MSK-KP', 'Musculoskeletal Knowledge Portal']\\\"], [\\\"BCE\\\", \\\"['BCE', 'bioactive conformational']\\\"], [\\\"MosaicBase\\\", \\\"['MosaicBase']\\\"], [\\\"IDDB\\\", \\\"['IDDB', 'infertility disease database']\\\"], [\\\"ModelSEED\\\", \\\"['ModelSEED']\\\"], [\\\"NanDeSyn\\\", \\\"['NanDeSyn', 'Nannochloropsis Design and Synthesis']\\\"], [\\\"MemMoRF\\\", \\\"['MemMoRF']\\\"], [\\\"MloDisDB\\\", \\\"['MloDisDB']\\\"], [\\\"MaizeMine\\\", \\\"['MaizeMine', 'Maize Genetics and Genome Database']\\\"], [\\\"MolluscDB\\\", \\\"['MolluscDB']\\\"], [\\\"MarkerDB\\\", \\\"['MarkerDB']\\\"], [\\\"PASS\\\", \\\"['PASS']\\\"], [\\\"Missense3D-DB\\\", \\\"['Missense3D-DB']\\\"], [\\\"MPM\\\", \\\"['MPM', 'My Personal Mutanome']\\\"], [\\\"Mycobacterial Systems Resource\\\", \\\"['Mycobacterial Systems Resource', 'MSR']\\\"], [\\\"MRMAssayDB\\\", \\\"['MRMAssayDB']\\\"], [\\\"MCPdb\\\", \\\"['MCPdb', 'The bacterial microcompartment database']\\\"], [\\\"TOMATOMET\\\", \\\"['TOMATOMET']\\\"], [\\\"MetamORF\\\", \\\"['MetamORF']\\\"], [\\\"MtExpress\\\", \\\"['MtExpress']\\\"], [\\\"MIK\\\", \\\"['MIK', 'Male Infertility Knowledgebase']\\\"], [\\\"Nabe\\\", \\\"['Nabe']\\\"], [\\\"MeiosisOnline\\\", \\\"['MeiosisOnline']\\\"], [\\\"Mollusca mitochondrial database\\\", \\\"['Mollusca mitochondrial database', 'MODB']\\\"], [\\\"MyoData\\\", \\\"['MyoData']\\\"], [\\\"VannoPortal\\\", \\\"['VannoPortal']\\\"], [\\\"mBodyMap\\\", \\\"['mBodyMap']\\\"], [\\\"MVIP\\\", \\\"['MVIP']\\\"], [\\\"msRepDB\\\", \\\"['msRepDB']\\\"], [\\\"RIKEN PMM\\\", \\\"['RIKEN PMM', 'RIKEN Plant Metabolome MetaDatabase']\\\"], [\\\"FertilityOnline\\\", \\\"['FertilityOnline']\\\"], [\\\"MIrROR\\\", \\\"['MIrROR']\\\"], [\\\"Membranome\\\", \\\"['Membranome']\\\"], [\\\"uman Microbiome Affect The Host Epigenome\\\", \\\"['uman Microbiome Affect The Host Epigenome', 'MIAOME']\\\"], [\\\"MycoWiki\\\", \\\"['MycoWiki']\\\"], [\\\"GotEnzymes\\\", \\\"['GotEnzymes']\\\"], [\\\"MiMeDB\\\", \\\"['MiMeDB', 'Human Microbial Metabolome Database']\\\"], [\\\"MeDBA\\\", \\\"['MeDBA', 'Metalloenzyme Data']\\\"], [\\\"MHC Motif\\\", \\\"['MHC Motif', 'MHC Motif Atlas']\\\"], [\\\"QTLbase\\\", \\\"['QTLbase']\\\"], [\\\"MGTdb\\\", \\\"['MGTdb']\\\"], [\\\"CORUM\\\", \\\"['CORUM', 'of mammalian protein complexes']\\\"], [\\\"MIBiG\\\", \\\"['MIBiG', 'Minimum Information about a Biosynthetic Gene Cluster']\\\"], [\\\"MobiDB\\\", \\\"['MobiDB']\\\"], [\\\"2DSdb\\\", \\\"['2DSdb', 'semiconductor database']\\\"], [\\\"Mousepost\\\", \\\"['Mousepost']\\\"], [\\\"MitoFish\\\", \\\"['MitoFish', 'Mitochondrial Genome Database of Fish']\\\"], [\\\"Mare-MAGE\\\", \\\"['Mare-MAGE']\\\"], [\\\"Milletdb\\\", \\\"['Milletdb']\\\"], [\\\"MPPCD\\\", \\\"['MPPCD', 'minority people panmicrobial community database']\\\"], [\\\"MCF2Chem\\\", \\\"['MCF2Chem']\\\"], [\\\"MODMS\\\", \\\"['MODMS', 'multi-omics database of M']\\\"], [\\\"mibPOPdb\\\", \\\"['mibPOPdb', 'Microbial Biodegradation of Persistent Organic Pollutants Database']\\\"], [\\\"pfSNP\\\", \\\"['pfSNP']\\\"], [\\\"OryzaPG\\\", \\\"['OryzaPG']\\\"], [\\\"PheMaDB\\\", \\\"['PheMaDB', 'Phenotype Microarray Database']\\\"], [\\\"PGAT\\\", \\\"['PGAT', 'Prokaryotic-genome Analysis Tool']\\\"], [\\\"PromBase\\\", \\\"['PromBase']\\\"], [\\\"NFI-Regulome\\\", \\\"['NFI-Regulome', 'NFI-Regulome Database']\\\"], [\\\"OPM\\\", \\\"['OPM', 'Orientations of Proteins in Membranes']\\\"], [\\\"PhenoM\\\", \\\"['PhenoM', 'Phenomics of yeast Mutants']\\\"], [\\\"Newt-omics\\\", \\\"['Newt-omics']\\\"], [\\\"PrimerBank\\\", \\\"['PrimerBank']\\\"], [\\\"ProOpDB\\\", \\\"['ProOpDB', 'Prokaryotic Operon DataBase']\\\"], [\\\"ProtChemSI\\\", \\\"['ProtChemSI']\\\"], [\\\"Nematode.net\\\", \\\"['Nematode.net']\\\"], [\\\"nsLTPDB\\\", \\\"['nsLTPDB', 'plant non-specific lipid transfer protein database']\\\"], [\\\"SpiroESTdb\\\", \\\"['SpiroESTdb']\\\"], [\\\"PaxDb\\\", \\\"['PaxDb']\\\"], [\\\"Medicago PhosphoProtein Database\\\", \\\"['Medicago PhosphoProtein Database', 'MPPD']\\\"], [\\\"HSPIR\\\", \\\"['HSPIR', 'Heat shock protein information resource']\\\"], [\\\"PaVE\\\", \\\"['PaVE', 'Papillomavirus Episteme']\\\"], [\\\"non-B\\\", \\\"['non-B']\\\"], [\\\"PhosPhAt\\\", \\\"['PhosPhAt']\\\"], [\\\"PeroxiBase\\\", \\\"['PeroxiBase']\\\"], [\\\"NetwoRx\\\", \\\"['NetwoRx']\\\"], [\\\"SIFTS\\\", \\\"['SIFTS', 'Structure Integration with Function']\\\"], [\\\"YM500\\\", \\\"['YM500']\\\"], [\\\"PDBTM\\\", \\\"['PDBTM', 'Protein Data Bank of transmembrane proteins']\\\"], [\\\"PhenoDB\\\", \\\"['PhenoDB', 'Mendelian Inheritance in']\\\"], [\\\"ESCOLEX\\\", \\\"['ESCOLEX']\\\"], [\\\"Bolbase\\\", \\\"['Bolbase']\\\"], [\\\"pE-DB\\\", \\\"['pE-DB']\\\"], [\\\"DriverDB\\\", \\\"['DriverDB']\\\"], [\\\"SAbDab\\\", \\\"['SAbDab', 'Structural antibody database']\\\"], [\\\"P(3)DB\\\", \\\"['P(3)DB', 'Plant Protein Phosphorylation Database']\\\"], [\\\"VTO\\\", \\\"['VTO', 'Vertebrate Taxonomy Ontology']\\\"], [\\\"NECTAR\\\", \\\"['NECTAR', 'Non-synonymous Enriched Coding muTation ARchive']\\\"], [\\\"PeptiSite\\\", \\\"['PeptiSite']\\\"], [\\\"Fungal PCWDE Database\\\", \\\"['Fungal PCWDE Database', 'FPDB']\\\"], [\\\"NONATObase\\\", \\\"['NONATObase']\\\"], [\\\"SoyFN\\\", \\\"['SoyFN']\\\"], [\\\"NRLiSt BDB\\\", \\\"['NRLiSt BDB']\\\"], [\\\"fPoxDB\\\", \\\"['fPoxDB', 'Fungal Peroxidase Database']\\\"], [\\\"OMICtools\\\", \\\"['OMICtools']\\\"], [\\\"Panorama\\\", \\\"['Panorama']\\\"], [\\\"NPCDB\\\", \\\"['NPCDB', 'Native Pig and Chicken Breed Database']\\\"], [\\\"PfalDB\\\", \\\"['PfalDB']\\\"], [\\\"Tea Metabolome database\\\", \\\"['Tea Metabolome database', 'TMDB']\\\"], [\\\"PIGD\\\", \\\"['PIGD', 'Poaceae Intronless Genes Database']\\\"], [\\\"non-human primate reference transcriptome resource\\\", \\\"['non-human primate reference transcriptome resource', 'NHPRTR']\\\"], [\\\"ValidatorDB\\\", \\\"['ValidatorDB']\\\"], [\\\"OMA\\\", \\\"['OMA', 'Orthologous Matrix']\\\"], [\\\"OMIM\\\", \\\"['OMIM', 'Online Mendelian Inheritance in Man']\\\"], [\\\"Sinbase\\\", \\\"['Sinbase']\\\"], [\\\"EssOilDB\\\", \\\"['EssOilDB']\\\"], [\\\"ncRNA-DB\\\", \\\"['ncRNA-DB']\\\"], [\\\"ocsESTdb\\\", \\\"['ocsESTdb']\\\"], [\\\"PhytoREF\\\", \\\"['PhytoREF']\\\"], [\\\"DroughtDB\\\", \\\"['DroughtDB']\\\"], [\\\"Pedican\\\", \\\"['Pedican', 'of pediatric cancers']\\\"], [\\\"PhenomeCentral\\\", \\\"['PhenomeCentral']\\\"], [\\\"Cyanobacterial KnowledgeBase\\\", \\\"['Cyanobacterial KnowledgeBase', 'CKB']\\\"], [\\\"CTDB\\\", \\\"['CTDB', 'Chickpea Transcriptome Database']\\\"], [\\\"Physiome.jp\\\", \\\"['Physiome.jp']\\\"], [\\\"PDBe\\\", \\\"['PDBe']\\\"], [\\\"OpenTein\\\", \\\"['OpenTein', 'Teratoma Investigation']\\\"], [\\\"NCG\\\", \\\"['NCG', 'Network of Cancer Genes']\\\"], [\\\"PCOSKB\\\", \\\"['PCOSKB']\\\"], [\\\"PDBFlex\\\", \\\"['PDBFlex']\\\"], [\\\"NPIDB\\\", \\\"['NPIDB', 'Nucleic acid-Protein Interaction DataBase']\\\"], [\\\"Pfam\\\", \\\"['Pfam', 'the protein families database']\\\"], [\\\"NeisseriaBase\\\", \\\"['NeisseriaBase']\\\"], [\\\"PheKB\\\", \\\"['PheKB', 'Phenotype KnowledgeBase']\\\"], [\\\"Northeast India Helminth Parasite Information Database\\\", \\\"['Northeast India Helminth Parasite Information Database', 'NEIHPID']\\\"], [\\\"NLDB\\\", \\\"['NLDB', 'Natural Ligand DataBase']\\\"], [\\\"PathoYeastract\\\", \\\"['PathoYeastract', 'Search for Transcriptional Regulators And']\\\"], [\\\"3DFlu\\\", \\\"['3DFlu']\\\"], [\\\"WormBase ParaSite\\\", \\\"['WormBase ParaSite']\\\"], [\\\"OrthoDB\\\", \\\"['OrthoDB']\\\"], [\\\"PeTMbase\\\", \\\"['PeTMbase']\\\"], [\\\"PGDBj\\\", \\\"['PGDBj', 'Plant Genome DataBase Japan']\\\"], [\\\"PCoM-DB\\\", \\\"['PCoM-DB', 'protein co-migration database']\\\"], [\\\"Orchidstra\\\", \\\"['Orchidstra']\\\"], [\\\"OMDB\\\", \\\"['OMDB', 'Organic materials database']\\\"], [\\\"BCIP\\\", \\\"['BCIP', 'Breast Cancer Integrative Platform']\\\"], [\\\"OCaPPI-Db\\\", \\\"['OCaPPI-Db', 'Oligonucleotide Capture Probes for Pathogen Identification Database']\\\"], [\\\"PhagesDB\\\", \\\"['PhagesDB', 'Actinobacteriophage Database']\\\"], [\\\"REFOLDdb\\\", \\\"['REFOLDdb']\\\"], [\\\"Cancer PanorOmics\\\", \\\"['Cancer PanorOmics']\\\"], [\\\"SesameFG\\\", \\\"['SesameFG']\\\"], [\\\"NeuroMMSig\\\", \\\"['NeuroMMSig', 'Multimodal mechanistic signatures for neurodegenerative diseases']\\\"], [\\\"NuBBEDB\\\", \\\"['NuBBEDB', 'of Natural Products Database']\\\"], [\\\"ChannelsDB\\\", \\\"['ChannelsDB']\\\"], [\\\"DifferentialNet\\\", \\\"['DifferentialNet']\\\"], [\\\"OverGeneDB\\\", \\\"['OverGeneDB']\\\"], [\\\"STCRDab\\\", \\\"['STCRDab', 'Structural T-cell Receptor Database']\\\"], [\\\"OncoPPi\\\", \\\"['OncoPPi']\\\"], [\\\"Predicted Endogenous Viral Elements\\\", \\\"['Predicted Endogenous Viral Elements', 'pEVE']\\\"], [\\\"Panorama Public\\\", \\\"['Panorama Public']\\\"], [\\\"BiOnIC\\\", \\\"['BiOnIC']\\\"], [\\\"NvERTx\\\", \\\"['NvERTx', 'Nematostella vectensis Embryogenesis and Regeneration Transcriptomics']\\\"], [\\\"P-PAL\\\", \\\"['P-PAL', 'Procura-PALavras']\\\"], [\\\"PdumBase\\\", \\\"['PdumBase']\\\"], [\\\"PIMBase\\\", \\\"['PIMBase']\\\"], [\\\"PalmXplore\\\", \\\"['PalmXplore']\\\"], [\\\"NR-DBIND\\\", \\\"['NR-DBIND', 'Nuclear Receptors Database Including Negative Data']\\\"], [\\\"CoevDB\\\", \\\"['CoevDB']\\\"], [\\\"SkeletalVis\\\", \\\"['SkeletalVis']\\\"], [\\\"OGOB\\\", \\\"['OGOB', 'Oomycete Gene Order Browser']\\\"], [\\\"PhytoTypeDB\\\", \\\"['PhytoTypeDB']\\\"], [\\\"Placental Atlas Tool\\\", \\\"['Placental Atlas Tool', 'PAT']\\\"], [\\\"PathoPhenoDB\\\", \\\"['PathoPhenoDB', 'henomebrowser']\\\"], [\\\"PhenoGen\\\", \\\"['PhenoGen']\\\"], [\\\"PerMM\\\", \\\"['PerMM']\\\"], [\\\"ValTrendsDB\\\", \\\"['ValTrendsDB']\\\"], [\\\"PhenPath\\\", \\\"['PhenPath']\\\"], [\\\"Soybean-VCF2Genomes\\\", \\\"['Soybean-VCF2Genomes']\\\"], [\\\"OGRDB\\\", \\\"['OGRDB', 'Germline Receptor Database']\\\"], [\\\"OHNOLOGS\\\", \\\"['OHNOLOGS']\\\"], [\\\"PhaSePro\\\", \\\"['PhaSePro']\\\"], [\\\"PCOSBase\\\", \\\"['PCOSBase']\\\"], [\\\"ParameciumDB\\\", \\\"['ParameciumDB']\\\"], [\\\"PathDIP\\\", \\\"['PathDIP']\\\"], [\\\"Nc2Eye\\\", \\\"['Nc2Eye']\\\"], [\\\"HotSpot3D\\\", \\\"['HotSpot3D']\\\"], [\\\"OMEGA-NET\\\", \\\"['OMEGA-NET']\\\"], [\\\"ORDER\\\", \\\"['ORDER', 'Oilseed Rape Developmental Expression Resource']\\\"], [\\\"OpenProt\\\", \\\"['OpenProt']\\\"], [\\\"PCAT\\\", \\\"['PCAT', 'PDX for Childhood Cancer Therapeutics']\\\"], [\\\"Ocins\\\", \\\"['Ocins']\\\"], [\\\"PhycoCosm\\\", \\\"['PhycoCosm']\\\"], [\\\"AcrHub\\\", \\\"['AcrHub']\\\"], [\\\"PheLiGe\\\", \\\"['PheLiGe']\\\"], [\\\"OGDA\\\", \\\"['OGDA', 'Organelle Genome Database for Algae']\\\"], [\\\"piRNA-eQTL\\\", \\\"['piRNA-eQTL']\\\"], [\\\"NBIGV\\\", \\\"['NBIGV']\\\"], [\\\"Open Cancer TherApeutic Discovery\\\", \\\"['Open Cancer TherApeutic Discovery', 'OCTAD']\\\"], [\\\"O-GlcNAcAtlas\\\", \\\"['O-GlcNAcAtlas']\\\"], [\\\"NGD\\\", \\\"['NGD', 'Nelumbo Genome Database']\\\"], [\\\"PepTherDia\\\", \\\"['PepTherDia']\\\"], [\\\"CLRP\\\", \\\"['CLRP']\\\"], [\\\"OmniPath\\\", \\\"['OmniPath']\\\"], [\\\"PCPD\\\", \\\"['PCPD', 'Plant cytochrome P450 database']\\\"], [\\\"OCELOT\\\", \\\"['OCELOT', 'Organic Crystals in Electronic and']\\\"], [\\\"SorGSD\\\", \\\"['SorGSD', 'Sorghum Genome SNP Database']\\\"], [\\\"MiREDiBase\\\", \\\"['MiREDiBase']\\\"], [\\\"OrchidBase\\\", \\\"['OrchidBase']\\\"], [\\\"PathFams\\\", \\\"['PathFams']\\\"], [\\\"scMethBank\\\", \\\"['scMethBank']\\\"], [\\\"GEN\\\", \\\"['GEN', 'Gene Expression Nebulas']\\\"], [\\\"CeDR\\\", \\\"['CeDR']\\\"], [\\\"CancerSCEM\\\", \\\"['CancerSCEM', 'Cancer Single-cell Expression Map']\\\"], [\\\"OAS\\\", \\\"['OAS', 'Antibody Space']\\\"], [\\\"OncoDB\\\", \\\"['OncoDB']\\\"], [\\\"BrainBase\\\", \\\"['BrainBase']\\\"], [\\\"CompoDynamics\\\", \\\"['CompoDynamics']\\\"], [\\\"LncRNAWiki\\\", \\\"['LncRNAWiki']\\\"], [\\\"PDBe-KB\\\", \\\"['PDBe-KB', 'Protein Data Bank in Europe - Knowledge Base']\\\"], [\\\"IID\\\", \\\"['IID', 'Integrated Interactions Database']\\\"], [\\\"NP-MRD\\\", \\\"['NP-MRD', 'Natural Products Magnetic Resonance Database']\\\"], [\\\"ONQUADRO\\\", \\\"['ONQUADRO']\\\"], [\\\"PCDDB\\\", \\\"['PCDDB', 'Protein Circular Dichroism Data Bank']\\\"], [\\\"PARROT\\\", \\\"['PARROT']\\\"], [\\\"phytochemdb\\\", \\\"['phytochemdb']\\\"], [\\\"ExptNCI\\\", \\\"['ExptNCI', 'Experimental NCI Database']\\\"], [\\\"PhysioNet\\\", \\\"['PhysioNet']\\\"], [\\\"OLIDA\\\", \\\"['OLIDA', 'OLIgogenic diseases DAtabase']\\\"], [\\\"PtncRNAdb\\\", \\\"['PtncRNAdb', 'plant transfer RNA-derived non-coding']\\\"], [\\\"COVID-GPH\\\", \\\"['COVID-GPH', 'Health database']\\\"], [\\\"ODiseA\\\", \\\"['ODiseA', 'Organ-Disease Annotations']\\\"], [\\\"PanaxGDB\\\", \\\"['PanaxGDB']\\\"], [\\\"PHILM2Web\\\", \\\"['PHILM2Web', 'Pathogen-Host Interactions by']\\\"], [\\\"NEI-MPDB\\\", \\\"['NEI-MPDB', 'North East India medicinal plants database']\\\"], [\\\"Phosprof\\\", \\\"['Phosprof']\\\"], [\\\"Cell Taxonomy\\\", \\\"['Cell Taxonomy']\\\"], [\\\"ProPan\\\", \\\"['ProPan']\\\"], [\\\"Combined Transcriptome dataset of PCa Cell lines\\\", \\\"['Combined Transcriptome dataset of PCa Cell lines', 'CTPC']\\\"], [\\\"TWAS Atlas\\\", \\\"['TWAS Atlas']\\\"], [\\\"Brain Catalog\\\", \\\"['Brain Catalog']\\\"], [\\\"ASCancer Atlas\\\", \\\"['ASCancer Atlas']\\\"], [\\\"PICKLES\\\", \\\"['PICKLES', 'CRISPR Knockout']\\\"], [\\\"NEMAR\\\", \\\"['NEMAR']\\\"], [\\\"OakRootRNADB\\\", \\\"['OakRootRNADB']\\\"], [\\\"mirDIP\\\", \\\"['mirDIP']\\\"], [\\\"OsteoDIP\\\", \\\"['OsteoDIP', 'Osteoarthritis Data Integration Portal']\\\"], [\\\"GBA1-PD\\\", \\\"['GBA1-PD']\\\"], [\\\"ODEbase\\\", \\\"['ODEbase']\\\"], [\\\"ncR2Met\\\", \\\"['ncR2Met']\\\"], [\\\"NPcVar\\\", \\\"['NPcVar']\\\"], [\\\"MACdb\\\", \\\"['MACdb']\\\"], [\\\"OpenSRH\\\", \\\"['OpenSRH']\\\"], [\\\"MTSviewer\\\", \\\"['MTSviewer']\\\"], [\\\"PediCXR\\\", \\\"['PediCXR']\\\"], [\\\"PeruNPDB\\\", \\\"['PeruNPDB', 'Peruvian Natural Products Database']\\\"], [\\\"PearMODB\\\", \\\"['PearMODB', 'Pear Multiomics Database']\\\"], [\\\"INTERPIN\\\", \\\"['INTERPIN']\\\"], [\\\"Phylobone\\\", \\\"['Phylobone']\\\"], [\\\"gcCov\\\", \\\"['gcCov']\\\"], [\\\"RCoV19\\\", \\\"['RCoV19', 'Resource for Coronavirus 2019']\\\"], [\\\"IPOP\\\", \\\"['IPOP']\\\"], [\\\"hccTAAb\\\", \\\"['hccTAAb']\\\"], [\\\"Gene Expression Barcode\\\", \\\"['Gene Expression Barcode']\\\"], [\\\"FunSecKB\\\", \\\"['FunSecKB', 'Fungal Secretome KnowledgeBase']\\\"], [\\\"Noncoded Amino acids Database\\\", \\\"['Noncoded Amino acids Database', 'NCAD']\\\"], [\\\"RCGDB\\\", \\\"['RCGDB', 'Roche Cancer Genome Database']\\\"], [\\\"PHARE-KB\\\", \\\"['PHARE-KB']\\\"], [\\\"QuAD\\\", \\\"['QuAD', 'The Quantitative Assay Database']\\\"], [\\\"PPIRA\\\", \\\"['PPIRA']\\\"], [\\\"NeuroPedia\\\", \\\"['NeuroPedia']\\\"], [\\\"Polbase\\\", \\\"['Polbase']\\\"], [\\\"HotRegion\\\", \\\"['HotRegion']\\\"], [\\\"ProPortal\\\", \\\"['ProPortal']\\\"], [\\\"ProRepeat\\\", \\\"['ProRepeat']\\\"], [\\\"LegumeIP\\\", \\\"['LegumeIP']\\\"], [\\\"RecountDB\\\", \\\"['RecountDB']\\\"], [\\\"ProBiS-Database\\\", \\\"['ProBiS-Database']\\\"], [\\\"MGEx-Udb\\\", \\\"['MGEx-Udb', 'Mammalian Gene Expression Uterus database']\\\"], [\\\"Soybean Proteome Database\\\", \\\"['Soybean Proteome Database', 'SPD']\\\"], [\\\"PSC\\\", \\\"['PSC', 'protein surface classification']\\\"], [\\\"NESdb\\\", \\\"['NESdb']\\\"], [\\\"PRD\\\", \\\"['PRD']\\\"], [\\\"PolySac3DB\\\", \\\"['PolySac3DB']\\\"], [\\\"Voronoia4RNA\\\", \\\"['Voronoia4RNA']\\\"], [\\\"Quorumpeps\\\", \\\"['Quorumpeps']\\\"], [\\\"RGKbase\\\", \\\"['RGKbase', 'Rice Genome Knowledgebase']\\\"], [\\\"PTMcode\\\", \\\"['PTMcode']\\\"], [\\\"PRIMe\\\", \\\"['PRIMe']\\\"], [\\\"RAP-DB\\\", \\\"['RAP-DB', 'Rice Annotation Project Database']\\\"], [\\\"pseudoMap\\\", \\\"['pseudoMap']\\\"], [\\\"Planform\\\", \\\"['Planform', 'Planarian formalization']\\\"], [\\\"Human Testis Proteome Database\\\", \\\"['Human Testis Proteome Database', 'HTPD']\\\"], [\\\"RegTransBase\\\", \\\"['RegTransBase']\\\"], [\\\"PLANEX\\\", \\\"['PLANEX', 'PLAnt co-EXpression database']\\\"], [\\\"PMTED\\\", \\\"['PMTED', 'Plant MiRNA Target Expression Database']\\\"], [\\\"PRIMOS\\\", \\\"['PRIMOS', 'Protein Interaction and Molecule Search']\\\"], [\\\"M2SG\\\", \\\"['M2SG', 'Mendelian Inheritance in Man']\\\"], [\\\"RegPrecise\\\", \\\"['RegPrecise']\\\"], [\\\"PODB\\\", \\\"['PODB', 'Plant Organelles Database']\\\"], [\\\"Rice DB\\\", \\\"['Rice DB']\\\"], [\\\"P-MITE\\\", \\\"['P-MITE', 'plant MITE databases']\\\"], [\\\"MP:PD\\\", \\\"['MP:PD', 'membrane protein packing database']\\\"], [\\\"POGO-DB\\\", \\\"['POGO-DB']\\\"], [\\\"ProfileDB\\\", \\\"['ProfileDB']\\\"], [\\\"Arabidopsis Genome Encyclopedia II\\\", \\\"['Arabidopsis Genome Encyclopedia II', 'RARGE II']\\\"], [\\\"RDP\\\", \\\"['RDP', 'Ribosomal Database Project']\\\"], [\\\"SEED\\\", \\\"['SEED']\\\"], [\\\"POGs2\\\", \\\"['POGs2', 'Putative orthologous Groups 2 Database']\\\"], [\\\"CVDHD\\\", \\\"['CVDHD', 'cardiovascular disease herbal database']\\\"], [\\\"mUbiSiDa\\\", \\\"['mUbiSiDa', 'mammalian Ubiquitination Site Database']\\\"], [\\\"AlfalfaTFDB\\\", \\\"['AlfalfaTFDB']\\\"], [\\\"QAP\\\", \\\"['QAP', 'Quail Anatomy Portal']\\\"], [\\\"RetrogeneDB\\\", \\\"['RetrogeneDB']\\\"], [\\\"MeKO\\\", \\\"['MeKO', 'Metabolite Profiling Database for Knock-O']\\\"], [\\\"Polytraits\\\", \\\"['Polytraits']\\\"], [\\\"CSF-PR\\\", \\\"['CSF-PR', 'Cerebrospinal Fluid Proteome Resource']\\\"], [\\\"RGED\\\", \\\"['RGED', 'Renal Gene Expression Database']\\\"], [\\\"FOAM\\\", \\\"['FOAM', 'Functional Ontology Assignments for Metagenomes']\\\"], [\\\"NrichD\\\", \\\"['NrichD']\\\"], [\\\"SPGDB\\\", \\\"['SPGDB', 'Streptococcus pneumoniae Genome Database']\\\"], [\\\"REBASE\\\", \\\"['REBASE']\\\"], [\\\"PoSSuM\\\", \\\"['PoSSuM', 'PoSSuM drug search']\\\"], [\\\"ProteomeScout\\\", \\\"['ProteomeScout']\\\"], [\\\"Ensembl Plants\\\", \\\"['Ensembl Plants']\\\"], [\\\"Plant-PrAS\\\", \\\"['Plant-PrAS', 'Plant Protein Annotation Suite database']\\\"], [\\\"PathPPI\\\", \\\"['PathPPI']\\\"], [\\\"PlasmoGEM\\\", \\\"['PlasmoGEM', 'Plasmodium Genetic Modification']\\\"], [\\\"ALDB\\\", \\\"['ALDB']\\\"], [\\\"DeTEXT\\\", \\\"['DeTEXT']\\\"], [\\\"Pre_GI\\\", \\\"['Pre_GI', 'Predicted Genomic Islands database']\\\"], [\\\"MetazSecKB\\\", \\\"['MetazSecKB']\\\"], [\\\"ReprOlive\\\", \\\"['ReprOlive']\\\"], [\\\"FARE-CAFE\\\", \\\"['FARE-CAFE']\\\"], [\\\"PlantDHS\\\", \\\"['PlantDHS']\\\"], [\\\"CRISPRz\\\", \\\"['CRISPRz']\\\"], [\\\"ProPepper\\\", \\\"['ProPepper']\\\"], [\\\"PlanMine\\\", \\\"['PlanMine']\\\"], [\\\"HRGRN\\\", \\\"['HRGRN']\\\"], [\\\"ChemProt\\\", \\\"['ChemProt']\\\"], [\\\"RDIS\\\", \\\"['RDIS', 'The Rabies Disease Information System']\\\"], [\\\"dbPEC\\\", \\\"['dbPEC', 'Database for Preeclampsia']\\\"], [\\\"REGene\\\", \\\"['REGene', 'REgeneration Gene database']\\\"], [\\\"NCRO\\\", \\\"['NCRO', 'The Non-Coding RNA Ontology']\\\"], [\\\"ProbOnto\\\", \\\"['ProbOnto']\\\"], [\\\"RiboDB\\\", \\\"['RiboDB']\\\"], [\\\"OGRO\\\", \\\"['OGRO']\\\"], [\\\"Ricebase\\\", \\\"['Ricebase']\\\"], [\\\"DenHunt\\\", \\\"['DenHunt']\\\"], [\\\"circRNADb\\\", \\\"['circRNADb']\\\"], [\\\"PIECE\\\", \\\"['PIECE', 'Plant Intron Exon Comparison and Evolution']\\\"], [\\\"PMKB\\\", \\\"['PMKB', 'Precision Medicine Knowledge Base']\\\"], [\\\"RCSB PDB\\\", \\\"['RCSB PDB', 'The RCSB Protein Data Bank']\\\"], [\\\"jPOSTrepo\\\", \\\"['jPOSTrepo']\\\"], [\\\"PlantTFDB\\\", \\\"['PlantTFDB']\\\"], [\\\"PPDB\\\", \\\"['PPDB', 'Plant Promoter Database']\\\"], [\\\"RenalDB\\\", \\\"['RenalDB']\\\"], [\\\"POSTAR\\\", \\\"['POSTAR']\\\"], [\\\"PlantRGDB\\\", \\\"['PlantRGDB', 'Plant Retrocopied Gene DataBase']\\\"], [\\\"iPTMnet\\\", \\\"['iPTMnet']\\\"], [\\\"PlantExpress\\\", \\\"['PlantExpress']\\\"], [\\\"HIVoligoDB\\\", \\\"['HIVoligoDB', 'The HIV oligonucleotide database']\\\"], [\\\"AHCODA-DB\\\", \\\"['AHCODA-DB']\\\"], [\\\"BioTop\\\", \\\"['BioTop']\\\"], [\\\"PubChemQC\\\", \\\"['PubChemQC']\\\"], [\\\"PLMD\\\", \\\"['PLMD', 'protein lysine modification database']\\\"], [\\\"CrossCheck\\\", \\\"['CrossCheck']\\\"], [\\\"RefEx\\\", \\\"['RefEx', 'Reference Expression dataset']\\\"], [\\\"PMS_DN\\\", \\\"['PMS_DN', 'Phelan-McDermid syndrome data network']\\\"], [\\\"iSyTE\\\", \\\"['iSyTE']\\\"], [\\\"PAMBD\\\", \\\"['PAMBD', 'Pseudomonas aeruginosaMetabolome Database']\\\"], [\\\"miPepBase\\\", \\\"['miPepBase', 'Mimicry Peptide Database']\\\"], [\\\"Rfam\\\", \\\"['Rfam']\\\"], [\\\"CrusTF\\\", \\\"['CrusTF']\\\"], [\\\"ProtDataTherm\\\", \\\"['ProtDataTherm']\\\"], [\\\"Predicted Arabidopsis Interactome Resource\\\", \\\"['Predicted Arabidopsis Interactome Resource', 'AIR']\\\"], [\\\"ProtaBank\\\", \\\"['ProtaBank']\\\"], [\\\"FlyXCDB\\\", \\\"['FlyXCDB']\\\"], [\\\"RBPMetaDB\\\", \\\"['RBPMetaDB']\\\"], [\\\"realDB\\\", \\\"['realDB']\\\"], [\\\"PITDB\\\", \\\"['PITDB']\\\"], [\\\"PlaNC-TE\\\", \\\"['PlaNC-TE']\\\"], [\\\"HeteroMeth\\\", \\\"['HeteroMeth']\\\"], [\\\"PTMD\\\", \\\"['PTMD']\\\"], [\\\"RetroRules\\\", \\\"['RetroRules']\\\"], [\\\"REDfly\\\", \\\"['REDfly']\\\"], [\\\"PopHumanScan\\\", \\\"['PopHumanScan']\\\"], [\\\"qPhos\\\", \\\"['qPhos']\\\"], [\\\"PlantPAN\\\", \\\"['PlantPAN', 'Plant Promoter Analysis Navigator']\\\"], [\\\"ENPD\\\", \\\"['ENPD', 'Eukaryotic nucleic acid binding protein database']\\\"], [\\\"REXdb\\\", \\\"['REXdb', 'retrotransposon']\\\"], [\\\"RiboD\\\", \\\"['RiboD']\\\"], [\\\"PPEAO\\\", \\\"['PPEAO']\\\"], [\\\"refTSS\\\", \\\"['refTSS']\\\"], [\\\"PRISMOID\\\", \\\"['PRISMOID']\\\"], [\\\"PPTdb\\\", \\\"['PPTdb', 'Pathogenic Protist Transmembranome database']\\\"], [\\\"PolyASite\\\", \\\"['PolyASite']\\\"], [\\\"ReMap\\\", \\\"['ReMap']\\\"], [\\\"PMBD\\\", \\\"['PMBD', 'Plastics Microbial Biodegradation Database']\\\"], [\\\"PsyMuKB\\\", \\\"['PsyMuKB', 'NeuroPsychiatric Mutation Knowledge Base']\\\"], [\\\"TRANSNAP\\\", \\\"['TRANSNAP']\\\"], [\\\"ProTargetMiner\\\", \\\"['ProTargetMiner']\\\"], [\\\"PulmonDB\\\", \\\"['PulmonDB']\\\"], [\\\"SANDchild\\\", \\\"['SANDchild']\\\"], [\\\"REPIC\\\", \\\"['REPIC', 'RNA EPItranscriptome Collection']\\\"], [\\\"MGP Portal\\\", \\\"['MGP Portal', 'Mnemiopsis Genome Project Portal']\\\"], [\\\"IRESbase\\\", \\\"['IRESbase']\\\"], [\\\"TGV\\\", \\\"['TGV', 'Tomato Genomic Variation']\\\"], [\\\"PyDISH\\\", \\\"['PyDISH', 'DIStortion of Heme porphyrin']\\\"], [\\\"QSIdb\\\", \\\"['QSIdb', 'quorum sensing interference molecules']\\\"], [\\\"RASP\\\", \\\"['RASP', 'RNA Atlas of Structure Probing']\\\"], [\\\"PLncDB\\\", \\\"['PLncDB', 'Plant long non-coding RNA database']\\\"], [\\\"PolarProtDb\\\", \\\"['PolarProtDb']\\\"], [\\\"RBP2GO\\\", \\\"['RBP2GO']\\\"], [\\\"PRID\\\", \\\"['PRID', 'predicted rat interactome database']\\\"], [\\\"WCSdb\\\", \\\"['WCSdb', 'Wild Coffee Species database']\\\"], [\\\"RepeatsDB\\\", \\\"['RepeatsDB']\\\"], [\\\"BnaGVD\\\", \\\"['BnaGVD', 'rapeseed genomic variation database']\\\"], [\\\"TANTIGEN\\\", \\\"['TANTIGEN']\\\"], [\\\"HisPhosSite\\\", \\\"['HisPhosSite']\\\"], [\\\"ReMeDy\\\", \\\"['ReMeDy']\\\"], [\\\"emiRIT\\\", \\\"['emiRIT', 'extracting miRNA Information from Text']\\\"], [\\\"PINIR\\\", \\\"['PINIR', 'Pin-II type PIs Information Resource']\\\"], [\\\"REVA\\\", \\\"['REVA']\\\"], [\\\"ProBiS-Dock\\\", \\\"['ProBiS-Dock']\\\"], [\\\"Plant Metabolic Network\\\", \\\"['Plant Metabolic Network']\\\"], [\\\"POSTAR3\\\", \\\"['POSTAR3']\\\"], [\\\"PncsHub\\\", \\\"['PncsHub']\\\"], [\\\"PmiREN2.0\\\", \\\"['PmiREN2.0']\\\"], [\\\"QSDB\\\", \\\"['QSDB', 'Quorum Sensing Database']\\\"], [\\\"NetGenes\\\", \\\"['NetGenes']\\\"], [\\\"IDC\\\", \\\"['IDC']\\\"], [\\\"PPMdb\\\", \\\"['PPMdb', 'PlantPathMarks']\\\"], [\\\"qPTMplants\\\", \\\"['qPTMplants']\\\"], [\\\"Reactome\\\", \\\"['Reactome']\\\"], [\\\"PlantNexus\\\", \\\"['PlantNexus']\\\"], [\\\"PPI-HotspotDB\\\", \\\"['PPI-HotspotDB']\\\"], [\\\"PSnpBind\\\", \\\"['PSnpBind']\\\"], [\\\"PSINDB\\\", \\\"['PSINDB']\\\"], [\\\"protist.guru\\\", \\\"['protist.guru']\\\"], [\\\"DiaNat-DB\\\", \\\"['DiaNat-DB']\\\"], [\\\"PLAViMoP\\\", \\\"['PLAViMoP']\\\"], [\\\"PDXNet\\\", \\\"['PDXNet']\\\"], [\\\"PlantMWpIDB\\\", \\\"['PlantMWpIDB']\\\"], [\\\"RegulonDB\\\", \\\"['RegulonDB']\\\"], [\\\"ProbResist\\\", \\\"['ProbResist']\\\"], [\\\"QUADRatlas\\\", \\\"['QUADRatlas']\\\"], [\\\"qPTM\\\", \\\"['qPTM']\\\"], [\\\"PlantRNA\\\", \\\"['PlantRNA']\\\"], [\\\"AgeAnno\\\", \\\"['AgeAnno']\\\"], [\\\"RiboXYZ\\\", \\\"['RiboXYZ']\\\"], [\\\"Plant Intron-Splicing Efficiency Database\\\", \\\"['Plant Intron-Splicing Efficiency Database', 'PISE']\\\"], [\\\"PTMint\\\", \\\"['PTMint']\\\"], [\\\"PRALINE\\\", \\\"['PRALINE']\\\"], [\\\"IARA\\\", \\\"['IARA']\\\"], [\\\"CAFuncAPA\\\", \\\"['CAFuncAPA']\\\"], [\\\"ProSeqAProDb\\\", \\\"['ProSeqAProDb', 'ProSequence Assisted Protein Database']\\\"], [\\\"PurificationDB\\\", \\\"['PurificationDB']\\\"], [\\\"PLBD\\\", \\\"['PLBD', 'igand binding database']\\\"], [\\\"ProtReDox\\\", \\\"['ProtReDox']\\\"], [\\\"PGDB\\\", \\\"['PGDB', 'Pear Genomics Database']\\\"], [\\\"AFRbase\\\", \\\"['AFRbase', 'antifungal resistance database']\\\"], [\\\"SBKB\\\", \\\"['SBKB', 'Structural Biology Knowledgebase']\\\"], [\\\"SORGOdb\\\", \\\"['SORGOdb', 'Superoxide Reductase Gene']\\\"], [\\\"Nanosized Cancer Polymarker Biochip Project\\\", \\\"['Nanosized Cancer Polymarker Biochip Project', 'RBLA0']\\\"], [\\\"SNPeffect\\\", \\\"['SNPeffect']\\\"], [\\\"STITCH\\\", \\\"['STITCH', 'Tool for Interacting Chemicals']\\\"], [\\\"SEQwiki\\\", \\\"['SEQwiki', 'SEQanswers']\\\"], [\\\"R-loopDB\\\", \\\"['R-loopDB']\\\"], [\\\"RNAimmuno\\\", \\\"['RNAimmuno']\\\"], [\\\"SEQanswers\\\", \\\"['SEQanswers']\\\"], [\\\"C-GATE\\\", \\\"['C-GATE', 'affected by transposable']\\\"], [\\\"SSKB\\\", \\\"['SSKB', \\\\\\\"ren's Syndrome Knowledge Base\\\\\\\"]\\\"], [\\\"PCBOST\\\", \\\"['PCBOST', 'Protein Classification Based on Structural Trees']\\\"], [\\\"RMDB\\\", \\\"['RMDB', 'Mapping DataBase']\\\"], [\\\"SemMedDB\\\", \\\"['SemMedDB']\\\"], [\\\"Spliceosome\\\", \\\"['Spliceosome']\\\"], [\\\"HemaExplorer\\\", \\\"['HemaExplorer']\\\"], [\\\"SchistoDB\\\", \\\"['SchistoDB']\\\"], [\\\"Worm Developmental Dynamics Database\\\", \\\"['Worm Developmental Dynamics Database', 'WDDD']\\\"], [\\\"SEVA-DB\\\", \\\"['SEVA-DB', 'Standard European Vector Architecture']\\\"], [\\\"RiceXPro\\\", \\\"['RiceXPro']\\\"], [\\\"RiceFREND\\\", \\\"['RiceFREND']\\\"], [\\\"PR(2\\\", \\\"['PR(2', 'Protist Ribosomal Reference database']\\\"], [\\\"NURBS\\\", \\\"['NURBS']\\\"], [\\\"SINEBase\\\", \\\"['SINEBase']\\\"], [\\\"Wiki-Pi\\\", \\\"['Wiki-Pi']\\\"], [\\\"StRAP\\\", \\\"['StRAP', 'Stress Response Array Profiler']\\\"], [\\\"SignaLink\\\", \\\"['SignaLink']\\\"], [\\\"GPHR\\\", \\\"['GPHR']\\\"], [\\\"SoyKB\\\", \\\"['SoyKB', 'Soybean Knowledge Base']\\\"], [\\\"RiceWiki\\\", \\\"['RiceWiki']\\\"], [\\\"snOPY\\\", \\\"['snOPY', 'snoRNA orthological gene database']\\\"], [\\\"RADAR--a\\\", \\\"['RADAR--a']\\\"], [\\\"SWEETLEAD\\\", \\\"['SWEETLEAD']\\\"], [\\\"Selectome\\\", \\\"['Selectome']\\\"], [\\\"ArchDB\\\", \\\"['ArchDB']\\\"], [\\\"SFLD\\\", \\\"['SFLD', 'Structure-Function Linkage Database']\\\"], [\\\"SCOPe\\\", \\\"['SCOPe', 'Structural Classification of Proteins-extended']\\\"], [\\\"SABRE\\\", \\\"['SABRE', 'Systematic consolidation of Arabidopsis and']\\\"], [\\\"StaphyloBase\\\", \\\"['StaphyloBase']\\\"], [\\\"TCMSP\\\", \\\"['TCMSP', 'traditional Chinese medicine systems pharmacology database']\\\"], [\\\"SeaBase\\\", \\\"['SeaBase']\\\"], [\\\"ShrimpGPAT\\\", \\\"['ShrimpGPAT', 'Shrimp Gene and Protein Annotation Tool']\\\"], [\\\"STATdb\\\", \\\"['STATdb']\\\"], [\\\"Horse Single Nucleotide Polymorphism and Expression Database\\\", \\\"['Horse Single Nucleotide Polymorphism and Expression Database', 'HSDB']\\\"], [\\\"Isotopo\\\", \\\"['Isotopo']\\\"], [\\\"BioPortal\\\", \\\"['BioPortal']\\\"], [\\\"SkateBase\\\", \\\"['SkateBase']\\\"], [\\\"Complex Mixture Analysis by NMR\\\", \\\"['Complex Mixture Analysis by NMR', 'COLMAR']\\\"], [\\\"RNAcentral\\\", \\\"['RNAcentral']\\\"], [\\\"rrnDB\\\", \\\"['rrnDB', 'ribosomal RNA operon copy number database']\\\"], [\\\"SGN\\\", \\\"['SGN', 'Sol Genomics Network']\\\"], [\\\"PreDREM\\\", \\\"['PreDREM']\\\"], [\\\"TeloPIN\\\", \\\"['TeloPIN', 'Telomeric Proteins Interaction Network']\\\"], [\\\"SRD\\\", \\\"['SRD', 'Staphylococcal Regulatory RNA Database']\\\"], [\\\"DMD\\\", \\\"['DMD', 'Dietary MicroRNA Databases']\\\"], [\\\"SANCDB\\\", \\\"['SANCDB', 'South African Natural Compounds Database']\\\"], [\\\"SmedGD\\\", \\\"['SmedGD', 'Schmidtea mediterranea Genome Database']\\\"], [\\\"dasHPPboard\\\", \\\"['dasHPPboard']\\\"], [\\\"Evalutil\\\", \\\"['Evalutil']\\\"], [\\\"UCDB\\\", \\\"['UCDB', 'Ulcerative Colitis Database']\\\"], [\\\"SpirPro\\\", \\\"['SpirPro']\\\"], [\\\"RNASeqMetaDB\\\", \\\"['RNASeqMetaDB']\\\"], [\\\"DIVAS\\\", \\\"['DIVAS']\\\"], [\\\"rVarBase\\\", \\\"['rVarBase']\\\"], [\\\"Super-Enhancer Archive\\\", \\\"['Super-Enhancer Archive', 'SEA']\\\"], [\\\"Start2Fold\\\", \\\"['Start2Fold']\\\"], [\\\"SBR-Blood\\\", \\\"['SBR-Blood', 'hematopoietic Systems Biology Repository']\\\"], [\\\"AREsite2\\\", \\\"['AREsite2']\\\"], [\\\"iTAP\\\", \\\"['iTAP']\\\"], [\\\"CB\\\", \\\"['CB', 'Change Blindness Database']\\\"], [\\\"RVS\\\", \\\"['RVS']\\\"], [\\\"CCSI\\\", \\\"['CCSI', 'chromatin-chromatin spatial interaction']\\\"], [\\\"Cystic Fibrosis Cloud database\\\", \\\"['Cystic Fibrosis Cloud database', 'CFC']\\\"], [\\\"MD-CTS\\\", \\\"['MD-CTS', 'of Clinical and']\\\"], [\\\"SignaFish\\\", \\\"['SignaFish', 'A Zebrafish-Specific Signaling Pathway Resource']\\\"], [\\\"StreptoBase\\\", \\\"['StreptoBase']\\\"], [\\\"URSDB\\\", \\\"['URSDB', 'Universe of RNA Structures DataBase']\\\"], [\\\"RID\\\", \\\"['RID', 'Retrovirus Integration Database']\\\"], [\\\"SSBD\\\", \\\"['SSBD', 'Systems Science of Biological Dynamics database']\\\"], [\\\"UniProt\\\", \\\"['UniProt', 'Swiss-Prot']\\\"], [\\\"Functional Antibiotic Resistant Metagenomic Element\\\", \\\"['Functional Antibiotic Resistant Metagenomic Element', 'FARME']\\\"], [\\\"RAIN\\\", \\\"['RAIN', 'RNA-protein Association and Interaction Networks']\\\"], [\\\"NPCARE\\\", \\\"['NPCARE']\\\"], [\\\"FRED\\\", \\\"['FRED', 'Fine-Root Ecology Database']\\\"], [\\\"SilkPathDB\\\", \\\"['SilkPathDB', 'Silkworm Pathogen Database']\\\"], [\\\"BMW\\\", \\\"['BMW', 'Boechera Microsatellite Website']\\\"], [\\\"1-CMDb\\\", \\\"['1-CMDb', 'one-carbon metabolism database']\\\"], [\\\"MEGALEX\\\", \\\"['MEGALEX']\\\"], [\\\"RespCanDB\\\", \\\"['RespCanDB', 'Respiratory cancer database']\\\"], [\\\"eSnail\\\", \\\"['eSnail']\\\"], [\\\"SWI/SNF Infobase\\\", \\\"['SWI/SNF Infobase']\\\"], [\\\"RISE\\\", \\\"['RISE']\\\"], [\\\"RMBase\\\", \\\"['RMBase', 'RNA Modification Base']\\\"], [\\\"SCPortalen\\\", \\\"['SCPortalen']\\\"], [\\\"StemMapper\\\", \\\"['StemMapper']\\\"], [\\\"SBCDDB\\\", \\\"['SBCDDB', 'Sleeping Beauty Cancer Driver Database']\\\"], [\\\"SABIO-RK\\\", \\\"['SABIO-RK']\\\"], [\\\"NLSdb\\\", \\\"['NLSdb']\\\"], [\\\"rSNPBase\\\", \\\"['rSNPBase']\\\"], [\\\"StimulStat\\\", \\\"['StimulStat']\\\"], [\\\"oncoNcRNA\\\", \\\"['oncoNcRNA']\\\"], [\\\"REDIdb\\\", \\\"['REDIdb']\\\"], [\\\"SEVENS\\\", \\\"['SEVENS']\\\"], [\\\"dbLGL\\\", \\\"['dbLGL']\\\"], [\\\"SDADB\\\", \\\"['SDADB']\\\"], [\\\"RicyerDB\\\", \\\"['RicyerDB', 'Rice Yield-related Database']\\\"], [\\\"CIGene\\\", \\\"['CIGene']\\\"], [\\\"Sri Lankan Flora\\\", \\\"['Sri Lankan Flora']\\\"], [\\\"CropSNPdb\\\", \\\"['CropSNPdb']\\\"], [\\\"STADIUM\\\", \\\"['STADIUM', 'Specific tRNA Adaptive Index Compendium']\\\"], [\\\"SDRED\\\", \\\"['SDRED', 'Short-chain Dehydrogenases/Reductases Engineering Database']\\\"], [\\\"OpSatdb\\\", \\\"['OpSatdb']\\\"], [\\\"SpinachBase\\\", \\\"['SpinachBase']\\\"], [\\\"SliceIt\\\", \\\"['SliceIt']\\\"], [\\\"CancerGeneNet\\\", \\\"['CancerGeneNet']\\\"], [\\\"SCDevDB\\\", \\\"['SCDevDB']\\\"], [\\\"SilkDB\\\", \\\"['SilkDB']\\\"], [\\\"SCOP\\\", \\\"['SCOP', 'Structural Classification of Proteins']\\\"], [\\\"oRNAment\\\", \\\"['oRNAment']\\\"], [\\\"PRP\\\", \\\"['PRP', 'Plant Regulomics Portal']\\\"], [\\\"BGISEQ-500\\\", \\\"['BGISEQ-500']\\\"], [\\\"CMVdb\\\", \\\"['CMVdb', 'CytoMegaloVirus Infection Database']\\\"], [\\\"QPN\\\", \\\"['QPN', 'The Quebec Parkinson Network']\\\"], [\\\"RNA Characterization of Secondary Structure Motifs\\\", \\\"['RNA Characterization of Secondary Structure Motifs', 'CoSSMos']\\\"], [\\\"COLMAR Lipids\\\", \\\"['COLMAR Lipids']\\\"], [\\\"Bird Chromosome Database\\\", \\\"['Bird Chromosome Database', 'BCD']\\\"], [\\\"articles.ELM\\\", \\\"['articles.ELM']\\\"], [\\\"RNAWRE\\\", \\\"['RNAWRE']\\\"], [\\\"SAGER\\\", \\\"['SAGER', 'Symbiodiniaceae and Algal Genomic Resource Database']\\\"], [\\\"SPDB\\\", \\\"['SPDB', 'Swine Pathogen Database']\\\"], [\\\"TREND-DB\\\", \\\"['TREND-DB']\\\"], [\\\"STAB\\\", \\\"['STAB', 'Spatio-Temporal cell Atlas of the human Brain']\\\"], [\\\"DINAX\\\", \\\"['DINAX', 'Database for Inherited Ataxia']\\\"], [\\\"RMVar\\\", \\\"['RMVar']\\\"], [\\\"dbGuide\\\", \\\"['dbGuide']\\\"], [\\\"REDIportal\\\", \\\"['REDIportal']\\\"], [\\\"circVAR\\\", \\\"['circVAR']\\\"], [\\\"deepBase\\\", \\\"['deepBase']\\\"], [\\\"SoyBase\\\", \\\"['SoyBase']\\\"], [\\\"ColorCells\\\", \\\"['ColorCells']\\\"], [\\\"SARS CoV-2\\\", \\\"['SARS CoV-2']\\\"], [\\\"BSGatlas\\\", \\\"['BSGatlas']\\\"], [\\\"SARSCOVIDB\\\", \\\"['SARSCOVIDB', 'infection database']\\\"], [\\\"MAP\\\", \\\"['MAP', 'microRNA Analysis Portal']\\\"], [\\\"SistematX\\\", \\\"['SistematX']\\\"], [\\\"HSP\\\", \\\"['HSP', 'Human Salivary Proteome Wiki']\\\"], [\\\"BCGene\\\", \\\"['BCGene', 'brain cancer gene database']\\\"], [\\\"BARRA:CuRDa\\\", \\\"['BARRA:CuRDa', 'Benchmarking of ARtificial intelligence Research']\\\"], [\\\"circExp\\\", \\\"['circExp']\\\"], [\\\"SPENCER\\\", \\\"['SPENCER']\\\"], [\\\"SysInflam HuDB\\\", \\\"['SysInflam HuDB']\\\"], [\\\"RPS\\\", \\\"['RPS']\\\"], [\\\"Pol3Base\\\", \\\"['Pol3Base']\\\"], [\\\"SPICA\\\", \\\"['SPICA']\\\"], [\\\"R-loopBase\\\", \\\"['R-loopBase']\\\"], [\\\"recount3\\\", \\\"['recount3']\\\"], [\\\"StAmP-DB\\\", \\\"['StAmP-DB']\\\"], [\\\"SDC\\\", \\\"['SDC', 'Sex Differences in Cancer']\\\"], [\\\"SkewDB\\\", \\\"['SkewDB']\\\"], [\\\"SCDO\\\", \\\"['SCDO', 'The Sickle Cell Disease Ontology']\\\"], [\\\"GNHA\\\", \\\"['GNHA', 'Global Nutrition and Health Atlas']\\\"], [\\\"COG-UK-ME\\\", \\\"['COG-UK-ME', 'COG-UK Mutation Explorer']\\\"], [\\\"CUSP\\\", \\\"['CUSP', 'COVID-19 US State Policy']\\\"], [\\\"SilkBase\\\", \\\"['SilkBase']\\\"], [\\\"RNAsolo\\\", \\\"['RNAsolo']\\\"], [\\\"metaPR2\\\", \\\"['metaPR2']\\\"], [\\\"RNAloops\\\", \\\"['RNAloops']\\\"], [\\\"ROMA\\\", \\\"['ROMA', 'ROck reflectance for']\\\"], [\\\"RSDB\\\", \\\"['RSDB', 'rare skin disease database']\\\"], [\\\"RNAapt3D\\\", \\\"['RNAapt3D']\\\"], [\\\"RMG\\\", \\\"['RMG', 'Reaction Mechanism Generator']\\\"], [\\\"SIGNOR\\\", \\\"['SIGNOR', 'SIGnaling Network Open Resource']\\\"], [\\\"CmirC\\\", \\\"['CmirC']\\\"], [\\\"RM2Target\\\", \\\"['RM2Target']\\\"], [\\\"STRING\\\", \\\"['STRING']\\\"], [\\\"IntroVerse\\\", \\\"['IntroVerse']\\\"], [\\\"SEVA\\\", \\\"['SEVA']\\\"], [\\\"Ribo-uORF\\\", \\\"['Ribo-uORF']\\\"], [\\\"StrainSelect\\\", \\\"['StrainSelect']\\\"], [\\\"SRP\\\", \\\"['SRP']\\\"], [\\\"JSDB\\\", \\\"['JSDB', 'Japan Stroke Data Bank']\\\"], [\\\"sInterBase\\\", \\\"['sInterBase']\\\"], [\\\"MDSi\\\", \\\"['MDSi', 'Multi-omics Database for']\\\"], [\\\"SARS2Mutant\\\", \\\"['SARS2Mutant']\\\"], [\\\"SMACC\\\", \\\"['SMACC', 'Small Molecule Antiviral Compound Collection']\\\"], [\\\"scBrainMap\\\", \\\"['scBrainMap']\\\"], [\\\"SH2db\\\", \\\"['SH2db']\\\"], [\\\"SMDB\\\", \\\"['SMDB']\\\"], [\\\"RNA-Chrom\\\", \\\"['RNA-Chrom']\\\"], [\\\"BCLncRDB\\\", \\\"['BCLncRDB']\\\"], [\\\"GlutKNOIS\\\", \\\"['GlutKNOIS']\\\"], [\\\"SecretoMyc\\\", \\\"['SecretoMyc']\\\"], [\\\"Dysarthric Expressed Emotional Database\\\", \\\"['Dysarthric Expressed Emotional Database', 'DEED']\\\"], [\\\"Curcumin Chalcone Derivatives Database\\\", \\\"['Curcumin Chalcone Derivatives Database', 'CCDD']\\\"], [\\\"SoyDBean\\\", \\\"['SoyDBean']\\\"], [\\\"LncPCD\\\", \\\"['LncPCD']\\\"], [\\\"SplicingLore\\\", \\\"['SplicingLore']\\\"], [\\\"TSdb\\\", \\\"['TSdb']\\\"], [\\\"TGED\\\", \\\"['TGED', 'Tetrahymena Gene Expression Database']\\\"], [\\\"TparvaDB\\\", \\\"['TparvaDB']\\\"], [\\\"Gee Fu\\\", \\\"['Gee Fu']\\\"], [\\\"TDR Targets\\\", \\\"['TDR Targets']\\\"], [\\\"ScerTF\\\", \\\"['ScerTF']\\\"], [\\\"TranscriptomeBrowser\\\", \\\"['TranscriptomeBrowser']\\\"], [\\\"DeOri\\\", \\\"['DeOri', 'Database of Eukaryotic ORIs']\\\"], [\\\"IEDB-AR\\\", \\\"['IEDB-AR', 'Immune Epitope Database Analysis Resource']\\\"], [\\\"SigCS base\\\", \\\"['SigCS base']\\\"], [\\\"ValidNESs\\\", \\\"['ValidNESs']\\\"], [\\\"GeneTack\\\", \\\"['GeneTack']\\\"], [\\\"UUCD\\\", \\\"['UUCD']\\\"], [\\\"SwissRegulon\\\", \\\"['SwissRegulon']\\\"], [\\\"SUBA3\\\", \\\"['SUBA3', 'subcellular location database for Arabidopsis proteins']\\\"], [\\\"TFClass\\\", \\\"['TFClass']\\\"], [\\\"H2DB\\\", \\\"['H2DB']\\\"], [\\\"UCLA Multimodal Connectivity Database\\\", \\\"['UCLA Multimodal Connectivity Database', 'UMCD']\\\"], [\\\"TreeTFDB\\\", \\\"['TreeTFDB']\\\"], [\\\"UniVIO\\\", \\\"['UniVIO', 'Uniformed Viewer for Integrated Omics']\\\"], [\\\"TetraFGD\\\", \\\"['TetraFGD', 'Tetrahymena functional genomics database']\\\"], [\\\"TIARA\\\", \\\"['TIARA', 'Total Integrated Archive of short-Read and Array']\\\"], [\\\"TRACER\\\", \\\"['TRACER']\\\"], [\\\"switches.ELM\\\", \\\"['switches.ELM']\\\"], [\\\"Virtually Aligned Matched Molecular Pairs Including Receptor Environment\\\", \\\"['Virtually Aligned Matched Molecular Pairs Including Receptor Environment', 'VAMMPIRE']\\\"], [\\\"CHD@ZJU\\\", \\\"['CHD@ZJU']\\\"], [\\\"T2D@ZJU\\\", \\\"['T2D@ZJU']\\\"], [\\\"TISdb\\\", \\\"['TISdb']\\\"], [\\\"DPRP\\\", \\\"['DPRP']\\\"], [\\\"OncomiRdbB\\\", \\\"['OncomiRdbB']\\\"], [\\\"TuberQ\\\", \\\"['TuberQ']\\\"], [\\\"tRNADB-CE\\\", \\\"['tRNADB-CE']\\\"], [\\\"APADB\\\", \\\"['APADB']\\\"], [\\\"TTSMI\\\", \\\"['TTSMI', 'TTS Mapping and']\\\"], [\\\"MTB\\\", \\\"['MTB', 'Mouse Tumor Biology Database']\\\"], [\\\"UniPROBE\\\", \\\"['UniPROBE', 'Universal PBM Resource for Oligonucleotide Binding Evaluation']\\\"], [\\\"CATdb\\\", \\\"['CATdb']\\\"], [\\\"TOPDB\\\", \\\"['TOPDB', 'Topology Data Bank of Transmembrane Proteins']\\\"], [\\\"PNRD\\\", \\\"['PNRD', 'plant ncRNA database']\\\"], [\\\"SuperFly\\\", \\\"['SuperFly']\\\"], [\\\"SUPERFAMILY\\\", \\\"['SUPERFAMILY']\\\"], [\\\"IIIDB\\\", \\\"['IIIDB']\\\"], [\\\"Brain Tumor Database\\\", \\\"['Brain Tumor Database', 'Brain Tumor']\\\"], [\\\"GraP\\\", \\\"['GraP']\\\"], [\\\"DSigDB\\\", \\\"['DSigDB', 'Drug Signatures Database']\\\"], [\\\"PrOnto\\\", \\\"['PrOnto']\\\"], [\\\"SwissPalm\\\", \\\"['SwissPalm', 'Protein Palmitoylation database']\\\"], [\\\"SugarBindDB\\\", \\\"['SugarBindDB']\\\"], [\\\"TENOR\\\", \\\"['TENOR', 'Transcriptome ENcyclopedia Of Rice']\\\"], [\\\"VetBioBase\\\", \\\"['VetBioBase']\\\"], [\\\"CRN\\\", \\\"['CRN', 'Cancer RNA-Seq Nexus']\\\"], [\\\"TOMATOMA\\\", \\\"['TOMATOMA']\\\"], [\\\"ThebaDB\\\", \\\"['ThebaDB']\\\"], [\\\"TargetMine\\\", \\\"['TargetMine']\\\"], [\\\"TOPDOM\\\", \\\"['TOPDOM']\\\"], [\\\"TCCR\\\", \\\"['TCCR', 'Thyroid Cancer and Tumor Collaborative Registry']\\\"], [\\\"Structure Surfer\\\", \\\"['Structure Surfer']\\\"], [\\\"SorghumFDB\\\", \\\"['SorghumFDB']\\\"], [\\\"Verdant\\\", \\\"['Verdant']\\\"], [\\\"GGBN\\\", \\\"['GGBN', 'Global Genome Biodiversity Network']\\\"], [\\\"studyforrest\\\", \\\"['studyforrest']\\\"], [\\\"TcoF-DB\\\", \\\"['TcoF-DB']\\\"], [\\\"TFBSbank\\\", \\\"['TFBSbank']\\\"], [\\\"SUBA4\\\", \\\"['SUBA4', 'SUBcellular location database for Arabidopsis proteins']\\\"], [\\\"SMR\\\", \\\"['SMR', 'SWISS-MODEL Repository']\\\"], [\\\"TSTMP\\\", \\\"['TSTMP']\\\"], [\\\"MethSMRT\\\", \\\"['MethSMRT']\\\"], [\\\"ContaMiner\\\", \\\"['ContaMiner']\\\"], [\\\"TropGeneDB\\\", \\\"['TropGeneDB']\\\"], [\\\"RiceATM\\\", \\\"['RiceATM']\\\"], [\\\"ccNET\\\", \\\"['ccNET']\\\"], [\\\"UniCarbKB\\\", \\\"['UniCarbKB']\\\"], [\\\"TrypsNetDB\\\", \\\"['TrypsNetDB']\\\"], [\\\"DNApod\\\", \\\"['DNApod', 'DNA polymorphism annotation database']\\\"], [\\\"T-Time\\\", \\\"['T-Time']\\\"], [\\\"SweGen\\\", \\\"['SweGen']\\\"], [\\\"MSDB\\\", \\\"['MSDB', 'Microsatellite Database']\\\"], [\\\"SysteMHC\\\", \\\"['SysteMHC']\\\"], [\\\"PCSD\\\", \\\"['PCSD', 'Plant Chromatin State Database']\\\"], [\\\"TCPA\\\", \\\"['TCPA', 'The Cancer Proteome Atlas']\\\"], [\\\"Target-Pathogen\\\", \\\"['Target-Pathogen']\\\"], [\\\"VarCards\\\", \\\"['VarCards']\\\"], [\\\"mSignatureDB\\\", \\\"['mSignatureDB']\\\"], [\\\"RTFAdb\\\", \\\"['RTFAdb']\\\"], [\\\"THANATOS\\\", \\\"['THANATOS', 'The Autophagy, Necrosis, ApopTosis OrchestratorS']\\\"], [\\\"ZikaBase\\\", \\\"['ZikaBase']\\\"], [\\\"RNA Structurome Database\\\", \\\"['RNA Structurome Database']\\\"], [\\\"SynBioHub\\\", \\\"['SynBioHub']\\\"], [\\\"TOXsIgN\\\", \\\"['TOXsIgN']\\\"], [\\\"wwPDB\\\", \\\"['wwPDB', 'Worldwide Protein Data Bank']\\\"], [\\\"TISSUES\\\", \\\"['TISSUES']\\\"], [\\\"SACPD\\\", \\\"['SACPD', 'Saudi anti-human cancer plants database']\\\"], [\\\"Terabase\\\", \\\"['Terabase']\\\"], [\\\"TC3A\\\", \\\"['TC3A', 'UTR Atlas']\\\"], [\\\"SKmDB\\\", \\\"['SKmDB']\\\"], [\\\"ChIPprimersDB\\\", \\\"['ChIPprimersDB']\\\"], [\\\"PlaD\\\", \\\"['PlaD']\\\"], [\\\"UNITE\\\", \\\"['UNITE']\\\"], [\\\"Translocatome\\\", \\\"['Translocatome']\\\"], [\\\"BioGRID\\\", \\\"['BioGRID', 'Biological General Repository for Interaction Datasets']\\\"], [\\\"PSRN\\\", \\\"['PSRN', 'plant stress RNA-Seq nexus']\\\"], [\\\"UbiHub\\\", \\\"['UbiHub']\\\"], [\\\"CMEP\\\", \\\"['CMEP', 'Circulating MicroRNA Expression Profiling']\\\"], [\\\"TACCO\\\", \\\"['TACCO', 'Transcriptome Alterations in CanCer Omnibus']\\\"], [\\\"TPIA\\\", \\\"['TPIA', 'Tea Plant Information Archive']\\\"], [\\\"TCEA\\\", \\\"['TCEA', 'The Cancer Editome Atlas']\\\"], [\\\"BioPlanet\\\", \\\"['BioPlanet']\\\"], [\\\"SynGO\\\", \\\"['SynGO']\\\"], [\\\"TCR3d\\\", \\\"['TCR3d', 'T cell receptor structural repertoire database']\\\"], [\\\"VDJdb\\\", \\\"['VDJdb']\\\"], [\\\"T-psi-C\\\", \\\"['T-psi-C']\\\"], [\\\"TFBSshape\\\", \\\"['TFBSshape']\\\"], [\\\"VariCarta\\\", \\\"['VariCarta']\\\"], [\\\"SyntDB\\\", \\\"['SyntDB']\\\"], [\\\"MouseBytes\\\", \\\"['MouseBytes']\\\"], [\\\"TBPP\\\", \\\"['TBPP']\\\"], [\\\"TwinsMX\\\", \\\"['TwinsMX']\\\"], [\\\"ChIPSummitDB\\\", \\\"['ChIPSummitDB']\\\"], [\\\"VariBench\\\", \\\"['VariBench']\\\"], [\\\"SymGenDB\\\", \\\"['SymGenDB', 'Symbiotic Genomes Database']\\\"], [\\\"LeukmiR\\\", \\\"['LeukmiR']\\\"], [\\\"uORFlight\\\", \\\"['uORFlight']\\\"], [\\\"TeroKit\\\", \\\"['TeroKit']\\\"], [\\\"TCMIO\\\", \\\"['TCMIO']\\\"], [\\\"TrypInDB\\\", \\\"['TrypInDB']\\\"], [\\\"RSVdb\\\", \\\"['RSVdb']\\\"], [\\\"SYNERGxDB\\\", \\\"['SYNERGxDB']\\\"], [\\\"DrugSimDB\\\", \\\"['DrugSimDB']\\\"], [\\\"TeaCoN\\\", \\\"['TeaCoN']\\\"], [\\\"TLPdb\\\", \\\"['TLPdb']\\\"], [\\\"TEMPURA\\\", \\\"['TEMPURA', 'growth TEMPeratures of Usual and RAre prokaryotes']\\\"], [\\\"GSDB\\\", \\\"['GSDB', 'Genome Structure Database']\\\"], [\\\"SVAD\\\", \\\"['SVAD', 'SCD-associated Variants Annotation Database']\\\"], [\\\"TBDB\\\", \\\"['TBDB', 'T-box Riboswitch Annotation Database']\\\"], [\\\"tRFtarget\\\", \\\"['tRFtarget']\\\"], [\\\"OGEE\\\", \\\"['OGEE']\\\"], [\\\"CellTalkDB\\\", \\\"['CellTalkDB']\\\"], [\\\"ThRSDB\\\", \\\"['ThRSDB', 'Thai Rice Starch Database']\\\"], [\\\"SWITCHES\\\", \\\"['SWITCHES', 'for topologies of']\\\"], [\\\"SinEx\\\", \\\"['SinEx']\\\"], [\\\"TELEMED\\\", \\\"['TELEMED', 'telemedicine TELEMED']\\\"], [\\\"TE Hub\\\", \\\"['TE Hub']\\\"], [\\\"HFBD\\\", \\\"['HFBD', 'HF biomarker knowledge database']\\\"], [\\\"T-CoV\\\", \\\"['T-CoV', 'T-cell COVID-19 Atlas']\\\"], [\\\"Tracking Air Pollution in China\\\", \\\"['Tracking Air Pollution in China', 'TAP']\\\"], [\\\"SCISSOR\\\", \\\"['SCISSOR']\\\"], [\\\"SynWiki\\\", \\\"['SynWiki']\\\"], [\\\"TnCentral\\\", \\\"['TnCentral']\\\"], [\\\"ToppCell\\\", \\\"['ToppCell']\\\"], [\\\"PlantGSAD\\\", \\\"['PlantGSAD', 'Plant Gene Set Annotation Database']\\\"], [\\\"TISMO\\\", \\\"['TISMO', 'Tumor Immune Syngeneic MOuse']\\\"], [\\\"LIRBase\\\", \\\"['LIRBase']\\\"], [\\\"SuperTCM\\\", \\\"['SuperTCM']\\\"], [\\\"SubtiWiki\\\", \\\"['SubtiWiki']\\\"], [\\\"UbiBrowser\\\", \\\"['UbiBrowser']\\\"], [\\\"TcoFBase\\\", \\\"['TcoFBase']\\\"], [\\\"BDdb\\\", \\\"['BDdb', 'birth defect multi-omics database']\\\"], [\\\"CoDNaS-RNA\\\", \\\"['CoDNaS-RNA']\\\"], [\\\"UALCAN\\\", \\\"['UALCAN']\\\"], [\\\"Subcellular Location of Proteins in Arabidopsis\\\", \\\"['Subcellular Location of Proteins in Arabidopsis']\\\"], [\\\"SuPepMem\\\", \\\"['SuPepMem']\\\"], [\\\"cSurvival\\\", \\\"['cSurvival']\\\"], [\\\"OGA2\\\", \\\"['OGA2', 'The Ocean Gene Atlas']\\\"], [\\\"urPTMdb\\\", \\\"['urPTMdb']\\\"], [\\\"MicroSugar\\\", \\\"['MicroSugar']\\\"], [\\\"UPRome\\\", \\\"['UPRome', 'endoplasmic reticulum']\\\"], [\\\"THInCR\\\", \\\"['THInCR', 'The HPV Induced Cancer Resource']\\\"], [\\\"TIGER\\\", \\\"['TIGER', 'Tumor Immunotherapy Gene Expression Resource']\\\"], [\\\"TFLink\\\", \\\"['TFLink']\\\"], [\\\"MANE\\\", \\\"['MANE', 'expression profiles of MANE select transcripts']\\\"], [\\\"TFSyntax\\\", \\\"['TFSyntax']\\\"], [\\\"Umabs-DB\\\", \\\"['Umabs-DB']\\\"], [\\\"TACA\\\", \\\"['TACA', \\\\\\\"The Alzheimer's Cell Atlas\\\\\\\"]\\\"], [\\\"UFCG\\\", \\\"['UFCG', 'Universal Fungal Core Genes']\\\"], [\\\"DoriC\\\", \\\"['DoriC']\\\"], [\\\"TmAlphaFold\\\", \\\"['TmAlphaFold', 'Transmembrane AlphaFold database']\\\"], [\\\"TEDD\\\", \\\"['TEDD', 'Temporal Expression during Development Database']\\\"], [\\\"UTRdb\\\", \\\"['UTRdb']\\\"], [\\\"TIMEDB\\\", \\\"['TIMEDB', 'tumor immune micro-environment cell composition database']\\\"], [\\\"TOXRIC\\\", \\\"['TOXRIC']\\\"], [\\\"TVIR\\\", \\\"['TVIR', 'Vegetable Information Resource']\\\"], [\\\"TogoVar\\\", \\\"['TogoVar']\\\"], [\\\"TCMSID\\\", \\\"['TCMSID', 'Traditional Chinese Medicine Simplified Integrated Database']\\\"], [\\\"TriTrypDB\\\", \\\"['TriTrypDB']\\\"], [\\\"UcTCRdb\\\", \\\"['UcTCRdb']\\\"], [\\\"NbThermo-a\\\", \\\"['NbThermo-a']\\\"], [\\\"TRSRD\\\", \\\"['TRSRD']\\\"], [\\\"TRIPBASE\\\", \\\"['TRIPBASE']\\\"], [\\\"G4Bank\\\", \\\"['G4Bank']\\\"], [\\\"TarpiD\\\", \\\"['TarpiD', 'Targets of piRNA Database']\\\"], [\\\"CPB-LEX\\\", \\\"['CPB-LEX', \\\\\\\"The Children's Picture Books Lexicon\\\\\\\"]\\\"], [\\\"PlanTEnrichment\\\", \\\"['PlanTEnrichment']\\\"], [\\\"TICBase\\\", \\\"['TICBase']\\\"], [\\\"TCMBank\\\", \\\"['TCMBank']\\\"], [\\\"SYSCID\\\", \\\"['SYSCID']\\\"], [\\\"Twnbiome\\\", \\\"['Twnbiome']\\\"], [\\\"SoybeanGDB\\\", \\\"['SoybeanGDB']\\\"], [\\\"TrainingSpace\\\", \\\"['TrainingSpace']\\\"], [\\\"AID-Net\\\", \\\"['AID-Net']\\\"], [\\\"B2G-FAR\\\", \\\"['B2G-FAR', 'Annotation Repository']\\\"], [\\\"MTB-PCDB\\\", \\\"['MTB-PCDB', 'The Mycobacterium tuberculosis Proteome Comparison Database']\\\"], [\\\"PICCOLO\\\", \\\"['PICCOLO']\\\"], [\\\"AluHunter\\\", \\\"['AluHunter']\\\"], [\\\"IGD\\\", \\\"['IGD', 'Intronless Gene Database']\\\"], [\\\"CAPS-DB\\\", \\\"['CAPS-DB']\\\"], [\\\"AspGD\\\", \\\"['AspGD', 'Aspergillus Genome Database']\\\"], [\\\"BFluenza\\\", \\\"['BFluenza']\\\"], [\\\"SitEx\\\", \\\"['SitEx']\\\"], [\\\"seeQTL\\\", \\\"['seeQTL']\\\"], [\\\"CAMPS\\\", \\\"['CAMPS']\\\"], [\\\"GROMACS\\\", \\\"['GROMACS']\\\"], [\\\"FED\\\", \\\"['FED', 'Fusion Events Database']\\\"], [\\\"MaxQB\\\", \\\"['MaxQB']\\\"], [\\\"BiodEnz\\\", \\\"['BiodEnz']\\\"], [\\\"RiceRBP\\\", \\\"['RiceRBP']\\\"], [\\\"AFFINOMICS\\\", \\\"['AFFINOMICS']\\\"], [\\\"IGFmdb\\\", \\\"['IGFmdb', 'The insulin-like growth factor mutation database']\\\"], [\\\"VIP DB\\\", \\\"['VIP DB', 'Protein domain DataBase']\\\"], [\\\"AthaMap\\\", \\\"['AthaMap']\\\"], [\\\"Actinobase\\\", \\\"['Actinobase']\\\"], [\\\"admetSAR\\\", \\\"['admetSAR']\\\"], [\\\"WholeCellKB\\\", \\\"['WholeCellKB']\\\"], [\\\"DoBISCUIT\\\", \\\"['DoBISCUIT', 'Database of BIoSynthesis clusters']\\\"], [\\\"SILVA\\\", \\\"['SILVA']\\\"], [\\\"DegraBase\\\", \\\"['DegraBase']\\\"], [\\\"DB Dehydrogenase\\\", \\\"['DB Dehydrogenase']\\\"], [\\\"MycoProtease-DB\\\", \\\"['MycoProtease-DB']\\\"], [\\\"AMDD\\\", \\\"['AMDD', 'anti microbial drug database']\\\"], [\\\"BIRS\\\", \\\"['BIRS', 'BIRS - Bioterrorism Information Retrieval System']\\\"], [\\\"RCPedia\\\", \\\"['RCPedia']\\\"], [\\\"EsPal\\\", \\\"['EsPal']\\\"], [\\\"PEpiD\\\", \\\"['PEpiD', 'Prostate Epigenetic Database']\\\"], [\\\"HGPGD\\\", \\\"['HGPGD', 'human gene population genetic difference database']\\\"], [\\\"TIMBAL\\\", \\\"['TIMBAL']\\\"], [\\\"Linc2GO\\\", \\\"['Linc2GO']\\\"], [\\\"CREDO\\\", \\\"['CREDO']\\\"], [\\\"MycoSec\\\", \\\"['MycoSec', 'Mycobacterium secretome analysis']\\\"], [\\\"iRefWeb\\\", \\\"['iRefWeb']\\\"], [\\\"LPSN\\\", \\\"['LPSN', 'List of Prokaryotic Names with Standing in Nomenclature']\\\"], [\\\"MultitaskProtDB\\\", \\\"['MultitaskProtDB']\\\"], [\\\"VTCdb\\\", \\\"['VTCdb']\\\"], [\\\"SATuRN\\\", \\\"['SATuRN', 'African Treatment Resistance Network']\\\"], [\\\"DR-GAS\\\", \\\"['DR-GAS']\\\"], [\\\"BGBX\\\", \\\"['BGBX', 'Brazilian Genetic Database of Chromosome X']\\\"], [\\\"BambooGDB\\\", \\\"['BambooGDB']\\\"], [\\\"VirusMentha\\\", \\\"['VirusMentha']\\\"], [\\\"RADB\\\", \\\"['RADB', 'Database of Rheumatoid Arthritis-related Polymorphisms']\\\"], [\\\"ACPro\\\", \\\"['ACPro']\\\"], [\\\"BARCdb\\\", \\\"['BARCdb', 'The Biobanking Analysis Resource Catalogue']\\\"], [\\\"Dr.VIS\\\", \\\"['Dr.VIS']\\\"], [\\\"Binding MOAD\\\", \\\"['Binding MOAD']\\\"], [\\\"ProKinO\\\", \\\"['ProKinO']\\\"], [\\\"VirHostNet\\\", \\\"['VirHostNet']\\\"], [\\\"Addgene Repository\\\", \\\"['Addgene Repository']\\\"], [\\\"Splooce\\\", \\\"['Splooce']\\\"], [\\\"Araport\\\", \\\"['Araport']\\\"], [\\\"arrayMap\\\", \\\"['arrayMap']\\\"], [\\\"HProtDB\\\", \\\"['HProtDB', 'Halophile protein database']\\\"], [\\\"LSE-Sign\\\", \\\"['LSE-Sign']\\\"], [\\\"REGULATOR\\\", \\\"['REGULATOR']\\\"], [\\\"dbVOR\\\", \\\"['dbVOR']\\\"], [\\\"Metrabase\\\", \\\"['Metrabase']\\\"], [\\\"PhyloNONCODE\\\", \\\"['PhyloNONCODE']\\\"], [\\\"WaspAtlas\\\", \\\"['WaspAtlas']\\\"], [\\\"WIDDE\\\", \\\"['WIDDE']\\\"], [\\\"VigGS\\\", \\\"['VigGS', 'Vigna Genome Server']\\\"], [\\\"SBMDb\\\", \\\"['SBMDb']\\\"], [\\\"WheatExp\\\", \\\"['WheatExp']\\\"], [\\\"Psmir\\\", \\\"['Psmir']\\\"], [\\\"OGDD\\\", \\\"['OGDD', 'Olive Genetic Diversity Database']\\\"], [\\\"AmphibiaChina\\\", \\\"['AmphibiaChina']\\\"], [\\\"GPKB\\\", \\\"['GPKB', 'Genomic and Proteomic Knowledge Base']\\\"], [\\\"ProTherm\\\", \\\"['ProTherm']\\\"], [\\\"BC5CDR\\\", \\\"['BC5CDR']\\\"], [\\\"HLA-ADR\\\", \\\"['HLA-ADR', 'Allele Frequency Net Database']\\\"], [\\\"BioSharing\\\", \\\"['BioSharing']\\\"], [\\\"DREMECELS\\\", \\\"['DREMECELS']\\\"], [\\\"HPIDB\\\", \\\"['HPIDB']\\\"], [\\\"BcCluster\\\", \\\"['BcCluster']\\\"], [\\\"VHLdb\\\", \\\"['VHLdb']\\\"], [\\\"ANTISTAPHYBASE\\\", \\\"['ANTISTAPHYBASE']\\\"], [\\\"WERAM\\\", \\\"['WERAM']\\\"], [\\\"PGAdb-builder\\\", \\\"['PGAdb-builder']\\\"], [\\\"NSDNA\\\", \\\"['NSDNA', 'Nervous System Disease NcRNAome Atlas']\\\"], [\\\"AraQTL\\\", \\\"['AraQTL']\\\"], [\\\"wgMLST\\\", \\\"['wgMLST']\\\"], [\\\"ImmunemiR\\\", \\\"['ImmunemiR']\\\"], [\\\"coexpressMAP\\\", \\\"['coexpressMAP', 'human-mouse general co-expression difference database']\\\"], [\\\"BioM2MetDisease\\\", \\\"['BioM2MetDisease']\\\"], [\\\"LNCmap\\\", \\\"['LNCmap', 'LncRNA Connectivity Map']\\\"], [\\\"porcine translational research database\\\", \\\"['porcine translational research database']\\\"], [\\\"MetSigDis\\\", \\\"['MetSigDis']\\\"], [\\\"Lnc2Meth\\\", \\\"['Lnc2Meth']\\\"], [\\\"MSDD\\\", \\\"['MSDD', 'MiRNA SNP Disease Database']\\\"], [\\\"ActiveDriverDB\\\", \\\"['ActiveDriverDB']\\\"], [\\\"TaSSRDb\\\", \\\"['TaSSRDb', 'Triticum aestivum SSR database']\\\"], [\\\"ASGDB\\\", \\\"['ASGDB', 'sinensis genome database']\\\"], [\\\"PDZBase\\\", \\\"['PDZBase']\\\"], [\\\"MEGADOCK\\\", \\\"['MEGADOCK']\\\"], [\\\"KampoDB\\\", \\\"['KampoDB']\\\"], [\\\"HypoDB\\\", \\\"['HypoDB']\\\"], [\\\"WoM\\\", \\\"['WoM']\\\"], [\\\"AWESOME\\\", \\\"['AWESOME', 'Exhibits SNP']\\\"], [\\\"AgBioData\\\", \\\"['AgBioData']\\\"], [\\\"VIPERdb\\\", \\\"['VIPERdb', 'Particle ExploreR data base']\\\"], [\\\"PanGFR-HM\\\", \\\"['PanGFR-HM']\\\"], [\\\"EndoDB\\\", \\\"['EndoDB']\\\"], [\\\"ViBrism\\\", \\\"['ViBrism']\\\"], [\\\"VIETHERB\\\", \\\"['VIETHERB']\\\"], [\\\"AutophagySMDB\\\", \\\"['AutophagySMDB', 'Autophagy Small Molecule Database']\\\"], [\\\"ccPDB\\\", \\\"['ccPDB']\\\"], [\\\"HumCFS\\\", \\\"['HumCFS']\\\"], [\\\"GXB\\\", \\\"['GXB']\\\"], [\\\"VPGD\\\", \\\"['VPGD']\\\"], [\\\"vMS-Share\\\", \\\"['vMS-Share', 'Visual Mass-Spec Share']\\\"], [\\\"CFEA\\\", \\\"['CFEA']\\\"], [\\\"WALTZ-DB\\\", \\\"['WALTZ-DB']\\\"], [\\\"Atacama\\\", \\\"['Atacama']\\\"], [\\\"GSAD\\\", \\\"['GSAD', 'Genome Size in Asteraceae Database']\\\"], [\\\"LnCeVar\\\", \\\"['LnCeVar']\\\"], [\\\"ncRNA2MetS\\\", \\\"['ncRNA2MetS', 'metabolic syndrome-associated non']\\\"], [\\\"PhenoModifier\\\", \\\"['PhenoModifier']\\\"], [\\\"WormBase\\\", \\\"['WormBase']\\\"], [\\\"ANISEED\\\", \\\"['ANISEED']\\\"], [\\\"TerrestrialMetagenomeDB\\\", \\\"['TerrestrialMetagenomeDB']\\\"], [\\\"VetCOT\\\", \\\"['VetCOT', 'Trauma Registry']\\\"], [\\\"CPAD\\\", \\\"['CPAD', 'Curated Protein Aggregation Database']\\\"], [\\\"FHLdb\\\", \\\"['FHLdb', 'Familial Hemophagocytic']\\\"], [\\\"ProCaff\\\", \\\"['ProCaff', 'carbohydrate complex binding affinity database']\\\"], [\\\"AmazonFish\\\", \\\"['AmazonFish']\\\"], [\\\"WeiBI\\\", \\\"['WeiBI', 'WeiBiologicalInteractions']\\\"], [\\\"CancerEnD\\\", \\\"['CancerEnD']\\\"], [\\\"DenvInD\\\", \\\"['DenvInD']\\\"], [\\\"TTRMDB\\\", \\\"['TTRMDB', 'Transthyretin mutant database']\\\"], [\\\"PRMdb\\\", \\\"['PRMdb', 'high-throughput analysis of modified']\\\"], [\\\"VitiVar\\\", \\\"['VitiVar']\\\"], [\\\"ATdb\\\", \\\"['ATdb', 'Autophagy and Tumor Database']\\\"], [\\\"TransCirc\\\", \\\"['TransCirc']\\\"], [\\\"VPTMdb\\\", \\\"['VPTMdb', 'viral posttranslational modification database']\\\"], [\\\"MASI\\\", \\\"['MASI', 'microbiota-active substance interactions database']\\\"], [\\\"circR2Cancer\\\", \\\"['circR2Cancer']\\\"], [\\\"CPPsite\\\", \\\"['CPPsite']\\\"], [\\\"ProThermDB\\\", \\\"['ProThermDB']\\\"], [\\\"Lnc2Cancer\\\", \\\"['Lnc2Cancer']\\\"], [\\\"LnCeCell\\\", \\\"['LnCeCell']\\\"], [\\\"HumanMetagenomeDB\\\", \\\"['HumanMetagenomeDB']\\\"], [\\\"Virxicon\\\", \\\"['Virxicon']\\\"], [\\\"BioMaster\\\", \\\"['BioMaster']\\\"], [\\\"Viral Host Range database\\\", \\\"['Viral Host Range database', 'ViralHostRangeDB']\\\"], [\\\"OryzaGenome\\\", \\\"['OryzaGenome']\\\"], [\\\"WCO-Lite\\\", \\\"['WCO-Lite', 'orld Catalogue of Opiliones']\\\"], [\\\"virusMS\\\", \\\"['virusMS']\\\"], [\\\"SAPdb\\\", \\\"['SAPdb']\\\"], [\\\"FermFooDb\\\", \\\"['FermFooDb']\\\"], [\\\"Monosaccharide Biosynthesis Pathways Database\\\", \\\"['Monosaccharide Biosynthesis Pathways Database']\\\"], [\\\"TarDB\\\", \\\"['TarDB']\\\"], [\\\"MassBase\\\", \\\"['MassBase']\\\"], [\\\"B3Pdb\\\", \\\"['B3Pdb']\\\"], [\\\"TCM-Blast\\\", \\\"['TCM-Blast', 'traditional Chinese Medicine Basic']\\\"], [\\\"CanImmunother\\\", \\\"['CanImmunother']\\\"], [\\\"ImmuCellDB\\\", \\\"['ImmuCellDB']\\\"], [\\\"ACNPD\\\", \\\"['ACNPD', 'anti-cancer natural product database']\\\"], [\\\"ProNAB\\\", \\\"['ProNAB']\\\"], [\\\"Bayberry\\\", \\\"['Bayberry']\\\"], [\\\"SomaMutDB\\\", \\\"['SomaMutDB']\\\"], [\\\"scAPAatlas\\\", \\\"['scAPAatlas']\\\"], [\\\"T-ARDIS\\\", \\\"['T-ARDIS', 'Target-Adverse Reaction Database Integrated Search']\\\"], [\\\"VEuPathDB\\\", \\\"['VEuPathDB', 'Eukaryotic Pathogen, Vector and Host Informatics Resource']\\\"], [\\\"ViroidDB\\\", \\\"['ViroidDB']\\\"], [\\\"dbPepNeo\\\", \\\"['dbPepNeo']\\\"], [\\\"TMC-SNPdb\\\", \\\"['TMC-SNPdb']\\\"], [\\\"ADmeth\\\", \\\"['ADmeth']\\\"], [\\\"DSD\\\", \\\"['DSD', 'Differences of Sex Development']\\\"], [\\\"Ab-CoV\\\", \\\"['Ab-CoV']\\\"], [\\\"BacVacDB\\\", \\\"['BacVacDB']\\\"], [\\\"PGG.SV\\\", \\\"['PGG.SV']\\\"], [\\\"ArVirInd\\\", \\\"['ArVirInd']\\\"], [\\\"MPAD\\\", \\\"['MPAD', 'Membrane Protein complex binding Affinity Database']\\\"], [\\\"MarineMetagenomeDB\\\", \\\"['MarineMetagenomeDB', 'Marine Metagenome Metadata Database']\\\"], [\\\"R-SIM\\\", \\\"['R-SIM', 'RNA-Small molecule Interaction']\\\"], [\\\"psnGPCRdb\\\", \\\"['psnGPCRdb']\\\"], [\\\"ENCD\\\", \\\"['ENCD']\\\"], [\\\"SalivaDB\\\", \\\"['SalivaDB']\\\"], [\\\"eaQTLdb\\\", \\\"['eaQTLdb', 'enhancer activity quantitative trait loci database']\\\"], [\\\"WASP\\\", \\\"['WASP', 'the World Archives of Species Perception']\\\"], [\\\"FungiProteomeDB\\\", \\\"['FungiProteomeDB']\\\"], [\\\"Anti Mtb medicinal plant database\\\", \\\"['Anti Mtb medicinal plant database', 'AMMPDB']\\\"], [\\\"NAFLDkb\\\", \\\"['NAFLDkb']\\\"], [\\\"AADB\\\", \\\"['AADB', 'Antibiotic Adjuvant DataBase']\\\"], [\\\"HighAltitudeOmicsDB\\\", \\\"['HighAltitudeOmicsDB']\\\"], [\\\"VaGs\\\", \\\"['VaGs', 'album Gene Space database']\\\"], [\\\"VExD\\\", \\\"['VExD', 'Expression Database']\\\"], [\\\"WebSTR\\\", \\\"['WebSTR']\\\"], [\\\"AAMDB\\\", \\\"['AAMDB', 'Animal-Associated Metagenome Metadata Database']\\\"], [\\\"Mycobacteriaceae Phenome Atlas\\\", \\\"['Mycobacteriaceae Phenome Atlas', 'MPA']\\\"], [\\\"Mip-mining\\\", \\\"['Mip-mining']\\\"], [\\\"CEREALAB\\\", \\\"['CEREALAB']\\\"], [\\\"MSigDB\\\", \\\"['MSigDB', 'Molecular signatures database']\\\"], [\\\"KUPKB\\\", \\\"['KUPKB', 'a kidney and urinary pathway']\\\"], [\\\"MeRy-B\\\", \\\"['MeRy-B']\\\"], [\\\"CytReD\\\", \\\"['CytReD', 'Cytokine Receptor Database']\\\"], [\\\"FlyExpress\\\", \\\"['FlyExpress']\\\"], [\\\"MACiE\\\", \\\"['MACiE', 'Mechanism, Annotation and Classification in Enzyme']\\\"], [\\\"ConoServer\\\", \\\"['ConoServer']\\\"], [\\\"COD\\\", \\\"['COD', 'Crystallography Open Database']\\\"], [\\\"CoryneRegNet\\\", \\\"['CoryneRegNet']\\\"], [\\\"CADRE\\\", \\\"['CADRE', 'Central Aspergillus Data REpository']\\\"], [\\\"GOA\\\", \\\"['GOA', 'Gene Ontology Annotation']\\\"], [\\\"MitoZoa\\\", \\\"['MitoZoa', 'MITOchondrial genome database of metaZOAns']\\\"], [\\\"IRD\\\", \\\"['IRD', 'Influenza Research Database']\\\"], [\\\"DiatomCyc\\\", \\\"['DiatomCyc']\\\"], [\\\"DFL\\\", \\\"['DFL', 'Fish Library']\\\"], [\\\"ExPASy\\\", \\\"['ExPASy']\\\"], [\\\"OTD\\\", \\\"['OTD', 'Oomycete Transcriptomics Database']\\\"], [\\\"ECG-ViEW\\\", \\\"['ECG-ViEW', 'Electrocardiogram Vigilance with Electronic data Warehouse II']\\\"], [\\\"CRCgene\\\", \\\"['CRCgene']\\\"], [\\\"MetaboLights\\\", \\\"['MetaboLights']\\\"], [\\\"ClusterMine360\\\", \\\"['ClusterMine360']\\\"], [\\\"ECMDB\\\", \\\"['ECMDB', 'coli Metabolome Database']\\\"], [\\\"SpliceAid-F\\\", \\\"['SpliceAid-F']\\\"], [\\\"ChEBI\\\", \\\"['ChEBI']\\\"], [\\\"IPD\\\", \\\"['IPD', 'The Immuno Polymorphism Database']\\\"], [\\\"ChemProt-2.0\\\", \\\"['ChemProt-2.0']\\\"], [\\\"Allen Brain Atlas\\\", \\\"['Allen Brain Atlas']\\\"], [\\\"DGVa\\\", \\\"['DGVa']\\\"], [\\\"CIL-CCDB\\\", \\\"['CIL-CCDB', 'an image library-CCDB']\\\"], [\\\"BRENDA\\\", \\\"['BRENDA', 'BRaunschweig ENzyme DAtabase']\\\"], [\\\"CrossTope\\\", \\\"['CrossTope']\\\"], [\\\"EimeriaTDB\\\", \\\"['EimeriaTDB', 'Eimeria transcript DB']\\\"], [\\\"DESMSCI\\\", \\\"['DESMSCI', 'Dragon Exploration System on Marine Sponge Compounds Interactions']\\\"], [\\\"CYP-allele\\\", \\\"['CYP-allele', 'Human Cytochrome P450 Allele (CYP-allele) Nomenclature Database']\\\"], [\\\"CathaCyc\\\", \\\"['CathaCyc']\\\"], [\\\"CAZy\\\", \\\"['CAZy', 'Carbohydrate-Active Enzymes database']\\\"], [\\\"Database of Instruments for Resource Use Measurement\\\", \\\"['Database of Instruments for Resource Use Measurement', 'DIRUM']\\\"], [\\\"FCDB\\\", \\\"['FCDB', 'Czech Food Composition Database']\\\"], [\\\"CMAP\\\", \\\"['CMAP', 'Complement Map Database']\\\"], [\\\"LipidHome\\\", \\\"['LipidHome']\\\"], [\\\"CoDNaS\\\", \\\"['CoDNaS', 'Conformational Diversity of Native State']\\\"], [\\\"EADB\\\", \\\"['EADB', 'Estrogenic Activity Database']\\\"], [\\\"aFiSh\\\", \\\"['aFiSh', 'NFOODS database on fish and shellfish']\\\"], [\\\"inTB\\\", \\\"['inTB']\\\"], [\\\"CottonGen\\\", \\\"['CottonGen']\\\"], [\\\"DrugBank\\\", \\\"['DrugBank']\\\"], [\\\"ChEMBL\\\", \\\"['ChEMBL']\\\"], [\\\"CAMP\\\", \\\"['CAMP', 'Collection of Antimicrobial Peptide']\\\"], [\\\"CellFinder\\\", \\\"['CellFinder']\\\"], [\\\"Electronic Mouse Atlas of Gene Expression\\\", \\\"['Electronic Mouse Atlas of Gene Expression', 'EMAGE']\\\"], [\\\"CSA\\\", \\\"['CSA', 'Catalytic Site Atlas']\\\"], [\\\"INDIGO\\\", \\\"['INDIGO', 'Annotation of Microbial Genomes']\\\"], [\\\"CHBMP\\\", \\\"['CHBMP', 'Hemophilia B mutation project']\\\"], [\\\"nifH\\\", \\\"['nifH']\\\"], [\\\"MICdb\\\", \\\"['MICdb']\\\"], [\\\"Drug2Gene\\\", \\\"['Drug2Gene']\\\"], [\\\"DrugPath\\\", \\\"['DrugPath']\\\"], [\\\"TIBS\\\", \\\"['TIBS', 'Transcriptome of Irritable Bowel Syndrome']\\\"], [\\\"DBDB\\\", \\\"['DBDB', 'Developmental Brain Disorders Database']\\\"], [\\\"FixPred\\\", \\\"['FixPred']\\\"], [\\\"PTM-SD\\\", \\\"['PTM-SD', 'Posttranslational modification structural database']\\\"], [\\\"FreeSolv\\\", \\\"['FreeSolv']\\\"], [\\\"HomBRex\\\", \\\"['HomBRex', 'Homeopathy Basic Research experiments']\\\"], [\\\"circBase\\\", \\\"['circBase']\\\"], [\\\"DEOP\\\", \\\"['DEOP', 'ragon Explorer of Osmoprotection associated Pathways']\\\"], [\\\"DEPOD\\\", \\\"['DEPOD', 'human DEPhOsphorylation Database']\\\"], [\\\"Disease Ontology\\\", \\\"['Disease Ontology', 'Human Disease Ontology Knowledgebase']\\\"], [\\\"ECODAB\\\", \\\"['ECODAB', 'Escherichia coli O-antigen database']\\\"], [\\\"diArk\\\", \\\"['diArk']\\\"], [\\\"Cancer3D\\\", \\\"['Cancer3D']\\\"], [\\\"CeCaFDB\\\", \\\"['CeCaFDB', 'Central Carbon Metabolic Flux Database']\\\"], [\\\"DDMGD\\\", \\\"['DDMGD']\\\"], [\\\"BioModels\\\", \\\"['BioModels']\\\"], [\\\"diXa\\\", \\\"['diXa', 'Infrastructure for Chemical Safety Assessment']\\\"], [\\\"CottonQTLdb\\\", \\\"['CottonQTLdb']\\\"], [\\\"CPD\\\", \\\"['CPD', 'Cellular Phenotype Database']\\\"], [\\\"DisGeNET\\\", \\\"['DisGeNET']\\\"], [\\\"u-CARE\\\", \\\"['u-CARE', 'Comprehensive Antibiotic resistance Repository of Escherichia coli']\\\"], [\\\"CEMTDD\\\", \\\"['CEMTDD', 'Chinese Ethnic Minority Traditional Drug Database']\\\"], [\\\"mirEX\\\", \\\"['mirEX']\\\"], [\\\"SurvCurv\\\", \\\"['SurvCurv']\\\"], [\\\"DENdb\\\", \\\"['DENdb']\\\"], [\\\"ICeE\\\", \\\"['ICeE']\\\"], [\\\"ExoCarta\\\", \\\"['ExoCarta']\\\"], [\\\"FLOR-ID\\\", \\\"['FLOR-ID', 'Flowering-Interactive Database']\\\"], [\\\"Colorectal Cancer Atlas\\\", \\\"['Colorectal Cancer Atlas']\\\"], [\\\"Digital Development\\\", \\\"['Digital Development']\\\"], [\\\"EpimiRBase\\\", \\\"['EpimiRBase']\\\"], [\\\"BRAINS\\\", \\\"['BRAINS', 'Brain Images of Normal Subjects']\\\"], [\\\"PhyloPro\\\", \\\"['PhyloPro']\\\"], [\\\"CollecTF\\\", \\\"['CollecTF']\\\"], [\\\"BrucellaBase\\\", \\\"['BrucellaBase']\\\"], [\\\"CicerTransDB\\\", \\\"['CicerTransDB', 'Cicer Transcription Factor Database']\\\"], [\\\"eTOX\\\", \\\"['eTOX']\\\"], [\\\"Cysteinome\\\", \\\"['Cysteinome']\\\"], [\\\"CardioTF\\\", \\\"['CardioTF']\\\"], [\\\"StemCellCKB\\\", \\\"['StemCellCKB']\\\"], [\\\"ENVO\\\", \\\"['ENVO', 'Environment Ontology']\\\"], [\\\"CeNDR\\\", \\\"['CeNDR', 'elegans Natural Diversity Resource']\\\"], [\\\"IPD-MHC\\\", \\\"['IPD-MHC']\\\"], [\\\"Hepitopes\\\", \\\"['Hepitopes']\\\"], [\\\"ARA-PEPs\\\", \\\"['ARA-PEPs']\\\"], [\\\"CSCTT\\\", \\\"['CSCTT', 'Cancer Stem Cells Therapeutic Target Database']\\\"], [\\\"TMPL\\\", \\\"['TMPL']\\\"], [\\\"dbGAPs\\\", \\\"['dbGAPs']\\\"], [\\\"RBFLDB\\\", \\\"['RBFLDB', 'RIKEN Full-length cDNA Database']\\\"], [\\\"CAZypedia\\\", \\\"['CAZypedia']\\\"], [\\\"EpiDenovo\\\", \\\"['EpiDenovo']\\\"], [\\\"MEROPS\\\", \\\"['MEROPS']\\\"], [\\\"SCRIPT-MAP\\\", \\\"['SCRIPT-MAP']\\\"], [\\\"TelNet\\\", \\\"['TelNet']\\\"], [\\\"BrainEXP\\\", \\\"['BrainEXP', 'Brain EXPression Database']\\\"], [\\\"CIPEMAB\\\", \\\"['CIPEMAB']\\\"], [\\\"HFMDB\\\", \\\"['HFMDB', 'human fecal metabolome database']\\\"], [\\\"PPInS\\\", \\\"['PPInS', 'Protein-Protein Interaction Sitesbase']\\\"], [\\\"ESCC ATLAS\\\", \\\"['ESCC ATLAS']\\\"], [\\\"CRISPRlnc\\\", \\\"['CRISPRlnc']\\\"], [\\\"EWASdb\\\", \\\"['EWASdb']\\\"], [\\\"CAGm\\\", \\\"['CAGm', 'Comparative Analysis of Germline Microsatellites']\\\"], [\\\"CancerSplicingQTL\\\", \\\"['CancerSplicingQTL']\\\"], [\\\"HMDD\\\", \\\"['HMDD', 'Human microRNA Disease Database']\\\"], [\\\"GPs\\\", \\\"['GPs']\\\"], [\\\"TransmiR\\\", \\\"['TransmiR']\\\"], [\\\"iProteinDB\\\", \\\"['iProteinDB']\\\"], [\\\"CATH\\\", \\\"['CATH']\\\"], [\\\"BioSamples\\\", \\\"['BioSamples', 'BioSample Database']\\\"], [\\\"GWAS Catalog\\\", \\\"['GWAS Catalog']\\\"], [\\\"EPS-DB\\\", \\\"['EPS-DB', 'The exopolysaccharide properties and structures database']\\\"], [\\\"Antimicrobial Enzyme Combinations Database\\\", \\\"['Antimicrobial Enzyme Combinations Database']\\\"], [\\\"RESPIRE\\\", \\\"['RESPIRE', 'of Proteins Involved in the Red Blood Cell Environment']\\\"], [\\\"VaxiJen\\\", \\\"['VaxiJen']\\\"], [\\\"Animal sncRNA Atlas\\\", \\\"['Animal sncRNA Atlas', 'ASRA']\\\"], [\\\"monoterpene indole alkaloid database\\\", \\\"['monoterpene indole alkaloid database', 'MIADB']\\\"], [\\\"DrugR\\\", \\\"['DrugR']\\\"], [\\\"Daphnia stressor database\\\", \\\"['Daphnia stressor database']\\\"], [\\\"DTM\\\", \\\"['DTM', 'Data, Trends, and Maps']\\\"], [\\\"EnhancerAtlas\\\", \\\"['EnhancerAtlas']\\\"], [\\\"LDB\\\", \\\"['LDB', 'Lichen DataBase']\\\"], [\\\"FINDbase\\\", \\\"['FINDbase']\\\"], [\\\"VirusCircBase\\\", \\\"['VirusCircBase']\\\"], [\\\"ExoceRNA Atlas\\\", \\\"['ExoceRNA Atlas']\\\"], [\\\"ENCODE\\\", \\\"['ENCODE', 'The Encyclopedia of DNA Elements']\\\"], [\\\"CerealsDB\\\", \\\"['CerealsDB']\\\"], [\\\"CMNPD\\\", \\\"['CMNPD']\\\"], [\\\"CancerImmunityQTL\\\", \\\"['CancerImmunityQTL']\\\"], [\\\"crisprSQL\\\", \\\"['crisprSQL']\\\"], [\\\"GXD\\\", \\\"['GXD', 'Gene Expression Database']\\\"], [\\\"CKTTD\\\", \\\"['CKTTD', 'Checkpoint therapeutic target database']\\\"], [\\\"MitoCarta\\\", \\\"['MitoCarta']\\\"], [\\\"ArrayExpress\\\", \\\"['ArrayExpress']\\\"], [\\\"CyanoPATH\\\", \\\"['CyanoPATH']\\\"], [\\\"CALR-ETdb\\\", \\\"['CALR-ETdb']\\\"], [\\\"Chinese Glioma Genome Atlas\\\", \\\"['Chinese Glioma Genome Atlas', 'CGGA']\\\"], [\\\"BC-TFdb\\\", \\\"['BC-TFdb', 'Breast Cancer Transcription Factors database']\\\"], [\\\"IBDDB\\\", \\\"['IBDDB', 'IBD database']\\\"], [\\\"D3DistalMutation\\\", \\\"['D3DistalMutation']\\\"], [\\\"DRscDB\\\", \\\"['DRscDB']\\\"], [\\\"CytomegaloVirusDb\\\", \\\"['CytomegaloVirusDb']\\\"], [\\\"eQTL\\\", \\\"['eQTL']\\\"], [\\\"scAPAdb\\\", \\\"['scAPAdb']\\\"], [\\\"BRAIN UK\\\", \\\"['BRAIN UK']\\\"], [\\\"CyanoOmicsDB\\\", \\\"['CyanoOmicsDB']\\\"], [\\\"EVA\\\", \\\"['EVA', 'European Variation Archive']\\\"], [\\\"MCDB\\\", \\\"['MCDB', 'Mitotic Catastrophe Database']\\\"], [\\\"Fibromine\\\", \\\"['Fibromine']\\\"], [\\\"TissueNexus\\\", \\\"['TissueNexus']\\\"], [\\\"COGVIC\\\", \\\"['COGVIC', 'Catalog of Germline Variants in']\\\"], [\\\"ChiroVox\\\", \\\"['ChiroVox']\\\"], [\\\"BraCoLi\\\", \\\"['BraCoLi', 'Brazilian Compound Library']\\\"], [\\\"Human Eye Transcriptome Atlas\\\", \\\"['Human Eye Transcriptome Atlas']\\\"], [\\\"BioImage\\\", \\\"['BioImage']\\\"], [\\\"FibROAD\\\", \\\"['FibROAD']\\\"], [\\\"dbGSRV\\\", \\\"['dbGSRV']\\\"], [\\\"eccDNAdb\\\", \\\"['eccDNAdb']\\\"], [\\\"DFBP\\\", \\\"['DFBP', 'bioactive peptides']\\\"], [\\\"DoPI\\\", \\\"['DoPI', 'The Database of Pollinator Interactions']\\\"], [\\\"isomiRdb\\\", \\\"['isomiRdb']\\\"], [\\\"BRACS\\\", \\\"['BRACS', 'BReAst Carcinoma Subtyping']\\\"], [\\\"ChanFAD\\\", \\\"['ChanFAD', 'Channel Functional Annotation Database']\\\"], [\\\"ChemFOnt\\\", \\\"['ChemFOnt', 'Chemical Functional Ontology']\\\"], [\\\"CRAMdb\\\", \\\"['CRAMdb']\\\"], [\\\"BV-BRC\\\", \\\"['BV-BRC', 'Bacterial and Viral Bioinformatics Resource Center']\\\"], [\\\"InterPro\\\", \\\"['InterPro']\\\"], [\\\"ENA\\\", \\\"['ENA', 'European Nucleotide Archive', 'NCBI', 'GenBank', 'GCA', 'SRA', 'Sequence Read Archive', 'European Read Archive', 'International Nucleotide Sequence Database Collaboration', 'INSDC']\\\"], [\\\"DATAMAN\\\", \\\"['DATAMAN']\\\"], [\\\"DDBJ\\\", \\\"['DDBJ', 'DNA Data Bank of Japan']\\\"], [\\\"MGnify\\\", \\\"['MGnify']\\\"], [\\\"CyanoMapDB\\\", \\\"['CyanoMapDB']\\\"], [\\\"vsRNAdb\\\", \\\"['vsRNAdb']\\\"], [\\\"EBD\\\", \\\"['EBD']\\\"], [\\\"EccBase\\\", \\\"['EccBase']\\\"], [\\\"CaviDB\\\", \\\"['CaviDB']\\\"], [\\\"Expansin gene family database\\\", \\\"['Expansin gene family database']\\\"], [\\\"CromoCat\\\", \\\"['CromoCat', 'Catalan Biodiversity Database']\\\"], [\\\"DCDB\\\", \\\"['DCDB', 'Delphinieae Chromosome Database']\\\"], [\\\"IntAct\\\", \\\"['IntAct']\\\"], [\\\"P450Rdb\\\", \\\"['P450Rdb']\\\"], [\\\"Gramene\\\", \\\"['Gramene', 'Gramene Database']\\\"], [\\\"PORCN\\\", \\\"['PORCN']\\\"], [\\\"LccED\\\", \\\"['LccED', 'The Laccase Engineering Database']\\\"], [\\\"LOVD\\\", \\\"['LOVD', 'Leiden Open-source Variation Database']\\\"], [\\\"ILISI\\\", \\\"['ILISI', 'Index of Italian Literature on Nursing Sciences']\\\"], [\\\"Monogenic Diabetes Registry\\\", \\\"['Monogenic Diabetes Registry']\\\"], [\\\"ISSMIC\\\", \\\"['ISSMIC']\\\"], [\\\"IDEAL\\\", \\\"['IDEAL', 'Intrinsically Disordered proteins with Extensive Annotations and Literature']\\\"], [\\\"DACS-DB\\\", \\\"['DACS-DB', 'disease associated cytokine SNP database']\\\"], [\\\"INSDC\\\", \\\"['INSDC', 'International Nucleotide Sequence Database Collaboration']\\\"], [\\\"GeneWeaver\\\", \\\"['GeneWeaver']\\\"], [\\\"SimpleSearch\\\", \\\"['SimpleSearch']\\\"], [\\\"DBETH\\\", \\\"['DBETH', 'Database for Bacterial ExoToxins']\\\"], [\\\"EuDBase\\\", \\\"['EuDBase']\\\"], [\\\"GeneSigDB\\\", \\\"['GeneSigDB']\\\"], [\\\"LIPABASE\\\", \\\"['LIPABASE']\\\"], [\\\"GeneDB\\\", \\\"['GeneDB']\\\"], [\\\"INOH\\\", \\\"['INOH', 'Integrating Network Objects with Hierarchies']\\\"], [\\\"HGPD\\\", \\\"['HGPD', 'Human Gene and Protein Database']\\\"], [\\\"CharProtDB\\\", \\\"['CharProtDB']\\\"], [\\\"HIstome\\\", \\\"['HIstome']\\\"], [\\\"EctomycorrhizalDB\\\", \\\"['EctomycorrhizalDB']\\\"], [\\\"InterStoreDB\\\", \\\"['InterStoreDB']\\\"], [\\\"RCDB\\\", \\\"['RCDB', 'Renal Cancer Gene Database']\\\"], [\\\"IUPHAR-DB\\\", \\\"['IUPHAR-DB', 'BPS/IUPHAR Guide to PHARMACOLOGY']\\\"], [\\\"FunGene-DB\\\", \\\"['FunGene-DB']\\\"], [\\\"Integrated Microbial Genomes and Metagenomes\\\", \\\"['Integrated Microbial Genomes and Metagenomes', 'IMG/M']\\\"], [\\\"HTRIdb\\\", \\\"['HTRIdb', 'Human Transcriptional Regulation Interactions database']\\\"], [\\\"dbDiarrhea\\\", \\\"['dbDiarrhea']\\\"], [\\\"HGMD\\\", \\\"['HGMD', 'Human Gene Mutation Database']\\\"], [\\\"MaConDa\\\", \\\"['MaConDa', 'Mass spectrometry Contaminants Database']\\\"], [\\\"IBDsite\\\", \\\"['IBDsite']\\\"], [\\\"GFDB\\\", \\\"['GFDB', 'glycan fragment database']\\\"], [\\\"InnateDB\\\", \\\"['InnateDB']\\\"], [\\\"MicroScope\\\", \\\"['MicroScope']\\\"], [\\\"GenomeRNAi\\\", \\\"['GenomeRNAi']\\\"], [\\\"KEGG OC\\\", \\\"['KEGG OC']\\\"], [\\\"TIGRFAMs\\\", \\\"['TIGRFAMs']\\\"], [\\\"OrysPSSP\\\", \\\"['OrysPSSP']\\\"], [\\\"HGNC\\\", \\\"['HGNC', 'HUGO Gene Nomenclature Committee']\\\"], [\\\"3DMET\\\", \\\"['3DMET', 'Three-dimensional structure database of natural metabolites']\\\"], [\\\"Human Proteinpedia\\\", \\\"['Human Proteinpedia']\\\"], [\\\"MalaCards\\\", \\\"['MalaCards']\\\"], [\\\"IEDB\\\", \\\"['IEDB', 'Immune Epitope Database and Analysis Resource']\\\"], [\\\"InDiaMed\\\", \\\"['InDiaMed']\\\"], [\\\"ESCAPE\\\", \\\"['ESCAPE', 'Embryonic Stem Cell Atlas from']\\\"], [\\\"YeastNet\\\", \\\"['YeastNet']\\\"], [\\\"GeneProf\\\", \\\"['GeneProf']\\\"], [\\\"HypoxiaDB\\\", \\\"['HypoxiaDB']\\\"], [\\\"MCDRP\\\", \\\"['MCDRP', 'Manually Curated Database of Rice Proteins']\\\"], [\\\"HPO\\\", \\\"['HPO', 'The Human Phenotype Ontology project']\\\"], [\\\"RiceCyc\\\", \\\"['RiceCyc']\\\"], [\\\"DIACAN\\\", \\\"['DIACAN', 'Antidiabetic and Anticancer Medicinal Plants Database']\\\"], [\\\"MAPS\\\", \\\"['MAPS', 'Medicinal plant Activities']\\\"], [\\\"GuavaH\\\", \\\"['GuavaH']\\\"], [\\\"GigaDB\\\", \\\"['GigaDB']\\\"], [\\\"URJC GB\\\", \\\"['URJC GB']\\\"], [\\\"HeteroGenome\\\", \\\"['HeteroGenome']\\\"], [\\\"Phytoseiidae database\\\", \\\"['Phytoseiidae database']\\\"], [\\\"IthaGenes\\\", \\\"['IthaGenes']\\\"], [\\\"TRIPATH\\\", \\\"['TRIPATH']\\\"], [\\\"Genome3D\\\", \\\"['Genome3D']\\\"], [\\\"FCDD\\\", \\\"['FCDD', 'Fruit Crops Diseases Database']\\\"], [\\\"AraNet\\\", \\\"['AraNet']\\\"], [\\\"GenomicusPlants\\\", \\\"['GenomicusPlants']\\\"], [\\\"EcoliNet\\\", \\\"['EcoliNet']\\\"], [\\\"BtoxDB\\\", \\\"['BtoxDB']\\\"], [\\\"FR\\\", \\\"['FR']\\\"], [\\\"Glyco3D\\\", \\\"['Glyco3D']\\\"], [\\\"DBDiaSNP\\\", \\\"['DBDiaSNP']\\\"], [\\\"TRRUST\\\", \\\"['TRRUST', 'regulatory relationships']\\\"], [\\\"Histone Antibody Specificity Database\\\", \\\"['Histone Antibody Specificity Database']\\\"], [\\\"GlycoMob\\\", \\\"['GlycoMob']\\\"], [\\\"MaizeGDB\\\", \\\"['MaizeGDB']\\\"], [\\\"iPPI-DB\\\", \\\"['iPPI-DB']\\\"], [\\\"HAND\\\", \\\"['HAND']\\\"], [\\\"MouseNet\\\", \\\"['MouseNet']\\\"], [\\\"HPMC\\\", \\\"['HPMC', 'Human Pan-Microbe Communities']\\\"], [\\\"FunTree\\\", \\\"['FunTree']\\\"], [\\\"LymPHOS\\\", \\\"['LymPHOS']\\\"], [\\\"GenomeSpace\\\", \\\"['GenomeSpace']\\\"], [\\\"Regulators of Androgen Action Resource\\\", \\\"['Regulators of Androgen Action Resource', 'RAAR']\\\"], [\\\"Human genetic variation database\\\", \\\"['Human genetic variation database']\\\"], [\\\"Mammalian Mitochondrial ncRNA Database\\\", \\\"['Mammalian Mitochondrial ncRNA Database', 'Unlabelled Mammalian Mitochondrial ncRNA']\\\"], [\\\"CVD2014\\\", \\\"['CVD2014']\\\"], [\\\"TarNet\\\", \\\"['TarNet']\\\"], [\\\"HCVIVdb\\\", \\\"['HCVIVdb', 'HCV IRES variation database']\\\"], [\\\"KDD\\\", \\\"['KDD', 'Kawasaki Disease Database']\\\"], [\\\"IGSR\\\", \\\"['IGSR', 'International Genome Sample Resource']\\\"], [\\\"HipSci\\\", \\\"['HipSci', 'Human Induced Pluripotent Stem Cell Initiative']\\\"], [\\\"KERIS\\\", \\\"['KERIS']\\\"], [\\\"Cancertope\\\", \\\"['Cancertope']\\\"], [\\\"HmtDB\\\", \\\"['HmtDB']\\\"], [\\\"JET2\\\", \\\"['JET2']\\\"], [\\\"GABI-Kat\\\", \\\"['GABI-Kat']\\\"], [\\\"GrTEdb\\\", \\\"['GrTEdb', 'Gossypium raimondii transposable elements database']\\\"], [\\\"PROXiMATE\\\", \\\"['PROXiMATE']\\\"], [\\\"GeOMe\\\", \\\"['GeOMe', 'Genomic Observatories Metadatabase']\\\"], [\\\"A2MDB\\\", \\\"['A2MDB', 'Aspergillus Secondary Metabolites Database']\\\"], [\\\"MAHMI\\\", \\\"['MAHMI', 'Mechanism of Action of the Human Microbiome']\\\"], [\\\"ncDR\\\", \\\"['ncDR']\\\"], [\\\"LinkedOmics\\\", \\\"['LinkedOmics']\\\"], [\\\"Express\\\", \\\"['Express']\\\"], [\\\"MutHTP\\\", \\\"['MutHTP', 'mutations in human transmembrane proteins']\\\"], [\\\"GourdBase\\\", \\\"['GourdBase']\\\"], [\\\"PKIDB\\\", \\\"['PKIDB', 'Protein Kinase Inhibitor Database']\\\"], [\\\"FSD\\\", \\\"['FSD', 'Fungal Stress Database']\\\"], [\\\"SPAR\\\", \\\"['SPAR', 'Small RNA-seq Portal for Analysis of sequencing']\\\"], [\\\"HaloDom\\\", \\\"['HaloDom']\\\"], [\\\"MARDy\\\", \\\"['MARDy', 'Mycology Antifungal Resistance Database']\\\"], [\\\"SuperbaSE\\\", \\\"['SuperbaSE']\\\"], [\\\"TRCirc\\\", \\\"['TRCirc']\\\"], [\\\"Glycosciences.DB\\\", \\\"['Glycosciences.DB']\\\"], [\\\"HmtVar\\\", \\\"['HmtVar']\\\"], [\\\"Haemopedia\\\", \\\"['Haemopedia']\\\"], [\\\"miR+Pathway\\\", \\\"['miR+Pathway']\\\"], [\\\"HuVarBase\\\", \\\"['HuVarBase']\\\"], [\\\"IPGB\\\", \\\"['IPGB', 'Incontinentia Pigmenti Genetic Biobank']\\\"], [\\\"D-lnc\\\", \\\"['D-lnc']\\\"], [\\\"OPA1\\\", \\\"['OPA1']\\\"], [\\\"HybridMolDB\\\", \\\"['HybridMolDB']\\\"], [\\\"MutEx\\\", \\\"['MutEx']\\\"], [\\\"KnockTF\\\", \\\"['KnockTF']\\\"], [\\\"LeGOO\\\", \\\"['LeGOO']\\\"], [\\\"Gene4Denovo\\\", \\\"['Gene4Denovo']\\\"], [\\\"ENdb\\\", \\\"['ENdb']\\\"], [\\\"ChimerDB\\\", \\\"['ChimerDB']\\\"], [\\\"FluReassort\\\", \\\"['FluReassort']\\\"], [\\\"GlyMDB\\\", \\\"['GlyMDB', 'Glycan Microarray Database']\\\"], [\\\"ncEP\\\", \\\"['ncEP']\\\"], [\\\"FrogID\\\", \\\"['FrogID']\\\"], [\\\"Hepamine\\\", \\\"['Hepamine']\\\"], [\\\"PLSD\\\", \\\"['PLSD', 'Prospective Lynch Syndrome Database']\\\"], [\\\"geoBoundaries\\\", \\\"['geoBoundaries', 'geoBoundaries Global Administrative Database']\\\"], [\\\"MPTherm\\\", \\\"['MPTherm']\\\"], [\\\"ncRI\\\", \\\"['ncRI']\\\"], [\\\"UK Immunological Toolbox\\\", \\\"['UK Immunological Toolbox']\\\"], [\\\"DNAmoreDB\\\", \\\"['DNAmoreDB']\\\"], [\\\"VARAdb\\\", \\\"['VARAdb', 'comprehensive variation annotation database for human']\\\"], [\\\"ATACdb\\\", \\\"['ATACdb', 'chromatin accessibility database']\\\"], [\\\"iCSDB\\\", \\\"['iCSDB']\\\"], [\\\"GRNdb\\\", \\\"['GRNdb']\\\"], [\\\"GreenPhylDB\\\", \\\"['GreenPhylDB']\\\"], [\\\"MetaTropismDB\\\", \\\"['MetaTropismDB']\\\"], [\\\"HAHmiR.DB\\\", \\\"['HAHmiR.DB', 'High-Altitude Human miRNA Database']\\\"], [\\\"ncRNAVar\\\", \\\"['ncRNAVar']\\\"], [\\\"HeartBioPortal\\\", \\\"['HeartBioPortal']\\\"], [\\\"MetSRR\\\", \\\"['MetSRR', 'Metabolic Syndrome Research Resource']\\\"], [\\\"MicroPhenoDB\\\", \\\"['MicroPhenoDB']\\\"], [\\\"InSexBase\\\", \\\"['InSexBase']\\\"], [\\\"Plantannot\\\", \\\"['Plantannot', 'Plant Co-expression Annotation Resource']\\\"], [\\\"knotAnnotSV\\\", \\\"['knotAnnotSV']\\\"], [\\\"TIDB\\\", \\\"['TIDB', 'Trained Immunity DataBase']\\\"], [\\\"GPGD\\\", \\\"['GPGD', 'Global Pharmacopoeia Genome Database']\\\"], [\\\"CrePortal\\\", \\\"['CrePortal']\\\"], [\\\"GlycoStore\\\", \\\"['GlycoStore']\\\"], [\\\"Gene4HL\\\", \\\"['Gene4HL']\\\"], [\\\"HumanNet\\\", \\\"['HumanNet']\\\"], [\\\"DISCO\\\", \\\"['DISCO']\\\"], [\\\"DaiCee\\\", \\\"['DaiCee']\\\"], [\\\"Lung CellCards\\\", \\\"['Lung CellCards']\\\"], [\\\"fungiofpakistan\\\", \\\"['fungiofpakistan']\\\"], [\\\"DDPD\\\", \\\"['DDPD']\\\"], [\\\"PmiRtarbase\\\", \\\"['PmiRtarbase']\\\"], [\\\"InflamNat\\\", \\\"['InflamNat']\\\"], [\\\"GWYRE\\\", \\\"['GWYRE', 'Genome Wide PhYRE']\\\"], [\\\"Viral-circRNA\\\", \\\"['Viral-circRNA']\\\"], [\\\"CCLOWW\\\", \\\"['CCLOWW', \\\\\\\"Chinese Children's Lexicon of Written Words\\\\\\\"]\\\"], [\\\"GGDB\\\", \\\"['GGDB']\\\"], [\\\"HumanMine\\\", \\\"['HumanMine']\\\"], [\\\"LettuceGDB\\\", \\\"['LettuceGDB']\\\"], [\\\"HypDB\\\", \\\"['HypDB']\\\"], [\\\"ncFO\\\", \\\"['ncFO']\\\"], [\\\"PertOrg\\\", \\\"['PertOrg']\\\"], [\\\"OrganoidDB\\\", \\\"['OrganoidDB']\\\"], [\\\"LncPheDB\\\", \\\"['LncPheDB']\\\"], [\\\"SEdb\\\", \\\"['SEdb', 'comprehensive human super-enhancer database']\\\"], [\\\"KOVA 2\\\", \\\"['KOVA 2', 'Korean Variant Archive']\\\"], [\\\"GWAS Central\\\", \\\"['GWAS Central']\\\"], [\\\"CoMutDB\\\", \\\"['CoMutDB', 'Cancer co-mutation database']\\\"], [\\\"GPSAdb\\\", \\\"['GPSAdb', 'perturbation database']\\\"], [\\\"GENCODE\\\", \\\"['GENCODE']\\\"], [\\\"HeliantHOME\\\", \\\"['HeliantHOME']\\\"], [\\\"CCLOOW\\\", \\\"['CCLOOW', \\\\\\\"Chinese Children's Lexicon of Oral Words\\\\\\\"]\\\"], [\\\"CRCdb\\\", \\\"['CRCdb']\\\"], [\\\"CrypticProteinDB\\\", \\\"['CrypticProteinDB']\\\"], [\\\"PopTradeOff\\\", \\\"['PopTradeOff']\\\"], [\\\"COVIDpro\\\", \\\"['COVIDpro']\\\"], [\\\"Cis-Cardio\\\", \\\"['Cis-Cardio']\\\"], [\\\"CanISO\\\", \\\"['CanISO']\\\"], [\\\"GasCanBase\\\", \\\"['GasCanBase']\\\"], [\\\"PlantCHRs\\\", \\\"['PlantCHRs', 'Plant Chromatin Remodeling Factors Database']\\\"], [\\\"KEGG\\\", \\\"['KEGG', 'Kyoto Encyclopedia of Genes and Genomes']\\\"], [\\\"iCAZyGFADB\\\", \\\"['iCAZyGFADB']\\\"], [\\\"DASES\\\", \\\"['DASES']\\\"], [\\\"AAAKB\\\", \\\"['AAAKB']\\\"], [\\\"BISMaL\\\", \\\"['BISMaL', 'Biological Information System for Marine Life']\\\"], [\\\"COMBREX\\\", \\\"['COMBREX']\\\"], [\\\"PoPoolation\\\", \\\"['PoPoolation']\\\"], [\\\"PlantPIs\\\", \\\"['PlantPIs']\\\"], [\\\"KID\\\", \\\"['KID', 'Yeast Kinase Interaction Database']\\\"], [\\\"FurinDB\\\", \\\"['FurinDB']\\\"], [\\\"HelmCoP\\\", \\\"['HelmCoP', 'Helminth Control']\\\"], [\\\"modENCODE\\\", \\\"['modENCODE', 'model organism Encyclopedia of DNA Elements']\\\"], [\\\"iRefIndex\\\", \\\"['iRefIndex']\\\"], [\\\"ProGlycProt\\\", \\\"['ProGlycProt']\\\"], [\\\"PlantMetabolomics\\\", \\\"['PlantMetabolomics']\\\"], [\\\"BGMUT\\\", \\\"['BGMUT', 'Blood Group Antigen Gene Mutation Database']\\\"], [\\\"PLEXdb\\\", \\\"['PLEXdb']\\\"], [\\\"MINAS\\\", \\\"['MINAS', 'Metal Ions in Nucleic AcidS']\\\"], [\\\"IBIS\\\", \\\"['IBIS', 'Inferred Biomolecular Interaction Server']\\\"], [\\\"Phytozome\\\", \\\"['Phytozome']\\\"], [\\\"NONCODE\\\", \\\"['NONCODE']\\\"], [\\\"PhosphoSitePlus\\\", \\\"['PhosphoSitePlus']\\\"], [\\\"NCBI Taxonomy\\\", \\\"['NCBI Taxonomy']\\\"], [\\\"neXtProt\\\", \\\"['neXtProt']\\\"], [\\\"BioProject\\\", \\\"['BioProject']\\\"], [\\\"dbANGIO\\\", \\\"['dbANGIO']\\\"], [\\\"SITVITWEB\\\", \\\"['SITVITWEB']\\\"], [\\\"Ssa miRNAs DB\\\", \\\"['Ssa miRNAs DB']\\\"], [\\\"MBLED\\\", \\\"['MBLED', 'Lactamase Engineering Database']\\\"], [\\\"NORM\\\", \\\"['NORM']\\\"], [\\\"MuteinDB\\\", \\\"['MuteinDB']\\\"], [\\\"Transcriptomine\\\", \\\"['Transcriptomine']\\\"], [\\\"MetNet\\\", \\\"['MetNet']\\\"], [\\\"NSort/DB\\\", \\\"['NSort/DB']\\\"], [\\\"SNObase\\\", \\\"['SNObase']\\\"], [\\\"P2TF\\\", \\\"['P2TF', 'Predicted Prokaryotic Transcription Factors']\\\"], [\\\"GEO\\\", \\\"['GEO', 'Gene Expression Omnibus']\\\"], [\\\"Clone DB\\\", \\\"['Clone DB', 'Clone']\\\"], [\\\"GTR\\\", \\\"['GTR', 'Testing Registry']\\\"], [\\\"TCMID\\\", \\\"['TCMID', 'Traditional Chinese Medicine Integrated Database']\\\"], [\\\"OrtholugeDB\\\", \\\"['OrtholugeDB']\\\"], [\\\"Bookshelf\\\", \\\"['Bookshelf']\\\"], [\\\"OPTIMAS-DW\\\", \\\"['OPTIMAS-DW']\\\"], [\\\"NCDR CathPCI\\\", \\\"['NCDR CathPCI']\\\"], [\\\"HDAM\\\", \\\"['HDAM', 'Human Disease Associated Mutation']\\\"], [\\\"YY1TargetDB\\\", \\\"['YY1TargetDB', 'Target loci Database']\\\"], [\\\"phiBIOTICS\\\", \\\"['phiBIOTICS']\\\"], [\\\"TUMIR\\\", \\\"['TUMIR']\\\"], [\\\"PID-NET\\\", \\\"['PID-NET']\\\"], [\\\"PMP\\\", \\\"['PMP', 'Protein Model Portal']\\\"], [\\\"RiceSRTFDB\\\", \\\"['RiceSRTFDB']\\\"], [\\\"PhosphoGRID\\\", \\\"['PhosphoGRID']\\\"], [\\\"MisPred\\\", \\\"['MisPred']\\\"], [\\\"PANTHER\\\", \\\"['PANTHER', 'Protein Analysis Through Evolutionary Relationships']\\\"], [\\\"metabolicMine\\\", \\\"['metabolicMine']\\\"], [\\\"FmMDb\\\", \\\"['FmMDb', 'Foxtail millet Marker Database']\\\"], [\\\"HippDB\\\", \\\"['HippDB']\\\"], [\\\"CellMinerHCC\\\", \\\"['CellMinerHCC']\\\"], [\\\"BloodChIP\\\", \\\"['BloodChIP']\\\"], [\\\"Progenetix\\\", \\\"['Progenetix']\\\"], [\\\"PATRIC\\\", \\\"['PATRIC', 'Pathosystems Resource Integration Center']\\\"], [\\\"PhosphoNetworks\\\", \\\"['PhosphoNetworks']\\\"], [\\\"RefSeq\\\", \\\"['RefSeq', 'Prokaryotic Genome Annotation Pipeline']\\\"], [\\\"NeXO\\\", \\\"['NeXO']\\\"], [\\\"dbGaP\\\", \\\"['dbGaP', 'Database of Genotypes and Phenotypes']\\\"], [\\\"Virus Variation\\\", \\\"['Virus Variation', 'Variation Resource']\\\"], [\\\"PPD\\\", \\\"['PPD', 'Plasma Proteome Database']\\\"], [\\\"Kassiopeia\\\", \\\"['Kassiopeia']\\\"], [\\\"IBIn\\\", \\\"['IBIn', 'Insect barcode information system']\\\"], [\\\"DBatVir\\\", \\\"['DBatVir', 'database of bat-associated viruses']\\\"], [\\\"OrthoMaM\\\", \\\"['OrthoMaM']\\\"], [\\\"PathoPlant\\\", \\\"['PathoPlant']\\\"], [\\\"PCD\\\", \\\"['PCD', 'Pancreatic Cancer Database']\\\"], [\\\"PeptideAtlas\\\", \\\"['PeptideAtlas']\\\"], [\\\"Plant rDNA\\\", \\\"['Plant rDNA', 'Plant rDNA database']\\\"], [\\\"MICAD\\\", \\\"['MICAD', 'Molecular Imaging and']\\\"], [\\\"Naked Mole Rat Genome Resource\\\", \\\"['Naked Mole Rat Genome Resource']\\\"], [\\\"PIP-DB\\\", \\\"['PIP-DB', 'Protein Isoelectric Point database']\\\"], [\\\"TrypanoCyc\\\", \\\"['TrypanoCyc']\\\"], [\\\"PDBbind\\\", \\\"['PDBbind']\\\"], [\\\"P2CS\\\", \\\"['P2CS', 'prokaryotic two-component systems']\\\"], [\\\"PAIDB\\\", \\\"['PAIDB', 'Pathogenicity Island Database']\\\"], [\\\"PomBase\\\", \\\"['PomBase']\\\"], [\\\"MelGene\\\", \\\"['MelGene']\\\"], [\\\"PubAngioGen\\\", \\\"['PubAngioGen']\\\"], [\\\"PHI-base\\\", \\\"['PHI-base', 'Pathogen-Host Interactions database']\\\"], [\\\"COGs\\\", \\\"['COGs', 'Clusters of Orthologous Groups of proteins']\\\"], [\\\"Medicago truncatula genome database\\\", \\\"['Medicago truncatula genome database', 'MedicMine']\\\"], [\\\"MPIC\\\", \\\"['MPIC', 'Mitochondrial Protein Import Components Database']\\\"], [\\\"Bioclock\\\", \\\"['Bioclock', 'Aedes aegypti Circadian Database']\\\"], [\\\"CGWR\\\", \\\"['CGWR', 'Chickpea Genomic Web Resource']\\\"], [\\\"NetGestalt\\\", \\\"['NetGestalt']\\\"], [\\\"mirPub\\\", \\\"['mirPub']\\\"], [\\\"PREDICTS\\\", \\\"['PREDICTS']\\\"], [\\\"WallProtDB\\\", \\\"['WallProtDB']\\\"], [\\\"miREC\\\", \\\"['miREC']\\\"], [\\\"novPTMenzy\\\", \\\"['novPTMenzy']\\\"], [\\\"PedsDTI\\\", \\\"['PedsDTI', 'NIH MRI study of normal brain development']\\\"], [\\\"HMA\\\", \\\"['HMA', 'human metabolic atlas']\\\"], [\\\"MetaNetX\\\", \\\"['MetaNetX']\\\"], [\\\"ORegAnno\\\", \\\"['ORegAnno', 'Open Regulatory Annotation database']\\\"], [\\\"ClinVar\\\", \\\"['ClinVar']\\\"], [\\\"DIANA-miRGen\\\", \\\"['DIANA-miRGen']\\\"], [\\\"probeBase\\\", \\\"['probeBase']\\\"], [\\\"MutationAligner\\\", \\\"['MutationAligner']\\\"], [\\\"ONRLDB\\\", \\\"['ONRLDB', 'Orphan Nuclear Receptor Ligand Binding Database']\\\"], [\\\"NONCODEv4\\\", \\\"['NONCODEv4']\\\"], [\\\"HistoneDB\\\", \\\"['HistoneDB']\\\"], [\\\"CIRCpedia\\\", \\\"['CIRCpedia']\\\"], [\\\"PvTFDB\\\", \\\"['PvTFDB']\\\"], [\\\"e-GRASP\\\", \\\"['e-GRASP']\\\"], [\\\"IRRMC\\\", \\\"['IRRMC', 'Integrated Resource for Reproducibility in Macromolecular Crystallography']\\\"], [\\\"TransportDB\\\", \\\"['TransportDB']\\\"], [\\\"AtPID\\\", \\\"['AtPID', 'Arabidopsis thaliana Protein Interactome Database']\\\"], [\\\"dbSAP\\\", \\\"['dbSAP']\\\"], [\\\"miRnalyze\\\", \\\"['miRnalyze']\\\"], [\\\"MiDAS\\\", \\\"['MiDAS']\\\"], [\\\"DINeR\\\", \\\"['DINeR', 'Database for Insect Neuropeptide Research']\\\"], [\\\"DRodVir\\\", \\\"['DRodVir']\\\"], [\\\"GenomeTrakrCP\\\", \\\"['GenomeTrakrCP', 'of Chloroplast Genome Sequences']\\\"], [\\\"PhenoPlasm\\\", \\\"['PhenoPlasm']\\\"], [\\\"STRSeq\\\", \\\"['STRSeq', 'The STR Sequencing Project']\\\"], [\\\"PolyA_DB\\\", \\\"['PolyA_DB']\\\"], [\\\"KIXBASE\\\", \\\"['KIXBASE']\\\"], [\\\"PGG.Population\\\", \\\"['PGG.Population']\\\"], [\\\"CCDS\\\", \\\"['CCDS', 'Consensus Coding Sequence']\\\"], [\\\"PRODORIC2\\\", \\\"['PRODORIC2']\\\"], [\\\"MiRIAD\\\", \\\"['MiRIAD']\\\"], [\\\"PGMD\\\", \\\"['PGMD', 'Pakistan Genetic Mutation Database']\\\"], [\\\"PEP725\\\", \\\"['PEP725', 'Pan European Phenological database']\\\"], [\\\"PDXliver\\\", \\\"['PDXliver']\\\"], [\\\"OptoBase\\\", \\\"['OptoBase']\\\"], [\\\"PtRFdb\\\", \\\"['PtRFdb']\\\"], [\\\"AD&amp;FTD\\\", \\\"['AD&amp;FTD']\\\"], [\\\"RabGTD\\\", \\\"['RabGTD']\\\"], [\\\"NetPath\\\", \\\"['NetPath']\\\"], [\\\"MPDSDM\\\", \\\"['MPDSDM', 'Molecular property diagnostic suite for diabetes mellitus']\\\"], [\\\"PVsiRNAdb\\\", \\\"['PVsiRNAdb']\\\"], [\\\"Victors\\\", \\\"['Victors']\\\"], [\\\"Vesiclepedia\\\", \\\"['Vesiclepedia']\\\"], [\\\"pATLAS\\\", \\\"['pATLAS']\\\"], [\\\"OncoBase\\\", \\\"['OncoBase']\\\"], [\\\"RATEmiRs\\\", \\\"['RATEmiRs', 'Rat Atlas of Tissue-specific and Enriched miRNAs']\\\"], [\\\"MDSGene\\\", \\\"['MDSGene', 'International Parkinson\\\\u2019s Disease and Movement Disorder Society Gene Database']\\\"], [\\\"SITVIT2\\\", \\\"['SITVIT2']\\\"], [\\\"AtFusionDB\\\", \\\"['AtFusionDB']\\\"], [\\\"IntronDB\\\", \\\"['IntronDB']\\\"], [\\\"Onkonet\\\", \\\"['Onkonet']\\\"], [\\\"PGG.Han\\\", \\\"['PGG.Han']\\\"], [\\\"ProCarbDB\\\", \\\"['ProCarbDB']\\\"], [\\\"PmiREN\\\", \\\"['PmiREN', 'Plant miRNA Encyclopedia']\\\"], [\\\"PGG.SNV\\\", \\\"['PGG.SNV']\\\"], [\\\"Pathway Commons\\\", \\\"['Pathway Commons']\\\"], [\\\"Microndata\\\", \\\"['Microndata']\\\"], [\\\"MaveDB\\\", \\\"['MaveDB']\\\"], [\\\"OPD\\\", \\\"['OPD', 'Odonate Phenotypic Database']\\\"], [\\\"NoncoRNA\\\", \\\"['NoncoRNA']\\\"], [\\\"iMarmot\\\", \\\"['iMarmot']\\\"], [\\\"ctcRbase\\\", \\\"['ctcRbase']\\\"], [\\\"OdoBD\\\", \\\"['OdoBD']\\\"], [\\\"MyomirDB\\\", \\\"['MyomirDB']\\\"], [\\\"ECCParaCorp\\\", \\\"['ECCParaCorp', 'Physician Data Query']\\\"], [\\\"PCOSKBR2\\\", \\\"['PCOSKBR2', 'PolyCystic Ovary Syndrome KnowledgeBase']\\\"], [\\\"StreptomeDB\\\", \\\"['StreptomeDB']\\\"], [\\\"MetaNetX/MNXref\\\", \\\"['MetaNetX/MNXref']\\\"], [\\\"COG\\\", \\\"['COG', 'Clusters of Orthologous Genes']\\\"], [\\\"DPL\\\", \\\"['DPL', 'database of peptide ligand']\\\"], [\\\"AtMAD\\\", \\\"['AtMAD', 'Arabidopsis thaliana Multi-omics Association Database']\\\"], [\\\"Pancreatlas\\\", \\\"['Pancreatlas']\\\"], [\\\"NPBS\\\", \\\"['NPBS', 'Natural Products &amp; Biological Sources']\\\"], [\\\"FifBase\\\", \\\"['FifBase']\\\"], [\\\"OGP\\\", \\\"['OGP']\\\"], [\\\"MENSAdb\\\", \\\"['MENSAdb', 'MEmbrane protein dimer Novel Structure Analyser database']\\\"], [\\\"AlnC\\\", \\\"['AlnC', 'Angiosperm lncRNA Catalogue']\\\"], [\\\"miREV\\\", \\\"['miREV']\\\"], [\\\"MPSBase\\\", \\\"['MPSBase']\\\"], [\\\"MitoTox\\\", \\\"['MitoTox', 'toxicity database']\\\"], [\\\"miTED\\\", \\\"['miTED']\\\"], [\\\"CovPDB\\\", \\\"['CovPDB']\\\"], [\\\"ZOVER\\\", \\\"['ZOVER']\\\"], [\\\"Natural Products Atlas\\\", \\\"['Natural Products Atlas']\\\"], [\\\"AroCageDB\\\", \\\"['AroCageDB', 'Aromatic Cage Database']\\\"], [\\\"SRA\\\", \\\"['SRA', 'Sequence Read Archive']\\\"], [\\\"PRODORIC\\\", \\\"['PRODORIC']\\\"], [\\\"VFDB\\\", \\\"['VFDB', 'virulence factor database']\\\"], [\\\"PlantRep\\\", \\\"['PlantRep']\\\"], [\\\"SITVITBovis\\\", \\\"['SITVITBovis']\\\"], [\\\"GNIFdb\\\", \\\"['GNIFdb']\\\"], [\\\"PltDB\\\", \\\"['PltDB']\\\"], [\\\"exRNADisease\\\", \\\"['exRNADisease']\\\"], [\\\"LiqBioer\\\", \\\"['LiqBioer']\\\"], [\\\"PanCircBase\\\", \\\"['PanCircBase']\\\"], [\\\"RABC\\\", \\\"['RABC', 'Rheumatoid Arthritis Bioinformatics Center']\\\"], [\\\"PharmaKoVariome\\\", \\\"['PharmaKoVariome']\\\"], [\\\"FDRdb\\\", \\\"['FDRdb', 'Fibrotic Disease-associated RNAome database']\\\"], [\\\"CDD\\\", \\\"['CDD', 'Conserved Domain Database']\\\"], [\\\"OOCDB\\\", \\\"['OOCDB', 'organs-on-a-chip database']\\\"], [\\\"OCADS\\\", \\\"['OCADS', 'Ocean Carbon and Acidification Data System']\\\"], [\\\"CoNCRAtlas\\\", \\\"['CoNCRAtlas']\\\"], [\\\"AGRDB\\\", \\\"['AGRDB', 'Amaranth Genomic Resource Database']\\\"], [\\\"BCEDB\\\", \\\"['BCEDB']\\\"], [\\\"SCIPDb\\\", \\\"['SCIPDb', 'Stress Combinations and their Interactions in Plants Database']\\\"], [\\\"NCAD\\\", \\\"['NCAD', 'non-coding variant annotation database']\\\"], [\\\"VeryGene\\\", \\\"['VeryGene']\\\"], [\\\"SSFA-GPHR\\\", \\\"['SSFA-GPHR', 'Structure-Function-Analysis of Glycoprotein Hormone Receptors']\\\"], [\\\"UniCarb\\\", \\\"['UniCarb']\\\"], [\\\"SWMD\\\", \\\"['SWMD', 'Seaweed metabolite database']\\\"], [\\\"Proteopedia\\\", \\\"['Proteopedia']\\\"], [\\\"ParkDB\\\", \\\"['ParkDB']\\\"], [\\\"PanSNPdb\\\", \\\"['PanSNPdb', 'The Pan-Asian SNP genotyping database']\\\"], [\\\"ORchestra\\\", \\\"['ORchestra']\\\"], [\\\"EuroPineDB\\\", \\\"['EuroPineDB']\\\"], [\\\"VPDB\\\", \\\"['VPDB', 'Viral Protein Structural Database']\\\"], [\\\"Biogen base\\\", \\\"['Biogen base']\\\"], [\\\"pubmed2ensembl\\\", \\\"['pubmed2ensembl']\\\"], [\\\"WheatGenome.info\\\", \\\"['WheatGenome.info']\\\"], [\\\"YMDB\\\", \\\"['YMDB', 'Yeast Metabolome Database']\\\"], [\\\"YeTFaSCo\\\", \\\"['YeTFaSCo', 'The Yeast Transcription Factor Specificity Compendium']\\\"], [\\\"UniPathway\\\", \\\"['UniPathway']\\\"], [\\\"SGD\\\", \\\"['SGD', 'Saccharomyces Genome Database']\\\"], [\\\"VectorBase\\\", \\\"['VectorBase']\\\"], [\\\"SNPedia\\\", \\\"['SNPedia']\\\"], [\\\"RAC\\\", \\\"['RAC', 'Repository of Antibiotic resistance Cassettes']\\\"], [\\\"SNPdbe\\\", \\\"['SNPdbe']\\\"], [\\\"UniHI\\\", \\\"['UniHI', 'Unified Human Interactome']\\\"], [\\\"YADAMP\\\", \\\"['YADAMP', 'antimicrobial peptide database']\\\"], [\\\"Rett Networked Database\\\", \\\"['Rett Networked Database']\\\"], [\\\"ZeBase\\\", \\\"['ZeBase']\\\"], [\\\"Xylella\\\", \\\"['Xylella']\\\"], [\\\"SNPnexus\\\", \\\"['SNPnexus']\\\"], [\\\"RNAiAtlas\\\", \\\"['RNAiAtlas']\\\"], [\\\"SPWP\\\", \\\"['SPWP', 'Seed Proteome Web Portal']\\\"], [\\\"WikiCell\\\", \\\"['WikiCell']\\\"], [\\\"VPTD\\\", \\\"['VPTD', 'vegetable phytochemicals and their target database']\\\"], [\\\"ChromoHub\\\", \\\"['ChromoHub']\\\"], [\\\"LSHGD\\\", \\\"['LSHGD', 'Leprosy Susceptible Human Gene Database']\\\"], [\\\"SpectraBank\\\", \\\"['SpectraBank']\\\"], [\\\"AtlasT4SS\\\", \\\"['AtlasT4SS']\\\"], [\\\"RhesusBase\\\", \\\"['RhesusBase']\\\"], [\\\"IIID\\\", \\\"['IIID', 'Insect Innate Immunity Database']\\\"], [\\\"SalmonellaBase\\\", \\\"['SalmonellaBase']\\\"], [\\\"TRIP\\\", \\\"['TRIP', 'TRansient receptor potential']\\\"], [\\\"SwissSidechain\\\", \\\"['SwissSidechain']\\\"], [\\\"SwissBioisostere\\\", \\\"['SwissBioisostere']\\\"], [\\\"WormQTL\\\", \\\"['WormQTL']\\\"], [\\\"VirmugenDB\\\", \\\"['VirmugenDB']\\\"], [\\\"RenalTube\\\", \\\"['RenalTube']\\\"], [\\\"CHPC2012\\\", \\\"['CHPC2012', 'Catalogue of Human Protein Complexes']\\\"], [\\\"SymbioGBR\\\", \\\"['SymbioGBR']\\\"], [\\\"VIOLIN\\\", \\\"['VIOLIN', 'Vaccine Investigation and Online Information Network']\\\"], [\\\"MRIdb\\\", \\\"['MRIdb']\\\"], [\\\"SGWHC\\\", \\\"['SGWHC', \\\\\\\"Sex and Gender Women's Health Collaborative\\\\\\\"]\\\"], [\\\"PTP-central\\\", \\\"['PTP-central']\\\"], [\\\"yApoptosis\\\", \\\"['yApoptosis']\\\"], [\\\"MAGICdb\\\", \\\"['MAGICdb', 'Mango Genetic stocks']\\\"], [\\\"LoQAtE\\\", \\\"['LoQAtE', 'Localizaiton and Quantitation Atlas of the yeast proteomE']\\\"], [\\\"SMMRNA\\\", \\\"['SMMRNA']\\\"], [\\\"YEASTRACT\\\", \\\"['YEASTRACT']\\\"], [\\\"SelenoDB\\\", \\\"['SelenoDB']\\\"], [\\\"TreeFam\\\", \\\"['TreeFam']\\\"], [\\\"SMPDB\\\", \\\"['SMPDB', 'Small Molecule Pathway Database']\\\"], [\\\"TCDB\\\", \\\"['TCDB', 'The Transporter Classification Database']\\\"], [\\\"Rice Oligonucleotide Array Database\\\", \\\"['Rice Oligonucleotide Array Database', 'ROAD']\\\"], [\\\"UMD-APC\\\", \\\"['UMD-APC']\\\"], [\\\"RAID\\\", \\\"['RAID']\\\"], [\\\"RetinoGenetics\\\", \\\"['RetinoGenetics']\\\"], [\\\"yStreX\\\", \\\"['yStreX', 'yeast stress expression database']\\\"], [\\\"TreeshrewDB\\\", \\\"['TreeshrewDB', 'Tree shrew database']\\\"], [\\\"microPIR\\\", \\\"['microPIR', 'promoter interaction resource']\\\"], [\\\"YersiniaBase\\\", \\\"['YersiniaBase']\\\"], [\\\"ISOB\\\", \\\"['ISOB']\\\"], [\\\"ProtoBug\\\", \\\"['ProtoBug']\\\"], [\\\"SwissLipids\\\", \\\"['SwissLipids']\\\"], [\\\"PsyGeNET\\\", \\\"['PsyGeNET', 'Psychiatric disorders and Genes association NETwork']\\\"], [\\\"YDHS\\\", \\\"['YDHS']\\\"], [\\\"The Mouse Genomes Project\\\", \\\"['The Mouse Genomes Project']\\\"], [\\\"RegNetwork\\\", \\\"['RegNetwork']\\\"], [\\\"eHALOPH\\\", \\\"['eHALOPH']\\\"], [\\\"sORFs.org\\\", \\\"['sORFs.org']\\\"], [\\\"Pseudomonas Genome\\\", \\\"['Pseudomonas Genome']\\\"], [\\\"SureChEMBL\\\", \\\"['SureChEMBL']\\\"], [\\\"RBP-Var\\\", \\\"['RBP-Var']\\\"], [\\\"Wikidata\\\", \\\"['Wikidata']\\\"], [\\\"Vaxar\\\", \\\"['Vaxar']\\\"], [\\\"DNAVaxDB\\\", \\\"['DNAVaxDB']\\\"], [\\\"e23D\\\", \\\"['e23D']\\\"], [\\\"SeriPort\\\", \\\"['SeriPort']\\\"], [\\\"SZDB\\\", \\\"['SZDB']\\\"], [\\\"Onco-Regulon\\\", \\\"['Onco-Regulon']\\\"], [\\\"PMDBase\\\", \\\"['PMDBase']\\\"], [\\\"mirDNMR\\\", \\\"['mirDNMR']\\\"], [\\\"SCEGRAM\\\", \\\"['SCEGRAM']\\\"], [\\\"XTalkDB\\\", \\\"['XTalkDB']\\\"], [\\\"PlaMoM\\\", \\\"['PlaMoM', 'Plant Mobile Macromolecules']\\\"], [\\\"viruSITE\\\", \\\"['viruSITE']\\\"], [\\\"iHMS\\\", \\\"['iHMS']\\\"], [\\\"GreekLex\\\", \\\"['GreekLex']\\\"], [\\\"TimeTree\\\", \\\"['TimeTree']\\\"], [\\\"SalmoBase\\\", \\\"['SalmoBase']\\\"], [\\\"HemeOxDB\\\", \\\"['HemeOxDB', 'Heme Oxygenase Database']\\\"], [\\\"SMBP\\\", \\\"['SMBP', 'Secondary Metabolite Bioinformatics Portal']\\\"], [\\\"HEDD\\\", \\\"['HEDD', 'Human Enhancer Disease Database']\\\"], [\\\"eRAM\\\", \\\"['eRAM', 'encyclopedia of Rare disease Annotations for']\\\"], [\\\"TranslatomeDB\\\", \\\"['TranslatomeDB']\\\"], [\\\"PedAM\\\", \\\"['PedAM', 'Pediatric Disease Annotations &amp; Medicines']\\\"], [\\\"SeedStor\\\", \\\"['SeedStor']\\\"], [\\\"DBTFLC\\\", \\\"['DBTFLC', 'Database of Transcription Factors in Lung Cancer']\\\"], [\\\"VirusDB\\\", \\\"['VirusDB']\\\"], [\\\"HOMD\\\", \\\"['HOMD', 'Human Oral Microbiome Database']\\\"], [\\\"PhoPepMass\\\", \\\"['PhoPepMass']\\\"], [\\\"TReasure\\\", \\\"['TReasure']\\\"], [\\\"GC4S\\\", \\\"['GC4S']\\\"], [\\\"UniLectin3D\\\", \\\"['UniLectin3D']\\\"], [\\\"Rhea\\\", \\\"['Rhea']\\\"], [\\\"LncRNADisease\\\", \\\"['LncRNADisease', 'non-coding RNA disease database']\\\"], [\\\"RPFdb\\\", \\\"['RPFdb']\\\"], [\\\"GDR\\\", \\\"['GDR', 'Genome Database for Rosaceae']\\\"], [\\\"SymMap\\\", \\\"['SymMap']\\\"], [\\\"ZINClick\\\", \\\"['ZINClick']\\\"], [\\\"ViPR\\\", \\\"['ViPR', 'Virus Pathogen Resource']\\\"], [\\\"NeuroMuscleDB\\\", \\\"['NeuroMuscleDB']\\\"], [\\\"WDSPdb\\\", \\\"['WDSPdb']\\\"], [\\\"DNMIVD\\\", \\\"['DNMIVD', 'DNA Methylation Interactive Visualization Database']\\\"], [\\\"Diat.barcode\\\", \\\"['Diat.barcode']\\\"], [\\\"AdditiveChem\\\", \\\"['AdditiveChem']\\\"], [\\\"SPP\\\", \\\"['SPP', 'The Signaling Pathways Project']\\\"], [\\\"SpatialDB\\\", \\\"['SpatialDB']\\\"], [\\\"PCaLiStDB\\\", \\\"['PCaLiStDB', 'PCa related lifestyle database']\\\"], [\\\"FRCD\\\", \\\"['FRCD']\\\"], [\\\"TransGene Promoters\\\", \\\"['TransGene Promoters', 'TGP']\\\"], [\\\"MyoMiner\\\", \\\"['MyoMiner']\\\"], [\\\"The Ontario Climate Data Portal\\\", \\\"['The Ontario Climate Data Portal']\\\"], [\\\"WorldWide Antimalarial Resistance Network\\\", \\\"['WorldWide Antimalarial Resistance Network', 'WWARN']\\\"], [\\\"SCDb\\\", \\\"['SCDb']\\\"], [\\\"VIRdb\\\", \\\"['VIRdb', 'Vitiligo Information Resource']\\\"], [\\\"PvP01\\\", \\\"['PvP01']\\\"], [\\\"CHDGKB\\\", \\\"['CHDGKB']\\\"], [\\\"YIR\\\", \\\"['YIR', 'yeast interactome resource']\\\"], [\\\"MNDR\\\", \\\"['MNDR', 'mammal ncRNA-disease repository']\\\"], [\\\"RIGD\\\", \\\"['RIGD', 'Rosaceae Intronless Genes Database']\\\"], [\\\"StoneMod\\\", \\\"['StoneMod', 'kidney stone modulator database']\\\"], [\\\"EnzyMine\\\", \\\"['EnzyMine']\\\"], [\\\"cncRNAdb\\\", \\\"['cncRNAdb']\\\"], [\\\"tsRBase\\\", \\\"['tsRBase']\\\"], [\\\"DualSeqDB\\\", \\\"['DualSeqDB']\\\"], [\\\"UniLectin\\\", \\\"['UniLectin']\\\"], [\\\"dbCNS\\\", \\\"['dbCNS']\\\"], [\\\"WikiPathways\\\", \\\"['WikiPathways']\\\"], [\\\"Tenuipalpidae\\\", \\\"['Tenuipalpidae']\\\"], [\\\"ToxinDB\\\", \\\"['ToxinDB']\\\"], [\\\"DIPPER\\\", \\\"['DIPPER']\\\"], [\\\"H2V\\\", \\\"['H2V']\\\"], [\\\"Cellinker\\\", \\\"['Cellinker']\\\"], [\\\"riboCIRC\\\", \\\"['riboCIRC']\\\"], [\\\"CMBD\\\", \\\"['CMBD']\\\"], [\\\"ChemHub\\\", \\\"['ChemHub']\\\"], [\\\"RHeference\\\", \\\"['RHeference']\\\"], [\\\"PSSRD\\\", \\\"['PSSRD', 'SSR database']\\\"], [\\\"TeaAS\\\", \\\"['TeaAS', 'Tea Alternative Splicing']\\\"], [\\\"piRNAclusterDB\\\", \\\"['piRNAclusterDB']\\\"], [\\\"webTWAS\\\", \\\"['webTWAS']\\\"], [\\\"RNAPhaSep\\\", \\\"['RNAPhaSep']\\\"], [\\\"MIKB\\\", \\\"['MIKB', 'Myocardial infarction knowledge base']\\\"], [\\\"CRPMKB\\\", \\\"['CRPMKB', 'cancer risk prediction model']\\\"], [\\\"m5C-Atlas\\\", \\\"['m5C-Atlas']\\\"], [\\\"SorghumBase\\\", \\\"['SorghumBase']\\\"], [\\\"GRNDaD\\\", \\\"['GRNDaD']\\\"], [\\\"CATA\\\", \\\"['CATA', 'chromatin accessibility database']\\\"], [\\\"LncPep\\\", \\\"['LncPep']\\\"], [\\\"VegSNPDB\\\", \\\"['VegSNPDB', 'The vegetable SNP database']\\\"], [\\\"SwissBioPics\\\", \\\"['SwissBioPics']\\\"], [\\\"XePhIR\\\", \\\"['XePhIR', 'Xenograft Phenotype Interactive Repository']\\\"], [\\\"MutaXome\\\", \\\"['MutaXome']\\\"], [\\\"TBGR\\\", \\\"['TBGR', 'The Brassicaceae Genome Resource']\\\"], [\\\"RegEl\\\", \\\"['RegEl', 'egulatory Elements']\\\"], [\\\"IDPsBind\\\", \\\"['IDPsBind']\\\"], [\\\"QS-DMD\\\", \\\"['QS-DMD']\\\"], [\\\"SC2sepsis\\\", \\\"['SC2sepsis', 'Sepsis Single-cell Whole Gene Expression Database Website']\\\"], [\\\"SLOAD\\\", \\\"['SLOAD']\\\"], [\\\"KRiShI\\\", \\\"['KRiShI', 'Knowledgebase for rice sheath blight information']\\\"], [\\\"RNADisease\\\", \\\"['RNADisease']\\\"], [\\\"Ribocentre\\\", \\\"['Ribocentre']\\\"], [\\\"CottonMD\\\", \\\"['CottonMD']\\\"], [\\\"CASA\\\", \\\"['CASA', 'COVID-19 Alternative Splicing Atlas']\\\"], [\\\"FerrDb\\\", \\\"['FerrDb']\\\"], [\\\"NCBN\\\", \\\"['NCBN', 'Center Biobank Network']\\\"], [\\\"DirectRMDB\\\", \\\"['DirectRMDB']\\\"], [\\\"tModBase\\\", \\\"['tModBase']\\\"], [\\\"MagMD\\\", \\\"['MagMD', 'Metabolic action of gut Microbiota to Drugs']\\\"], [\\\"CafeteriaSA\\\", \\\"['CafeteriaSA']\\\"], [\\\"Xenbase\\\", \\\"['Xenbase', 'Xenopus model organism']\\\"], [\\\"IGTCM\\\", \\\"['IGTCM', 'database of TCM plants']\\\"], [\\\"BnIR\\\", \\\"['BnIR', 'rapeseed multi-omics database']\\\"], [\\\"sBGC-hm\\\", \\\"['sBGC-hm']\\\"], [\\\"Phyto4Health\\\", \\\"['Phyto4Health']\\\"], [\\\"eccDB\\\", \\\"['eccDB']\\\"], [\\\"REDH\\\", \\\"['REDH']\\\"], [\\\"PDBc\\\", \\\"['PDBc', 'Worldwide Protein Data Bank']\\\"], [\\\"HPC-Atlas\\\", \\\"['HPC-Atlas', 'Human Protein Complexes Atlas']\\\"], [\\\"RatDEGdb\\\", \\\"['RatDEGdb']\\\"], [\\\"AnimalLectinDb\\\", \\\"['AnimalLectinDb']\\\"], [\\\"PDBj\\\", \\\"['PDBj', 'Protein Data Bank Japan']\\\"], [\\\"EcoliWiki\\\", \\\"['EcoliWiki']\\\"], [\\\"zfishbook\\\", \\\"['zfishbook']\\\"], [\\\"MGD\\\", \\\"['MGD', 'Mouse Genome Database']\\\"], [\\\"TarBase\\\", \\\"['TarBase']\\\"], [\\\"GeneCards\\\", \\\"['GeneCards', 'Human Integrated Protein Expression Database']\\\"], [\\\"BacterialLectinDb\\\", \\\"['BacterialLectinDb']\\\"], [\\\"pep2pro\\\", \\\"['pep2pro']\\\"], [\\\"Phenoscape KB\\\", \\\"['Phenoscape KB', 'Phenoscape Knowledgebase']\\\"], [\\\"PharmDB\\\", \\\"['PharmDB']\\\"], [\\\"ZFIN\\\", \\\"['ZFIN', 'Zebrafish Model Organism Database']\\\"], [\\\"BioLiP\\\", \\\"['BioLiP']\\\"], [\\\"MGI\\\", \\\"['MGI', 'Mouse Genome Informatics']\\\"], [\\\"ZInC\\\", \\\"['ZInC', 'The Zebrafish Insertion Collection']\\\"], [\\\"QTLdb\\\", \\\"['QTLdb', 'Animal QTL database']\\\"], [\\\"miRT\\\", \\\"['miRT']\\\"], [\\\"ZiFDB\\\", \\\"['ZiFDB', 'Zinc Finger Database']\\\"], [\\\"KDDB\\\", \\\"['KDDB', 'Allele Frequency Net Database']\\\"], [\\\"PortEco\\\", \\\"['PortEco']\\\"], [\\\"Expression Atlas\\\", \\\"['Expression Atlas']\\\"], [\\\"AFND\\\", \\\"['AFND', 'Allele Frequency Net Database']\\\"], [\\\"GenBank\\\", \\\"['GenBank']\\\"], [\\\"VitisCyc\\\", \\\"['VitisCyc']\\\"], [\\\"GLASS\\\", \\\"['GLASS']\\\"], [\\\"DOCKGROUND\\\", \\\"['DOCKGROUND']\\\"], [\\\"IKMC\\\", \\\"['IKMC', 'International Knockout Mouse Consortium']\\\"], [\\\"PGSB PlantsDB\\\", \\\"['PGSB PlantsDB', 'PlantsDB', 'Plant Genome and Systems Biology']\\\"], [\\\"PharmDB-K\\\", \\\"['PharmDB-K']\\\"], [\\\"UCSC Genome Browser\\\", \\\"['UCSC Genome Browser']\\\"], [\\\"IPD-IMGT/HLA\\\", \\\"['IPD-IMGT/HLA']\\\"], [\\\"FragariaCyc\\\", \\\"['FragariaCyc']\\\"], [\\\"SM-TF\\\", \\\"['SM-TF']\\\"], [\\\"DIANA-TarBase\\\", \\\"['DIANA-TarBase']\\\"], [\\\"Cistrome\\\", \\\"['Cistrome', 'Cistrome Data Browser']\\\"], [\\\"mutLBSgeneDB\\\", \\\"['mutLBSgeneDB', 'mutated ligand binding site gene DataBase']\\\"], [\\\"ATLAS\\\", \\\"['ATLAS', 'Altered TCR Ligand Affinities and Structures']\\\"], [\\\"GeneHancer\\\", \\\"['GeneHancer']\\\"], [\\\"TissGDB\\\", \\\"['TissGDB', 'Tissue specific Gene DataBase in cancer']\\\"], [\\\"SalmoNet\\\", \\\"['SalmoNet']\\\"], [\\\"Obesity and Co-morbid Disease Database\\\", \\\"['Obesity and Co-morbid Disease Database', 'OCDD']\\\"], [\\\"EOGD\\\", \\\"['EOGD', 'octocarinatus Genome Database']\\\"], [\\\"PUG-REST\\\", \\\"['PUG-REST']\\\"], [\\\"CZRC\\\", \\\"['CZRC', 'China Zebrafish Resource Center']\\\"], [\\\"PPGD\\\", \\\"['PPGD', 'persalinus genome database']\\\"], [\\\"Cistrome DB\\\", \\\"['Cistrome DB', 'Cistrome Data Browser']\\\"], [\\\"GDBMedChem\\\", \\\"['GDBMedChem', 'Medicinal Chemistry Aware Database']\\\"], [\\\"ZIKAVID\\\", \\\"['ZIKAVID', 'ZIKA Virus Infection Database']\\\"], [\\\"proGenomes2\\\", \\\"['proGenomes2']\\\"], [\\\"HKPocket\\\", \\\"['HKPocket', 'Human Kinase Pocket']\\\"], [\\\"GDB17\\\", \\\"['GDB17']\\\"], [\\\"TCRD\\\", \\\"['TCRD', 'Central Resource Database']\\\"], [\\\"HVIDB\\\", \\\"['HVIDB', 'Human-Virus Interaction DataBase']\\\"], [\\\"GWH\\\", \\\"['GWH', 'Genome Warehouse']\\\"], [\\\"GlyTouCan\\\", \\\"['GlyTouCan']\\\"], [\\\"RPocket\\\", \\\"['RPocket']\\\"], [\\\"antimicrobial peptide database\\\", \\\"['antimicrobial peptide database', 'APD']\\\"], [\\\"RNALocate\\\", \\\"['RNALocate']\\\"], [\\\"CPLM\\\", \\\"['CPLM', 'Compendium of Protein Lysine Modifications']\\\"], [\\\"RNAInter\\\", \\\"['RNAInter', 'RNA Interactome Database']\\\"], [\\\"G4LDB\\\", \\\"['G4LDB', 'G-quadruplex ligands database']\\\"], [\\\"PhylomeDB\\\", \\\"['PhylomeDB']\\\"], [\\\"3DSNP\\\", \\\"['3DSNP']\\\"], [\\\"PRIDE\\\", \\\"['PRIDE', 'Proteomics Identifications Database']\\\"], [\\\"ViRBase\\\", \\\"['ViRBase']\\\"], [\\\"GreeNC\\\", \\\"['GreeNC', 'Green Non-Coding Database']\\\"], [\\\"HGD\\\", \\\"['HGD', 'Hymenoptera Genome Database']\\\"], [\\\"CEBS\\\", \\\"['CEBS', 'Chemical Effects in Biological Systems database']\\\"], [\\\"FusionGDB\\\", \\\"['FusionGDB', 'fusion gene annotation DataBase']\\\"], [\\\"BRAD\\\", \\\"['BRAD', 'Brassica database']\\\"], [\\\"dbPTM\\\", \\\"['dbPTM']\\\"], [\\\"FuzDB\\\", \\\"['FuzDB']\\\"], [\\\"Ensembl Genomes\\\", \\\"['Ensembl Genomes']\\\"], [\\\"ProteomicsDB\\\", \\\"['ProteomicsDB']\\\"], [\\\"InsectBase\\\", \\\"['InsectBase']\\\"], [\\\"Genomicus\\\", \\\"['Genomicus']\\\"], [\\\"CorrDB\\\", \\\"['CorrDB']\\\"], [\\\"PLSDB\\\", \\\"['PLSDB']\\\"], [\\\"PRGdb\\\", \\\"['PRGdb', 'Plant Resistance Genes database']\\\"], [\\\"LncACTdb\\\", \\\"['LncACTdb']\\\"], [\\\"MirGeneDB\\\", \\\"['MirGeneDB']\\\"], [\\\"CircNet\\\", \\\"['CircNet']\\\"], [\\\"dbAMP\\\", \\\"['dbAMP']\\\"], [\\\"miRTarBase\\\", \\\"['miRTarBase']\\\"], [\\\"iProX\\\", \\\"['iProX']\\\"], [\\\"piRBase\\\", \\\"['piRBase']\\\"], [\\\"MODOMICS\\\", \\\"['MODOMICS', 'Modification Pathways Database']\\\"], [\\\"exoRBase\\\", \\\"['exoRBase']\\\"], [\\\"HMDB\\\", \\\"['HMDB', 'Human Metabolome Database']\\\"], [\\\"LLPSDB\\\", \\\"['LLPSDB']\\\"], [\\\"Plant Reactome\\\", \\\"['Plant Reactome']\\\"], [\\\"DECIPHER\\\", \\\"['DECIPHER']\\\"], [\\\"VESPUCCI\\\", \\\"['VESPUCCI', 'Vitis Expression Studies Platform Using COLOMBOS Compendia Instances']\\\"], [\\\"PASS2\\\", \\\"['PASS2']\\\"], [\\\"SynLethDB\\\", \\\"['SynLethDB']\\\"], [\\\"EWAS\\\", \\\"['EWAS']\\\"], [\\\"GrainGenes\\\", \\\"['GrainGenes', 'Genome Specific Primers']\\\"], [\\\"dbDEMC\\\", \\\"['dbDEMC', 'of DEMs in human cancers']\\\"], [\\\"TissueNet\\\", \\\"['TissueNet']\\\"], [\\\"LitCovid\\\", \\\"['LitCovid']\\\"], [\\\"TSNAdb\\\", \\\"['TSNAdb', 'tumor-specific neoantigen database']\\\"], [\\\"GWAS Atlas\\\", \\\"['GWAS Atlas']\\\"], [\\\"AnimalTFDB\\\", \\\"['AnimalTFDB', 'Animal Transcription Factor Database']\\\"], [\\\"EchinoDB\\\", \\\"['EchinoDB']\\\"], [\\\"CellMarker\\\", \\\"['CellMarker']\\\"], [\\\"PubChem\\\", \\\"['PubChem']\\\"], [\\\"IMPC\\\", \\\"['IMPC', 'International Mouse Phenotyping Consortium']\\\"], [\\\"uORFdb\\\", \\\"['uORFdb']\\\"], [\\\"Ensembl\\\", \\\"['Ensembl']\\\"], [\\\"MethBank\\\", \\\"['MethBank']\\\"], [\\\"SulfAtlas\\\", \\\"['SulfAtlas', 'sulfatase database']\\\"], [\\\"GOLD\\\", \\\"['GOLD', 'Genomes OnLine Database']\\\"], [\\\"LncTarD\\\", \\\"['LncTarD']\\\"], [\\\"TISCH2\\\", \\\"['TISCH2', 'Tumor Immune Single Cell Hub']\\\"], [\\\"LncBook\\\", \\\"['LncBook']\\\"], [\\\"SecReT6\\\", \\\"['SecReT6']\\\"], [\\\"HGTree\\\", \\\"['HGTree']\\\"], [\\\"lncRNASNP\\\", \\\"['lncRNASNP']\\\"], [\\\"NPInter\\\", \\\"['NPInter']\\\"], [\\\"MatrisomeDB\\\", \\\"['MatrisomeDB', 'the ECM-protein knowledge database']\\\"], [\\\"ChIPBase\\\", \\\"['ChIPBase']\\\"], [\\\"eggNOG\\\", \\\"['eggNOG', 'evolutionary gene genealogy Non-supervised Orthologous Groups']\\\"], [\\\"GeneFriends\\\", \\\"['GeneFriends']\\\"], [\\\"Mr.Vc\\\", \\\"['Mr.Vc']\\\"], [\\\"MycoCosm\\\", \\\"['MycoCosm']\\\"], [\\\"IDG\\\", \\\"['IDG', 'Central Resource Database']\\\"], [\\\"CyanoSeq\\\", \\\"['CyanoSeq']\\\"], [\\\"dcGO\\\", \\\"['dcGO']\\\"], [\\\"PlaASDB\\\", \\\"['PlaASDB']\\\"], [\\\"MYRiAD\\\", \\\"['MYRiAD', 'Room Acoustic Database']\\\"], [\\\"GlyCosmos\\\", \\\"['GlyCosmos']\\\"], [\\\"AAgAtlas\\\", \\\"['AAgAtlas', 'Human Autoantigen Atlas']\\\"], [\\\"Norine\\\", \\\"['Norine']\\\"], [\\\"ETCM\\\", \\\"['ETCM', 'Encyclopedia of Traditional Chinese Medicine version']\\\"], [\\\"PlaPPISite\\\", \\\"['PlaPPISite']\\\"], [\\\"ESTHER\\\", \\\"['ESTHER']\\\"], [\\\"PolyQ\\\", \\\"['PolyQ']\\\"], [\\\"CBD\\\", \\\"['CBD', 'Colorectal Cancer Biomarker Database']\\\"], [\\\"MIPS PlantsDB\\\", \\\"['MIPS PlantsDB']\\\"], [\\\"UniProtKB\\\", \\\"['UniProtKB', 'Universal Protein Resource']\\\"], [\\\"MaCPepDB\\\", \\\"['MaCPepDB']\\\"], [\\\"ABCD\\\", \\\"['ABCD', 'Database for AntiBodies Chemically Defined']\\\"], [\\\"ABCD\\\", \\\"['ABCD', \\\\\\\"Alzheimer's disease Biomarkers Comprehensive Database\\\\\\\"]\\\"], [\\\"AMDB\\\", \\\"['AMDB', 'Animal Microbiome Database']\\\"], [\\\"AMDB\\\", \\\"['AMDB', 'Animal Metabolite Database']\\\"], [\\\"APPRIS\\\", \\\"['APPRIS']\\\"], [\\\"APPRIS\\\", \\\"['APPRIS']\\\"], [\\\"ARN\\\", \\\"['ARN', 'Autophagy Regulatory Network']\\\"], [\\\"ARN\\\", \\\"['ARN', 'Adipogenesis Regulation Network']\\\"], [\\\"ASDB\\\", \\\"['ASDB', 'Annotated Scaffold Database']\\\"], [\\\"ASDB\\\", \\\"['ASDB', 'Anopheles sinensis omics database']\\\"], [\\\"BDB\\\", \\\"['BDB']\\\"], [\\\"BDB\\\", \\\"['BDB', 'Biopanning Data Bank']\\\"], [\\\"BGD\\\", \\\"['BGD', 'Bat Genome Database']\\\"], [\\\"BGD\\\", \\\"['BGD', 'Bovine Genome Database']\\\"], [\\\"CGD\\\", \\\"['CGD', 'Candida Genome Database']\\\"], [\\\"CGD\\\", \\\"['CGD', 'Clinical Genomic Database']\\\"], [\\\"CGDB\\\", \\\"['CGDB', 'Database of circadian genes in eukaryotes']\\\"], [\\\"CGDB\\\", \\\"['CGDB', 'Coriander Genomics Database']\\\"], [\\\"CLD\\\", \\\"['CLD', 'Corvids Literature Database']\\\"], [\\\"CLD\\\", \\\"['CLD', 'Chinese Lexical Database']\\\"], [\\\"DGV\\\", \\\"['DGV', 'Database of Genomic Variants']\\\"], [\\\"DGV\\\", \\\"['DGV', 'Dengue Genographic Viewer']\\\"], [\\\"ECO\\\", \\\"['ECO', 'European Cancer Observatory']\\\"], [\\\"ECO\\\", \\\"['ECO', 'Gene Expression Omnibus for Mouse Endothelial Cells']\\\"], [\\\"EPD\\\", \\\"['EPD', 'Encyclopedia of Proteome Dynamics']\\\"], [\\\"EPD\\\", \\\"['EPD', 'Eukaryotic Promoter Database']\\\"], [\\\"Enrichr\\\", \\\"['Enrichr']\\\"], [\\\"Enrichr-KG\\\", \\\"['Enrichr-KG', 'Enrichr Knowledge Graph']\\\"], [\\\"GRASP\\\", \\\"['GRASP', 'Genomic Resource Access for Stoichioproteomics']\\\"], [\\\"GRASP\\\", \\\"['GRASP', 'Genome-Wide Repository of Associations between SNPs and Phenotypes']\\\"], [\\\"HGD\\\", \\\"['HGD', 'Homologous Gene Database']\\\"], [\\\"HMDB\\\", \\\"['HMDB']\\\"], [\\\"LAMP\\\", \\\"['LAMP', 'Library of Apicomplexan Metabolic Pathways']\\\"], [\\\"LAMP\\\", \\\"['LAMP']\\\"], [\\\"MGDB\\\", \\\"['MGDB', 'Unlabelled Mycobacteriophage genome database']\\\"], [\\\"MGDB\\\", \\\"['MGDB', 'Melanoma Gene Database']\\\"], [\\\"MMDB\\\", \\\"['MMDB', 'Molecular Modeling Database']\\\"], [\\\"MMDB\\\", \\\"['MMDB', 'Magnaporthe oryzae Microsatellite Database']\\\"], [\\\"MPD\\\", \\\"['MPD', 'Mypathogen database']\\\"], [\\\"MPD\\\", \\\"['MPD', 'Mouse Phenome Database']\\\"], [\\\"MPDB\\\", \\\"['MPDB', 'Molecular Pathways Brain Database']\\\"], [\\\"MPDB\\\", \\\"['MPDB', 'Medicinal plant database of Bangladesh']\\\"], [\\\"NDB\\\", \\\"['NDB', 'Nucleic Acid Database']\\\"], [\\\"NDB\\\", \\\"['NDB', 'Nucleome Data Bank']\\\"], [\\\"PDB\\\", \\\"['PDB', 'Worldwide Protein Data Bank organization']\\\"], [\\\"PGD\\\", \\\"['PGD', 'Pangolin Genome Database']\\\"], [\\\"PGD\\\", \\\"['PGD', 'Pineapple Genomics Database']\\\"], [\\\"SNPshot\\\", \\\"['SNPshot']\\\"], [\\\"PharmGKB\\\", \\\"['PharmGKB', 'Pharmacogenomics Knowledgebase']\\\"], [\\\"RGD\\\", \\\"['RGD', 'Ruminant Genome Database']\\\"], [\\\"RGD\\\", \\\"['RGD', 'Rat Genome Database']\\\"], [\\\"SGR\\\", \\\"['SGR', 'Systems Genetics Resource']\\\"], [\\\"SGR\\\", \\\"['SGR', 'Strawberry Genomic Resource']\\\"], [\\\"SMART\\\", \\\"['SMART', 'Simple Modular Architecture Research Tool']\\\"], [\\\"SMART\\\", \\\"['SMART']\\\"], [\\\"dbSNP\\\", \\\"['dbSNP']\\\"], [\\\"TMC-SNPdb\\\", \\\"['TMC-SNPdb', 'Tata Memorial Centre SNP database']\\\"], [\\\"Alliance of Genome Resources\\\", \\\"['Alliance of Genome Resources']\\\"], [\\\"BAR\\\", \\\"['BAR', 'Bio-Analytic Resource for Plant Biology']\\\"], [\\\"Catalogue of Life\\\", \\\"['Catalogue of Life']\\\"], [\\\"Cellosaurus\\\", \\\"['Cellosaurus']\\\"], [\\\"CIViC\\\", \\\"['CIViC', 'Clinical Interpretation of Variants in Cancer']\\\"], [\\\"ClinGen\\\", \\\"['ClinGen', 'Clinical Genome Resource']\\\"], [\\\"GBIF\\\", \\\"['GBIF', 'Global Biodiversity Information Facility']\\\"], [\\\"HPA\\\", \\\"['HPA', 'Human Protein Atlas']\\\"], [\\\"IMEx\\\", \\\"['IMEx', 'International Molecular Exchange Consortium']\\\"], [\\\"LIPID MAPS\\\", \\\"['LIPID MAPS']\\\"], [\\\"Orphadata Science\\\", \\\"['Orphadata Science', 'Orphanet']\\\"], [\\\"Planteome\\\", \\\"['Planteome']\\\"], [\\\"ProteomeXchange\\\", \\\"['ProteomeXchange']\\\"], [\\\"BioStudies\\\", \\\"['BioStudies']\\\"], [\\\"NCT\\\", \\\"['NCT', 'National Clinical Trials Registry', 'ClinicalTrials.gov']\\\"], [\\\"EudraCT\\\", \\\"['EudraCT', 'European Union Drug Regulating Authorities Clinical Trials Database']\\\"], [\\\"ComplexPortal\\\", \\\"['ComplexPortal']\\\"], [\\\"EFO\\\", \\\"['EFO', 'Experimental Factor Ontology']\\\"], [\\\"EMPIAR\\\", \\\"['EMPIAR', 'Electron Microscopy Public Image Archive']\\\"], [\\\"RRID\\\", \\\"['RRID', 'Research Resource Identification Portal']\\\"], [\\\"GISAID\\\", \\\"['GISAID', 'Global Initiative on Sharing All Influenza Data']\\\"], [\\\"TCGA\\\", \\\"['TCGA', 'The Cancer Genome Atlas']\\\"], [\\\"OncoKB\\\", \\\"['OncoKB', 'Oncology Knowledge Base']\\\"], [\\\"DAVID\\\", \\\"['DAVID', 'Database for Annotation, Visualization, and Integrated Discovery']\\\"]]\"};\n",
       "        new ITable(table, dt_args);\n",
       "    });\n",
       "</script>\n"
      ],
      "text/plain": [
       "<IPython.core.display.HTML object>"
      ]
     },
     "metadata": {},
     "output_type": "display_data"
    },
    {
     "data": {
      "text/html": [
       "</div>"
      ],
      "text/plain": [
       "<IPython.core.display.HTML object>"
      ]
     },
     "metadata": {},
     "output_type": "display_data"
    }
   ],
   "source": [
    "# @title 📋 Load resource list\n",
    "\n",
    "def display_dataframe(df, title=None):\n",
    "    if title:\n",
    "        print(f\"### {title} ###\")\n",
    "\n",
    "    display(HTML(\"<div style='max-width: 800px; overflow-x: auto;'>\"))\n",
    "    show(df, include_index=False, classes=\"display compact\", style=\"width: 800px;\")\n",
    "    display(HTML(\"</div>\"))\n",
    "\n",
    "additional_aliases = json.load(open(\"resource_names.additional_aliases.json\"))\n",
    "\n",
    "sql = \"SELECT short_name, common_name, full_name FROM resource WHERE is_latest=1\"\n",
    "result = db_conn.execute(db.text(sql)).fetchall()\n",
    "resource_names = []\n",
    "for r in result:\n",
    "    short_name = r[0].strip()\n",
    "    common_name = r[1].strip() if r[1] else None\n",
    "    full_name = r[2].strip() if r[2] else None\n",
    "    if short_name:\n",
    "        resource_names.append([short_name])\n",
    "    if common_name and common_name != short_name:\n",
    "        resource_names[-1].append(common_name)\n",
    "    if full_name and full_name != short_name and full_name != common_name:\n",
    "        resource_names[-1].append(full_name)\n",
    "\n",
    "    if short_name in additional_aliases:\n",
    "        resource_names[-1].extend(additional_aliases[short_name])\n",
    "\n",
    "resource_display_df = pd.DataFrame([\n",
    "    {\n",
    "        'resource_name': entry[0],\n",
    "        'aliases': str(entry)\n",
    "    }\n",
    "    for entry in resource_names\n",
    "])\n",
    "display_dataframe(resource_display_df)"
   ]
  },
  {
   "cell_type": "code",
   "execution_count": null,
   "metadata": {},
   "outputs": [],
   "source": []
  },
  {
   "cell_type": "markdown",
   "metadata": {
    "id": "pmq65xvwXYxT"
   },
   "source": [
    "# 📦 Locate and Load Model"
   ]
  },
  {
   "cell_type": "code",
   "execution_count": 8,
   "metadata": {
    "executionInfo": {
     "elapsed": 169,
     "status": "aborted",
     "timestamp": 1751462673129,
     "user": {
      "displayName": "Carla Cummins",
      "userId": "04681454191639308511"
     },
     "user_tz": -60
    },
    "id": "xDrrxEuzTiSv"
   },
   "outputs": [
    {
     "name": "stdout",
     "output_type": "stream",
     "text": [
      "cp: /content/drive/MyDrive/Colab Notebooks/SciBERT Classifier/scibert_resource_classifier: No such file or directory\n",
      "cp: /content/drive/MyDrive/Colab Notebooks/SciBERT Classifier/scibert_resource_classifier.v2: No such file or directory\n"
     ]
    },
    {
     "data": {
      "text/plain": [
       "BertForSequenceClassification(\n",
       "  (bert): BertModel(\n",
       "    (embeddings): BertEmbeddings(\n",
       "      (word_embeddings): Embedding(31090, 768, padding_idx=0)\n",
       "      (position_embeddings): Embedding(512, 768)\n",
       "      (token_type_embeddings): Embedding(2, 768)\n",
       "      (LayerNorm): LayerNorm((768,), eps=1e-12, elementwise_affine=True)\n",
       "      (dropout): Dropout(p=0.1, inplace=False)\n",
       "    )\n",
       "    (encoder): BertEncoder(\n",
       "      (layer): ModuleList(\n",
       "        (0-11): 12 x BertLayer(\n",
       "          (attention): BertAttention(\n",
       "            (self): BertSdpaSelfAttention(\n",
       "              (query): Linear(in_features=768, out_features=768, bias=True)\n",
       "              (key): Linear(in_features=768, out_features=768, bias=True)\n",
       "              (value): Linear(in_features=768, out_features=768, bias=True)\n",
       "              (dropout): Dropout(p=0.1, inplace=False)\n",
       "            )\n",
       "            (output): BertSelfOutput(\n",
       "              (dense): Linear(in_features=768, out_features=768, bias=True)\n",
       "              (LayerNorm): LayerNorm((768,), eps=1e-12, elementwise_affine=True)\n",
       "              (dropout): Dropout(p=0.1, inplace=False)\n",
       "            )\n",
       "          )\n",
       "          (intermediate): BertIntermediate(\n",
       "            (dense): Linear(in_features=768, out_features=3072, bias=True)\n",
       "            (intermediate_act_fn): GELUActivation()\n",
       "          )\n",
       "          (output): BertOutput(\n",
       "            (dense): Linear(in_features=3072, out_features=768, bias=True)\n",
       "            (LayerNorm): LayerNorm((768,), eps=1e-12, elementwise_affine=True)\n",
       "            (dropout): Dropout(p=0.1, inplace=False)\n",
       "          )\n",
       "        )\n",
       "      )\n",
       "    )\n",
       "    (pooler): BertPooler(\n",
       "      (dense): Linear(in_features=768, out_features=768, bias=True)\n",
       "      (activation): Tanh()\n",
       "    )\n",
       "  )\n",
       "  (dropout): Dropout(p=0.1, inplace=False)\n",
       "  (classifier): Linear(in_features=768, out_features=2, bias=True)\n",
       ")"
      ]
     },
     "execution_count": 8,
     "metadata": {},
     "output_type": "execute_result"
    }
   ],
   "source": [
    "# grab model files from GDrive\n",
    "!cp -r '/content/drive/MyDrive/Colab Notebooks/SciBERT Classifier/scibert_resource_classifier' .\n",
    "!cp -r '/content/drive/MyDrive/Colab Notebooks/SciBERT Classifier/scibert_resource_classifier.v2' .\n",
    "\n",
    "if torch.cuda.is_available():\n",
    "    device = torch.device(\"cuda\")\n",
    "else:\n",
    "    device = torch.device(\"cpu\")\n",
    "    torch.set_num_threads(2)\n",
    "\n",
    "tokenizer = AutoTokenizer.from_pretrained(\"scibert_resource_classifier.v2\")\n",
    "model = AutoModelForSequenceClassification.from_pretrained(\"scibert_resource_classifier.v2\").to(device)\n",
    "model.eval()"
   ]
  },
  {
   "cell_type": "markdown",
   "metadata": {
    "id": "xDevosYzXrir"
   },
   "source": [
    "# 🧰 Define Helper Functions"
   ]
  },
  {
   "cell_type": "code",
   "execution_count": 9,
   "metadata": {
    "executionInfo": {
     "elapsed": 166,
     "status": "aborted",
     "timestamp": 1751462673130,
     "user": {
      "displayName": "Carla Cummins",
      "userId": "04681454191639308511"
     },
     "user_tz": -60
    },
    "id": "BAscsVbyODO-"
   },
   "outputs": [],
   "source": [
    "\n",
    "# setup retry strategy and HTTP adapter to handle rate limiting\n",
    "# and transient errors\n",
    "retry_strategy = Retry(\n",
    "    total=5,                      # Try up to 5 times\n",
    "    backoff_factor=1.5,           # Starts with 1.5s → 3s → 6s → 12s → 24s\n",
    "    status_forcelist=[429, 500, 502, 503, 504],\n",
    "    allowed_methods=[\"HEAD\", \"GET\", \"OPTIONS\"],\n",
    "    raise_on_status=False\n",
    ")\n",
    "\n",
    "adapter = HTTPAdapter(max_retries=retry_strategy)\n",
    "session = requests.Session()\n",
    "session.mount(\"https://\", adapter)\n",
    "session.mount(\"http://\", adapter)\n",
    "\n",
    "# query EuropePMC for publication metadata\n",
    "max_retries = 5\n",
    "epmc_base_url = \"https://www.ebi.ac.uk/europepmc/webservices/rest\"\n",
    "\n",
    "def query_europepmc(endpoint, request_params=None, no_exit=False):\n",
    "    \"\"\"\n",
    "    Query Europe PMC REST API endpoint with retries.\n",
    "    \"\"\"\n",
    "    for attempt in range(max_retries):\n",
    "        try:\n",
    "            response = session.get(endpoint, params=request_params, timeout=15)\n",
    "            if response.status_code == 200:\n",
    "                return response.json() if 'json' in response.headers.get('Content-Type', '') else response.text\n",
    "            else:\n",
    "                if no_exit:\n",
    "                    return None\n",
    "                else:\n",
    "                    sys.exit(f\"Error: {response.status_code} for {endpoint}\")\n",
    "        except requests.RequestException as e:\n",
    "            print(f\"⚠️ Request failed: {e}. Retrying ({attempt + 1}/{max_retries})...\")\n",
    "    sys.exit(\"Max retries exceeded.\")\n",
    "\n",
    "def preprocess_xml_table(table_wrap_tag):\n",
    "    \"\"\"Extracts and flattens a single <table-wrap> tag into a list of text lines suitable for NER.\"\"\"\n",
    "    lines = []\n",
    "\n",
    "    # Caption\n",
    "    caption = table_wrap_tag.find(\"caption\")\n",
    "    if caption:\n",
    "        cap_text = caption.get_text(strip=True)\n",
    "        if cap_text:\n",
    "            lines.append(f\"[TABLE-CAPTION] {cap_text}\")\n",
    "\n",
    "    # Table body\n",
    "    table = table_wrap_tag.find(\"table\")\n",
    "    if table:\n",
    "        rows = table.find_all(\"tr\")\n",
    "        for i, row in enumerate(rows):\n",
    "            cells = row.find_all([\"td\", \"th\"])\n",
    "            if cells:\n",
    "                row_text = []\n",
    "                for cell in cells:\n",
    "                    text = cell.get_text(strip=True)\n",
    "                    if text:\n",
    "                        is_header = cell.name == \"th\" or i == 0\n",
    "                        prefix = \"[COLUMN-HEADER] \" if is_header else \"\"\n",
    "                        row_text.append(f\"{prefix}{text}\")\n",
    "                if row_text:\n",
    "                    lines.append(\" \".join(row_text))\n",
    "\n",
    "    return \"\\n\".join(lines) if lines else None\n",
    "\n",
    "def section_to_text(section, depth=1):\n",
    "    \"\"\"Converts a BeautifulSoup section to a string.\"\"\"\n",
    "    text = []\n",
    "    title = section.find(\"title\", recursive=False)\n",
    "    if title:\n",
    "        text.append(f\"{'#'*depth} {title.get_text(strip=True).upper()}\")\n",
    "\n",
    "    elems = section.find_all([\"sec\", \"p\"], recursive=False) # only direct children\n",
    "    for elem in elems:\n",
    "        if elem.name == \"sec\":\n",
    "            text.append(section_to_text(elem, depth=(depth+1)))\n",
    "        elif elem.name == \"p\":\n",
    "            # check for embedded lists\n",
    "            plists = elem.find_all(\"list\", recursive=False)\n",
    "            for plist in plists:\n",
    "                for li in elem.find_all(\"list-item\", recursive=True):\n",
    "                    li_text = li.get_text(strip=True)\n",
    "                    if li_text:\n",
    "                        text.append(f\"- {li_text}.\")\n",
    "\n",
    "                plist.extract() # remove the lists from the main paragraph\n",
    "\n",
    "            p_text = elem.get_text(strip=True)\n",
    "            if p_text:\n",
    "                text.append(p_text)\n",
    "\n",
    "    return \"\\n\".join(text) if text else ''\n",
    "\n",
    "def get_fulltext_body(pmcid):\n",
    "    # 1. Download the XML\n",
    "    url = f\"{epmc_base_url}/{pmcid}/fullTextXML\"\n",
    "    response = requests.get(url)\n",
    "    if response.status_code != 200:\n",
    "        return None\n",
    "    xml = response.text\n",
    "\n",
    "    # 2. Parse with BeautifulSoup\n",
    "    soup = BeautifulSoup(xml, \"lxml-xml\")\n",
    "\n",
    "    # 3. Extract body text with headers\n",
    "    text_blocks = []\n",
    "\n",
    "    # 1. Title\n",
    "    title = soup.find(\"article-title\")\n",
    "    if title:\n",
    "        title_text = title.get_text(strip=True)\n",
    "        if title_text:\n",
    "            text_blocks.append(f\"# TITLE\\n{title_text}\")\n",
    "    text_blocks.append(\"\\n\")\n",
    "\n",
    "    # 2. Abstract\n",
    "    abstract = soup.find(\"abstract\")\n",
    "    if abstract:\n",
    "        abstract_title = abstract.find(\"title\")\n",
    "        if abstract_title and abstract_title.get_text(strip=True).upper() == 'ABSTRACT':\n",
    "            abstract_title.extract()  # remove the title\n",
    "\n",
    "        text_blocks.append(f\"# ABSTRACT\\n{section_to_text(abstract)}\")\n",
    "\n",
    "    # 2.1. Other metadata sections\n",
    "    funding_statement = soup.find(\"funding-statement\")\n",
    "    if funding_statement:\n",
    "        funding_text = funding_statement.get_text(strip=True)\n",
    "        if funding_text:\n",
    "            text_blocks.append(f\"### FUNDING\\n{funding_text}\")\n",
    "\n",
    "    all_custom_metas = soup.find_all(\"custom-meta\")\n",
    "    for custom_meta in all_custom_metas:\n",
    "        meta_name = custom_meta.find(\"meta-name\").get_text(strip=True)\n",
    "        meta_value = custom_meta.find(\"meta-value\").get_text(strip=True)\n",
    "        if meta_name and meta_value:\n",
    "            text_blocks.append(f\"### {meta_name.upper()}\\n{meta_value}\")\n",
    "\n",
    "    text_blocks.append(\"\\n\")\n",
    "\n",
    "    # 3. Tables (captions + content)\n",
    "    table_blocks = []\n",
    "    for tbl in soup.find_all(\"table-wrap\"):\n",
    "        tbl.extract()\n",
    "        processed_table = preprocess_xml_table(tbl)\n",
    "        if processed_table:\n",
    "            table_blocks.append(processed_table)\n",
    "\n",
    "    # 4. Main body (sections + paragraphs)\n",
    "    # excluded_section_types = [\"supplementary-material\", \"orcid\"]\n",
    "    excluded_section_types = [\"orcid\"]\n",
    "    body = soup.find(\"body\")\n",
    "    if body:\n",
    "        all_sections = body.find_all(\"sec\", recursive=False)\n",
    "        for elem in all_sections:\n",
    "            if elem.get(\"sec-type\") in excluded_section_types:\n",
    "                continue\n",
    "\n",
    "            text_blocks.append(section_to_text(elem))\n",
    "            text_blocks.append(\"\\n\")\n",
    "\n",
    "    return text_blocks, table_blocks\n",
    "\n",
    "def remove_substring_matches(mentions):\n",
    "    aliases = [m[1].lower() for m in mentions]\n",
    "    unique_aliases = list(set(aliases))\n",
    "\n",
    "    substr_aliases = []\n",
    "    for alias1 in unique_aliases:\n",
    "        for alias2 in unique_aliases:\n",
    "            if alias1 in alias2 and alias1 != alias2:\n",
    "                substr_aliases.append(alias1)\n",
    "\n",
    "    for alias in substr_aliases:\n",
    "        mentions = [m for m in mentions if m[1].lower() != alias]\n",
    "\n",
    "    return mentions\n",
    "\n",
    "case_sensitive_threshold = 30 # switch to case sensitive search after this number of matches for a resource\n",
    "def get_resource_mentions(textblocks, tableblocks, resource_names):\n",
    "    mentions = []\n",
    "\n",
    "    # precompile regex patterns for each resource alias\n",
    "    # This is more efficient than compiling them on-the-fly in the loop\n",
    "    compiled_patterns = []\n",
    "    for resource in resource_names:\n",
    "        resource_name = resource[0]\n",
    "        for alias in resource:\n",
    "            pattern_case_insensitive = re.compile(rf\"[^A-Za-z]{re.escape(alias.lower())}[^A-Za-z]\")\n",
    "            compiled_patterns.append((resource_name, alias, pattern_case_insensitive))\n",
    "\n",
    "    # Split the fulltext into sentences and table rows\n",
    "    for block in textblocks:\n",
    "        # sentences = block.split('. ')\n",
    "        sentences = sent_tokenize(block)  # Use NLTK to split into sentences\n",
    "        for sentence in sentences:\n",
    "            sentence = sentence.replace(\"\\n\", \" \")\n",
    "            s_lowered = sentence.lower()\n",
    "            this_sentence_mentions = []\n",
    "            for resource_name, alias, pattern_ci in compiled_patterns:\n",
    "                if pattern_ci.search(s_lowered):\n",
    "                    this_sentence_mentions.append((sentence.strip(), alias, resource_name))\n",
    "\n",
    "            if len(this_sentence_mentions) > 1:\n",
    "                this_sentence_mentions = remove_substring_matches(this_sentence_mentions)\n",
    "            mentions.extend(this_sentence_mentions)\n",
    "\n",
    "    for table in tableblocks:\n",
    "        rows = table.split('\\n')\n",
    "\n",
    "        for row in rows:\n",
    "            r_lowered = row.lower()\n",
    "            this_row_mentions = []\n",
    "            for resource_name, alias, pattern_ci in compiled_patterns:\n",
    "                if pattern_ci.search(r_lowered):\n",
    "                    this_row_mentions.append((row.strip(), alias, resource_name))\n",
    "\n",
    "            if len(this_row_mentions) > 1:\n",
    "                this_row_mentions = remove_substring_matches(this_row_mentions)\n",
    "            mentions.extend(this_row_mentions)\n",
    "\n",
    "    # if a large number of matches are found for one resource, switch to case sensitive mode\n",
    "    filtered_mentions = []\n",
    "    alias_counts = Counter([m[1] for m in mentions])\n",
    "    for alias, count in alias_counts.items():\n",
    "        if count > case_sensitive_threshold:\n",
    "            print(f\"⚠️ {count} matches found for {alias} - switching to case sensitive mode\")\n",
    "            pattern_case_sensitive = re.compile(rf\"[^A-Za-z]{re.escape(alias)}[^A-Za-z]\")\n",
    "            for m in mentions:\n",
    "                if m[1] == alias and pattern_case_sensitive.search(m[0]):\n",
    "                    filtered_mentions.append(m)\n",
    "        else:\n",
    "            this_alias_mentions = [m for m in mentions if m[1] == alias]\n",
    "            filtered_mentions.extend(this_alias_mentions)\n",
    "\n",
    "    # Remove duplicates\n",
    "    mentions = list(set(filtered_mentions))\n",
    "    # Remove empty mentions\n",
    "    mentions = [m for m in mentions if m[0]]\n",
    "\n",
    "    return mentions\n",
    "\n",
    "def classify_mentions(pmcid, pmid, candidate_pairs):\n",
    "    predictions = []\n",
    "\n",
    "    for sentence, alias, resource in tqdm(candidate_pairs, desc=\"🔍 Classifying\"):\n",
    "        inputs = tokenizer(alias, sentence, return_tensors=\"pt\", truncation=True, padding=\"max_length\", max_length=512).to(device)\n",
    "        with torch.no_grad():\n",
    "            outputs = model(**inputs)\n",
    "            probs = torch.nn.functional.softmax(outputs.logits, dim=-1)\n",
    "            pred = torch.argmax(probs, dim=1).item()\n",
    "            if pred == 1:\n",
    "                predictions.append({\n",
    "                    \"prediction\": \"MATCH\",\n",
    "                    \"pmcid\": pmcid,\n",
    "                    \"pmid\": pmid,\n",
    "                    \"resource_name\": resource,\n",
    "                    \"matched_alias\": alias,\n",
    "                    \"sentence\": sentence,\n",
    "                    \"confidence\": probs[0, 1].item()\n",
    "                })\n",
    "            else:\n",
    "                predictions.append({\n",
    "                    \"prediction\": \"NO MATCH\",\n",
    "                    \"pmcid\": pmcid,\n",
    "                    \"pmid\": pmid,\n",
    "                    \"resource_name\": resource,\n",
    "                    \"matched_alias\": alias,\n",
    "                    \"sentence\": sentence,\n",
    "                    \"confidence\": probs[0, 0].item()\n",
    "                })\n",
    "\n",
    "    return predictions\n"
   ]
  },
  {
   "cell_type": "markdown",
   "metadata": {
    "id": "yTkYZG0cZGvc"
   },
   "source": [
    "# 🧠 Run Predictions"
   ]
  },
  {
   "cell_type": "code",
   "execution_count": 10,
   "metadata": {
    "cellView": "form",
    "executionInfo": {
     "elapsed": 166,
     "status": "aborted",
     "timestamp": 1751462673130,
     "user": {
      "displayName": "Carla Cummins",
      "userId": "04681454191639308511"
     },
     "user_tz": -60
    },
    "id": "CTm1B7PZUjVu"
   },
   "outputs": [
    {
     "data": {
      "text/markdown": [
       "- 🔍 Querying Europe PMC for PMCID:PMC10666545\n",
       "- 🔍 Found 1 results for PMCID:PMC10666545\n",
       "\n",
       "---\n"
      ],
      "text/plain": [
       "<IPython.core.display.Markdown object>"
      ]
     },
     "metadata": {},
     "output_type": "display_data"
    },
    {
     "data": {
      "text/markdown": [
       "- 📄 Title: Advancing Computational Toxicology by Interpretable Machine Learning.\n",
       "- 🆔 PMCID: PMC10666545, PMID: 37224004\n",
       "\n",
       "---\n"
      ],
      "text/plain": [
       "<IPython.core.display.Markdown object>"
      ]
     },
     "metadata": {},
     "output_type": "display_data"
    },
    {
     "data": {
      "text/markdown": [
       "- Processed 10 text blocks\n",
       "- Processed 2 table blocks\n"
      ],
      "text/plain": [
       "<IPython.core.display.Markdown object>"
      ]
     },
     "metadata": {},
     "output_type": "display_data"
    }
   ],
   "source": [
    "# @title 📄 Fetch and preprocess publication text\n",
    "\n",
    "epmc_query = f\"PMCID:{pmcid}\" if pmcid else f\"EXT_ID:{pmid}\"\n",
    "md = f\"- 🔍 Querying Europe PMC for {epmc_query}\\n\"\n",
    "data = query_europepmc(f\"{epmc_base_url}/search\", request_params={\n",
    "    'query': epmc_query,\n",
    "    'format': 'json',\n",
    "    'pageSize': 10,\n",
    "    'cursorMark': '*',\n",
    "    'resultType': 'core'\n",
    "})\n",
    "md += f\"- 🔍 Found {data.get('hitCount', 0)} results for {epmc_query}\\n\\n---\\n\"\n",
    "display(Markdown(md))\n",
    "\n",
    "for result in data.get('resultList', {}).get('result', []):\n",
    "    this_pmcid = result.get('pmcid')\n",
    "    this_pmid = result.get('pmid')\n",
    "    title = result.get('title')\n",
    "\n",
    "    # since we must use EXT_ID to search using PMID, this introduces room for error\n",
    "    # keep skipping through results until the match is found.\n",
    "    # In theory, we should only be processing 1 publication here.\n",
    "    if pmid and this_pmid != pmid:\n",
    "        # print(f\"⚠️ Skipping {this_pmcid} as it does not match the provided PMID {pmid}.\")\n",
    "        continue\n",
    "\n",
    "    md = f\"- 📄 Title: {title}\\n\"\n",
    "    md += f\"- 🆔 PMCID: {this_pmcid}, PMID: {this_pmid}\\n\\n---\\n\"\n",
    "    display(Markdown(md))\n",
    "\n",
    "    if pmcid:\n",
    "        # Get full text body and tables\n",
    "        text_body, table_blocks = get_fulltext_body(this_pmcid)\n",
    "        if not text_body:\n",
    "            print(\"⚠️ No full text body found.\")\n",
    "            continue\n",
    "    else:\n",
    "        text_body, table_blocks = sent_tokenize(result.get('abstractText')), []\n",
    "\n",
    "    break # only use the first successful match\n",
    "\n",
    "text_body = [tb.replace('\\n', ' ') for tb in text_body]\n",
    "text_body = [tb for tb in text_body if tb.strip()]\n",
    "\n",
    "md = f\"- Processed {len(text_body)} text blocks\\n\"\n",
    "md += f\"- Processed {len(table_blocks)} table blocks\\n\"\n",
    "display(Markdown(md))"
   ]
  },
  {
   "cell_type": "code",
   "execution_count": 11,
   "metadata": {
    "cellView": "form",
    "executionInfo": {
     "elapsed": 166,
     "status": "aborted",
     "timestamp": 1751462673131,
     "user": {
      "displayName": "Carla Cummins",
      "userId": "04681454191639308511"
     },
     "user_tz": -60
    },
    "id": "V70fEJIzewG5"
   },
   "outputs": [],
   "source": [
    "# @title 🧐 Inspect text blocks (optional)\n",
    "# txb_df = pd.DataFrame(text_body, columns=[\"text_block\"])\n",
    "# txb_df"
   ]
  },
  {
   "cell_type": "code",
   "execution_count": 12,
   "metadata": {
    "cellView": "form",
    "executionInfo": {
     "elapsed": 258555,
     "status": "aborted",
     "timestamp": 1751462673143,
     "user": {
      "displayName": "Carla Cummins",
      "userId": "04681454191639308511"
     },
     "user_tz": -60
    },
    "id": "1DNp10iZfQ1k"
   },
   "outputs": [],
   "source": [
    "# @title 🧐 Inspect table blocks (optional)\n",
    "# tb_df = pd.DataFrame(table_blocks, columns=[\"table_block\"])\n",
    "# tb_df"
   ]
  },
  {
   "cell_type": "code",
   "execution_count": 13,
   "metadata": {
    "executionInfo": {
     "elapsed": 258567,
     "status": "aborted",
     "timestamp": 1751462673155,
     "user": {
      "displayName": "Carla Cummins",
      "userId": "04681454191639308511"
     },
     "user_tz": -60
    },
    "id": "7N5KYNukbty3"
   },
   "outputs": [
    {
     "data": {
      "text/markdown": [
       "🔍 Searching for resource mentions in PMC10666545..."
      ],
      "text/plain": [
       "<IPython.core.display.Markdown object>"
      ]
     },
     "metadata": {},
     "output_type": "display_data"
    },
    {
     "data": {
      "text/markdown": [
       "🔍 Found 43 mentions of 22 resources in PMC10666545.\n"
      ],
      "text/plain": [
       "<IPython.core.display.Markdown object>"
      ]
     },
     "metadata": {},
     "output_type": "display_data"
    }
   ],
   "source": [
    "# @title 🔍 Search for resource mentions\n",
    "display(Markdown(f\"🔍 Searching for resource mentions in {this_pmcid}...\"))\n",
    "mentions = get_resource_mentions(text_body, table_blocks, resource_names)\n",
    "display(Markdown(f\"🔍 Found {len(mentions)} mentions of {len(set([x[2] for x in mentions]))} resources in {this_pmcid}.\\n\"))"
   ]
  },
  {
   "cell_type": "code",
   "execution_count": 14,
   "metadata": {
    "cellView": "form",
    "executionInfo": {
     "elapsed": 258567,
     "status": "aborted",
     "timestamp": 1751462673156,
     "user": {
      "displayName": "Carla Cummins",
      "userId": "04681454191639308511"
     },
     "user_tz": -60
    },
    "id": "tB4Gi1OVduNU"
   },
   "outputs": [
    {
     "data": {
      "text/html": [
       "<div>\n",
       "<style scoped>\n",
       "    .dataframe tbody tr th:only-of-type {\n",
       "        vertical-align: middle;\n",
       "    }\n",
       "\n",
       "    .dataframe tbody tr th {\n",
       "        vertical-align: top;\n",
       "    }\n",
       "\n",
       "    .dataframe thead th {\n",
       "        text-align: right;\n",
       "    }\n",
       "</style>\n",
       "<table border=\"1\" class=\"dataframe\">\n",
       "  <thead>\n",
       "    <tr style=\"text-align: right;\">\n",
       "      <th></th>\n",
       "      <th>sentence</th>\n",
       "      <th>alias</th>\n",
       "      <th>resource_name</th>\n",
       "    </tr>\n",
       "  </thead>\n",
       "  <tbody>\n",
       "    <tr>\n",
       "      <th>0</th>\n",
       "      <td>;Figure1A) representing properties determining...</td>\n",
       "      <td>PubChem</td>\n",
       "      <td>PubChem</td>\n",
       "    </tr>\n",
       "    <tr>\n",
       "      <th>1</th>\n",
       "      <td>Currently, the AOP-Wiki features more than 400...</td>\n",
       "      <td>PaVE</td>\n",
       "      <td>PaVE</td>\n",
       "    </tr>\n",
       "    <tr>\n",
       "      <th>2</th>\n",
       "      <td>Experimental conditions and protocols for gene...</td>\n",
       "      <td>ChEMBL</td>\n",
       "      <td>ChEMBL</td>\n",
       "    </tr>\n",
       "    <tr>\n",
       "      <th>3</th>\n",
       "      <td>Molecular Signatures Database (MSigDB)187,188 ...</td>\n",
       "      <td>MSigDB</td>\n",
       "      <td>MSigDB</td>\n",
       "    </tr>\n",
       "    <tr>\n",
       "      <th>4</th>\n",
       "      <td>gene (sets) annotation Gene Ontology178,179 A ...</td>\n",
       "      <td>Gene Ontology</td>\n",
       "      <td>GOC</td>\n",
       "    </tr>\n",
       "    <tr>\n",
       "      <th>5</th>\n",
       "      <td>comprised of gene ontology terms for many kind...</td>\n",
       "      <td>Gene Ontology</td>\n",
       "      <td>GOC</td>\n",
       "    </tr>\n",
       "    <tr>\n",
       "      <th>6</th>\n",
       "      <td>;Figure1A) representing properties determining...</td>\n",
       "      <td>ChEMBL</td>\n",
       "      <td>ChEMBL</td>\n",
       "    </tr>\n",
       "    <tr>\n",
       "      <th>7</th>\n",
       "      <td>developed a VNN model named P-NET that integra...</td>\n",
       "      <td>Reactome</td>\n",
       "      <td>Reactome</td>\n",
       "    </tr>\n",
       "    <tr>\n",
       "      <th>8</th>\n",
       "      <td>Inspired by the biological organization of the...</td>\n",
       "      <td>IDEAL</td>\n",
       "      <td>IDEAL</td>\n",
       "    </tr>\n",
       "    <tr>\n",
       "      <th>9</th>\n",
       "      <td>pathway and gene regulatory network informatio...</td>\n",
       "      <td>Regulatory Network</td>\n",
       "      <td>AutophagyNet</td>\n",
       "    </tr>\n",
       "    <tr>\n",
       "      <th>10</th>\n",
       "      <td>For example, Open TG-GATEs and DrugMatrix cond...</td>\n",
       "      <td>MAP</td>\n",
       "      <td>MAP</td>\n",
       "    </tr>\n",
       "    <tr>\n",
       "      <th>11</th>\n",
       "      <td>An ICE plot of two features, marital status an...</td>\n",
       "      <td>ICE</td>\n",
       "      <td>ICE</td>\n",
       "    </tr>\n",
       "    <tr>\n",
       "      <th>12</th>\n",
       "      <td>The rapid increase of genomic-sequence data an...</td>\n",
       "      <td>Gene Ontology</td>\n",
       "      <td>GOC</td>\n",
       "    </tr>\n",
       "    <tr>\n",
       "      <th>13</th>\n",
       "      <td>A recent development of a visible neural netwo...</td>\n",
       "      <td>MIrROR</td>\n",
       "      <td>MIrROR</td>\n",
       "    </tr>\n",
       "    <tr>\n",
       "      <th>14</th>\n",
       "      <td>Toxicogenomic data generated from the above pr...</td>\n",
       "      <td>GEO</td>\n",
       "      <td>GEO</td>\n",
       "    </tr>\n",
       "    <tr>\n",
       "      <th>15</th>\n",
       "      <td>To make predictions with a DNN model, input da...</td>\n",
       "      <td>PASS</td>\n",
       "      <td>PASS</td>\n",
       "    </tr>\n",
       "    <tr>\n",
       "      <th>16</th>\n",
       "      <td>Toxicogenomic data generated from the above pr...</td>\n",
       "      <td>Gene Expression Omnibus</td>\n",
       "      <td>GEO</td>\n",
       "    </tr>\n",
       "    <tr>\n",
       "      <th>17</th>\n",
       "      <td>and gene–disease relationships; gene ontology ...</td>\n",
       "      <td>Gene Ontology</td>\n",
       "      <td>GOC</td>\n",
       "    </tr>\n",
       "    <tr>\n",
       "      <th>18</th>\n",
       "      <td>Environment (ICE)86−88 curatedin vivoandin vit...</td>\n",
       "      <td>ICE</td>\n",
       "      <td>ICE</td>\n",
       "    </tr>\n",
       "    <tr>\n",
       "      <th>19</th>\n",
       "      <td>An individual conditional expectation (ICE) pl...</td>\n",
       "      <td>ICE</td>\n",
       "      <td>ICE</td>\n",
       "    </tr>\n",
       "    <tr>\n",
       "      <th>20</th>\n",
       "      <td>points, doses, and in nine core human cell lines</td>\n",
       "      <td>CORE</td>\n",
       "      <td>CORE</td>\n",
       "    </tr>\n",
       "    <tr>\n",
       "      <th>21</th>\n",
       "      <td>biological pathway, diseases, drugs, and chemi...</td>\n",
       "      <td>DISEASES</td>\n",
       "      <td>DISEASES</td>\n",
       "    </tr>\n",
       "    <tr>\n",
       "      <th>22</th>\n",
       "      <td>demonstrated the use of ICE plots to analyze h...</td>\n",
       "      <td>ICE</td>\n",
       "      <td>ICE</td>\n",
       "    </tr>\n",
       "    <tr>\n",
       "      <th>23</th>\n",
       "      <td>Since the gene expression change of the compon...</td>\n",
       "      <td>LINCS</td>\n",
       "      <td>LINCS</td>\n",
       "    </tr>\n",
       "    <tr>\n",
       "      <th>24</th>\n",
       "      <td>HTS (cHTS) data in ICE are curated to bolster ...</td>\n",
       "      <td>ICE</td>\n",
       "      <td>ICE</td>\n",
       "    </tr>\n",
       "    <tr>\n",
       "      <th>25</th>\n",
       "      <td>database contains pathway maps for the molecul...</td>\n",
       "      <td>MAPS</td>\n",
       "      <td>MAPS</td>\n",
       "    </tr>\n",
       "    <tr>\n",
       "      <th>26</th>\n",
       "      <td>developed a VNN model named DrugCell to simula...</td>\n",
       "      <td>Gene Ontology</td>\n",
       "      <td>GOC</td>\n",
       "    </tr>\n",
       "    <tr>\n",
       "      <th>27</th>\n",
       "      <td>reported a VNN model named DTox (deep learning...</td>\n",
       "      <td>Reactome</td>\n",
       "      <td>Reactome</td>\n",
       "    </tr>\n",
       "    <tr>\n",
       "      <th>28</th>\n",
       "      <td>Expression Omnibus (GEO)82,83 genomics</td>\n",
       "      <td>GEO</td>\n",
       "      <td>GEO</td>\n",
       "    </tr>\n",
       "    <tr>\n",
       "      <th>29</th>\n",
       "      <td>Effects in Biological Systems (CEBS)177,193 Co...</td>\n",
       "      <td>CEBS</td>\n",
       "      <td>CEBS</td>\n",
       "    </tr>\n",
       "    <tr>\n",
       "      <th>30</th>\n",
       "      <td>For example, theimlR package implements many m...</td>\n",
       "      <td>ICE</td>\n",
       "      <td>ICE</td>\n",
       "    </tr>\n",
       "    <tr>\n",
       "      <th>31</th>\n",
       "      <td>of Genes and Genomes (KEGG)189,190 KEGG</td>\n",
       "      <td>KEGG</td>\n",
       "      <td>KEGG</td>\n",
       "    </tr>\n",
       "    <tr>\n",
       "      <th>32</th>\n",
       "      <td>Database (CTD)84 Includes</td>\n",
       "      <td>CTD</td>\n",
       "      <td>CTD</td>\n",
       "    </tr>\n",
       "    <tr>\n",
       "      <th>33</th>\n",
       "      <td>For example, PubChem is a public repository fo...</td>\n",
       "      <td>PubChem</td>\n",
       "      <td>PubChem</td>\n",
       "    </tr>\n",
       "    <tr>\n",
       "      <th>34</th>\n",
       "      <td>For example, the Gene Ontology database annota...</td>\n",
       "      <td>Reactome</td>\n",
       "      <td>Reactome</td>\n",
       "    </tr>\n",
       "    <tr>\n",
       "      <th>35</th>\n",
       "      <td>## SYSTEMS TOXICOLOGY AOPs are usually constru...</td>\n",
       "      <td>TISSUES</td>\n",
       "      <td>TISSUES</td>\n",
       "    </tr>\n",
       "    <tr>\n",
       "      <th>36</th>\n",
       "      <td>For example, Comparative Toxicogenomics Databa...</td>\n",
       "      <td>Comparative Toxicogenomics Database</td>\n",
       "      <td>CTD</td>\n",
       "    </tr>\n",
       "    <tr>\n",
       "      <th>37</th>\n",
       "      <td>For example, the Gene Ontology database annota...</td>\n",
       "      <td>Gene Ontology</td>\n",
       "      <td>GOC</td>\n",
       "    </tr>\n",
       "    <tr>\n",
       "      <th>38</th>\n",
       "      <td>uncovered a racial bias issue in a widely used...</td>\n",
       "      <td>AIR</td>\n",
       "      <td>Predicted Arabidopsis Interactome Resource</td>\n",
       "    </tr>\n",
       "    <tr>\n",
       "      <th>39</th>\n",
       "      <td>PDP and ICE plots are easy to interpret; howev...</td>\n",
       "      <td>ICE</td>\n",
       "      <td>ICE</td>\n",
       "    </tr>\n",
       "    <tr>\n",
       "      <th>40</th>\n",
       "      <td>Experimental conditions and protocols for gene...</td>\n",
       "      <td>Integrated Chemical Environment</td>\n",
       "      <td>ICE</td>\n",
       "    </tr>\n",
       "    <tr>\n",
       "      <th>41</th>\n",
       "      <td>in rat hepatocytes and up to eight rat tissues...</td>\n",
       "      <td>TISSUES</td>\n",
       "      <td>TISSUES</td>\n",
       "    </tr>\n",
       "    <tr>\n",
       "      <th>42</th>\n",
       "      <td>For example, Comparative Toxicogenomics Databa...</td>\n",
       "      <td>CTD</td>\n",
       "      <td>CTD</td>\n",
       "    </tr>\n",
       "  </tbody>\n",
       "</table>\n",
       "</div>"
      ],
      "text/plain": [
       "                                             sentence  \\\n",
       "0   ;Figure1A) representing properties determining...   \n",
       "1   Currently, the AOP-Wiki features more than 400...   \n",
       "2   Experimental conditions and protocols for gene...   \n",
       "3   Molecular Signatures Database (MSigDB)187,188 ...   \n",
       "4   gene (sets) annotation Gene Ontology178,179 A ...   \n",
       "5   comprised of gene ontology terms for many kind...   \n",
       "6   ;Figure1A) representing properties determining...   \n",
       "7   developed a VNN model named P-NET that integra...   \n",
       "8   Inspired by the biological organization of the...   \n",
       "9   pathway and gene regulatory network informatio...   \n",
       "10  For example, Open TG-GATEs and DrugMatrix cond...   \n",
       "11  An ICE plot of two features, marital status an...   \n",
       "12  The rapid increase of genomic-sequence data an...   \n",
       "13  A recent development of a visible neural netwo...   \n",
       "14  Toxicogenomic data generated from the above pr...   \n",
       "15  To make predictions with a DNN model, input da...   \n",
       "16  Toxicogenomic data generated from the above pr...   \n",
       "17  and gene–disease relationships; gene ontology ...   \n",
       "18  Environment (ICE)86−88 curatedin vivoandin vit...   \n",
       "19  An individual conditional expectation (ICE) pl...   \n",
       "20   points, doses, and in nine core human cell lines   \n",
       "21  biological pathway, diseases, drugs, and chemi...   \n",
       "22  demonstrated the use of ICE plots to analyze h...   \n",
       "23  Since the gene expression change of the compon...   \n",
       "24  HTS (cHTS) data in ICE are curated to bolster ...   \n",
       "25  database contains pathway maps for the molecul...   \n",
       "26  developed a VNN model named DrugCell to simula...   \n",
       "27  reported a VNN model named DTox (deep learning...   \n",
       "28             Expression Omnibus (GEO)82,83 genomics   \n",
       "29  Effects in Biological Systems (CEBS)177,193 Co...   \n",
       "30  For example, theimlR package implements many m...   \n",
       "31            of Genes and Genomes (KEGG)189,190 KEGG   \n",
       "32                          Database (CTD)84 Includes   \n",
       "33  For example, PubChem is a public repository fo...   \n",
       "34  For example, the Gene Ontology database annota...   \n",
       "35  ## SYSTEMS TOXICOLOGY AOPs are usually constru...   \n",
       "36  For example, Comparative Toxicogenomics Databa...   \n",
       "37  For example, the Gene Ontology database annota...   \n",
       "38  uncovered a racial bias issue in a widely used...   \n",
       "39  PDP and ICE plots are easy to interpret; howev...   \n",
       "40  Experimental conditions and protocols for gene...   \n",
       "41  in rat hepatocytes and up to eight rat tissues...   \n",
       "42  For example, Comparative Toxicogenomics Databa...   \n",
       "\n",
       "                                  alias  \\\n",
       "0                               PubChem   \n",
       "1                                  PaVE   \n",
       "2                                ChEMBL   \n",
       "3                                MSigDB   \n",
       "4                         Gene Ontology   \n",
       "5                         Gene Ontology   \n",
       "6                                ChEMBL   \n",
       "7                              Reactome   \n",
       "8                                 IDEAL   \n",
       "9                    Regulatory Network   \n",
       "10                                  MAP   \n",
       "11                                  ICE   \n",
       "12                        Gene Ontology   \n",
       "13                               MIrROR   \n",
       "14                                  GEO   \n",
       "15                                 PASS   \n",
       "16              Gene Expression Omnibus   \n",
       "17                        Gene Ontology   \n",
       "18                                  ICE   \n",
       "19                                  ICE   \n",
       "20                                 CORE   \n",
       "21                             DISEASES   \n",
       "22                                  ICE   \n",
       "23                                LINCS   \n",
       "24                                  ICE   \n",
       "25                                 MAPS   \n",
       "26                        Gene Ontology   \n",
       "27                             Reactome   \n",
       "28                                  GEO   \n",
       "29                                 CEBS   \n",
       "30                                  ICE   \n",
       "31                                 KEGG   \n",
       "32                                  CTD   \n",
       "33                              PubChem   \n",
       "34                             Reactome   \n",
       "35                              TISSUES   \n",
       "36  Comparative Toxicogenomics Database   \n",
       "37                        Gene Ontology   \n",
       "38                                  AIR   \n",
       "39                                  ICE   \n",
       "40      Integrated Chemical Environment   \n",
       "41                              TISSUES   \n",
       "42                                  CTD   \n",
       "\n",
       "                                 resource_name  \n",
       "0                                      PubChem  \n",
       "1                                         PaVE  \n",
       "2                                       ChEMBL  \n",
       "3                                       MSigDB  \n",
       "4                                          GOC  \n",
       "5                                          GOC  \n",
       "6                                       ChEMBL  \n",
       "7                                     Reactome  \n",
       "8                                        IDEAL  \n",
       "9                                 AutophagyNet  \n",
       "10                                         MAP  \n",
       "11                                         ICE  \n",
       "12                                         GOC  \n",
       "13                                      MIrROR  \n",
       "14                                         GEO  \n",
       "15                                        PASS  \n",
       "16                                         GEO  \n",
       "17                                         GOC  \n",
       "18                                         ICE  \n",
       "19                                         ICE  \n",
       "20                                        CORE  \n",
       "21                                    DISEASES  \n",
       "22                                         ICE  \n",
       "23                                       LINCS  \n",
       "24                                         ICE  \n",
       "25                                        MAPS  \n",
       "26                                         GOC  \n",
       "27                                    Reactome  \n",
       "28                                         GEO  \n",
       "29                                        CEBS  \n",
       "30                                         ICE  \n",
       "31                                        KEGG  \n",
       "32                                         CTD  \n",
       "33                                     PubChem  \n",
       "34                                    Reactome  \n",
       "35                                     TISSUES  \n",
       "36                                         CTD  \n",
       "37                                         GOC  \n",
       "38  Predicted Arabidopsis Interactome Resource  \n",
       "39                                         ICE  \n",
       "40                                         ICE  \n",
       "41                                     TISSUES  \n",
       "42                                         CTD  "
      ]
     },
     "execution_count": 14,
     "metadata": {},
     "output_type": "execute_result"
    }
   ],
   "source": [
    "# @title 🧐 Inspect unclassified mentions (optional)\n",
    "mentions_df = pd.DataFrame(mentions, columns=[\"sentence\", \"alias\", \"resource_name\"])\n",
    "mentions_df\n"
   ]
  },
  {
   "cell_type": "code",
   "execution_count": 15,
   "metadata": {
    "executionInfo": {
     "elapsed": 258567,
     "status": "aborted",
     "timestamp": 1751462673156,
     "user": {
      "displayName": "Carla Cummins",
      "userId": "04681454191639308511"
     },
     "user_tz": -60
    },
    "id": "IoqjebMQcTtX"
   },
   "outputs": [
    {
     "ename": "ImportError",
     "evalue": "IProgress not found. Please update jupyter and ipywidgets. See https://ipywidgets.readthedocs.io/en/stable/user_install.html",
     "output_type": "error",
     "traceback": [
      "\u001b[31m---------------------------------------------------------------------------\u001b[39m",
      "\u001b[31mImportError\u001b[39m                               Traceback (most recent call last)",
      "\u001b[36mCell\u001b[39m\u001b[36m \u001b[39m\u001b[32mIn[15]\u001b[39m\u001b[32m, line 2\u001b[39m\n\u001b[32m      1\u001b[39m \u001b[38;5;66;03m# @title 🧠 Classify resource mentions\u001b[39;00m\n\u001b[32m----> \u001b[39m\u001b[32m2\u001b[39m classified_mentions = \u001b[43mclassify_mentions\u001b[49m\u001b[43m(\u001b[49m\u001b[43mthis_pmcid\u001b[49m\u001b[43m,\u001b[49m\u001b[43m \u001b[49m\u001b[43mthis_pmid\u001b[49m\u001b[43m,\u001b[49m\u001b[43m \u001b[49m\u001b[43mmentions\u001b[49m\u001b[43m)\u001b[49m\n\u001b[32m      4\u001b[39m class_df = pd.DataFrame(classified_mentions)\n\u001b[32m      5\u001b[39m class_df.sort_values(by=[\u001b[33m'\u001b[39m\u001b[33mprediction\u001b[39m\u001b[33m'\u001b[39m, \u001b[33m'\u001b[39m\u001b[33mconfidence\u001b[39m\u001b[33m'\u001b[39m], ascending=[\u001b[38;5;28;01mFalse\u001b[39;00m, \u001b[38;5;28;01mFalse\u001b[39;00m], inplace=\u001b[38;5;28;01mTrue\u001b[39;00m)\n",
      "\u001b[36mCell\u001b[39m\u001b[36m \u001b[39m\u001b[32mIn[9]\u001b[39m\u001b[32m, line 248\u001b[39m, in \u001b[36mclassify_mentions\u001b[39m\u001b[34m(pmcid, pmid, candidate_pairs)\u001b[39m\n\u001b[32m    245\u001b[39m \u001b[38;5;28;01mdef\u001b[39;00m\u001b[38;5;250m \u001b[39m\u001b[34mclassify_mentions\u001b[39m(pmcid, pmid, candidate_pairs):\n\u001b[32m    246\u001b[39m     predictions = []\n\u001b[32m--> \u001b[39m\u001b[32m248\u001b[39m     \u001b[38;5;28;01mfor\u001b[39;00m sentence, alias, resource \u001b[38;5;129;01min\u001b[39;00m \u001b[43mtqdm\u001b[49m\u001b[43m(\u001b[49m\u001b[43mcandidate_pairs\u001b[49m\u001b[43m,\u001b[49m\u001b[43m \u001b[49m\u001b[43mdesc\u001b[49m\u001b[43m=\u001b[49m\u001b[33;43m\"\u001b[39;49m\u001b[33;43m🔍 Classifying\u001b[39;49m\u001b[33;43m\"\u001b[39;49m\u001b[43m)\u001b[49m:\n\u001b[32m    249\u001b[39m         inputs = tokenizer(alias, sentence, return_tensors=\u001b[33m\"\u001b[39m\u001b[33mpt\u001b[39m\u001b[33m\"\u001b[39m, truncation=\u001b[38;5;28;01mTrue\u001b[39;00m, padding=\u001b[33m\"\u001b[39m\u001b[33mmax_length\u001b[39m\u001b[33m\"\u001b[39m, max_length=\u001b[32m512\u001b[39m).to(device)\n\u001b[32m    250\u001b[39m         \u001b[38;5;28;01mwith\u001b[39;00m torch.no_grad():\n",
      "\u001b[36mFile \u001b[39m\u001b[32m~/miniconda3/lib/python3.13/site-packages/tqdm/notebook.py:234\u001b[39m, in \u001b[36mtqdm_notebook.__init__\u001b[39m\u001b[34m(self, *args, **kwargs)\u001b[39m\n\u001b[32m    232\u001b[39m unit_scale = \u001b[32m1\u001b[39m \u001b[38;5;28;01mif\u001b[39;00m \u001b[38;5;28mself\u001b[39m.unit_scale \u001b[38;5;129;01mis\u001b[39;00m \u001b[38;5;28;01mTrue\u001b[39;00m \u001b[38;5;28;01melse\u001b[39;00m \u001b[38;5;28mself\u001b[39m.unit_scale \u001b[38;5;129;01mor\u001b[39;00m \u001b[32m1\u001b[39m\n\u001b[32m    233\u001b[39m total = \u001b[38;5;28mself\u001b[39m.total * unit_scale \u001b[38;5;28;01mif\u001b[39;00m \u001b[38;5;28mself\u001b[39m.total \u001b[38;5;28;01melse\u001b[39;00m \u001b[38;5;28mself\u001b[39m.total\n\u001b[32m--> \u001b[39m\u001b[32m234\u001b[39m \u001b[38;5;28mself\u001b[39m.container = \u001b[38;5;28;43mself\u001b[39;49m\u001b[43m.\u001b[49m\u001b[43mstatus_printer\u001b[49m\u001b[43m(\u001b[49m\u001b[38;5;28;43mself\u001b[39;49m\u001b[43m.\u001b[49m\u001b[43mfp\u001b[49m\u001b[43m,\u001b[49m\u001b[43m \u001b[49m\u001b[43mtotal\u001b[49m\u001b[43m,\u001b[49m\u001b[43m \u001b[49m\u001b[38;5;28;43mself\u001b[39;49m\u001b[43m.\u001b[49m\u001b[43mdesc\u001b[49m\u001b[43m,\u001b[49m\u001b[43m \u001b[49m\u001b[38;5;28;43mself\u001b[39;49m\u001b[43m.\u001b[49m\u001b[43mncols\u001b[49m\u001b[43m)\u001b[49m\n\u001b[32m    235\u001b[39m \u001b[38;5;28mself\u001b[39m.container.pbar = proxy(\u001b[38;5;28mself\u001b[39m)\n\u001b[32m    236\u001b[39m \u001b[38;5;28mself\u001b[39m.displayed = \u001b[38;5;28;01mFalse\u001b[39;00m\n",
      "\u001b[36mFile \u001b[39m\u001b[32m~/miniconda3/lib/python3.13/site-packages/tqdm/notebook.py:108\u001b[39m, in \u001b[36mtqdm_notebook.status_printer\u001b[39m\u001b[34m(_, total, desc, ncols)\u001b[39m\n\u001b[32m     99\u001b[39m \u001b[38;5;66;03m# Fallback to text bar if there's no total\u001b[39;00m\n\u001b[32m    100\u001b[39m \u001b[38;5;66;03m# DEPRECATED: replaced with an 'info' style bar\u001b[39;00m\n\u001b[32m    101\u001b[39m \u001b[38;5;66;03m# if not total:\u001b[39;00m\n\u001b[32m   (...)\u001b[39m\u001b[32m    105\u001b[39m \n\u001b[32m    106\u001b[39m \u001b[38;5;66;03m# Prepare IPython progress bar\u001b[39;00m\n\u001b[32m    107\u001b[39m \u001b[38;5;28;01mif\u001b[39;00m IProgress \u001b[38;5;129;01mis\u001b[39;00m \u001b[38;5;28;01mNone\u001b[39;00m:  \u001b[38;5;66;03m# #187 #451 #558 #872\u001b[39;00m\n\u001b[32m--> \u001b[39m\u001b[32m108\u001b[39m     \u001b[38;5;28;01mraise\u001b[39;00m \u001b[38;5;167;01mImportError\u001b[39;00m(WARN_NOIPYW)\n\u001b[32m    109\u001b[39m \u001b[38;5;28;01mif\u001b[39;00m total:\n\u001b[32m    110\u001b[39m     pbar = IProgress(\u001b[38;5;28mmin\u001b[39m=\u001b[32m0\u001b[39m, \u001b[38;5;28mmax\u001b[39m=total)\n",
      "\u001b[31mImportError\u001b[39m: IProgress not found. Please update jupyter and ipywidgets. See https://ipywidgets.readthedocs.io/en/stable/user_install.html"
     ]
    }
   ],
   "source": [
    "# @title 🧠 Classify resource mentions\n",
    "classified_mentions = classify_mentions(this_pmcid, this_pmid, mentions)\n",
    "\n",
    "class_df = pd.DataFrame(classified_mentions)\n",
    "class_df.sort_values(by=['prediction', 'confidence'], ascending=[False, False], inplace=True)"
   ]
  },
  {
   "cell_type": "code",
   "execution_count": null,
   "metadata": {
    "executionInfo": {
     "elapsed": 258566,
     "status": "aborted",
     "timestamp": 1751462673156,
     "user": {
      "displayName": "Carla Cummins",
      "userId": "04681454191639308511"
     },
     "user_tz": -60
    },
    "id": "6qMuptgwXXuM"
   },
   "outputs": [],
   "source": [
    "class_df_display = class_df[['resource_name', 'matched_alias', 'prediction', 'pmcid', 'sentence']].copy()\n",
    "class_df_display['prediction'] = class_df_display['prediction'].map({'MATCH': 1, 'NO MATCH': 0})\n",
    "data_table.DataTable(class_df_display, include_index=False, num_rows_per_page=25)"
   ]
  },
  {
   "cell_type": "markdown",
   "metadata": {
    "id": "Z5i1gMIpcr8g"
   },
   "source": [
    "## 📊 View results by confidence bands"
   ]
  },
  {
   "cell_type": "code",
   "execution_count": null,
   "metadata": {
    "executionInfo": {
     "elapsed": 258566,
     "status": "aborted",
     "timestamp": 1751462673157,
     "user": {
      "displayName": "Carla Cummins",
      "userId": "04681454191639308511"
     },
     "user_tz": -60
    },
    "id": "kuwU9k_agthy"
   },
   "outputs": [],
   "source": [
    "# @title ⭐ High confidence (> 0.98)\n",
    "high = class_df[class_df[\"confidence\"] > 0.98]\n",
    "high"
   ]
  },
  {
   "cell_type": "code",
   "execution_count": null,
   "metadata": {
    "executionInfo": {
     "elapsed": 258565,
     "status": "aborted",
     "timestamp": 1751462673157,
     "user": {
      "displayName": "Carla Cummins",
      "userId": "04681454191639308511"
     },
     "user_tz": -60
    },
    "id": "diqRROgWcKhD"
   },
   "outputs": [],
   "source": [
    "# @title 📘 Medium-high confidence (0.9–0.98)\n",
    "mid_high = class_df[(class_df[\"confidence\"] <= 0.98) & (class_df[\"confidence\"] > 0.9)]\n",
    "mid_high"
   ]
  },
  {
   "cell_type": "code",
   "execution_count": null,
   "metadata": {
    "executionInfo": {
     "elapsed": 258565,
     "status": "aborted",
     "timestamp": 1751462673158,
     "user": {
      "displayName": "Carla Cummins",
      "userId": "04681454191639308511"
     },
     "user_tz": -60
    },
    "id": "-OFit2gLhBTB"
   },
   "outputs": [],
   "source": [
    "# @title 📒 Medium-low confidence (0.8–0.9)\n",
    "mid_low = class_df[(class_df[\"confidence\"] <= 0.9) & (class_df[\"confidence\"] > 0.8)]\n",
    "mid_low"
   ]
  },
  {
   "cell_type": "code",
   "execution_count": null,
   "metadata": {
    "executionInfo": {
     "elapsed": 258565,
     "status": "aborted",
     "timestamp": 1751462673158,
     "user": {
      "displayName": "Carla Cummins",
      "userId": "04681454191639308511"
     },
     "user_tz": -60
    },
    "id": "BOM3yazQhJFh"
   },
   "outputs": [],
   "source": [
    "# @title ⚠️ Low confidence (≤ 0.8)\n",
    "low = class_df[class_df[\"confidence\"] <= 0.8]\n",
    "low"
   ]
  },
  {
   "cell_type": "markdown",
   "metadata": {
    "id": "ohdoNhTwtIyH"
   },
   "source": [
    "## 🏁 Publication Classification Final Result"
   ]
  },
  {
   "cell_type": "code",
   "execution_count": null,
   "metadata": {
    "cellView": "form",
    "executionInfo": {
     "elapsed": 258564,
     "status": "aborted",
     "timestamp": 1751462673158,
     "user": {
      "displayName": "Carla Cummins",
      "userId": "04681454191639308511"
     },
     "user_tz": -60
    },
    "id": "6chMbNlOtGbM"
   },
   "outputs": [],
   "source": [
    "# @title ❓ Does this publication have biodata resource mentions?\n",
    "\n",
    "summary_df = (\n",
    "    class_df[(class_df['prediction'] == 'MATCH') & (class_df['confidence'] >= 0.9)]\n",
    "    .groupby('resource_name', as_index=False)\n",
    "    .agg({\n",
    "        'confidence': 'mean',\n",
    "        'prediction': 'count',\n",
    "        'sentence': lambda x: \" || \".join(list(set(x)))  # unique sentences\n",
    "    })\n",
    ")\n",
    "summary_df.rename(columns={'confidence': 'mean_confidence', 'sentence':'token_matches', 'prediction': 'num_matches'}, inplace=True)\n",
    "\n",
    "if len(summary_df) > 0:\n",
    "    result_md = f\"## ✅ Publication _has_ verified known biodata resource mention(s)\\n\\n---\\n\"\n",
    "    result_md += f\"### Resource Match Summary\\n\"\n",
    "    result_md += summary_df[['resource_name', 'num_matches', 'mean_confidence']].to_markdown(index=False)\n",
    "\n",
    "else:\n",
    "    result_md = f\"## ❌ Publication _does not_ mention a known biodata resource\"\n",
    "\n",
    "display(Markdown(result_md))"
   ]
  },
  {
   "cell_type": "markdown",
   "metadata": {
    "id": "gQRybFQ4_ean"
   },
   "source": [
    "# 🤖 Test Zone"
   ]
  },
  {
   "cell_type": "code",
   "execution_count": null,
   "metadata": {
    "executionInfo": {
     "elapsed": 258565,
     "status": "aborted",
     "timestamp": 1751462673159,
     "user": {
      "displayName": "Carla Cummins",
      "userId": "04681454191639308511"
     },
     "user_tz": -60
    },
    "id": "yCFGAive_gWy"
   },
   "outputs": [],
   "source": [
    "# text_blocks, table_blocks = get_fulltext_body(pmcid)"
   ]
  },
  {
   "cell_type": "code",
   "execution_count": null,
   "metadata": {
    "executionInfo": {
     "elapsed": 258563,
     "status": "aborted",
     "timestamp": 1751462673159,
     "user": {
      "displayName": "Carla Cummins",
      "userId": "04681454191639308511"
     },
     "user_tz": -60
    },
    "id": "Hv1UwlqYR1rT"
   },
   "outputs": [],
   "source": [
    "# display(JSON(text_blocks))"
   ]
  }
 ],
 "metadata": {
  "accelerator": "GPU",
  "colab": {
   "authorship_tag": "ABX9TyNMCwx0SEfO3BfjSUwffuqx",
   "collapsed_sections": [
    "pmq65xvwXYxT"
   ],
   "gpuType": "T4",
   "provenance": [],
   "toc_visible": true
  },
  "kernelspec": {
   "display_name": "base",
   "language": "python",
   "name": "python3"
  },
  "language_info": {
   "codemirror_mode": {
    "name": "ipython",
    "version": 3
   },
   "file_extension": ".py",
   "mimetype": "text/x-python",
   "name": "python",
   "nbconvert_exporter": "python",
   "pygments_lexer": "ipython3",
   "version": "3.13.2"
  }
 },
 "nbformat": 4,
 "nbformat_minor": 0
}
